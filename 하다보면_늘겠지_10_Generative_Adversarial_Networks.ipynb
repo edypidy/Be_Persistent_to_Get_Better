{
  "nbformat": 4,
  "nbformat_minor": 0,
  "metadata": {
    "colab": {
      "name": "하다보면 늘겠지 : 10. Generative Adversarial Networks.ipynb",
      "provenance": [],
      "collapsed_sections": []
    },
    "kernelspec": {
      "name": "python3",
      "display_name": "Python 3"
    },
    "language_info": {
      "name": "python"
    },
    "accelerator": "GPU",
    "widgets": {
      "application/vnd.jupyter.widget-state+json": {
        "b317251a277f4d3286285a92d61523df": {
          "model_module": "@jupyter-widgets/controls",
          "model_name": "HBoxModel",
          "model_module_version": "1.5.0",
          "state": {
            "_view_name": "HBoxView",
            "_dom_classes": [],
            "_model_name": "HBoxModel",
            "_view_module": "@jupyter-widgets/controls",
            "_model_module_version": "1.5.0",
            "_view_count": null,
            "_view_module_version": "1.5.0",
            "box_style": "",
            "layout": "IPY_MODEL_54a669f5b7ab4505b5b67dab2395ee50",
            "_model_module": "@jupyter-widgets/controls",
            "children": [
              "IPY_MODEL_97568c4d43874ce7a0573153e0277d60",
              "IPY_MODEL_baadd9a2a3cb4b33be8837da3a43fb73",
              "IPY_MODEL_4e468d430d3e4a8b8013bde7014ef3f8"
            ]
          }
        },
        "54a669f5b7ab4505b5b67dab2395ee50": {
          "model_module": "@jupyter-widgets/base",
          "model_name": "LayoutModel",
          "model_module_version": "1.2.0",
          "state": {
            "_view_name": "LayoutView",
            "grid_template_rows": null,
            "right": null,
            "justify_content": null,
            "_view_module": "@jupyter-widgets/base",
            "overflow": null,
            "_model_module_version": "1.2.0",
            "_view_count": null,
            "flex_flow": null,
            "width": null,
            "min_width": null,
            "border": null,
            "align_items": null,
            "bottom": null,
            "_model_module": "@jupyter-widgets/base",
            "top": null,
            "grid_column": null,
            "overflow_y": null,
            "overflow_x": null,
            "grid_auto_flow": null,
            "grid_area": null,
            "grid_template_columns": null,
            "flex": null,
            "_model_name": "LayoutModel",
            "justify_items": null,
            "grid_row": null,
            "max_height": null,
            "align_content": null,
            "visibility": null,
            "align_self": null,
            "height": null,
            "min_height": null,
            "padding": null,
            "grid_auto_rows": null,
            "grid_gap": null,
            "max_width": null,
            "order": null,
            "_view_module_version": "1.2.0",
            "grid_template_areas": null,
            "object_position": null,
            "object_fit": null,
            "grid_auto_columns": null,
            "margin": null,
            "display": null,
            "left": null
          }
        },
        "97568c4d43874ce7a0573153e0277d60": {
          "model_module": "@jupyter-widgets/controls",
          "model_name": "HTMLModel",
          "model_module_version": "1.5.0",
          "state": {
            "_view_name": "HTMLView",
            "style": "IPY_MODEL_088ec2807efc4273a79d7f512a6eb0a2",
            "_dom_classes": [],
            "description": "",
            "_model_name": "HTMLModel",
            "placeholder": "​",
            "_view_module": "@jupyter-widgets/controls",
            "_model_module_version": "1.5.0",
            "value": "",
            "_view_count": null,
            "_view_module_version": "1.5.0",
            "description_tooltip": null,
            "_model_module": "@jupyter-widgets/controls",
            "layout": "IPY_MODEL_5b5755663afa4a798b145eadaf184642"
          }
        },
        "baadd9a2a3cb4b33be8837da3a43fb73": {
          "model_module": "@jupyter-widgets/controls",
          "model_name": "FloatProgressModel",
          "model_module_version": "1.5.0",
          "state": {
            "_view_name": "ProgressView",
            "style": "IPY_MODEL_f3f6d2d01b184808996f4e36e0da7ff6",
            "_dom_classes": [],
            "description": "",
            "_model_name": "FloatProgressModel",
            "bar_style": "success",
            "max": 9912422,
            "_view_module": "@jupyter-widgets/controls",
            "_model_module_version": "1.5.0",
            "value": 9912422,
            "_view_count": null,
            "_view_module_version": "1.5.0",
            "orientation": "horizontal",
            "min": 0,
            "description_tooltip": null,
            "_model_module": "@jupyter-widgets/controls",
            "layout": "IPY_MODEL_c0575bea26ac4f748c9d5d5f0e51705f"
          }
        },
        "4e468d430d3e4a8b8013bde7014ef3f8": {
          "model_module": "@jupyter-widgets/controls",
          "model_name": "HTMLModel",
          "model_module_version": "1.5.0",
          "state": {
            "_view_name": "HTMLView",
            "style": "IPY_MODEL_78a584b2eb5143639283d25b1882c01f",
            "_dom_classes": [],
            "description": "",
            "_model_name": "HTMLModel",
            "placeholder": "​",
            "_view_module": "@jupyter-widgets/controls",
            "_model_module_version": "1.5.0",
            "value": " 9913344/? [00:00&lt;00:00, 12873830.47it/s]",
            "_view_count": null,
            "_view_module_version": "1.5.0",
            "description_tooltip": null,
            "_model_module": "@jupyter-widgets/controls",
            "layout": "IPY_MODEL_e585dd424e68499ba2f4db3a7b991ac3"
          }
        },
        "088ec2807efc4273a79d7f512a6eb0a2": {
          "model_module": "@jupyter-widgets/controls",
          "model_name": "DescriptionStyleModel",
          "model_module_version": "1.5.0",
          "state": {
            "_view_name": "StyleView",
            "_model_name": "DescriptionStyleModel",
            "description_width": "",
            "_view_module": "@jupyter-widgets/base",
            "_model_module_version": "1.5.0",
            "_view_count": null,
            "_view_module_version": "1.2.0",
            "_model_module": "@jupyter-widgets/controls"
          }
        },
        "5b5755663afa4a798b145eadaf184642": {
          "model_module": "@jupyter-widgets/base",
          "model_name": "LayoutModel",
          "model_module_version": "1.2.0",
          "state": {
            "_view_name": "LayoutView",
            "grid_template_rows": null,
            "right": null,
            "justify_content": null,
            "_view_module": "@jupyter-widgets/base",
            "overflow": null,
            "_model_module_version": "1.2.0",
            "_view_count": null,
            "flex_flow": null,
            "width": null,
            "min_width": null,
            "border": null,
            "align_items": null,
            "bottom": null,
            "_model_module": "@jupyter-widgets/base",
            "top": null,
            "grid_column": null,
            "overflow_y": null,
            "overflow_x": null,
            "grid_auto_flow": null,
            "grid_area": null,
            "grid_template_columns": null,
            "flex": null,
            "_model_name": "LayoutModel",
            "justify_items": null,
            "grid_row": null,
            "max_height": null,
            "align_content": null,
            "visibility": null,
            "align_self": null,
            "height": null,
            "min_height": null,
            "padding": null,
            "grid_auto_rows": null,
            "grid_gap": null,
            "max_width": null,
            "order": null,
            "_view_module_version": "1.2.0",
            "grid_template_areas": null,
            "object_position": null,
            "object_fit": null,
            "grid_auto_columns": null,
            "margin": null,
            "display": null,
            "left": null
          }
        },
        "f3f6d2d01b184808996f4e36e0da7ff6": {
          "model_module": "@jupyter-widgets/controls",
          "model_name": "ProgressStyleModel",
          "model_module_version": "1.5.0",
          "state": {
            "_view_name": "StyleView",
            "_model_name": "ProgressStyleModel",
            "description_width": "",
            "_view_module": "@jupyter-widgets/base",
            "_model_module_version": "1.5.0",
            "_view_count": null,
            "_view_module_version": "1.2.0",
            "bar_color": null,
            "_model_module": "@jupyter-widgets/controls"
          }
        },
        "c0575bea26ac4f748c9d5d5f0e51705f": {
          "model_module": "@jupyter-widgets/base",
          "model_name": "LayoutModel",
          "model_module_version": "1.2.0",
          "state": {
            "_view_name": "LayoutView",
            "grid_template_rows": null,
            "right": null,
            "justify_content": null,
            "_view_module": "@jupyter-widgets/base",
            "overflow": null,
            "_model_module_version": "1.2.0",
            "_view_count": null,
            "flex_flow": null,
            "width": null,
            "min_width": null,
            "border": null,
            "align_items": null,
            "bottom": null,
            "_model_module": "@jupyter-widgets/base",
            "top": null,
            "grid_column": null,
            "overflow_y": null,
            "overflow_x": null,
            "grid_auto_flow": null,
            "grid_area": null,
            "grid_template_columns": null,
            "flex": null,
            "_model_name": "LayoutModel",
            "justify_items": null,
            "grid_row": null,
            "max_height": null,
            "align_content": null,
            "visibility": null,
            "align_self": null,
            "height": null,
            "min_height": null,
            "padding": null,
            "grid_auto_rows": null,
            "grid_gap": null,
            "max_width": null,
            "order": null,
            "_view_module_version": "1.2.0",
            "grid_template_areas": null,
            "object_position": null,
            "object_fit": null,
            "grid_auto_columns": null,
            "margin": null,
            "display": null,
            "left": null
          }
        },
        "78a584b2eb5143639283d25b1882c01f": {
          "model_module": "@jupyter-widgets/controls",
          "model_name": "DescriptionStyleModel",
          "model_module_version": "1.5.0",
          "state": {
            "_view_name": "StyleView",
            "_model_name": "DescriptionStyleModel",
            "description_width": "",
            "_view_module": "@jupyter-widgets/base",
            "_model_module_version": "1.5.0",
            "_view_count": null,
            "_view_module_version": "1.2.0",
            "_model_module": "@jupyter-widgets/controls"
          }
        },
        "e585dd424e68499ba2f4db3a7b991ac3": {
          "model_module": "@jupyter-widgets/base",
          "model_name": "LayoutModel",
          "model_module_version": "1.2.0",
          "state": {
            "_view_name": "LayoutView",
            "grid_template_rows": null,
            "right": null,
            "justify_content": null,
            "_view_module": "@jupyter-widgets/base",
            "overflow": null,
            "_model_module_version": "1.2.0",
            "_view_count": null,
            "flex_flow": null,
            "width": null,
            "min_width": null,
            "border": null,
            "align_items": null,
            "bottom": null,
            "_model_module": "@jupyter-widgets/base",
            "top": null,
            "grid_column": null,
            "overflow_y": null,
            "overflow_x": null,
            "grid_auto_flow": null,
            "grid_area": null,
            "grid_template_columns": null,
            "flex": null,
            "_model_name": "LayoutModel",
            "justify_items": null,
            "grid_row": null,
            "max_height": null,
            "align_content": null,
            "visibility": null,
            "align_self": null,
            "height": null,
            "min_height": null,
            "padding": null,
            "grid_auto_rows": null,
            "grid_gap": null,
            "max_width": null,
            "order": null,
            "_view_module_version": "1.2.0",
            "grid_template_areas": null,
            "object_position": null,
            "object_fit": null,
            "grid_auto_columns": null,
            "margin": null,
            "display": null,
            "left": null
          }
        },
        "cd2d31630ca64ce2994a39d59c31750c": {
          "model_module": "@jupyter-widgets/controls",
          "model_name": "HBoxModel",
          "model_module_version": "1.5.0",
          "state": {
            "_view_name": "HBoxView",
            "_dom_classes": [],
            "_model_name": "HBoxModel",
            "_view_module": "@jupyter-widgets/controls",
            "_model_module_version": "1.5.0",
            "_view_count": null,
            "_view_module_version": "1.5.0",
            "box_style": "",
            "layout": "IPY_MODEL_7c91dec25c84483cafdd541aece33089",
            "_model_module": "@jupyter-widgets/controls",
            "children": [
              "IPY_MODEL_0d8e09393077477f8859829f1035684d",
              "IPY_MODEL_49f13b97d7aa41408d14bfe01c9a7747",
              "IPY_MODEL_b3da5cc16f3c469c98bb487a2687a89a"
            ]
          }
        },
        "7c91dec25c84483cafdd541aece33089": {
          "model_module": "@jupyter-widgets/base",
          "model_name": "LayoutModel",
          "model_module_version": "1.2.0",
          "state": {
            "_view_name": "LayoutView",
            "grid_template_rows": null,
            "right": null,
            "justify_content": null,
            "_view_module": "@jupyter-widgets/base",
            "overflow": null,
            "_model_module_version": "1.2.0",
            "_view_count": null,
            "flex_flow": null,
            "width": null,
            "min_width": null,
            "border": null,
            "align_items": null,
            "bottom": null,
            "_model_module": "@jupyter-widgets/base",
            "top": null,
            "grid_column": null,
            "overflow_y": null,
            "overflow_x": null,
            "grid_auto_flow": null,
            "grid_area": null,
            "grid_template_columns": null,
            "flex": null,
            "_model_name": "LayoutModel",
            "justify_items": null,
            "grid_row": null,
            "max_height": null,
            "align_content": null,
            "visibility": null,
            "align_self": null,
            "height": null,
            "min_height": null,
            "padding": null,
            "grid_auto_rows": null,
            "grid_gap": null,
            "max_width": null,
            "order": null,
            "_view_module_version": "1.2.0",
            "grid_template_areas": null,
            "object_position": null,
            "object_fit": null,
            "grid_auto_columns": null,
            "margin": null,
            "display": null,
            "left": null
          }
        },
        "0d8e09393077477f8859829f1035684d": {
          "model_module": "@jupyter-widgets/controls",
          "model_name": "HTMLModel",
          "model_module_version": "1.5.0",
          "state": {
            "_view_name": "HTMLView",
            "style": "IPY_MODEL_ac67e96e44004636bba57a901a231021",
            "_dom_classes": [],
            "description": "",
            "_model_name": "HTMLModel",
            "placeholder": "​",
            "_view_module": "@jupyter-widgets/controls",
            "_model_module_version": "1.5.0",
            "value": "",
            "_view_count": null,
            "_view_module_version": "1.5.0",
            "description_tooltip": null,
            "_model_module": "@jupyter-widgets/controls",
            "layout": "IPY_MODEL_547dd46245fb4fbe89c4733916442d74"
          }
        },
        "49f13b97d7aa41408d14bfe01c9a7747": {
          "model_module": "@jupyter-widgets/controls",
          "model_name": "FloatProgressModel",
          "model_module_version": "1.5.0",
          "state": {
            "_view_name": "ProgressView",
            "style": "IPY_MODEL_4734447daf4e46e8bea21164da58423b",
            "_dom_classes": [],
            "description": "",
            "_model_name": "FloatProgressModel",
            "bar_style": "success",
            "max": 28881,
            "_view_module": "@jupyter-widgets/controls",
            "_model_module_version": "1.5.0",
            "value": 28881,
            "_view_count": null,
            "_view_module_version": "1.5.0",
            "orientation": "horizontal",
            "min": 0,
            "description_tooltip": null,
            "_model_module": "@jupyter-widgets/controls",
            "layout": "IPY_MODEL_3be48820af11456eade36fdd4ed49997"
          }
        },
        "b3da5cc16f3c469c98bb487a2687a89a": {
          "model_module": "@jupyter-widgets/controls",
          "model_name": "HTMLModel",
          "model_module_version": "1.5.0",
          "state": {
            "_view_name": "HTMLView",
            "style": "IPY_MODEL_529c5c8afb0e46c0946670d8d056b6f8",
            "_dom_classes": [],
            "description": "",
            "_model_name": "HTMLModel",
            "placeholder": "​",
            "_view_module": "@jupyter-widgets/controls",
            "_model_module_version": "1.5.0",
            "value": " 29696/? [00:00&lt;00:00, 856671.58it/s]",
            "_view_count": null,
            "_view_module_version": "1.5.0",
            "description_tooltip": null,
            "_model_module": "@jupyter-widgets/controls",
            "layout": "IPY_MODEL_88e7384db5584efd9eeadaeb5f1863c9"
          }
        },
        "ac67e96e44004636bba57a901a231021": {
          "model_module": "@jupyter-widgets/controls",
          "model_name": "DescriptionStyleModel",
          "model_module_version": "1.5.0",
          "state": {
            "_view_name": "StyleView",
            "_model_name": "DescriptionStyleModel",
            "description_width": "",
            "_view_module": "@jupyter-widgets/base",
            "_model_module_version": "1.5.0",
            "_view_count": null,
            "_view_module_version": "1.2.0",
            "_model_module": "@jupyter-widgets/controls"
          }
        },
        "547dd46245fb4fbe89c4733916442d74": {
          "model_module": "@jupyter-widgets/base",
          "model_name": "LayoutModel",
          "model_module_version": "1.2.0",
          "state": {
            "_view_name": "LayoutView",
            "grid_template_rows": null,
            "right": null,
            "justify_content": null,
            "_view_module": "@jupyter-widgets/base",
            "overflow": null,
            "_model_module_version": "1.2.0",
            "_view_count": null,
            "flex_flow": null,
            "width": null,
            "min_width": null,
            "border": null,
            "align_items": null,
            "bottom": null,
            "_model_module": "@jupyter-widgets/base",
            "top": null,
            "grid_column": null,
            "overflow_y": null,
            "overflow_x": null,
            "grid_auto_flow": null,
            "grid_area": null,
            "grid_template_columns": null,
            "flex": null,
            "_model_name": "LayoutModel",
            "justify_items": null,
            "grid_row": null,
            "max_height": null,
            "align_content": null,
            "visibility": null,
            "align_self": null,
            "height": null,
            "min_height": null,
            "padding": null,
            "grid_auto_rows": null,
            "grid_gap": null,
            "max_width": null,
            "order": null,
            "_view_module_version": "1.2.0",
            "grid_template_areas": null,
            "object_position": null,
            "object_fit": null,
            "grid_auto_columns": null,
            "margin": null,
            "display": null,
            "left": null
          }
        },
        "4734447daf4e46e8bea21164da58423b": {
          "model_module": "@jupyter-widgets/controls",
          "model_name": "ProgressStyleModel",
          "model_module_version": "1.5.0",
          "state": {
            "_view_name": "StyleView",
            "_model_name": "ProgressStyleModel",
            "description_width": "",
            "_view_module": "@jupyter-widgets/base",
            "_model_module_version": "1.5.0",
            "_view_count": null,
            "_view_module_version": "1.2.0",
            "bar_color": null,
            "_model_module": "@jupyter-widgets/controls"
          }
        },
        "3be48820af11456eade36fdd4ed49997": {
          "model_module": "@jupyter-widgets/base",
          "model_name": "LayoutModel",
          "model_module_version": "1.2.0",
          "state": {
            "_view_name": "LayoutView",
            "grid_template_rows": null,
            "right": null,
            "justify_content": null,
            "_view_module": "@jupyter-widgets/base",
            "overflow": null,
            "_model_module_version": "1.2.0",
            "_view_count": null,
            "flex_flow": null,
            "width": null,
            "min_width": null,
            "border": null,
            "align_items": null,
            "bottom": null,
            "_model_module": "@jupyter-widgets/base",
            "top": null,
            "grid_column": null,
            "overflow_y": null,
            "overflow_x": null,
            "grid_auto_flow": null,
            "grid_area": null,
            "grid_template_columns": null,
            "flex": null,
            "_model_name": "LayoutModel",
            "justify_items": null,
            "grid_row": null,
            "max_height": null,
            "align_content": null,
            "visibility": null,
            "align_self": null,
            "height": null,
            "min_height": null,
            "padding": null,
            "grid_auto_rows": null,
            "grid_gap": null,
            "max_width": null,
            "order": null,
            "_view_module_version": "1.2.0",
            "grid_template_areas": null,
            "object_position": null,
            "object_fit": null,
            "grid_auto_columns": null,
            "margin": null,
            "display": null,
            "left": null
          }
        },
        "529c5c8afb0e46c0946670d8d056b6f8": {
          "model_module": "@jupyter-widgets/controls",
          "model_name": "DescriptionStyleModel",
          "model_module_version": "1.5.0",
          "state": {
            "_view_name": "StyleView",
            "_model_name": "DescriptionStyleModel",
            "description_width": "",
            "_view_module": "@jupyter-widgets/base",
            "_model_module_version": "1.5.0",
            "_view_count": null,
            "_view_module_version": "1.2.0",
            "_model_module": "@jupyter-widgets/controls"
          }
        },
        "88e7384db5584efd9eeadaeb5f1863c9": {
          "model_module": "@jupyter-widgets/base",
          "model_name": "LayoutModel",
          "model_module_version": "1.2.0",
          "state": {
            "_view_name": "LayoutView",
            "grid_template_rows": null,
            "right": null,
            "justify_content": null,
            "_view_module": "@jupyter-widgets/base",
            "overflow": null,
            "_model_module_version": "1.2.0",
            "_view_count": null,
            "flex_flow": null,
            "width": null,
            "min_width": null,
            "border": null,
            "align_items": null,
            "bottom": null,
            "_model_module": "@jupyter-widgets/base",
            "top": null,
            "grid_column": null,
            "overflow_y": null,
            "overflow_x": null,
            "grid_auto_flow": null,
            "grid_area": null,
            "grid_template_columns": null,
            "flex": null,
            "_model_name": "LayoutModel",
            "justify_items": null,
            "grid_row": null,
            "max_height": null,
            "align_content": null,
            "visibility": null,
            "align_self": null,
            "height": null,
            "min_height": null,
            "padding": null,
            "grid_auto_rows": null,
            "grid_gap": null,
            "max_width": null,
            "order": null,
            "_view_module_version": "1.2.0",
            "grid_template_areas": null,
            "object_position": null,
            "object_fit": null,
            "grid_auto_columns": null,
            "margin": null,
            "display": null,
            "left": null
          }
        },
        "29c17f22daf84619ad2ba40654c435c3": {
          "model_module": "@jupyter-widgets/controls",
          "model_name": "HBoxModel",
          "model_module_version": "1.5.0",
          "state": {
            "_view_name": "HBoxView",
            "_dom_classes": [],
            "_model_name": "HBoxModel",
            "_view_module": "@jupyter-widgets/controls",
            "_model_module_version": "1.5.0",
            "_view_count": null,
            "_view_module_version": "1.5.0",
            "box_style": "",
            "layout": "IPY_MODEL_3ae2ab0444254bbea42ec5ddf1f5ddbc",
            "_model_module": "@jupyter-widgets/controls",
            "children": [
              "IPY_MODEL_e614283fe78b458fb17996e928391a4c",
              "IPY_MODEL_bd3e4f839e294827afb923cd67e131eb",
              "IPY_MODEL_e4f5664a97a044a99078c7175c22c3eb"
            ]
          }
        },
        "3ae2ab0444254bbea42ec5ddf1f5ddbc": {
          "model_module": "@jupyter-widgets/base",
          "model_name": "LayoutModel",
          "model_module_version": "1.2.0",
          "state": {
            "_view_name": "LayoutView",
            "grid_template_rows": null,
            "right": null,
            "justify_content": null,
            "_view_module": "@jupyter-widgets/base",
            "overflow": null,
            "_model_module_version": "1.2.0",
            "_view_count": null,
            "flex_flow": null,
            "width": null,
            "min_width": null,
            "border": null,
            "align_items": null,
            "bottom": null,
            "_model_module": "@jupyter-widgets/base",
            "top": null,
            "grid_column": null,
            "overflow_y": null,
            "overflow_x": null,
            "grid_auto_flow": null,
            "grid_area": null,
            "grid_template_columns": null,
            "flex": null,
            "_model_name": "LayoutModel",
            "justify_items": null,
            "grid_row": null,
            "max_height": null,
            "align_content": null,
            "visibility": null,
            "align_self": null,
            "height": null,
            "min_height": null,
            "padding": null,
            "grid_auto_rows": null,
            "grid_gap": null,
            "max_width": null,
            "order": null,
            "_view_module_version": "1.2.0",
            "grid_template_areas": null,
            "object_position": null,
            "object_fit": null,
            "grid_auto_columns": null,
            "margin": null,
            "display": null,
            "left": null
          }
        },
        "e614283fe78b458fb17996e928391a4c": {
          "model_module": "@jupyter-widgets/controls",
          "model_name": "HTMLModel",
          "model_module_version": "1.5.0",
          "state": {
            "_view_name": "HTMLView",
            "style": "IPY_MODEL_a4d47958691f4f938198160e9a4b34c4",
            "_dom_classes": [],
            "description": "",
            "_model_name": "HTMLModel",
            "placeholder": "​",
            "_view_module": "@jupyter-widgets/controls",
            "_model_module_version": "1.5.0",
            "value": "",
            "_view_count": null,
            "_view_module_version": "1.5.0",
            "description_tooltip": null,
            "_model_module": "@jupyter-widgets/controls",
            "layout": "IPY_MODEL_b12d3c811b70418e8e256899a76a4d0e"
          }
        },
        "bd3e4f839e294827afb923cd67e131eb": {
          "model_module": "@jupyter-widgets/controls",
          "model_name": "FloatProgressModel",
          "model_module_version": "1.5.0",
          "state": {
            "_view_name": "ProgressView",
            "style": "IPY_MODEL_b27f85f7613a40ef97b8e10f7e10e805",
            "_dom_classes": [],
            "description": "",
            "_model_name": "FloatProgressModel",
            "bar_style": "success",
            "max": 1648877,
            "_view_module": "@jupyter-widgets/controls",
            "_model_module_version": "1.5.0",
            "value": 1648877,
            "_view_count": null,
            "_view_module_version": "1.5.0",
            "orientation": "horizontal",
            "min": 0,
            "description_tooltip": null,
            "_model_module": "@jupyter-widgets/controls",
            "layout": "IPY_MODEL_bd820a7d9a554b0e9d7dae3779ceea8d"
          }
        },
        "e4f5664a97a044a99078c7175c22c3eb": {
          "model_module": "@jupyter-widgets/controls",
          "model_name": "HTMLModel",
          "model_module_version": "1.5.0",
          "state": {
            "_view_name": "HTMLView",
            "style": "IPY_MODEL_9f949101fd484667b1308c5a19c1b61c",
            "_dom_classes": [],
            "description": "",
            "_model_name": "HTMLModel",
            "placeholder": "​",
            "_view_module": "@jupyter-widgets/controls",
            "_model_module_version": "1.5.0",
            "value": " 1649664/? [00:00&lt;00:00, 2184871.50it/s]",
            "_view_count": null,
            "_view_module_version": "1.5.0",
            "description_tooltip": null,
            "_model_module": "@jupyter-widgets/controls",
            "layout": "IPY_MODEL_0eecce9b0e244bf784624894dcd08a67"
          }
        },
        "a4d47958691f4f938198160e9a4b34c4": {
          "model_module": "@jupyter-widgets/controls",
          "model_name": "DescriptionStyleModel",
          "model_module_version": "1.5.0",
          "state": {
            "_view_name": "StyleView",
            "_model_name": "DescriptionStyleModel",
            "description_width": "",
            "_view_module": "@jupyter-widgets/base",
            "_model_module_version": "1.5.0",
            "_view_count": null,
            "_view_module_version": "1.2.0",
            "_model_module": "@jupyter-widgets/controls"
          }
        },
        "b12d3c811b70418e8e256899a76a4d0e": {
          "model_module": "@jupyter-widgets/base",
          "model_name": "LayoutModel",
          "model_module_version": "1.2.0",
          "state": {
            "_view_name": "LayoutView",
            "grid_template_rows": null,
            "right": null,
            "justify_content": null,
            "_view_module": "@jupyter-widgets/base",
            "overflow": null,
            "_model_module_version": "1.2.0",
            "_view_count": null,
            "flex_flow": null,
            "width": null,
            "min_width": null,
            "border": null,
            "align_items": null,
            "bottom": null,
            "_model_module": "@jupyter-widgets/base",
            "top": null,
            "grid_column": null,
            "overflow_y": null,
            "overflow_x": null,
            "grid_auto_flow": null,
            "grid_area": null,
            "grid_template_columns": null,
            "flex": null,
            "_model_name": "LayoutModel",
            "justify_items": null,
            "grid_row": null,
            "max_height": null,
            "align_content": null,
            "visibility": null,
            "align_self": null,
            "height": null,
            "min_height": null,
            "padding": null,
            "grid_auto_rows": null,
            "grid_gap": null,
            "max_width": null,
            "order": null,
            "_view_module_version": "1.2.0",
            "grid_template_areas": null,
            "object_position": null,
            "object_fit": null,
            "grid_auto_columns": null,
            "margin": null,
            "display": null,
            "left": null
          }
        },
        "b27f85f7613a40ef97b8e10f7e10e805": {
          "model_module": "@jupyter-widgets/controls",
          "model_name": "ProgressStyleModel",
          "model_module_version": "1.5.0",
          "state": {
            "_view_name": "StyleView",
            "_model_name": "ProgressStyleModel",
            "description_width": "",
            "_view_module": "@jupyter-widgets/base",
            "_model_module_version": "1.5.0",
            "_view_count": null,
            "_view_module_version": "1.2.0",
            "bar_color": null,
            "_model_module": "@jupyter-widgets/controls"
          }
        },
        "bd820a7d9a554b0e9d7dae3779ceea8d": {
          "model_module": "@jupyter-widgets/base",
          "model_name": "LayoutModel",
          "model_module_version": "1.2.0",
          "state": {
            "_view_name": "LayoutView",
            "grid_template_rows": null,
            "right": null,
            "justify_content": null,
            "_view_module": "@jupyter-widgets/base",
            "overflow": null,
            "_model_module_version": "1.2.0",
            "_view_count": null,
            "flex_flow": null,
            "width": null,
            "min_width": null,
            "border": null,
            "align_items": null,
            "bottom": null,
            "_model_module": "@jupyter-widgets/base",
            "top": null,
            "grid_column": null,
            "overflow_y": null,
            "overflow_x": null,
            "grid_auto_flow": null,
            "grid_area": null,
            "grid_template_columns": null,
            "flex": null,
            "_model_name": "LayoutModel",
            "justify_items": null,
            "grid_row": null,
            "max_height": null,
            "align_content": null,
            "visibility": null,
            "align_self": null,
            "height": null,
            "min_height": null,
            "padding": null,
            "grid_auto_rows": null,
            "grid_gap": null,
            "max_width": null,
            "order": null,
            "_view_module_version": "1.2.0",
            "grid_template_areas": null,
            "object_position": null,
            "object_fit": null,
            "grid_auto_columns": null,
            "margin": null,
            "display": null,
            "left": null
          }
        },
        "9f949101fd484667b1308c5a19c1b61c": {
          "model_module": "@jupyter-widgets/controls",
          "model_name": "DescriptionStyleModel",
          "model_module_version": "1.5.0",
          "state": {
            "_view_name": "StyleView",
            "_model_name": "DescriptionStyleModel",
            "description_width": "",
            "_view_module": "@jupyter-widgets/base",
            "_model_module_version": "1.5.0",
            "_view_count": null,
            "_view_module_version": "1.2.0",
            "_model_module": "@jupyter-widgets/controls"
          }
        },
        "0eecce9b0e244bf784624894dcd08a67": {
          "model_module": "@jupyter-widgets/base",
          "model_name": "LayoutModel",
          "model_module_version": "1.2.0",
          "state": {
            "_view_name": "LayoutView",
            "grid_template_rows": null,
            "right": null,
            "justify_content": null,
            "_view_module": "@jupyter-widgets/base",
            "overflow": null,
            "_model_module_version": "1.2.0",
            "_view_count": null,
            "flex_flow": null,
            "width": null,
            "min_width": null,
            "border": null,
            "align_items": null,
            "bottom": null,
            "_model_module": "@jupyter-widgets/base",
            "top": null,
            "grid_column": null,
            "overflow_y": null,
            "overflow_x": null,
            "grid_auto_flow": null,
            "grid_area": null,
            "grid_template_columns": null,
            "flex": null,
            "_model_name": "LayoutModel",
            "justify_items": null,
            "grid_row": null,
            "max_height": null,
            "align_content": null,
            "visibility": null,
            "align_self": null,
            "height": null,
            "min_height": null,
            "padding": null,
            "grid_auto_rows": null,
            "grid_gap": null,
            "max_width": null,
            "order": null,
            "_view_module_version": "1.2.0",
            "grid_template_areas": null,
            "object_position": null,
            "object_fit": null,
            "grid_auto_columns": null,
            "margin": null,
            "display": null,
            "left": null
          }
        },
        "80a6555849f648b8939064d67f86927d": {
          "model_module": "@jupyter-widgets/controls",
          "model_name": "HBoxModel",
          "model_module_version": "1.5.0",
          "state": {
            "_view_name": "HBoxView",
            "_dom_classes": [],
            "_model_name": "HBoxModel",
            "_view_module": "@jupyter-widgets/controls",
            "_model_module_version": "1.5.0",
            "_view_count": null,
            "_view_module_version": "1.5.0",
            "box_style": "",
            "layout": "IPY_MODEL_9e5f454c7f33465094224b3cca60aa60",
            "_model_module": "@jupyter-widgets/controls",
            "children": [
              "IPY_MODEL_2972c0c408924467acef20e49a467dbd",
              "IPY_MODEL_d80b4dd002e944988d7e97cd73cd66c1",
              "IPY_MODEL_bc322ed405d44db39e14292ab5182659"
            ]
          }
        },
        "9e5f454c7f33465094224b3cca60aa60": {
          "model_module": "@jupyter-widgets/base",
          "model_name": "LayoutModel",
          "model_module_version": "1.2.0",
          "state": {
            "_view_name": "LayoutView",
            "grid_template_rows": null,
            "right": null,
            "justify_content": null,
            "_view_module": "@jupyter-widgets/base",
            "overflow": null,
            "_model_module_version": "1.2.0",
            "_view_count": null,
            "flex_flow": null,
            "width": null,
            "min_width": null,
            "border": null,
            "align_items": null,
            "bottom": null,
            "_model_module": "@jupyter-widgets/base",
            "top": null,
            "grid_column": null,
            "overflow_y": null,
            "overflow_x": null,
            "grid_auto_flow": null,
            "grid_area": null,
            "grid_template_columns": null,
            "flex": null,
            "_model_name": "LayoutModel",
            "justify_items": null,
            "grid_row": null,
            "max_height": null,
            "align_content": null,
            "visibility": null,
            "align_self": null,
            "height": null,
            "min_height": null,
            "padding": null,
            "grid_auto_rows": null,
            "grid_gap": null,
            "max_width": null,
            "order": null,
            "_view_module_version": "1.2.0",
            "grid_template_areas": null,
            "object_position": null,
            "object_fit": null,
            "grid_auto_columns": null,
            "margin": null,
            "display": null,
            "left": null
          }
        },
        "2972c0c408924467acef20e49a467dbd": {
          "model_module": "@jupyter-widgets/controls",
          "model_name": "HTMLModel",
          "model_module_version": "1.5.0",
          "state": {
            "_view_name": "HTMLView",
            "style": "IPY_MODEL_810ac8fdff674222b9ec9ef99a47eff0",
            "_dom_classes": [],
            "description": "",
            "_model_name": "HTMLModel",
            "placeholder": "​",
            "_view_module": "@jupyter-widgets/controls",
            "_model_module_version": "1.5.0",
            "value": "",
            "_view_count": null,
            "_view_module_version": "1.5.0",
            "description_tooltip": null,
            "_model_module": "@jupyter-widgets/controls",
            "layout": "IPY_MODEL_16623637936742af9d49d38100fe295a"
          }
        },
        "d80b4dd002e944988d7e97cd73cd66c1": {
          "model_module": "@jupyter-widgets/controls",
          "model_name": "FloatProgressModel",
          "model_module_version": "1.5.0",
          "state": {
            "_view_name": "ProgressView",
            "style": "IPY_MODEL_815d7e21585b4ea590b5621834b0912d",
            "_dom_classes": [],
            "description": "",
            "_model_name": "FloatProgressModel",
            "bar_style": "success",
            "max": 4542,
            "_view_module": "@jupyter-widgets/controls",
            "_model_module_version": "1.5.0",
            "value": 4542,
            "_view_count": null,
            "_view_module_version": "1.5.0",
            "orientation": "horizontal",
            "min": 0,
            "description_tooltip": null,
            "_model_module": "@jupyter-widgets/controls",
            "layout": "IPY_MODEL_64aa1fb9ce75481f91ef5ff5e39f8bf8"
          }
        },
        "bc322ed405d44db39e14292ab5182659": {
          "model_module": "@jupyter-widgets/controls",
          "model_name": "HTMLModel",
          "model_module_version": "1.5.0",
          "state": {
            "_view_name": "HTMLView",
            "style": "IPY_MODEL_ccfa6d5a6a9b497e8b025bbfb0871bb1",
            "_dom_classes": [],
            "description": "",
            "_model_name": "HTMLModel",
            "placeholder": "​",
            "_view_module": "@jupyter-widgets/controls",
            "_model_module_version": "1.5.0",
            "value": " 5120/? [00:00&lt;00:00, 166195.90it/s]",
            "_view_count": null,
            "_view_module_version": "1.5.0",
            "description_tooltip": null,
            "_model_module": "@jupyter-widgets/controls",
            "layout": "IPY_MODEL_49ae54954b144bc089a1968610b816d3"
          }
        },
        "810ac8fdff674222b9ec9ef99a47eff0": {
          "model_module": "@jupyter-widgets/controls",
          "model_name": "DescriptionStyleModel",
          "model_module_version": "1.5.0",
          "state": {
            "_view_name": "StyleView",
            "_model_name": "DescriptionStyleModel",
            "description_width": "",
            "_view_module": "@jupyter-widgets/base",
            "_model_module_version": "1.5.0",
            "_view_count": null,
            "_view_module_version": "1.2.0",
            "_model_module": "@jupyter-widgets/controls"
          }
        },
        "16623637936742af9d49d38100fe295a": {
          "model_module": "@jupyter-widgets/base",
          "model_name": "LayoutModel",
          "model_module_version": "1.2.0",
          "state": {
            "_view_name": "LayoutView",
            "grid_template_rows": null,
            "right": null,
            "justify_content": null,
            "_view_module": "@jupyter-widgets/base",
            "overflow": null,
            "_model_module_version": "1.2.0",
            "_view_count": null,
            "flex_flow": null,
            "width": null,
            "min_width": null,
            "border": null,
            "align_items": null,
            "bottom": null,
            "_model_module": "@jupyter-widgets/base",
            "top": null,
            "grid_column": null,
            "overflow_y": null,
            "overflow_x": null,
            "grid_auto_flow": null,
            "grid_area": null,
            "grid_template_columns": null,
            "flex": null,
            "_model_name": "LayoutModel",
            "justify_items": null,
            "grid_row": null,
            "max_height": null,
            "align_content": null,
            "visibility": null,
            "align_self": null,
            "height": null,
            "min_height": null,
            "padding": null,
            "grid_auto_rows": null,
            "grid_gap": null,
            "max_width": null,
            "order": null,
            "_view_module_version": "1.2.0",
            "grid_template_areas": null,
            "object_position": null,
            "object_fit": null,
            "grid_auto_columns": null,
            "margin": null,
            "display": null,
            "left": null
          }
        },
        "815d7e21585b4ea590b5621834b0912d": {
          "model_module": "@jupyter-widgets/controls",
          "model_name": "ProgressStyleModel",
          "model_module_version": "1.5.0",
          "state": {
            "_view_name": "StyleView",
            "_model_name": "ProgressStyleModel",
            "description_width": "",
            "_view_module": "@jupyter-widgets/base",
            "_model_module_version": "1.5.0",
            "_view_count": null,
            "_view_module_version": "1.2.0",
            "bar_color": null,
            "_model_module": "@jupyter-widgets/controls"
          }
        },
        "64aa1fb9ce75481f91ef5ff5e39f8bf8": {
          "model_module": "@jupyter-widgets/base",
          "model_name": "LayoutModel",
          "model_module_version": "1.2.0",
          "state": {
            "_view_name": "LayoutView",
            "grid_template_rows": null,
            "right": null,
            "justify_content": null,
            "_view_module": "@jupyter-widgets/base",
            "overflow": null,
            "_model_module_version": "1.2.0",
            "_view_count": null,
            "flex_flow": null,
            "width": null,
            "min_width": null,
            "border": null,
            "align_items": null,
            "bottom": null,
            "_model_module": "@jupyter-widgets/base",
            "top": null,
            "grid_column": null,
            "overflow_y": null,
            "overflow_x": null,
            "grid_auto_flow": null,
            "grid_area": null,
            "grid_template_columns": null,
            "flex": null,
            "_model_name": "LayoutModel",
            "justify_items": null,
            "grid_row": null,
            "max_height": null,
            "align_content": null,
            "visibility": null,
            "align_self": null,
            "height": null,
            "min_height": null,
            "padding": null,
            "grid_auto_rows": null,
            "grid_gap": null,
            "max_width": null,
            "order": null,
            "_view_module_version": "1.2.0",
            "grid_template_areas": null,
            "object_position": null,
            "object_fit": null,
            "grid_auto_columns": null,
            "margin": null,
            "display": null,
            "left": null
          }
        },
        "ccfa6d5a6a9b497e8b025bbfb0871bb1": {
          "model_module": "@jupyter-widgets/controls",
          "model_name": "DescriptionStyleModel",
          "model_module_version": "1.5.0",
          "state": {
            "_view_name": "StyleView",
            "_model_name": "DescriptionStyleModel",
            "description_width": "",
            "_view_module": "@jupyter-widgets/base",
            "_model_module_version": "1.5.0",
            "_view_count": null,
            "_view_module_version": "1.2.0",
            "_model_module": "@jupyter-widgets/controls"
          }
        },
        "49ae54954b144bc089a1968610b816d3": {
          "model_module": "@jupyter-widgets/base",
          "model_name": "LayoutModel",
          "model_module_version": "1.2.0",
          "state": {
            "_view_name": "LayoutView",
            "grid_template_rows": null,
            "right": null,
            "justify_content": null,
            "_view_module": "@jupyter-widgets/base",
            "overflow": null,
            "_model_module_version": "1.2.0",
            "_view_count": null,
            "flex_flow": null,
            "width": null,
            "min_width": null,
            "border": null,
            "align_items": null,
            "bottom": null,
            "_model_module": "@jupyter-widgets/base",
            "top": null,
            "grid_column": null,
            "overflow_y": null,
            "overflow_x": null,
            "grid_auto_flow": null,
            "grid_area": null,
            "grid_template_columns": null,
            "flex": null,
            "_model_name": "LayoutModel",
            "justify_items": null,
            "grid_row": null,
            "max_height": null,
            "align_content": null,
            "visibility": null,
            "align_self": null,
            "height": null,
            "min_height": null,
            "padding": null,
            "grid_auto_rows": null,
            "grid_gap": null,
            "max_width": null,
            "order": null,
            "_view_module_version": "1.2.0",
            "grid_template_areas": null,
            "object_position": null,
            "object_fit": null,
            "grid_auto_columns": null,
            "margin": null,
            "display": null,
            "left": null
          }
        }
      }
    }
  },
  "cells": [
    {
      "cell_type": "code",
      "execution_count": null,
      "metadata": {
        "id": "FhCPoRV89KR5"
      },
      "outputs": [],
      "source": [
        "import os\n",
        "from tqdm import tqdm\n",
        "\n",
        "import torch\n",
        "import torch.nn as nn\n",
        "import torch.optim as optim\n",
        "import torchvision\n",
        "import torchvision.transforms as transforms\n",
        "\n",
        "from torchvision.utils import save_image"
      ]
    },
    {
      "cell_type": "code",
      "source": [
        "device = torch.device('cuda' if torch.cuda.is_available() else 'cpu')\n",
        "print(device)"
      ],
      "metadata": {
        "colab": {
          "base_uri": "https://localhost:8080/"
        },
        "id": "Rmf2qUOQ9imK",
        "outputId": "f07f2c83-e1bd-4d12-fc38-c2e2f2c2cbee"
      },
      "execution_count": null,
      "outputs": [
        {
          "output_type": "stream",
          "name": "stdout",
          "text": [
            "cuda\n"
          ]
        }
      ]
    },
    {
      "cell_type": "code",
      "source": [
        "# Hyper parameter\n",
        "latent_size = 64\n",
        "hidden_size = 256\n",
        "image_size = 28*28\n",
        "num_epochs = 100\n",
        "batch_size = 32\n",
        "sample_dir = 'samples'"
      ],
      "metadata": {
        "id": "IMkYQaGx9rcl"
      },
      "execution_count": null,
      "outputs": []
    },
    {
      "cell_type": "code",
      "source": [
        "# Create a directory if not exists\n",
        "if not os.path.exists(sample_dir):\n",
        "    os.makedirs(sample_dir)"
      ],
      "metadata": {
        "id": "Y1z9Urfl9rZ8"
      },
      "execution_count": null,
      "outputs": []
    },
    {
      "cell_type": "code",
      "source": [
        "# Image processing\n",
        "# transform = transforms.Compose([\n",
        "#                                 transforms.ToTensor(),\n",
        "#                                 transforms.Normalize(mean=(.5, .5, .5),\n",
        "#                                                      std=(.5, .5, .5)),\n",
        "# ]) # 3 for RGB channels\n",
        "\n",
        "transform = transforms.Compose([\n",
        "                                transforms.ToTensor(),\n",
        "                                transforms.Normalize(mean=[.5],\n",
        "                                                     std=[.5])\n",
        "                                ])"
      ],
      "metadata": {
        "id": "0G5uJPc_9rXZ"
      },
      "execution_count": null,
      "outputs": []
    },
    {
      "cell_type": "code",
      "source": [
        "mnist = torchvision.datasets.MNIST(root = '../../data',\n",
        "                                   train = True,\n",
        "                                   transform = transform,\n",
        "                                   download = True,\n",
        "                                   )"
      ],
      "metadata": {
        "colab": {
          "base_uri": "https://localhost:8080/",
          "height": 437,
          "referenced_widgets": [
            "b317251a277f4d3286285a92d61523df",
            "54a669f5b7ab4505b5b67dab2395ee50",
            "97568c4d43874ce7a0573153e0277d60",
            "baadd9a2a3cb4b33be8837da3a43fb73",
            "4e468d430d3e4a8b8013bde7014ef3f8",
            "088ec2807efc4273a79d7f512a6eb0a2",
            "5b5755663afa4a798b145eadaf184642",
            "f3f6d2d01b184808996f4e36e0da7ff6",
            "c0575bea26ac4f748c9d5d5f0e51705f",
            "78a584b2eb5143639283d25b1882c01f",
            "e585dd424e68499ba2f4db3a7b991ac3",
            "cd2d31630ca64ce2994a39d59c31750c",
            "7c91dec25c84483cafdd541aece33089",
            "0d8e09393077477f8859829f1035684d",
            "49f13b97d7aa41408d14bfe01c9a7747",
            "b3da5cc16f3c469c98bb487a2687a89a",
            "ac67e96e44004636bba57a901a231021",
            "547dd46245fb4fbe89c4733916442d74",
            "4734447daf4e46e8bea21164da58423b",
            "3be48820af11456eade36fdd4ed49997",
            "529c5c8afb0e46c0946670d8d056b6f8",
            "88e7384db5584efd9eeadaeb5f1863c9",
            "29c17f22daf84619ad2ba40654c435c3",
            "3ae2ab0444254bbea42ec5ddf1f5ddbc",
            "e614283fe78b458fb17996e928391a4c",
            "bd3e4f839e294827afb923cd67e131eb",
            "e4f5664a97a044a99078c7175c22c3eb",
            "a4d47958691f4f938198160e9a4b34c4",
            "b12d3c811b70418e8e256899a76a4d0e",
            "b27f85f7613a40ef97b8e10f7e10e805",
            "bd820a7d9a554b0e9d7dae3779ceea8d",
            "9f949101fd484667b1308c5a19c1b61c",
            "0eecce9b0e244bf784624894dcd08a67",
            "80a6555849f648b8939064d67f86927d",
            "9e5f454c7f33465094224b3cca60aa60",
            "2972c0c408924467acef20e49a467dbd",
            "d80b4dd002e944988d7e97cd73cd66c1",
            "bc322ed405d44db39e14292ab5182659",
            "810ac8fdff674222b9ec9ef99a47eff0",
            "16623637936742af9d49d38100fe295a",
            "815d7e21585b4ea590b5621834b0912d",
            "64aa1fb9ce75481f91ef5ff5e39f8bf8",
            "ccfa6d5a6a9b497e8b025bbfb0871bb1",
            "49ae54954b144bc089a1968610b816d3"
          ]
        },
        "id": "GvPIiPlG-ruP",
        "outputId": "ca9373a5-bda4-427d-f70d-fc45f509e226"
      },
      "execution_count": null,
      "outputs": [
        {
          "output_type": "stream",
          "name": "stdout",
          "text": [
            "Downloading http://yann.lecun.com/exdb/mnist/train-images-idx3-ubyte.gz\n",
            "Downloading http://yann.lecun.com/exdb/mnist/train-images-idx3-ubyte.gz to ../../data/MNIST/raw/train-images-idx3-ubyte.gz\n"
          ]
        },
        {
          "output_type": "display_data",
          "data": {
            "application/vnd.jupyter.widget-view+json": {
              "model_id": "b317251a277f4d3286285a92d61523df",
              "version_minor": 0,
              "version_major": 2
            },
            "text/plain": [
              "  0%|          | 0/9912422 [00:00<?, ?it/s]"
            ]
          },
          "metadata": {}
        },
        {
          "output_type": "stream",
          "name": "stdout",
          "text": [
            "Extracting ../../data/MNIST/raw/train-images-idx3-ubyte.gz to ../../data/MNIST/raw\n",
            "\n",
            "Downloading http://yann.lecun.com/exdb/mnist/train-labels-idx1-ubyte.gz\n",
            "Downloading http://yann.lecun.com/exdb/mnist/train-labels-idx1-ubyte.gz to ../../data/MNIST/raw/train-labels-idx1-ubyte.gz\n"
          ]
        },
        {
          "output_type": "display_data",
          "data": {
            "application/vnd.jupyter.widget-view+json": {
              "model_id": "cd2d31630ca64ce2994a39d59c31750c",
              "version_minor": 0,
              "version_major": 2
            },
            "text/plain": [
              "  0%|          | 0/28881 [00:00<?, ?it/s]"
            ]
          },
          "metadata": {}
        },
        {
          "output_type": "stream",
          "name": "stdout",
          "text": [
            "Extracting ../../data/MNIST/raw/train-labels-idx1-ubyte.gz to ../../data/MNIST/raw\n",
            "\n",
            "Downloading http://yann.lecun.com/exdb/mnist/t10k-images-idx3-ubyte.gz\n",
            "Downloading http://yann.lecun.com/exdb/mnist/t10k-images-idx3-ubyte.gz to ../../data/MNIST/raw/t10k-images-idx3-ubyte.gz\n"
          ]
        },
        {
          "output_type": "display_data",
          "data": {
            "application/vnd.jupyter.widget-view+json": {
              "model_id": "29c17f22daf84619ad2ba40654c435c3",
              "version_minor": 0,
              "version_major": 2
            },
            "text/plain": [
              "  0%|          | 0/1648877 [00:00<?, ?it/s]"
            ]
          },
          "metadata": {}
        },
        {
          "output_type": "stream",
          "name": "stdout",
          "text": [
            "Extracting ../../data/MNIST/raw/t10k-images-idx3-ubyte.gz to ../../data/MNIST/raw\n",
            "\n",
            "Downloading http://yann.lecun.com/exdb/mnist/t10k-labels-idx1-ubyte.gz\n",
            "Downloading http://yann.lecun.com/exdb/mnist/t10k-labels-idx1-ubyte.gz to ../../data/MNIST/raw/t10k-labels-idx1-ubyte.gz\n"
          ]
        },
        {
          "output_type": "display_data",
          "data": {
            "application/vnd.jupyter.widget-view+json": {
              "model_id": "80a6555849f648b8939064d67f86927d",
              "version_minor": 0,
              "version_major": 2
            },
            "text/plain": [
              "  0%|          | 0/4542 [00:00<?, ?it/s]"
            ]
          },
          "metadata": {}
        },
        {
          "output_type": "stream",
          "name": "stdout",
          "text": [
            "Extracting ../../data/MNIST/raw/t10k-labels-idx1-ubyte.gz to ../../data/MNIST/raw\n",
            "\n"
          ]
        }
      ]
    },
    {
      "cell_type": "code",
      "source": [
        "data_loader = torch.utils.data.DataLoader(dataset = mnist,\n",
        "                                          batch_size = batch_size,\n",
        "                                          shuffle = True,\n",
        "                                          )"
      ],
      "metadata": {
        "id": "mOVe1V1B-rr0"
      },
      "execution_count": null,
      "outputs": []
    },
    {
      "cell_type": "code",
      "source": [
        "# Discriminator\n",
        "D = nn.Sequential(\n",
        "    nn.Linear(image_size, hidden_size),\n",
        "    nn.LeakyReLU(0.2),\n",
        "    nn.Linear(hidden_size, hidden_size),\n",
        "    nn.LeakyReLU(0.2),\n",
        "    nn.Linear(hidden_size, 1),\n",
        "    nn.Sigmoid(),\n",
        ")\n",
        "\n",
        "# Generator\n",
        "G = nn.Sequential(\n",
        "    nn.Linear(latent_size, hidden_size),\n",
        "    nn.ReLU(),\n",
        "    nn.Linear(hidden_size, hidden_size),\n",
        "    nn.ReLU(),\n",
        "    nn.Linear(hidden_size, image_size),\n",
        "    nn.Tanh(),\n",
        ")"
      ],
      "metadata": {
        "id": "nDWZT4Ha-rph"
      },
      "execution_count": null,
      "outputs": []
    },
    {
      "cell_type": "code",
      "source": [
        "# Device setting\n",
        "D = D.to(device)\n",
        "G = G.to(device)"
      ],
      "metadata": {
        "id": "SxwXMntA-rm-"
      },
      "execution_count": null,
      "outputs": []
    },
    {
      "cell_type": "code",
      "source": [
        "# Binary cross entropy loss and optimizer\n",
        "criterion = nn.BCELoss()\n",
        "d_optimizer = optim.Adam(D.parameters(), lr=0.0002)\n",
        "g_optimizer = optim.Adam(G.parameters(), lr=0.0002)"
      ],
      "metadata": {
        "id": "AWsS04gJ_8YE"
      },
      "execution_count": null,
      "outputs": []
    },
    {
      "cell_type": "code",
      "source": [
        "def denorm(x):\n",
        "    out = (x+1)/2\n",
        "    return out.clamp(0, 1) # torch.clamp == np.clip\n",
        "\n",
        "def reset_grad():\n",
        "    d_optimizer.zero_grad()\n",
        "    g_optimizer.zero_grad()"
      ],
      "metadata": {
        "id": "iWCwyHoQ_8cx"
      },
      "execution_count": null,
      "outputs": []
    },
    {
      "cell_type": "code",
      "source": [
        "# Training\n",
        "\n",
        "total_step = len(data_loader)\n",
        "train_step = 1\n",
        "log_interval = 500\n",
        "for epoch in range(1, num_epochs+1):\n",
        "    for batch_idx, (images,_) in enumerate(\n",
        "        tqdm(data_loader, position=0, leave=False, desc='train')\n",
        "    ):\n",
        "        images = images.reshape(batch_size, -1).to(device)\n",
        "\n",
        "        # Create the labels which are later used as input for the BCELoss\n",
        "        real_labels = torch.ones(batch_size, 1).to(device)\n",
        "        fake_labels = torch.zeros(batch_size, 1).to(device)\n",
        "\n",
        "        # ===============Train The Discriminator===============\n",
        "        # =====================================================\n",
        "        \n",
        "        # Compute BCELoss using real images where BCELoss(x, y) : - y * log(D(x)) - (1-y) * log(1-D(x))\n",
        "        # Second term of the loss is always zero since real_labels == 1\n",
        "        outputs = D(images)\n",
        "        d_loss_real = criterion(outputs, real_labels)\n",
        "        real_score = outputs\n",
        "\n",
        "        # Compute BCELoss using fake images\n",
        "        # First term of the loss is always zero\n",
        "        z = torch.randn(batch_size, latent_size).to(device)\n",
        "        fake_images = G(z)\n",
        "        outputs = D(fake_images)\n",
        "        d_loss_fake = criterion(outputs, fake_labels)\n",
        "        fake_score = outputs\n",
        "\n",
        "        # Backpropagation and optimize\n",
        "        d_loss = d_loss_real + d_loss_fake\n",
        "        reset_grad()\n",
        "        d_loss.backward()\n",
        "        d_optimizer.step()\n",
        "\n",
        "        # =================Train The Generator=================\n",
        "        # =====================================================\n",
        "\n",
        "        # Compute loss with fake images\n",
        "        z = torch.randn(batch_size, latent_size).to(device)\n",
        "        fake_images = G(z)\n",
        "        outputs = D(fake_images)\n",
        "\n",
        "        # We train G to maximize log(D(G(z))) instead of minimizing log(1-D(z))\n",
        "        # For the reason, see the last paragraph of section 3. https://arxiv.org/pdf/1406.2661.pdf\n",
        "        g_loss = criterion(outputs, real_labels)\n",
        "\n",
        "        # Backpropagation and optimize\n",
        "        reset_grad()\n",
        "        g_loss.backward()\n",
        "        g_optimizer.step()\n",
        "\n",
        "        # Logging\n",
        "        if train_step%log_interval == 0:\n",
        "            print(f'Epoch [{epoch}/{num_epochs}] Step [{train_step}/{total_step*num_epochs}]  d_loss : {real_score.mean().item():.4f} g_loss :{fake_score.mean().item()}')\n",
        "        train_step += 1\n",
        "    # Save real images\n",
        "    if epoch == 1:\n",
        "        images = images.reshape(images.size(0), 1, 28, 28)\n",
        "        save_image(denorm(images), os.path.join(sample_dir, 'real_images.png'))\n",
        "    \n",
        "    # Save sampled images\n",
        "    fake_images = fake_images.reshape(fake_images.size(0), 1, 28, 28)\n",
        "    save_image(denorm(fake_images), os.path.join(sample_dir, f'fake_images-{epoch}.png'))\n",
        "\n",
        "# Save the model checkpoinfs\n",
        "torch.save(G.state_dict(), 'G.cpkt')\n",
        "torch.save(D.state_dict(), 'D.cpkt')"
      ],
      "metadata": {
        "colab": {
          "base_uri": "https://localhost:8080/"
        },
        "id": "_HVb5EWLANNS",
        "outputId": "d2932c80-21b4-4b0d-b2c2-f8a4564e4ff3"
      },
      "execution_count": null,
      "outputs": [
        {
          "output_type": "stream",
          "name": "stderr",
          "text": [
            "train:  28%|██▊       | 517/1875 [00:04<00:11, 117.23it/s]"
          ]
        },
        {
          "output_type": "stream",
          "name": "stdout",
          "text": [
            "Epoch [1/100] Step [500/187500]  d_loss : 0.9949 g_loss :0.014379022642970085\n"
          ]
        },
        {
          "output_type": "stream",
          "name": "stderr",
          "text": [
            "train:  54%|█████▍    | 1014/1875 [00:08<00:07, 114.32it/s]"
          ]
        },
        {
          "output_type": "stream",
          "name": "stdout",
          "text": [
            "Epoch [1/100] Step [1000/187500]  d_loss : 0.9961 g_loss :0.03822621703147888\n"
          ]
        },
        {
          "output_type": "stream",
          "name": "stderr",
          "text": [
            "train:  81%|████████  | 1520/1875 [00:13<00:02, 118.59it/s]"
          ]
        },
        {
          "output_type": "stream",
          "name": "stdout",
          "text": [
            "Epoch [1/100] Step [1500/187500]  d_loss : 0.9372 g_loss :0.04055142402648926\n"
          ]
        },
        {
          "output_type": "stream",
          "name": "stderr",
          "text": [
            "train:   8%|▊         | 147/1875 [00:01<00:14, 119.02it/s]"
          ]
        },
        {
          "output_type": "stream",
          "name": "stdout",
          "text": [
            "Epoch [2/100] Step [2000/187500]  d_loss : 0.8451 g_loss :0.22203528881072998\n"
          ]
        },
        {
          "output_type": "stream",
          "name": "stderr",
          "text": [
            "train:  35%|███▍      | 648/1875 [00:05<00:10, 119.46it/s]"
          ]
        },
        {
          "output_type": "stream",
          "name": "stdout",
          "text": [
            "Epoch [2/100] Step [2500/187500]  d_loss : 0.9609 g_loss :0.2583749294281006\n"
          ]
        },
        {
          "output_type": "stream",
          "name": "stderr",
          "text": [
            "train:  61%|██████    | 1139/1875 [00:09<00:06, 115.21it/s]"
          ]
        },
        {
          "output_type": "stream",
          "name": "stdout",
          "text": [
            "Epoch [2/100] Step [3000/187500]  d_loss : 0.9399 g_loss :0.22375798225402832\n"
          ]
        },
        {
          "output_type": "stream",
          "name": "stderr",
          "text": [
            "train:  87%|████████▋ | 1640/1875 [00:14<00:02, 116.45it/s]"
          ]
        },
        {
          "output_type": "stream",
          "name": "stdout",
          "text": [
            "Epoch [2/100] Step [3500/187500]  d_loss : 0.9846 g_loss :0.0508287250995636\n"
          ]
        },
        {
          "output_type": "stream",
          "name": "stderr",
          "text": [
            "train:  14%|█▍        | 266/1875 [00:02<00:13, 117.01it/s]"
          ]
        },
        {
          "output_type": "stream",
          "name": "stdout",
          "text": [
            "Epoch [3/100] Step [4000/187500]  d_loss : 0.9675 g_loss :0.010451601818203926\n"
          ]
        },
        {
          "output_type": "stream",
          "name": "stderr",
          "text": [
            "train:  41%|████      | 762/1875 [00:06<00:09, 114.67it/s]"
          ]
        },
        {
          "output_type": "stream",
          "name": "stdout",
          "text": [
            "Epoch [3/100] Step [4500/187500]  d_loss : 0.9648 g_loss :0.0004003613139502704\n"
          ]
        },
        {
          "output_type": "stream",
          "name": "stderr",
          "text": [
            "train:  67%|██████▋   | 1263/1875 [00:10<00:05, 114.99it/s]"
          ]
        },
        {
          "output_type": "stream",
          "name": "stdout",
          "text": [
            "Epoch [3/100] Step [5000/187500]  d_loss : 0.9715 g_loss :0.013352109119296074\n"
          ]
        },
        {
          "output_type": "stream",
          "name": "stderr",
          "text": [
            "train:  94%|█████████▍| 1763/1875 [00:15<00:01, 111.07it/s]"
          ]
        },
        {
          "output_type": "stream",
          "name": "stdout",
          "text": [
            "Epoch [3/100] Step [5500/187500]  d_loss : 0.9869 g_loss :0.08409862220287323\n"
          ]
        },
        {
          "output_type": "stream",
          "name": "stderr",
          "text": [
            "train:  21%|██        | 391/1875 [00:03<00:13, 114.10it/s]"
          ]
        },
        {
          "output_type": "stream",
          "name": "stdout",
          "text": [
            "Epoch [4/100] Step [6000/187500]  d_loss : 0.9986 g_loss :0.11670901626348495\n"
          ]
        },
        {
          "output_type": "stream",
          "name": "stderr",
          "text": [
            "train:  48%|████▊     | 895/1875 [00:07<00:08, 117.89it/s]"
          ]
        },
        {
          "output_type": "stream",
          "name": "stdout",
          "text": [
            "Epoch [4/100] Step [6500/187500]  d_loss : 0.9330 g_loss :0.019213102757930756\n"
          ]
        },
        {
          "output_type": "stream",
          "name": "stderr",
          "text": [
            "train:  74%|███████▍  | 1387/1875 [00:11<00:04, 115.99it/s]"
          ]
        },
        {
          "output_type": "stream",
          "name": "stdout",
          "text": [
            "Epoch [4/100] Step [7000/187500]  d_loss : 0.8863 g_loss :0.014634590595960617\n"
          ]
        },
        {
          "output_type": "stream",
          "name": "stderr",
          "text": [
            ""
          ]
        },
        {
          "output_type": "stream",
          "name": "stdout",
          "text": [
            "Epoch [4/100] Step [7500/187500]  d_loss : 0.8638 g_loss :0.05727600306272507\n"
          ]
        },
        {
          "output_type": "stream",
          "name": "stderr",
          "text": [
            "train:  28%|██▊       | 520/1875 [00:04<00:11, 116.91it/s]"
          ]
        },
        {
          "output_type": "stream",
          "name": "stdout",
          "text": [
            "Epoch [5/100] Step [8000/187500]  d_loss : 0.9326 g_loss :0.23180034756660461\n"
          ]
        },
        {
          "output_type": "stream",
          "name": "stderr",
          "text": [
            "train:  55%|█████▍    | 1023/1875 [00:08<00:07, 118.90it/s]"
          ]
        },
        {
          "output_type": "stream",
          "name": "stdout",
          "text": [
            "Epoch [5/100] Step [8500/187500]  d_loss : 0.7563 g_loss :0.031092725694179535\n"
          ]
        },
        {
          "output_type": "stream",
          "name": "stderr",
          "text": [
            "train:  81%|████████  | 1511/1875 [00:13<00:03, 116.12it/s]"
          ]
        },
        {
          "output_type": "stream",
          "name": "stdout",
          "text": [
            "Epoch [5/100] Step [9000/187500]  d_loss : 0.8595 g_loss :0.05168317258358002\n"
          ]
        },
        {
          "output_type": "stream",
          "name": "stderr",
          "text": [
            "train:   8%|▊         | 145/1875 [00:01<00:14, 116.44it/s]"
          ]
        },
        {
          "output_type": "stream",
          "name": "stdout",
          "text": [
            "Epoch [6/100] Step [9500/187500]  d_loss : 0.9215 g_loss :0.011749524623155594\n"
          ]
        },
        {
          "output_type": "stream",
          "name": "stderr",
          "text": [
            "train:  35%|███▍      | 647/1875 [00:05<00:10, 114.94it/s]"
          ]
        },
        {
          "output_type": "stream",
          "name": "stdout",
          "text": [
            "Epoch [6/100] Step [10000/187500]  d_loss : 0.9310 g_loss :0.03560534864664078\n"
          ]
        },
        {
          "output_type": "stream",
          "name": "stderr",
          "text": [
            "train:  61%|██████    | 1147/1875 [00:09<00:06, 118.19it/s]"
          ]
        },
        {
          "output_type": "stream",
          "name": "stdout",
          "text": [
            "Epoch [6/100] Step [10500/187500]  d_loss : 0.9749 g_loss :0.029750637710094452\n"
          ]
        },
        {
          "output_type": "stream",
          "name": "stderr",
          "text": [
            "train:  88%|████████▊ | 1646/1875 [00:14<00:01, 117.70it/s]"
          ]
        },
        {
          "output_type": "stream",
          "name": "stdout",
          "text": [
            "Epoch [6/100] Step [11000/187500]  d_loss : 0.9954 g_loss :0.2217968851327896\n"
          ]
        },
        {
          "output_type": "stream",
          "name": "stderr",
          "text": [
            "train:  14%|█▍        | 264/1875 [00:02<00:14, 110.28it/s]"
          ]
        },
        {
          "output_type": "stream",
          "name": "stdout",
          "text": [
            "Epoch [7/100] Step [11500/187500]  d_loss : 0.8290 g_loss :0.03791079297661781\n"
          ]
        },
        {
          "output_type": "stream",
          "name": "stderr",
          "text": [
            "train:  41%|████      | 771/1875 [00:06<00:09, 117.31it/s]"
          ]
        },
        {
          "output_type": "stream",
          "name": "stdout",
          "text": [
            "Epoch [7/100] Step [12000/187500]  d_loss : 0.9317 g_loss :0.03103051148355007\n"
          ]
        },
        {
          "output_type": "stream",
          "name": "stderr",
          "text": [
            "train:  68%|██████▊   | 1273/1875 [00:10<00:05, 117.28it/s]"
          ]
        },
        {
          "output_type": "stream",
          "name": "stdout",
          "text": [
            "Epoch [7/100] Step [12500/187500]  d_loss : 0.8559 g_loss :0.011686794459819794\n"
          ]
        },
        {
          "output_type": "stream",
          "name": "stderr",
          "text": [
            "train:  94%|█████████▍| 1766/1875 [00:15<00:00, 119.00it/s]"
          ]
        },
        {
          "output_type": "stream",
          "name": "stdout",
          "text": [
            "Epoch [7/100] Step [13000/187500]  d_loss : 0.8780 g_loss :0.011962560936808586\n"
          ]
        },
        {
          "output_type": "stream",
          "name": "stderr",
          "text": [
            "train:  21%|██        | 389/1875 [00:03<00:12, 114.76it/s]"
          ]
        },
        {
          "output_type": "stream",
          "name": "stdout",
          "text": [
            "Epoch [8/100] Step [13500/187500]  d_loss : 0.9175 g_loss :0.032975517213344574\n"
          ]
        },
        {
          "output_type": "stream",
          "name": "stderr",
          "text": [
            "train:  48%|████▊     | 893/1875 [00:07<00:08, 116.39it/s]"
          ]
        },
        {
          "output_type": "stream",
          "name": "stdout",
          "text": [
            "Epoch [8/100] Step [14000/187500]  d_loss : 0.7093 g_loss :0.0070524998009204865\n"
          ]
        },
        {
          "output_type": "stream",
          "name": "stderr",
          "text": [
            "train:  74%|███████▍  | 1390/1875 [00:12<00:04, 115.64it/s]"
          ]
        },
        {
          "output_type": "stream",
          "name": "stdout",
          "text": [
            "Epoch [8/100] Step [14500/187500]  d_loss : 0.9313 g_loss :0.212326318025589\n"
          ]
        },
        {
          "output_type": "stream",
          "name": "stderr",
          "text": [
            ""
          ]
        },
        {
          "output_type": "stream",
          "name": "stdout",
          "text": [
            "Epoch [8/100] Step [15000/187500]  d_loss : 0.7642 g_loss :0.036595217883586884\n"
          ]
        },
        {
          "output_type": "stream",
          "name": "stderr",
          "text": [
            "train:  28%|██▊       | 524/1875 [00:04<00:11, 117.60it/s]"
          ]
        },
        {
          "output_type": "stream",
          "name": "stdout",
          "text": [
            "Epoch [9/100] Step [15500/187500]  d_loss : 0.9601 g_loss :0.3186315894126892\n"
          ]
        },
        {
          "output_type": "stream",
          "name": "stderr",
          "text": [
            "train:  54%|█████▍    | 1012/1875 [00:08<00:07, 117.79it/s]"
          ]
        },
        {
          "output_type": "stream",
          "name": "stdout",
          "text": [
            "Epoch [9/100] Step [16000/187500]  d_loss : 0.7640 g_loss :0.027167007327079773\n"
          ]
        },
        {
          "output_type": "stream",
          "name": "stderr",
          "text": [
            "train:  81%|████████  | 1512/1875 [00:13<00:03, 116.41it/s]"
          ]
        },
        {
          "output_type": "stream",
          "name": "stdout",
          "text": [
            "Epoch [9/100] Step [16500/187500]  d_loss : 0.8708 g_loss :0.0707002729177475\n"
          ]
        },
        {
          "output_type": "stream",
          "name": "stderr",
          "text": [
            "train:   8%|▊         | 145/1875 [00:01<00:14, 115.39it/s]"
          ]
        },
        {
          "output_type": "stream",
          "name": "stdout",
          "text": [
            "Epoch [10/100] Step [17000/187500]  d_loss : 0.8601 g_loss :0.18916158378124237\n"
          ]
        },
        {
          "output_type": "stream",
          "name": "stderr",
          "text": [
            "train:  34%|███▍      | 639/1875 [00:05<00:10, 113.30it/s]"
          ]
        },
        {
          "output_type": "stream",
          "name": "stdout",
          "text": [
            "Epoch [10/100] Step [17500/187500]  d_loss : 0.8984 g_loss :0.12045247107744217\n"
          ]
        },
        {
          "output_type": "stream",
          "name": "stderr",
          "text": [
            "train:  61%|██████    | 1143/1875 [00:09<00:06, 115.15it/s]"
          ]
        },
        {
          "output_type": "stream",
          "name": "stdout",
          "text": [
            "Epoch [10/100] Step [18000/187500]  d_loss : 0.8966 g_loss :0.1374475359916687\n"
          ]
        },
        {
          "output_type": "stream",
          "name": "stderr",
          "text": [
            "train:  88%|████████▊ | 1645/1875 [00:14<00:02, 113.68it/s]"
          ]
        },
        {
          "output_type": "stream",
          "name": "stdout",
          "text": [
            "Epoch [10/100] Step [18500/187500]  d_loss : 0.9147 g_loss :0.12026562541723251\n"
          ]
        },
        {
          "output_type": "stream",
          "name": "stderr",
          "text": [
            "train:  14%|█▍        | 269/1875 [00:02<00:14, 113.75it/s]"
          ]
        },
        {
          "output_type": "stream",
          "name": "stdout",
          "text": [
            "Epoch [11/100] Step [19000/187500]  d_loss : 0.9377 g_loss :0.07979501783847809\n"
          ]
        },
        {
          "output_type": "stream",
          "name": "stderr",
          "text": [
            "train:  41%|████      | 771/1875 [00:06<00:09, 115.66it/s]"
          ]
        },
        {
          "output_type": "stream",
          "name": "stdout",
          "text": [
            "Epoch [11/100] Step [19500/187500]  d_loss : 0.8498 g_loss :0.07713153958320618\n"
          ]
        },
        {
          "output_type": "stream",
          "name": "stderr",
          "text": [
            "train:  68%|██████▊   | 1270/1875 [00:10<00:05, 117.55it/s]"
          ]
        },
        {
          "output_type": "stream",
          "name": "stdout",
          "text": [
            "Epoch [11/100] Step [20000/187500]  d_loss : 0.9496 g_loss :0.249093696475029\n"
          ]
        },
        {
          "output_type": "stream",
          "name": "stderr",
          "text": [
            "train:  95%|█████████▍| 1772/1875 [00:15<00:00, 117.24it/s]"
          ]
        },
        {
          "output_type": "stream",
          "name": "stdout",
          "text": [
            "Epoch [11/100] Step [20500/187500]  d_loss : 0.8714 g_loss :0.16967153549194336\n"
          ]
        },
        {
          "output_type": "stream",
          "name": "stderr",
          "text": [
            "train:  21%|██        | 390/1875 [00:03<00:12, 117.19it/s]"
          ]
        },
        {
          "output_type": "stream",
          "name": "stdout",
          "text": [
            "Epoch [12/100] Step [21000/187500]  d_loss : 0.9480 g_loss :0.1466446816921234\n"
          ]
        },
        {
          "output_type": "stream",
          "name": "stderr",
          "text": [
            "train:  48%|████▊     | 896/1875 [00:07<00:08, 115.53it/s]"
          ]
        },
        {
          "output_type": "stream",
          "name": "stdout",
          "text": [
            "Epoch [12/100] Step [21500/187500]  d_loss : 0.8706 g_loss :0.11330596357584\n"
          ]
        },
        {
          "output_type": "stream",
          "name": "stderr",
          "text": [
            "train:  74%|███████▍  | 1387/1875 [00:12<00:04, 114.64it/s]"
          ]
        },
        {
          "output_type": "stream",
          "name": "stdout",
          "text": [
            "Epoch [12/100] Step [22000/187500]  d_loss : 0.8784 g_loss :0.27883681654930115\n"
          ]
        },
        {
          "output_type": "stream",
          "name": "stderr",
          "text": [
            ""
          ]
        },
        {
          "output_type": "stream",
          "name": "stdout",
          "text": [
            "Epoch [12/100] Step [22500/187500]  d_loss : 0.8420 g_loss :0.2435043454170227\n"
          ]
        },
        {
          "output_type": "stream",
          "name": "stderr",
          "text": [
            "train:  28%|██▊       | 522/1875 [00:04<00:11, 116.83it/s]"
          ]
        },
        {
          "output_type": "stream",
          "name": "stdout",
          "text": [
            "Epoch [13/100] Step [23000/187500]  d_loss : 0.7613 g_loss :0.08028024435043335\n"
          ]
        },
        {
          "output_type": "stream",
          "name": "stderr",
          "text": [
            "train:  54%|█████▍    | 1021/1875 [00:08<00:07, 112.49it/s]"
          ]
        },
        {
          "output_type": "stream",
          "name": "stdout",
          "text": [
            "Epoch [13/100] Step [23500/187500]  d_loss : 0.7394 g_loss :0.06314431875944138\n"
          ]
        },
        {
          "output_type": "stream",
          "name": "stderr",
          "text": [
            "train:  81%|████████  | 1521/1875 [00:13<00:03, 112.44it/s]"
          ]
        },
        {
          "output_type": "stream",
          "name": "stdout",
          "text": [
            "Epoch [13/100] Step [24000/187500]  d_loss : 0.8036 g_loss :0.09531610459089279\n"
          ]
        },
        {
          "output_type": "stream",
          "name": "stderr",
          "text": [
            "train:   8%|▊         | 145/1875 [00:01<00:14, 116.06it/s]"
          ]
        },
        {
          "output_type": "stream",
          "name": "stdout",
          "text": [
            "Epoch [14/100] Step [24500/187500]  d_loss : 0.8979 g_loss :0.09619886428117752\n"
          ]
        },
        {
          "output_type": "stream",
          "name": "stderr",
          "text": [
            "train:  34%|███▍      | 640/1875 [00:05<00:10, 112.32it/s]"
          ]
        },
        {
          "output_type": "stream",
          "name": "stdout",
          "text": [
            "Epoch [14/100] Step [25000/187500]  d_loss : 0.9226 g_loss :0.27888455986976624\n"
          ]
        },
        {
          "output_type": "stream",
          "name": "stderr",
          "text": [
            "train:  61%|██████    | 1137/1875 [00:09<00:06, 116.90it/s]"
          ]
        },
        {
          "output_type": "stream",
          "name": "stdout",
          "text": [
            "Epoch [14/100] Step [25500/187500]  d_loss : 0.9343 g_loss :0.22817817330360413\n"
          ]
        },
        {
          "output_type": "stream",
          "name": "stderr",
          "text": [
            "train:  88%|████████▊ | 1647/1875 [00:14<00:01, 117.42it/s]"
          ]
        },
        {
          "output_type": "stream",
          "name": "stdout",
          "text": [
            "Epoch [14/100] Step [26000/187500]  d_loss : 0.7878 g_loss :0.09173008054494858\n"
          ]
        },
        {
          "output_type": "stream",
          "name": "stderr",
          "text": [
            "train:  14%|█▍        | 268/1875 [00:02<00:13, 116.94it/s]"
          ]
        },
        {
          "output_type": "stream",
          "name": "stdout",
          "text": [
            "Epoch [15/100] Step [26500/187500]  d_loss : 0.7424 g_loss :0.0962287038564682\n"
          ]
        },
        {
          "output_type": "stream",
          "name": "stderr",
          "text": [
            "train:  41%|████      | 765/1875 [00:06<00:09, 116.07it/s]"
          ]
        },
        {
          "output_type": "stream",
          "name": "stdout",
          "text": [
            "Epoch [15/100] Step [27000/187500]  d_loss : 0.7207 g_loss :0.09878624230623245\n"
          ]
        },
        {
          "output_type": "stream",
          "name": "stderr",
          "text": [
            "train:  67%|██████▋   | 1263/1875 [00:10<00:05, 117.13it/s]"
          ]
        },
        {
          "output_type": "stream",
          "name": "stdout",
          "text": [
            "Epoch [15/100] Step [27500/187500]  d_loss : 0.8754 g_loss :0.1837802231311798\n"
          ]
        },
        {
          "output_type": "stream",
          "name": "stderr",
          "text": [
            "train:  94%|█████████▍| 1766/1875 [00:15<00:00, 118.23it/s]"
          ]
        },
        {
          "output_type": "stream",
          "name": "stdout",
          "text": [
            "Epoch [15/100] Step [28000/187500]  d_loss : 0.7878 g_loss :0.19445301592350006\n"
          ]
        },
        {
          "output_type": "stream",
          "name": "stderr",
          "text": [
            "train:  21%|██        | 388/1875 [00:03<00:12, 116.53it/s]"
          ]
        },
        {
          "output_type": "stream",
          "name": "stdout",
          "text": [
            "Epoch [16/100] Step [28500/187500]  d_loss : 0.8148 g_loss :0.10736406594514847\n"
          ]
        },
        {
          "output_type": "stream",
          "name": "stderr",
          "text": [
            "train:  47%|████▋     | 887/1875 [00:07<00:08, 115.98it/s]"
          ]
        },
        {
          "output_type": "stream",
          "name": "stdout",
          "text": [
            "Epoch [16/100] Step [29000/187500]  d_loss : 0.7695 g_loss :0.11470910906791687\n"
          ]
        },
        {
          "output_type": "stream",
          "name": "stderr",
          "text": [
            "train:  74%|███████▍  | 1388/1875 [00:11<00:04, 113.99it/s]"
          ]
        },
        {
          "output_type": "stream",
          "name": "stdout",
          "text": [
            "Epoch [16/100] Step [29500/187500]  d_loss : 0.6973 g_loss :0.15200380980968475\n"
          ]
        },
        {
          "output_type": "stream",
          "name": "stderr",
          "text": [
            ""
          ]
        },
        {
          "output_type": "stream",
          "name": "stdout",
          "text": [
            "Epoch [16/100] Step [30000/187500]  d_loss : 0.8004 g_loss :0.20439685881137848\n"
          ]
        },
        {
          "output_type": "stream",
          "name": "stderr",
          "text": [
            "train:  28%|██▊       | 519/1875 [00:04<00:12, 110.28it/s]"
          ]
        },
        {
          "output_type": "stream",
          "name": "stdout",
          "text": [
            "Epoch [17/100] Step [30500/187500]  d_loss : 0.7878 g_loss :0.12418152391910553\n"
          ]
        },
        {
          "output_type": "stream",
          "name": "stderr",
          "text": [
            "train:  54%|█████▍    | 1014/1875 [00:08<00:07, 112.83it/s]"
          ]
        },
        {
          "output_type": "stream",
          "name": "stdout",
          "text": [
            "Epoch [17/100] Step [31000/187500]  d_loss : 0.8278 g_loss :0.09904426336288452\n"
          ]
        },
        {
          "output_type": "stream",
          "name": "stderr",
          "text": [
            "train:  81%|████████  | 1519/1875 [00:13<00:03, 111.08it/s]"
          ]
        },
        {
          "output_type": "stream",
          "name": "stdout",
          "text": [
            "Epoch [17/100] Step [31500/187500]  d_loss : 0.7661 g_loss :0.12210957705974579\n"
          ]
        },
        {
          "output_type": "stream",
          "name": "stderr",
          "text": [
            "train:   8%|▊         | 144/1875 [00:01<00:15, 114.84it/s]"
          ]
        },
        {
          "output_type": "stream",
          "name": "stdout",
          "text": [
            "Epoch [18/100] Step [32000/187500]  d_loss : 0.7687 g_loss :0.11747260391712189\n"
          ]
        },
        {
          "output_type": "stream",
          "name": "stderr",
          "text": [
            "train:  34%|███▍      | 643/1875 [00:05<00:10, 115.24it/s]"
          ]
        },
        {
          "output_type": "stream",
          "name": "stdout",
          "text": [
            "Epoch [18/100] Step [32500/187500]  d_loss : 0.8293 g_loss :0.16669458150863647\n"
          ]
        },
        {
          "output_type": "stream",
          "name": "stderr",
          "text": [
            "train:  61%|██████    | 1144/1875 [00:09<00:06, 114.82it/s]"
          ]
        },
        {
          "output_type": "stream",
          "name": "stdout",
          "text": [
            "Epoch [18/100] Step [33000/187500]  d_loss : 0.7956 g_loss :0.16451311111450195\n"
          ]
        },
        {
          "output_type": "stream",
          "name": "stderr",
          "text": [
            "train:  88%|████████▊ | 1646/1875 [00:14<00:01, 116.22it/s]"
          ]
        },
        {
          "output_type": "stream",
          "name": "stdout",
          "text": [
            "Epoch [18/100] Step [33500/187500]  d_loss : 0.7577 g_loss :0.21718814969062805\n"
          ]
        },
        {
          "output_type": "stream",
          "name": "stderr",
          "text": [
            "train:  15%|█▍        | 272/1875 [00:02<00:13, 115.63it/s]"
          ]
        },
        {
          "output_type": "stream",
          "name": "stdout",
          "text": [
            "Epoch [19/100] Step [34000/187500]  d_loss : 0.7760 g_loss :0.15137998759746552\n"
          ]
        },
        {
          "output_type": "stream",
          "name": "stderr",
          "text": [
            "train:  41%|████      | 764/1875 [00:06<00:09, 115.47it/s]"
          ]
        },
        {
          "output_type": "stream",
          "name": "stdout",
          "text": [
            "Epoch [19/100] Step [34500/187500]  d_loss : 0.8671 g_loss :0.4261646568775177\n"
          ]
        },
        {
          "output_type": "stream",
          "name": "stderr",
          "text": [
            "train:  68%|██████▊   | 1267/1875 [00:10<00:05, 117.28it/s]"
          ]
        },
        {
          "output_type": "stream",
          "name": "stdout",
          "text": [
            "Epoch [19/100] Step [35000/187500]  d_loss : 0.7618 g_loss :0.12232355028390884\n"
          ]
        },
        {
          "output_type": "stream",
          "name": "stderr",
          "text": [
            "train:  94%|█████████▍| 1771/1875 [00:15<00:00, 115.31it/s]"
          ]
        },
        {
          "output_type": "stream",
          "name": "stdout",
          "text": [
            "Epoch [19/100] Step [35500/187500]  d_loss : 0.7371 g_loss :0.19107899069786072\n"
          ]
        },
        {
          "output_type": "stream",
          "name": "stderr",
          "text": [
            "train:  21%|██        | 388/1875 [00:03<00:12, 115.37it/s]"
          ]
        },
        {
          "output_type": "stream",
          "name": "stdout",
          "text": [
            "Epoch [20/100] Step [36000/187500]  d_loss : 0.7849 g_loss :0.2013358771800995\n"
          ]
        },
        {
          "output_type": "stream",
          "name": "stderr",
          "text": [
            "train:  48%|████▊     | 897/1875 [00:07<00:08, 111.48it/s]"
          ]
        },
        {
          "output_type": "stream",
          "name": "stdout",
          "text": [
            "Epoch [20/100] Step [36500/187500]  d_loss : 0.8413 g_loss :0.25338929891586304\n"
          ]
        },
        {
          "output_type": "stream",
          "name": "stderr",
          "text": [
            "train:  74%|███████▍  | 1394/1875 [00:12<00:04, 116.24it/s]"
          ]
        },
        {
          "output_type": "stream",
          "name": "stdout",
          "text": [
            "Epoch [20/100] Step [37000/187500]  d_loss : 0.7856 g_loss :0.3352756202220917\n"
          ]
        },
        {
          "output_type": "stream",
          "name": "stderr",
          "text": [
            ""
          ]
        },
        {
          "output_type": "stream",
          "name": "stdout",
          "text": [
            "Epoch [20/100] Step [37500/187500]  d_loss : 0.8698 g_loss :0.22726136445999146\n"
          ]
        },
        {
          "output_type": "stream",
          "name": "stderr",
          "text": [
            "train:  27%|██▋       | 514/1875 [00:04<00:11, 114.70it/s]"
          ]
        },
        {
          "output_type": "stream",
          "name": "stdout",
          "text": [
            "Epoch [21/100] Step [38000/187500]  d_loss : 0.7585 g_loss :0.19901038706302643\n"
          ]
        },
        {
          "output_type": "stream",
          "name": "stderr",
          "text": [
            "train:  55%|█████▍    | 1022/1875 [00:08<00:07, 115.39it/s]"
          ]
        },
        {
          "output_type": "stream",
          "name": "stdout",
          "text": [
            "Epoch [21/100] Step [38500/187500]  d_loss : 0.8137 g_loss :0.1206587478518486\n"
          ]
        },
        {
          "output_type": "stream",
          "name": "stderr",
          "text": [
            "train:  81%|████████  | 1521/1875 [00:13<00:03, 116.77it/s]"
          ]
        },
        {
          "output_type": "stream",
          "name": "stdout",
          "text": [
            "Epoch [21/100] Step [39000/187500]  d_loss : 0.8895 g_loss :0.11928735673427582\n"
          ]
        },
        {
          "output_type": "stream",
          "name": "stderr",
          "text": [
            "train:   8%|▊         | 147/1875 [00:01<00:14, 117.09it/s]"
          ]
        },
        {
          "output_type": "stream",
          "name": "stdout",
          "text": [
            "Epoch [22/100] Step [39500/187500]  d_loss : 0.9578 g_loss :0.1958838403224945\n"
          ]
        },
        {
          "output_type": "stream",
          "name": "stderr",
          "text": [
            "train:  34%|███▍      | 637/1875 [00:05<00:10, 117.69it/s]"
          ]
        },
        {
          "output_type": "stream",
          "name": "stdout",
          "text": [
            "Epoch [22/100] Step [40000/187500]  d_loss : 0.8083 g_loss :0.06082172319293022\n"
          ]
        },
        {
          "output_type": "stream",
          "name": "stderr",
          "text": [
            "train:  61%|██████    | 1138/1875 [00:09<00:06, 114.02it/s]"
          ]
        },
        {
          "output_type": "stream",
          "name": "stdout",
          "text": [
            "Epoch [22/100] Step [40500/187500]  d_loss : 0.9034 g_loss :0.16353189945220947\n"
          ]
        },
        {
          "output_type": "stream",
          "name": "stderr",
          "text": [
            "train:  88%|████████▊ | 1647/1875 [00:14<00:01, 115.22it/s]"
          ]
        },
        {
          "output_type": "stream",
          "name": "stdout",
          "text": [
            "Epoch [22/100] Step [41000/187500]  d_loss : 0.7532 g_loss :0.13112926483154297\n"
          ]
        },
        {
          "output_type": "stream",
          "name": "stderr",
          "text": [
            "train:  14%|█▍        | 268/1875 [00:02<00:13, 116.06it/s]"
          ]
        },
        {
          "output_type": "stream",
          "name": "stdout",
          "text": [
            "Epoch [23/100] Step [41500/187500]  d_loss : 0.7012 g_loss :0.1611705869436264\n"
          ]
        },
        {
          "output_type": "stream",
          "name": "stderr",
          "text": [
            "train:  41%|████      | 764/1875 [00:06<00:09, 113.50it/s]"
          ]
        },
        {
          "output_type": "stream",
          "name": "stdout",
          "text": [
            "Epoch [23/100] Step [42000/187500]  d_loss : 0.7155 g_loss :0.1634225845336914\n"
          ]
        },
        {
          "output_type": "stream",
          "name": "stderr",
          "text": [
            "train:  67%|██████▋   | 1264/1875 [00:10<00:05, 114.29it/s]"
          ]
        },
        {
          "output_type": "stream",
          "name": "stdout",
          "text": [
            "Epoch [23/100] Step [42500/187500]  d_loss : 0.7697 g_loss :0.2895497679710388\n"
          ]
        },
        {
          "output_type": "stream",
          "name": "stderr",
          "text": [
            "train:  94%|█████████▍| 1765/1875 [00:15<00:00, 115.94it/s]"
          ]
        },
        {
          "output_type": "stream",
          "name": "stdout",
          "text": [
            "Epoch [23/100] Step [43000/187500]  d_loss : 0.8051 g_loss :0.24220982193946838\n"
          ]
        },
        {
          "output_type": "stream",
          "name": "stderr",
          "text": [
            "train:  21%|██        | 396/1875 [00:03<00:12, 118.14it/s]"
          ]
        },
        {
          "output_type": "stream",
          "name": "stdout",
          "text": [
            "Epoch [24/100] Step [43500/187500]  d_loss : 0.7029 g_loss :0.27310872077941895\n"
          ]
        },
        {
          "output_type": "stream",
          "name": "stderr",
          "text": [
            "train:  48%|████▊     | 895/1875 [00:07<00:08, 117.47it/s]"
          ]
        },
        {
          "output_type": "stream",
          "name": "stdout",
          "text": [
            "Epoch [24/100] Step [44000/187500]  d_loss : 0.7118 g_loss :0.1777326762676239\n"
          ]
        },
        {
          "output_type": "stream",
          "name": "stderr",
          "text": [
            "train:  74%|███████▍  | 1395/1875 [00:12<00:04, 112.84it/s]"
          ]
        },
        {
          "output_type": "stream",
          "name": "stdout",
          "text": [
            "Epoch [24/100] Step [44500/187500]  d_loss : 0.6961 g_loss :0.33901360630989075\n"
          ]
        },
        {
          "output_type": "stream",
          "name": "stderr",
          "text": [
            ""
          ]
        },
        {
          "output_type": "stream",
          "name": "stdout",
          "text": [
            "Epoch [24/100] Step [45000/187500]  d_loss : 0.8102 g_loss :0.2164728343486786\n"
          ]
        },
        {
          "output_type": "stream",
          "name": "stderr",
          "text": [
            "train:  28%|██▊       | 518/1875 [00:04<00:11, 117.34it/s]"
          ]
        },
        {
          "output_type": "stream",
          "name": "stdout",
          "text": [
            "Epoch [25/100] Step [45500/187500]  d_loss : 0.7415 g_loss :0.4128837287425995\n"
          ]
        },
        {
          "output_type": "stream",
          "name": "stderr",
          "text": [
            "train:  54%|█████▍    | 1015/1875 [00:08<00:07, 112.44it/s]"
          ]
        },
        {
          "output_type": "stream",
          "name": "stdout",
          "text": [
            "Epoch [25/100] Step [46000/187500]  d_loss : 0.7526 g_loss :0.24088673293590546\n"
          ]
        },
        {
          "output_type": "stream",
          "name": "stderr",
          "text": [
            "train:  81%|████████  | 1513/1875 [00:13<00:03, 115.09it/s]"
          ]
        },
        {
          "output_type": "stream",
          "name": "stdout",
          "text": [
            "Epoch [25/100] Step [46500/187500]  d_loss : 0.8761 g_loss :0.2936440706253052\n"
          ]
        },
        {
          "output_type": "stream",
          "name": "stderr",
          "text": [
            "train:   8%|▊         | 145/1875 [00:01<00:15, 114.97it/s]"
          ]
        },
        {
          "output_type": "stream",
          "name": "stdout",
          "text": [
            "Epoch [26/100] Step [47000/187500]  d_loss : 0.5748 g_loss :0.22930142283439636\n"
          ]
        },
        {
          "output_type": "stream",
          "name": "stderr",
          "text": [
            "train:  34%|███▍      | 644/1875 [00:05<00:10, 115.72it/s]"
          ]
        },
        {
          "output_type": "stream",
          "name": "stdout",
          "text": [
            "Epoch [26/100] Step [47500/187500]  d_loss : 0.9233 g_loss :0.3402649760246277\n"
          ]
        },
        {
          "output_type": "stream",
          "name": "stderr",
          "text": [
            "train:  61%|██████    | 1144/1875 [00:09<00:06, 112.69it/s]"
          ]
        },
        {
          "output_type": "stream",
          "name": "stdout",
          "text": [
            "Epoch [26/100] Step [48000/187500]  d_loss : 0.7150 g_loss :0.10821107029914856\n"
          ]
        },
        {
          "output_type": "stream",
          "name": "stderr",
          "text": [
            "train:  88%|████████▊ | 1645/1875 [00:14<00:02, 114.48it/s]"
          ]
        },
        {
          "output_type": "stream",
          "name": "stdout",
          "text": [
            "Epoch [26/100] Step [48500/187500]  d_loss : 0.9077 g_loss :0.37670427560806274\n"
          ]
        },
        {
          "output_type": "stream",
          "name": "stderr",
          "text": [
            "train:  14%|█▍        | 268/1875 [00:02<00:13, 117.24it/s]"
          ]
        },
        {
          "output_type": "stream",
          "name": "stdout",
          "text": [
            "Epoch [27/100] Step [49000/187500]  d_loss : 0.8328 g_loss :0.2263692021369934\n"
          ]
        },
        {
          "output_type": "stream",
          "name": "stderr",
          "text": [
            "train:  41%|████      | 766/1875 [00:06<00:09, 111.28it/s]"
          ]
        },
        {
          "output_type": "stream",
          "name": "stdout",
          "text": [
            "Epoch [27/100] Step [49500/187500]  d_loss : 0.7398 g_loss :0.22365695238113403\n"
          ]
        },
        {
          "output_type": "stream",
          "name": "stderr",
          "text": [
            "train:  68%|██████▊   | 1268/1875 [00:10<00:05, 118.38it/s]"
          ]
        },
        {
          "output_type": "stream",
          "name": "stdout",
          "text": [
            "Epoch [27/100] Step [50000/187500]  d_loss : 0.8480 g_loss :0.3232983648777008\n"
          ]
        },
        {
          "output_type": "stream",
          "name": "stderr",
          "text": [
            "train:  94%|█████████▍| 1767/1875 [00:15<00:00, 116.72it/s]"
          ]
        },
        {
          "output_type": "stream",
          "name": "stdout",
          "text": [
            "Epoch [27/100] Step [50500/187500]  d_loss : 0.8196 g_loss :0.19801658391952515\n"
          ]
        },
        {
          "output_type": "stream",
          "name": "stderr",
          "text": [
            "train:  21%|██        | 389/1875 [00:03<00:12, 115.92it/s]"
          ]
        },
        {
          "output_type": "stream",
          "name": "stdout",
          "text": [
            "Epoch [28/100] Step [51000/187500]  d_loss : 0.7665 g_loss :0.29929405450820923\n"
          ]
        },
        {
          "output_type": "stream",
          "name": "stderr",
          "text": [
            "train:  48%|████▊     | 897/1875 [00:07<00:08, 116.63it/s]"
          ]
        },
        {
          "output_type": "stream",
          "name": "stdout",
          "text": [
            "Epoch [28/100] Step [51500/187500]  d_loss : 0.6811 g_loss :0.2233867049217224\n"
          ]
        },
        {
          "output_type": "stream",
          "name": "stderr",
          "text": [
            "train:  74%|███████▍  | 1392/1875 [00:12<00:04, 115.30it/s]"
          ]
        },
        {
          "output_type": "stream",
          "name": "stdout",
          "text": [
            "Epoch [28/100] Step [52000/187500]  d_loss : 0.7799 g_loss :0.512602686882019\n"
          ]
        },
        {
          "output_type": "stream",
          "name": "stderr",
          "text": [
            ""
          ]
        },
        {
          "output_type": "stream",
          "name": "stdout",
          "text": [
            "Epoch [28/100] Step [52500/187500]  d_loss : 0.8430 g_loss :0.30434542894363403\n"
          ]
        },
        {
          "output_type": "stream",
          "name": "stderr",
          "text": [
            "train:  28%|██▊       | 521/1875 [00:04<00:11, 115.65it/s]"
          ]
        },
        {
          "output_type": "stream",
          "name": "stdout",
          "text": [
            "Epoch [29/100] Step [53000/187500]  d_loss : 0.7953 g_loss :0.3954259157180786\n"
          ]
        },
        {
          "output_type": "stream",
          "name": "stderr",
          "text": [
            "train:  54%|█████▍    | 1013/1875 [00:08<00:07, 114.82it/s]"
          ]
        },
        {
          "output_type": "stream",
          "name": "stdout",
          "text": [
            "Epoch [29/100] Step [53500/187500]  d_loss : 0.6669 g_loss :0.25573813915252686\n"
          ]
        },
        {
          "output_type": "stream",
          "name": "stderr",
          "text": [
            "train:  81%|████████  | 1517/1875 [00:13<00:03, 114.60it/s]"
          ]
        },
        {
          "output_type": "stream",
          "name": "stdout",
          "text": [
            "Epoch [29/100] Step [54000/187500]  d_loss : 0.8139 g_loss :0.373728483915329\n"
          ]
        },
        {
          "output_type": "stream",
          "name": "stderr",
          "text": [
            "train:   8%|▊         | 144/1875 [00:01<00:15, 114.22it/s]"
          ]
        },
        {
          "output_type": "stream",
          "name": "stdout",
          "text": [
            "Epoch [30/100] Step [54500/187500]  d_loss : 0.8084 g_loss :0.2971153259277344\n"
          ]
        },
        {
          "output_type": "stream",
          "name": "stderr",
          "text": [
            "train:  34%|███▍      | 640/1875 [00:05<00:10, 118.04it/s]"
          ]
        },
        {
          "output_type": "stream",
          "name": "stdout",
          "text": [
            "Epoch [30/100] Step [55000/187500]  d_loss : 0.7676 g_loss :0.2223283052444458\n"
          ]
        },
        {
          "output_type": "stream",
          "name": "stderr",
          "text": [
            "train:  61%|██████    | 1141/1875 [00:09<00:06, 115.63it/s]"
          ]
        },
        {
          "output_type": "stream",
          "name": "stdout",
          "text": [
            "Epoch [30/100] Step [55500/187500]  d_loss : 0.7384 g_loss :0.20712614059448242\n"
          ]
        },
        {
          "output_type": "stream",
          "name": "stderr",
          "text": [
            "train:  88%|████████▊ | 1647/1875 [00:14<00:01, 115.49it/s]"
          ]
        },
        {
          "output_type": "stream",
          "name": "stdout",
          "text": [
            "Epoch [30/100] Step [56000/187500]  d_loss : 0.7566 g_loss :0.28961843252182007\n"
          ]
        },
        {
          "output_type": "stream",
          "name": "stderr",
          "text": [
            "train:  14%|█▍        | 267/1875 [00:02<00:13, 116.01it/s]"
          ]
        },
        {
          "output_type": "stream",
          "name": "stdout",
          "text": [
            "Epoch [31/100] Step [56500/187500]  d_loss : 0.7169 g_loss :0.31843996047973633\n"
          ]
        },
        {
          "output_type": "stream",
          "name": "stderr",
          "text": [
            "train:  41%|████      | 769/1875 [00:06<00:09, 114.03it/s]"
          ]
        },
        {
          "output_type": "stream",
          "name": "stdout",
          "text": [
            "Epoch [31/100] Step [57000/187500]  d_loss : 0.7256 g_loss :0.33655840158462524\n"
          ]
        },
        {
          "output_type": "stream",
          "name": "stderr",
          "text": [
            "train:  68%|██████▊   | 1272/1875 [00:10<00:05, 117.90it/s]"
          ]
        },
        {
          "output_type": "stream",
          "name": "stdout",
          "text": [
            "Epoch [31/100] Step [57500/187500]  d_loss : 0.7675 g_loss :0.2924198508262634\n"
          ]
        },
        {
          "output_type": "stream",
          "name": "stderr",
          "text": [
            "train:  94%|█████████▍| 1768/1875 [00:15<00:00, 115.42it/s]"
          ]
        },
        {
          "output_type": "stream",
          "name": "stdout",
          "text": [
            "Epoch [31/100] Step [58000/187500]  d_loss : 0.6429 g_loss :0.2581232488155365\n"
          ]
        },
        {
          "output_type": "stream",
          "name": "stderr",
          "text": [
            "train:  21%|██        | 387/1875 [00:03<00:12, 116.31it/s]"
          ]
        },
        {
          "output_type": "stream",
          "name": "stdout",
          "text": [
            "Epoch [32/100] Step [58500/187500]  d_loss : 0.8295 g_loss :0.24121373891830444\n"
          ]
        },
        {
          "output_type": "stream",
          "name": "stderr",
          "text": [
            "train:  48%|████▊     | 894/1875 [00:07<00:08, 117.00it/s]"
          ]
        },
        {
          "output_type": "stream",
          "name": "stdout",
          "text": [
            "Epoch [32/100] Step [59000/187500]  d_loss : 0.8213 g_loss :0.2593010365962982\n"
          ]
        },
        {
          "output_type": "stream",
          "name": "stderr",
          "text": [
            "train:  75%|███████▍  | 1397/1875 [00:12<00:04, 113.05it/s]"
          ]
        },
        {
          "output_type": "stream",
          "name": "stdout",
          "text": [
            "Epoch [32/100] Step [59500/187500]  d_loss : 0.6415 g_loss :0.13175994157791138\n"
          ]
        },
        {
          "output_type": "stream",
          "name": "stderr",
          "text": [
            ""
          ]
        },
        {
          "output_type": "stream",
          "name": "stdout",
          "text": [
            "Epoch [32/100] Step [60000/187500]  d_loss : 0.7466 g_loss :0.265657901763916\n"
          ]
        },
        {
          "output_type": "stream",
          "name": "stderr",
          "text": [
            "train:  28%|██▊       | 517/1875 [00:04<00:11, 114.63it/s]"
          ]
        },
        {
          "output_type": "stream",
          "name": "stdout",
          "text": [
            "Epoch [33/100] Step [60500/187500]  d_loss : 0.7150 g_loss :0.3347335159778595\n"
          ]
        },
        {
          "output_type": "stream",
          "name": "stderr",
          "text": [
            "train:  55%|█████▍    | 1022/1875 [00:08<00:07, 117.16it/s]"
          ]
        },
        {
          "output_type": "stream",
          "name": "stdout",
          "text": [
            "Epoch [33/100] Step [61000/187500]  d_loss : 0.8499 g_loss :0.3390215337276459\n"
          ]
        },
        {
          "output_type": "stream",
          "name": "stderr",
          "text": [
            "train:  81%|████████  | 1517/1875 [00:13<00:03, 114.09it/s]"
          ]
        },
        {
          "output_type": "stream",
          "name": "stdout",
          "text": [
            "Epoch [33/100] Step [61500/187500]  d_loss : 0.7802 g_loss :0.31020307540893555\n"
          ]
        },
        {
          "output_type": "stream",
          "name": "stderr",
          "text": [
            "train:   8%|▊         | 143/1875 [00:01<00:14, 116.07it/s]"
          ]
        },
        {
          "output_type": "stream",
          "name": "stdout",
          "text": [
            "Epoch [34/100] Step [62000/187500]  d_loss : 0.6866 g_loss :0.3787396550178528\n"
          ]
        },
        {
          "output_type": "stream",
          "name": "stderr",
          "text": [
            "train:  34%|███▍      | 645/1875 [00:05<00:10, 115.44it/s]"
          ]
        },
        {
          "output_type": "stream",
          "name": "stdout",
          "text": [
            "Epoch [34/100] Step [62500/187500]  d_loss : 0.7086 g_loss :0.30148011445999146\n"
          ]
        },
        {
          "output_type": "stream",
          "name": "stderr",
          "text": [
            "train:  61%|██████    | 1137/1875 [00:10<00:06, 113.07it/s]"
          ]
        },
        {
          "output_type": "stream",
          "name": "stdout",
          "text": [
            "Epoch [34/100] Step [63000/187500]  d_loss : 0.6457 g_loss :0.27833831310272217\n"
          ]
        },
        {
          "output_type": "stream",
          "name": "stderr",
          "text": [
            "train:  87%|████████▋ | 1639/1875 [00:14<00:02, 115.16it/s]"
          ]
        },
        {
          "output_type": "stream",
          "name": "stdout",
          "text": [
            "Epoch [34/100] Step [63500/187500]  d_loss : 0.7954 g_loss :0.3613910675048828\n"
          ]
        },
        {
          "output_type": "stream",
          "name": "stderr",
          "text": [
            "train:  14%|█▍        | 264/1875 [00:02<00:14, 114.27it/s]"
          ]
        },
        {
          "output_type": "stream",
          "name": "stdout",
          "text": [
            "Epoch [35/100] Step [64000/187500]  d_loss : 0.6259 g_loss :0.23388874530792236\n"
          ]
        },
        {
          "output_type": "stream",
          "name": "stderr",
          "text": [
            "train:  41%|████      | 771/1875 [00:06<00:09, 114.55it/s]"
          ]
        },
        {
          "output_type": "stream",
          "name": "stdout",
          "text": [
            "Epoch [35/100] Step [64500/187500]  d_loss : 0.8370 g_loss :0.30526548624038696\n"
          ]
        },
        {
          "output_type": "stream",
          "name": "stderr",
          "text": [
            "train:  68%|██████▊   | 1269/1875 [00:11<00:05, 116.82it/s]"
          ]
        },
        {
          "output_type": "stream",
          "name": "stdout",
          "text": [
            "Epoch [35/100] Step [65000/187500]  d_loss : 0.7719 g_loss :0.3384895324707031\n"
          ]
        },
        {
          "output_type": "stream",
          "name": "stderr",
          "text": [
            "train:  94%|█████████▍| 1763/1875 [00:15<00:00, 115.28it/s]"
          ]
        },
        {
          "output_type": "stream",
          "name": "stdout",
          "text": [
            "Epoch [35/100] Step [65500/187500]  d_loss : 0.7163 g_loss :0.3951663374900818\n"
          ]
        },
        {
          "output_type": "stream",
          "name": "stderr",
          "text": [
            "train:  21%|██        | 398/1875 [00:03<00:12, 116.30it/s]"
          ]
        },
        {
          "output_type": "stream",
          "name": "stdout",
          "text": [
            "Epoch [36/100] Step [66000/187500]  d_loss : 0.8026 g_loss :0.2559998333454132\n"
          ]
        },
        {
          "output_type": "stream",
          "name": "stderr",
          "text": [
            "train:  48%|████▊     | 895/1875 [00:07<00:08, 114.49it/s]"
          ]
        },
        {
          "output_type": "stream",
          "name": "stdout",
          "text": [
            "Epoch [36/100] Step [66500/187500]  d_loss : 0.7146 g_loss :0.3488966226577759\n"
          ]
        },
        {
          "output_type": "stream",
          "name": "stderr",
          "text": [
            "train:  74%|███████▍  | 1390/1875 [00:12<00:04, 107.54it/s]"
          ]
        },
        {
          "output_type": "stream",
          "name": "stdout",
          "text": [
            "Epoch [36/100] Step [67000/187500]  d_loss : 0.7574 g_loss :0.21086180210113525\n"
          ]
        },
        {
          "output_type": "stream",
          "name": "stderr",
          "text": [
            ""
          ]
        },
        {
          "output_type": "stream",
          "name": "stdout",
          "text": [
            "Epoch [36/100] Step [67500/187500]  d_loss : 0.7219 g_loss :0.30259716510772705\n"
          ]
        },
        {
          "output_type": "stream",
          "name": "stderr",
          "text": [
            "train:  27%|██▋       | 513/1875 [00:04<00:12, 113.02it/s]"
          ]
        },
        {
          "output_type": "stream",
          "name": "stdout",
          "text": [
            "Epoch [37/100] Step [68000/187500]  d_loss : 0.7232 g_loss :0.21025685966014862\n"
          ]
        },
        {
          "output_type": "stream",
          "name": "stderr",
          "text": [
            "train:  54%|█████▍    | 1019/1875 [00:08<00:07, 116.06it/s]"
          ]
        },
        {
          "output_type": "stream",
          "name": "stdout",
          "text": [
            "Epoch [37/100] Step [68500/187500]  d_loss : 0.8030 g_loss :0.3864293694496155\n"
          ]
        },
        {
          "output_type": "stream",
          "name": "stderr",
          "text": [
            "train:  81%|████████  | 1514/1875 [00:13<00:03, 116.64it/s]"
          ]
        },
        {
          "output_type": "stream",
          "name": "stdout",
          "text": [
            "Epoch [37/100] Step [69000/187500]  d_loss : 0.7919 g_loss :0.33910655975341797\n"
          ]
        },
        {
          "output_type": "stream",
          "name": "stderr",
          "text": [
            "train:   8%|▊         | 144/1875 [00:01<00:14, 116.24it/s]"
          ]
        },
        {
          "output_type": "stream",
          "name": "stdout",
          "text": [
            "Epoch [38/100] Step [69500/187500]  d_loss : 0.7156 g_loss :0.23102283477783203\n"
          ]
        },
        {
          "output_type": "stream",
          "name": "stderr",
          "text": [
            "train:  34%|███▍      | 637/1875 [00:05<00:10, 114.54it/s]"
          ]
        },
        {
          "output_type": "stream",
          "name": "stdout",
          "text": [
            "Epoch [38/100] Step [70000/187500]  d_loss : 0.6769 g_loss :0.2167477160692215\n"
          ]
        },
        {
          "output_type": "stream",
          "name": "stderr",
          "text": [
            "train:  61%|██████    | 1142/1875 [00:09<00:06, 111.38it/s]"
          ]
        },
        {
          "output_type": "stream",
          "name": "stdout",
          "text": [
            "Epoch [38/100] Step [70500/187500]  d_loss : 0.6666 g_loss :0.30258405208587646\n"
          ]
        },
        {
          "output_type": "stream",
          "name": "stderr",
          "text": [
            "train:  88%|████████▊ | 1646/1875 [00:14<00:02, 114.42it/s]"
          ]
        },
        {
          "output_type": "stream",
          "name": "stdout",
          "text": [
            "Epoch [38/100] Step [71000/187500]  d_loss : 0.6476 g_loss :0.19073453545570374\n"
          ]
        },
        {
          "output_type": "stream",
          "name": "stderr",
          "text": [
            "train:  14%|█▍        | 264/1875 [00:02<00:13, 115.66it/s]"
          ]
        },
        {
          "output_type": "stream",
          "name": "stdout",
          "text": [
            "Epoch [39/100] Step [71500/187500]  d_loss : 0.7058 g_loss :0.36530399322509766\n"
          ]
        },
        {
          "output_type": "stream",
          "name": "stderr",
          "text": [
            "train:  41%|████      | 770/1875 [00:06<00:09, 115.96it/s]"
          ]
        },
        {
          "output_type": "stream",
          "name": "stdout",
          "text": [
            "Epoch [39/100] Step [72000/187500]  d_loss : 0.7210 g_loss :0.26678165793418884\n"
          ]
        },
        {
          "output_type": "stream",
          "name": "stderr",
          "text": [
            "train:  67%|██████▋   | 1262/1875 [00:11<00:05, 113.99it/s]"
          ]
        },
        {
          "output_type": "stream",
          "name": "stdout",
          "text": [
            "Epoch [39/100] Step [72500/187500]  d_loss : 0.7047 g_loss :0.22927019000053406\n"
          ]
        },
        {
          "output_type": "stream",
          "name": "stderr",
          "text": [
            "train:  94%|█████████▍| 1766/1875 [00:15<00:00, 113.28it/s]"
          ]
        },
        {
          "output_type": "stream",
          "name": "stdout",
          "text": [
            "Epoch [39/100] Step [73000/187500]  d_loss : 0.7680 g_loss :0.3622877597808838\n"
          ]
        },
        {
          "output_type": "stream",
          "name": "stderr",
          "text": [
            "train:  21%|██        | 395/1875 [00:03<00:13, 112.50it/s]"
          ]
        },
        {
          "output_type": "stream",
          "name": "stdout",
          "text": [
            "Epoch [40/100] Step [73500/187500]  d_loss : 0.7630 g_loss :0.3926237225532532\n"
          ]
        },
        {
          "output_type": "stream",
          "name": "stderr",
          "text": [
            "train:  47%|████▋     | 888/1875 [00:07<00:08, 111.37it/s]"
          ]
        },
        {
          "output_type": "stream",
          "name": "stdout",
          "text": [
            "Epoch [40/100] Step [74000/187500]  d_loss : 0.7647 g_loss :0.30928871035575867\n"
          ]
        },
        {
          "output_type": "stream",
          "name": "stderr",
          "text": [
            "train:  74%|███████▍  | 1390/1875 [00:12<00:04, 109.62it/s]"
          ]
        },
        {
          "output_type": "stream",
          "name": "stdout",
          "text": [
            "Epoch [40/100] Step [74500/187500]  d_loss : 0.7608 g_loss :0.2708285450935364\n"
          ]
        },
        {
          "output_type": "stream",
          "name": "stderr",
          "text": [
            ""
          ]
        },
        {
          "output_type": "stream",
          "name": "stdout",
          "text": [
            "Epoch [40/100] Step [75000/187500]  d_loss : 0.7636 g_loss :0.3548407554626465\n"
          ]
        },
        {
          "output_type": "stream",
          "name": "stderr",
          "text": [
            "train:  28%|██▊       | 517/1875 [00:04<00:11, 114.62it/s]"
          ]
        },
        {
          "output_type": "stream",
          "name": "stdout",
          "text": [
            "Epoch [41/100] Step [75500/187500]  d_loss : 0.5696 g_loss :0.27852270007133484\n"
          ]
        },
        {
          "output_type": "stream",
          "name": "stderr",
          "text": [
            "train:  54%|█████▍    | 1021/1875 [00:08<00:07, 112.03it/s]"
          ]
        },
        {
          "output_type": "stream",
          "name": "stdout",
          "text": [
            "Epoch [41/100] Step [76000/187500]  d_loss : 0.7667 g_loss :0.39697006344795227\n"
          ]
        },
        {
          "output_type": "stream",
          "name": "stderr",
          "text": [
            "train:  81%|████████  | 1513/1875 [00:13<00:03, 116.05it/s]"
          ]
        },
        {
          "output_type": "stream",
          "name": "stdout",
          "text": [
            "Epoch [41/100] Step [76500/187500]  d_loss : 0.7430 g_loss :0.28149715065956116\n"
          ]
        },
        {
          "output_type": "stream",
          "name": "stderr",
          "text": [
            "train:   8%|▊         | 142/1875 [00:01<00:15, 111.17it/s]"
          ]
        },
        {
          "output_type": "stream",
          "name": "stdout",
          "text": [
            "Epoch [42/100] Step [77000/187500]  d_loss : 0.6324 g_loss :0.2653735876083374\n"
          ]
        },
        {
          "output_type": "stream",
          "name": "stderr",
          "text": [
            "train:  34%|███▍      | 637/1875 [00:05<00:10, 116.52it/s]"
          ]
        },
        {
          "output_type": "stream",
          "name": "stdout",
          "text": [
            "Epoch [42/100] Step [77500/187500]  d_loss : 0.6208 g_loss :0.2761473059654236\n"
          ]
        },
        {
          "output_type": "stream",
          "name": "stderr",
          "text": [
            "train:  61%|██████    | 1141/1875 [00:10<00:06, 114.59it/s]"
          ]
        },
        {
          "output_type": "stream",
          "name": "stdout",
          "text": [
            "Epoch [42/100] Step [78000/187500]  d_loss : 0.6193 g_loss :0.33360186219215393\n"
          ]
        },
        {
          "output_type": "stream",
          "name": "stderr",
          "text": [
            "train:  88%|████████▊ | 1642/1875 [00:14<00:02, 112.92it/s]"
          ]
        },
        {
          "output_type": "stream",
          "name": "stdout",
          "text": [
            "Epoch [42/100] Step [78500/187500]  d_loss : 0.6859 g_loss :0.3126797676086426\n"
          ]
        },
        {
          "output_type": "stream",
          "name": "stderr",
          "text": [
            "train:  14%|█▍        | 264/1875 [00:02<00:14, 114.03it/s]"
          ]
        },
        {
          "output_type": "stream",
          "name": "stdout",
          "text": [
            "Epoch [43/100] Step [79000/187500]  d_loss : 0.5647 g_loss :0.20590518414974213\n"
          ]
        },
        {
          "output_type": "stream",
          "name": "stderr",
          "text": [
            "train:  41%|████      | 768/1875 [00:06<00:09, 112.16it/s]"
          ]
        },
        {
          "output_type": "stream",
          "name": "stdout",
          "text": [
            "Epoch [43/100] Step [79500/187500]  d_loss : 0.7258 g_loss :0.3322470188140869\n"
          ]
        },
        {
          "output_type": "stream",
          "name": "stderr",
          "text": [
            "train:  67%|██████▋   | 1262/1875 [00:11<00:05, 114.77it/s]"
          ]
        },
        {
          "output_type": "stream",
          "name": "stdout",
          "text": [
            "Epoch [43/100] Step [80000/187500]  d_loss : 0.7705 g_loss :0.327479749917984\n"
          ]
        },
        {
          "output_type": "stream",
          "name": "stderr",
          "text": [
            "train:  94%|█████████▍| 1766/1875 [00:15<00:00, 114.82it/s]"
          ]
        },
        {
          "output_type": "stream",
          "name": "stdout",
          "text": [
            "Epoch [43/100] Step [80500/187500]  d_loss : 0.6899 g_loss :0.2532523572444916\n"
          ]
        },
        {
          "output_type": "stream",
          "name": "stderr",
          "text": [
            "train:  21%|██        | 389/1875 [00:03<00:13, 110.59it/s]"
          ]
        },
        {
          "output_type": "stream",
          "name": "stdout",
          "text": [
            "Epoch [44/100] Step [81000/187500]  d_loss : 0.7866 g_loss :0.3366532325744629\n"
          ]
        },
        {
          "output_type": "stream",
          "name": "stderr",
          "text": [
            "train:  48%|████▊     | 894/1875 [00:07<00:08, 114.03it/s]"
          ]
        },
        {
          "output_type": "stream",
          "name": "stdout",
          "text": [
            "Epoch [44/100] Step [81500/187500]  d_loss : 0.7725 g_loss :0.20030923187732697\n"
          ]
        },
        {
          "output_type": "stream",
          "name": "stderr",
          "text": [
            "train:  75%|███████▍  | 1397/1875 [00:12<00:04, 112.19it/s]"
          ]
        },
        {
          "output_type": "stream",
          "name": "stdout",
          "text": [
            "Epoch [44/100] Step [82000/187500]  d_loss : 0.7876 g_loss :0.4215862452983856\n"
          ]
        },
        {
          "output_type": "stream",
          "name": "stderr",
          "text": [
            ""
          ]
        },
        {
          "output_type": "stream",
          "name": "stdout",
          "text": [
            "Epoch [44/100] Step [82500/187500]  d_loss : 0.5981 g_loss :0.25443971157073975\n"
          ]
        },
        {
          "output_type": "stream",
          "name": "stderr",
          "text": [
            "train:  28%|██▊       | 516/1875 [00:04<00:12, 112.98it/s]"
          ]
        },
        {
          "output_type": "stream",
          "name": "stdout",
          "text": [
            "Epoch [45/100] Step [83000/187500]  d_loss : 0.7295 g_loss :0.3637063503265381\n"
          ]
        },
        {
          "output_type": "stream",
          "name": "stderr",
          "text": [
            "train:  54%|█████▍    | 1020/1875 [00:09<00:07, 112.46it/s]"
          ]
        },
        {
          "output_type": "stream",
          "name": "stdout",
          "text": [
            "Epoch [45/100] Step [83500/187500]  d_loss : 0.7638 g_loss :0.23199763894081116\n"
          ]
        },
        {
          "output_type": "stream",
          "name": "stderr",
          "text": [
            "train:  81%|████████  | 1512/1875 [00:13<00:03, 114.49it/s]"
          ]
        },
        {
          "output_type": "stream",
          "name": "stdout",
          "text": [
            "Epoch [45/100] Step [84000/187500]  d_loss : 0.5850 g_loss :0.3440955579280853\n"
          ]
        },
        {
          "output_type": "stream",
          "name": "stderr",
          "text": [
            "train:   8%|▊         | 144/1875 [00:01<00:15, 112.54it/s]"
          ]
        },
        {
          "output_type": "stream",
          "name": "stdout",
          "text": [
            "Epoch [46/100] Step [84500/187500]  d_loss : 0.6420 g_loss :0.30462536215782166\n"
          ]
        },
        {
          "output_type": "stream",
          "name": "stderr",
          "text": [
            "train:  34%|███▍      | 636/1875 [00:05<00:11, 111.51it/s]"
          ]
        },
        {
          "output_type": "stream",
          "name": "stdout",
          "text": [
            "Epoch [46/100] Step [85000/187500]  d_loss : 0.7593 g_loss :0.3484417200088501\n"
          ]
        },
        {
          "output_type": "stream",
          "name": "stderr",
          "text": [
            "train:  61%|██████    | 1141/1875 [00:10<00:06, 115.03it/s]"
          ]
        },
        {
          "output_type": "stream",
          "name": "stdout",
          "text": [
            "Epoch [46/100] Step [85500/187500]  d_loss : 0.7080 g_loss :0.3343965411186218\n"
          ]
        },
        {
          "output_type": "stream",
          "name": "stderr",
          "text": [
            "train:  88%|████████▊ | 1642/1875 [00:14<00:02, 113.05it/s]"
          ]
        },
        {
          "output_type": "stream",
          "name": "stdout",
          "text": [
            "Epoch [46/100] Step [86000/187500]  d_loss : 0.7839 g_loss :0.16597400605678558\n"
          ]
        },
        {
          "output_type": "stream",
          "name": "stderr",
          "text": [
            "train:  14%|█▍        | 271/1875 [00:02<00:14, 109.69it/s]"
          ]
        },
        {
          "output_type": "stream",
          "name": "stdout",
          "text": [
            "Epoch [47/100] Step [86500/187500]  d_loss : 0.7200 g_loss :0.32580605149269104\n"
          ]
        },
        {
          "output_type": "stream",
          "name": "stderr",
          "text": [
            "train:  41%|████      | 763/1875 [00:06<00:09, 114.10it/s]"
          ]
        },
        {
          "output_type": "stream",
          "name": "stdout",
          "text": [
            "Epoch [47/100] Step [87000/187500]  d_loss : 0.7250 g_loss :0.33698177337646484\n"
          ]
        },
        {
          "output_type": "stream",
          "name": "stderr",
          "text": [
            "train:  68%|██████▊   | 1267/1875 [00:11<00:05, 109.68it/s]"
          ]
        },
        {
          "output_type": "stream",
          "name": "stdout",
          "text": [
            "Epoch [47/100] Step [87500/187500]  d_loss : 0.6111 g_loss :0.30627012252807617\n"
          ]
        },
        {
          "output_type": "stream",
          "name": "stderr",
          "text": [
            "train:  94%|█████████▍| 1771/1875 [00:15<00:00, 114.51it/s]"
          ]
        },
        {
          "output_type": "stream",
          "name": "stdout",
          "text": [
            "Epoch [47/100] Step [88000/187500]  d_loss : 0.6734 g_loss :0.3502125144004822\n"
          ]
        },
        {
          "output_type": "stream",
          "name": "stderr",
          "text": [
            "train:  21%|██        | 398/1875 [00:03<00:12, 114.72it/s]"
          ]
        },
        {
          "output_type": "stream",
          "name": "stdout",
          "text": [
            "Epoch [48/100] Step [88500/187500]  d_loss : 0.7449 g_loss :0.2664506435394287\n"
          ]
        },
        {
          "output_type": "stream",
          "name": "stderr",
          "text": [
            "train:  48%|████▊     | 897/1875 [00:07<00:08, 112.22it/s]"
          ]
        },
        {
          "output_type": "stream",
          "name": "stdout",
          "text": [
            "Epoch [48/100] Step [89000/187500]  d_loss : 0.8046 g_loss :0.31415146589279175\n"
          ]
        },
        {
          "output_type": "stream",
          "name": "stderr",
          "text": [
            "train:  74%|███████▍  | 1389/1875 [00:12<00:04, 113.00it/s]"
          ]
        },
        {
          "output_type": "stream",
          "name": "stdout",
          "text": [
            "Epoch [48/100] Step [89500/187500]  d_loss : 0.6075 g_loss :0.27483606338500977\n"
          ]
        },
        {
          "output_type": "stream",
          "name": "stderr",
          "text": [
            ""
          ]
        },
        {
          "output_type": "stream",
          "name": "stdout",
          "text": [
            "Epoch [48/100] Step [90000/187500]  d_loss : 0.7046 g_loss :0.4041726589202881\n"
          ]
        },
        {
          "output_type": "stream",
          "name": "stderr",
          "text": [
            "train:  28%|██▊       | 517/1875 [00:04<00:12, 111.10it/s]"
          ]
        },
        {
          "output_type": "stream",
          "name": "stdout",
          "text": [
            "Epoch [49/100] Step [90500/187500]  d_loss : 0.7677 g_loss :0.354728639125824\n"
          ]
        },
        {
          "output_type": "stream",
          "name": "stderr",
          "text": [
            "train:  54%|█████▍    | 1021/1875 [00:08<00:07, 114.35it/s]"
          ]
        },
        {
          "output_type": "stream",
          "name": "stdout",
          "text": [
            "Epoch [49/100] Step [91000/187500]  d_loss : 0.7642 g_loss :0.41656309366226196\n"
          ]
        },
        {
          "output_type": "stream",
          "name": "stderr",
          "text": [
            "train:  81%|████████  | 1513/1875 [00:13<00:03, 115.19it/s]"
          ]
        },
        {
          "output_type": "stream",
          "name": "stdout",
          "text": [
            "Epoch [49/100] Step [91500/187500]  d_loss : 0.7436 g_loss :0.24607504904270172\n"
          ]
        },
        {
          "output_type": "stream",
          "name": "stderr",
          "text": [
            "train:   8%|▊         | 142/1875 [00:01<00:15, 115.10it/s]"
          ]
        },
        {
          "output_type": "stream",
          "name": "stdout",
          "text": [
            "Epoch [50/100] Step [92000/187500]  d_loss : 0.5757 g_loss :0.3623405694961548\n"
          ]
        },
        {
          "output_type": "stream",
          "name": "stderr",
          "text": [
            "train:  35%|███▍      | 647/1875 [00:05<00:10, 114.01it/s]"
          ]
        },
        {
          "output_type": "stream",
          "name": "stdout",
          "text": [
            "Epoch [50/100] Step [92500/187500]  d_loss : 0.6703 g_loss :0.2702808976173401\n"
          ]
        },
        {
          "output_type": "stream",
          "name": "stderr",
          "text": [
            "train:  61%|██████    | 1138/1875 [00:10<00:06, 112.13it/s]"
          ]
        },
        {
          "output_type": "stream",
          "name": "stdout",
          "text": [
            "Epoch [50/100] Step [93000/187500]  d_loss : 0.7991 g_loss :0.4906994104385376\n"
          ]
        },
        {
          "output_type": "stream",
          "name": "stderr",
          "text": [
            "train:  88%|████████▊ | 1641/1875 [00:14<00:02, 114.08it/s]"
          ]
        },
        {
          "output_type": "stream",
          "name": "stdout",
          "text": [
            "Epoch [50/100] Step [93500/187500]  d_loss : 0.7609 g_loss :0.379642516374588\n"
          ]
        },
        {
          "output_type": "stream",
          "name": "stderr",
          "text": [
            "train:  14%|█▍        | 265/1875 [00:02<00:13, 116.13it/s]"
          ]
        },
        {
          "output_type": "stream",
          "name": "stdout",
          "text": [
            "Epoch [51/100] Step [94000/187500]  d_loss : 0.6706 g_loss :0.32215970754623413\n"
          ]
        },
        {
          "output_type": "stream",
          "name": "stderr",
          "text": [
            "train:  41%|████      | 772/1875 [00:06<00:09, 112.79it/s]"
          ]
        },
        {
          "output_type": "stream",
          "name": "stdout",
          "text": [
            "Epoch [51/100] Step [94500/187500]  d_loss : 0.6130 g_loss :0.2732745110988617\n"
          ]
        },
        {
          "output_type": "stream",
          "name": "stderr",
          "text": [
            "train:  68%|██████▊   | 1267/1875 [00:11<00:05, 114.92it/s]"
          ]
        },
        {
          "output_type": "stream",
          "name": "stdout",
          "text": [
            "Epoch [51/100] Step [95000/187500]  d_loss : 0.6124 g_loss :0.30259865522384644\n"
          ]
        },
        {
          "output_type": "stream",
          "name": "stderr",
          "text": [
            "train:  94%|█████████▍| 1770/1875 [00:15<00:00, 113.57it/s]"
          ]
        },
        {
          "output_type": "stream",
          "name": "stdout",
          "text": [
            "Epoch [51/100] Step [95500/187500]  d_loss : 0.6359 g_loss :0.2621208131313324\n"
          ]
        },
        {
          "output_type": "stream",
          "name": "stderr",
          "text": [
            "train:  21%|██        | 397/1875 [00:03<00:12, 114.69it/s]"
          ]
        },
        {
          "output_type": "stream",
          "name": "stdout",
          "text": [
            "Epoch [52/100] Step [96000/187500]  d_loss : 0.7320 g_loss :0.37808313965797424\n"
          ]
        },
        {
          "output_type": "stream",
          "name": "stderr",
          "text": [
            "train:  47%|████▋     | 890/1875 [00:07<00:08, 112.01it/s]"
          ]
        },
        {
          "output_type": "stream",
          "name": "stdout",
          "text": [
            "Epoch [52/100] Step [96500/187500]  d_loss : 0.8001 g_loss :0.37211573123931885\n"
          ]
        },
        {
          "output_type": "stream",
          "name": "stderr",
          "text": [
            "train:  74%|███████▍  | 1391/1875 [00:12<00:04, 111.04it/s]"
          ]
        },
        {
          "output_type": "stream",
          "name": "stdout",
          "text": [
            "Epoch [52/100] Step [97000/187500]  d_loss : 0.7418 g_loss :0.3210626244544983\n"
          ]
        },
        {
          "output_type": "stream",
          "name": "stderr",
          "text": [
            ""
          ]
        },
        {
          "output_type": "stream",
          "name": "stdout",
          "text": [
            "Epoch [52/100] Step [97500/187500]  d_loss : 0.6940 g_loss :0.2451130747795105\n"
          ]
        },
        {
          "output_type": "stream",
          "name": "stderr",
          "text": [
            "train:  28%|██▊       | 519/1875 [00:04<00:12, 112.93it/s]"
          ]
        },
        {
          "output_type": "stream",
          "name": "stdout",
          "text": [
            "Epoch [53/100] Step [98000/187500]  d_loss : 0.6707 g_loss :0.2857884466648102\n"
          ]
        },
        {
          "output_type": "stream",
          "name": "stderr",
          "text": [
            "train:  54%|█████▍    | 1014/1875 [00:08<00:07, 112.11it/s]"
          ]
        },
        {
          "output_type": "stream",
          "name": "stdout",
          "text": [
            "Epoch [53/100] Step [98500/187500]  d_loss : 0.7159 g_loss :0.2591501474380493\n"
          ]
        },
        {
          "output_type": "stream",
          "name": "stderr",
          "text": [
            "train:  81%|████████  | 1521/1875 [00:13<00:03, 117.22it/s]"
          ]
        },
        {
          "output_type": "stream",
          "name": "stdout",
          "text": [
            "Epoch [53/100] Step [99000/187500]  d_loss : 0.6824 g_loss :0.2779468297958374\n"
          ]
        },
        {
          "output_type": "stream",
          "name": "stderr",
          "text": [
            "train:   8%|▊         | 144/1875 [00:01<00:14, 115.49it/s]"
          ]
        },
        {
          "output_type": "stream",
          "name": "stdout",
          "text": [
            "Epoch [54/100] Step [99500/187500]  d_loss : 0.6645 g_loss :0.2561315596103668\n"
          ]
        },
        {
          "output_type": "stream",
          "name": "stderr",
          "text": [
            "train:  35%|███▍      | 648/1875 [00:05<00:10, 112.96it/s]"
          ]
        },
        {
          "output_type": "stream",
          "name": "stdout",
          "text": [
            "Epoch [54/100] Step [100000/187500]  d_loss : 0.6191 g_loss :0.2335047870874405\n"
          ]
        },
        {
          "output_type": "stream",
          "name": "stderr",
          "text": [
            "train:  61%|██████    | 1140/1875 [00:10<00:06, 109.61it/s]"
          ]
        },
        {
          "output_type": "stream",
          "name": "stdout",
          "text": [
            "Epoch [54/100] Step [100500/187500]  d_loss : 0.6701 g_loss :0.30475789308547974\n"
          ]
        },
        {
          "output_type": "stream",
          "name": "stderr",
          "text": [
            "train:  88%|████████▊ | 1648/1875 [00:14<00:02, 112.18it/s]"
          ]
        },
        {
          "output_type": "stream",
          "name": "stdout",
          "text": [
            "Epoch [54/100] Step [101000/187500]  d_loss : 0.7520 g_loss :0.3602735996246338\n"
          ]
        },
        {
          "output_type": "stream",
          "name": "stderr",
          "text": [
            "train:  14%|█▍        | 264/1875 [00:02<00:14, 114.36it/s]"
          ]
        },
        {
          "output_type": "stream",
          "name": "stdout",
          "text": [
            "Epoch [55/100] Step [101500/187500]  d_loss : 0.7750 g_loss :0.4361131191253662\n"
          ]
        },
        {
          "output_type": "stream",
          "name": "stderr",
          "text": [
            "train:  41%|████      | 769/1875 [00:06<00:10, 110.59it/s]"
          ]
        },
        {
          "output_type": "stream",
          "name": "stdout",
          "text": [
            "Epoch [55/100] Step [102000/187500]  d_loss : 0.7045 g_loss :0.33623695373535156\n"
          ]
        },
        {
          "output_type": "stream",
          "name": "stderr",
          "text": [
            "train:  68%|██████▊   | 1273/1875 [00:11<00:05, 113.80it/s]"
          ]
        },
        {
          "output_type": "stream",
          "name": "stdout",
          "text": [
            "Epoch [55/100] Step [102500/187500]  d_loss : 0.6093 g_loss :0.2550619840621948\n"
          ]
        },
        {
          "output_type": "stream",
          "name": "stderr",
          "text": [
            "train:  94%|█████████▍| 1764/1875 [00:15<00:00, 114.68it/s]"
          ]
        },
        {
          "output_type": "stream",
          "name": "stdout",
          "text": [
            "Epoch [55/100] Step [103000/187500]  d_loss : 0.6157 g_loss :0.2700026035308838\n"
          ]
        },
        {
          "output_type": "stream",
          "name": "stderr",
          "text": [
            "train:  21%|██        | 394/1875 [00:03<00:13, 110.92it/s]"
          ]
        },
        {
          "output_type": "stream",
          "name": "stdout",
          "text": [
            "Epoch [56/100] Step [103500/187500]  d_loss : 0.7235 g_loss :0.27464979887008667\n"
          ]
        },
        {
          "output_type": "stream",
          "name": "stderr",
          "text": [
            "train:  47%|████▋     | 889/1875 [00:07<00:09, 106.54it/s]"
          ]
        },
        {
          "output_type": "stream",
          "name": "stdout",
          "text": [
            "Epoch [56/100] Step [104000/187500]  d_loss : 0.6863 g_loss :0.4199657440185547\n"
          ]
        },
        {
          "output_type": "stream",
          "name": "stderr",
          "text": [
            "train:  74%|███████▍  | 1392/1875 [00:12<00:04, 115.84it/s]"
          ]
        },
        {
          "output_type": "stream",
          "name": "stdout",
          "text": [
            "Epoch [56/100] Step [104500/187500]  d_loss : 0.7888 g_loss :0.43532660603523254\n"
          ]
        },
        {
          "output_type": "stream",
          "name": "stderr",
          "text": [
            ""
          ]
        },
        {
          "output_type": "stream",
          "name": "stdout",
          "text": [
            "Epoch [56/100] Step [105000/187500]  d_loss : 0.6528 g_loss :0.36356768012046814\n"
          ]
        },
        {
          "output_type": "stream",
          "name": "stderr",
          "text": [
            "train:  28%|██▊       | 518/1875 [00:04<00:11, 114.34it/s]"
          ]
        },
        {
          "output_type": "stream",
          "name": "stdout",
          "text": [
            "Epoch [57/100] Step [105500/187500]  d_loss : 0.6852 g_loss :0.21842867136001587\n"
          ]
        },
        {
          "output_type": "stream",
          "name": "stderr",
          "text": [
            "train:  55%|█████▍    | 1023/1875 [00:08<00:07, 115.55it/s]"
          ]
        },
        {
          "output_type": "stream",
          "name": "stdout",
          "text": [
            "Epoch [57/100] Step [106000/187500]  d_loss : 0.5540 g_loss :0.2850361466407776\n"
          ]
        },
        {
          "output_type": "stream",
          "name": "stderr",
          "text": [
            "train:  81%|████████  | 1518/1875 [00:13<00:03, 113.80it/s]"
          ]
        },
        {
          "output_type": "stream",
          "name": "stdout",
          "text": [
            "Epoch [57/100] Step [106500/187500]  d_loss : 0.7246 g_loss :0.3567954897880554\n"
          ]
        },
        {
          "output_type": "stream",
          "name": "stderr",
          "text": [
            "train:   8%|▊         | 143/1875 [00:01<00:15, 113.19it/s]"
          ]
        },
        {
          "output_type": "stream",
          "name": "stdout",
          "text": [
            "Epoch [58/100] Step [107000/187500]  d_loss : 0.7082 g_loss :0.3190380930900574\n"
          ]
        },
        {
          "output_type": "stream",
          "name": "stderr",
          "text": [
            "train:  34%|███▍      | 638/1875 [00:05<00:11, 111.99it/s]"
          ]
        },
        {
          "output_type": "stream",
          "name": "stdout",
          "text": [
            "Epoch [58/100] Step [107500/187500]  d_loss : 0.6763 g_loss :0.33970165252685547\n"
          ]
        },
        {
          "output_type": "stream",
          "name": "stderr",
          "text": [
            "train:  61%|██████    | 1141/1875 [00:10<00:06, 106.03it/s]"
          ]
        },
        {
          "output_type": "stream",
          "name": "stdout",
          "text": [
            "Epoch [58/100] Step [108000/187500]  d_loss : 0.7676 g_loss :0.2619309425354004\n"
          ]
        },
        {
          "output_type": "stream",
          "name": "stderr",
          "text": [
            "train:  88%|████████▊ | 1647/1875 [00:14<00:01, 114.90it/s]"
          ]
        },
        {
          "output_type": "stream",
          "name": "stdout",
          "text": [
            "Epoch [58/100] Step [108500/187500]  d_loss : 0.7318 g_loss :0.36712464690208435\n"
          ]
        },
        {
          "output_type": "stream",
          "name": "stderr",
          "text": [
            "train:  14%|█▍        | 264/1875 [00:02<00:14, 114.70it/s]"
          ]
        },
        {
          "output_type": "stream",
          "name": "stdout",
          "text": [
            "Epoch [59/100] Step [109000/187500]  d_loss : 0.7942 g_loss :0.27961134910583496\n"
          ]
        },
        {
          "output_type": "stream",
          "name": "stderr",
          "text": [
            "train:  41%|████      | 768/1875 [00:06<00:09, 112.39it/s]"
          ]
        },
        {
          "output_type": "stream",
          "name": "stdout",
          "text": [
            "Epoch [59/100] Step [109500/187500]  d_loss : 0.6425 g_loss :0.28820669651031494\n"
          ]
        },
        {
          "output_type": "stream",
          "name": "stderr",
          "text": [
            "train:  68%|██████▊   | 1272/1875 [00:11<00:05, 115.11it/s]"
          ]
        },
        {
          "output_type": "stream",
          "name": "stdout",
          "text": [
            "Epoch [59/100] Step [110000/187500]  d_loss : 0.7384 g_loss :0.340810626745224\n"
          ]
        },
        {
          "output_type": "stream",
          "name": "stderr",
          "text": [
            "train:  94%|█████████▍| 1765/1875 [00:15<00:00, 113.33it/s]"
          ]
        },
        {
          "output_type": "stream",
          "name": "stdout",
          "text": [
            "Epoch [59/100] Step [110500/187500]  d_loss : 0.8047 g_loss :0.4984655976295471\n"
          ]
        },
        {
          "output_type": "stream",
          "name": "stderr",
          "text": [
            "train:  21%|██        | 387/1875 [00:03<00:13, 113.41it/s]"
          ]
        },
        {
          "output_type": "stream",
          "name": "stdout",
          "text": [
            "Epoch [60/100] Step [111000/187500]  d_loss : 0.7591 g_loss :0.42556941509246826\n"
          ]
        },
        {
          "output_type": "stream",
          "name": "stderr",
          "text": [
            "train:  48%|████▊     | 893/1875 [00:07<00:08, 114.09it/s]"
          ]
        },
        {
          "output_type": "stream",
          "name": "stdout",
          "text": [
            "Epoch [60/100] Step [111500/187500]  d_loss : 0.7054 g_loss :0.3934665620326996\n"
          ]
        },
        {
          "output_type": "stream",
          "name": "stderr",
          "text": [
            "train:  74%|███████▍  | 1388/1875 [00:12<00:04, 114.33it/s]"
          ]
        },
        {
          "output_type": "stream",
          "name": "stdout",
          "text": [
            "Epoch [60/100] Step [112000/187500]  d_loss : 0.5834 g_loss :0.26760125160217285\n"
          ]
        },
        {
          "output_type": "stream",
          "name": "stderr",
          "text": [
            ""
          ]
        },
        {
          "output_type": "stream",
          "name": "stdout",
          "text": [
            "Epoch [60/100] Step [112500/187500]  d_loss : 0.7163 g_loss :0.40040695667266846\n"
          ]
        },
        {
          "output_type": "stream",
          "name": "stderr",
          "text": [
            "train:  28%|██▊       | 518/1875 [00:04<00:11, 113.61it/s]"
          ]
        },
        {
          "output_type": "stream",
          "name": "stdout",
          "text": [
            "Epoch [61/100] Step [113000/187500]  d_loss : 0.7466 g_loss :0.3288732171058655\n"
          ]
        },
        {
          "output_type": "stream",
          "name": "stderr",
          "text": [
            "train:  55%|█████▍    | 1023/1875 [00:08<00:07, 111.31it/s]"
          ]
        },
        {
          "output_type": "stream",
          "name": "stdout",
          "text": [
            "Epoch [61/100] Step [113500/187500]  d_loss : 0.6808 g_loss :0.3529960811138153\n"
          ]
        },
        {
          "output_type": "stream",
          "name": "stderr",
          "text": [
            "train:  81%|████████  | 1513/1875 [00:13<00:03, 103.29it/s]"
          ]
        },
        {
          "output_type": "stream",
          "name": "stdout",
          "text": [
            "Epoch [61/100] Step [114000/187500]  d_loss : 0.5524 g_loss :0.24639147520065308\n"
          ]
        },
        {
          "output_type": "stream",
          "name": "stderr",
          "text": [
            "train:   8%|▊         | 146/1875 [00:01<00:15, 113.77it/s]"
          ]
        },
        {
          "output_type": "stream",
          "name": "stdout",
          "text": [
            "Epoch [62/100] Step [114500/187500]  d_loss : 0.6575 g_loss :0.43508774042129517\n"
          ]
        },
        {
          "output_type": "stream",
          "name": "stderr",
          "text": [
            "train:  34%|███▍      | 639/1875 [00:05<00:10, 116.40it/s]"
          ]
        },
        {
          "output_type": "stream",
          "name": "stdout",
          "text": [
            "Epoch [62/100] Step [115000/187500]  d_loss : 0.6164 g_loss :0.33199435472488403\n"
          ]
        },
        {
          "output_type": "stream",
          "name": "stderr",
          "text": [
            "train:  61%|██████    | 1142/1875 [00:10<00:06, 108.03it/s]"
          ]
        },
        {
          "output_type": "stream",
          "name": "stdout",
          "text": [
            "Epoch [62/100] Step [115500/187500]  d_loss : 0.7427 g_loss :0.3746214509010315\n"
          ]
        },
        {
          "output_type": "stream",
          "name": "stderr",
          "text": [
            "train:  88%|████████▊ | 1646/1875 [00:14<00:02, 112.32it/s]"
          ]
        },
        {
          "output_type": "stream",
          "name": "stdout",
          "text": [
            "Epoch [62/100] Step [116000/187500]  d_loss : 0.7100 g_loss :0.28946995735168457\n"
          ]
        },
        {
          "output_type": "stream",
          "name": "stderr",
          "text": [
            "train:  14%|█▍        | 264/1875 [00:02<00:14, 111.26it/s]"
          ]
        },
        {
          "output_type": "stream",
          "name": "stdout",
          "text": [
            "Epoch [63/100] Step [116500/187500]  d_loss : 0.7016 g_loss :0.39217108488082886\n"
          ]
        },
        {
          "output_type": "stream",
          "name": "stderr",
          "text": [
            "train:  41%|████      | 769/1875 [00:06<00:09, 112.20it/s]"
          ]
        },
        {
          "output_type": "stream",
          "name": "stdout",
          "text": [
            "Epoch [63/100] Step [117000/187500]  d_loss : 0.7769 g_loss :0.3790495991706848\n"
          ]
        },
        {
          "output_type": "stream",
          "name": "stderr",
          "text": [
            "train:  67%|██████▋   | 1263/1875 [00:11<00:05, 113.49it/s]"
          ]
        },
        {
          "output_type": "stream",
          "name": "stdout",
          "text": [
            "Epoch [63/100] Step [117500/187500]  d_loss : 0.6942 g_loss :0.22163525223731995\n"
          ]
        },
        {
          "output_type": "stream",
          "name": "stderr",
          "text": [
            "train:  94%|█████████▍| 1771/1875 [00:15<00:00, 108.24it/s]"
          ]
        },
        {
          "output_type": "stream",
          "name": "stdout",
          "text": [
            "Epoch [63/100] Step [118000/187500]  d_loss : 0.7658 g_loss :0.3361547589302063\n"
          ]
        },
        {
          "output_type": "stream",
          "name": "stderr",
          "text": [
            "train:  21%|██        | 392/1875 [00:03<00:13, 113.27it/s]"
          ]
        },
        {
          "output_type": "stream",
          "name": "stdout",
          "text": [
            "Epoch [64/100] Step [118500/187500]  d_loss : 0.7160 g_loss :0.2940860390663147\n"
          ]
        },
        {
          "output_type": "stream",
          "name": "stderr",
          "text": [
            "train:  48%|████▊     | 893/1875 [00:08<00:08, 111.18it/s]"
          ]
        },
        {
          "output_type": "stream",
          "name": "stdout",
          "text": [
            "Epoch [64/100] Step [119000/187500]  d_loss : 0.6448 g_loss :0.2500418424606323\n"
          ]
        },
        {
          "output_type": "stream",
          "name": "stderr",
          "text": [
            "train:  74%|███████▍  | 1394/1875 [00:12<00:04, 111.79it/s]"
          ]
        },
        {
          "output_type": "stream",
          "name": "stdout",
          "text": [
            "Epoch [64/100] Step [119500/187500]  d_loss : 0.6618 g_loss :0.2684636116027832\n"
          ]
        },
        {
          "output_type": "stream",
          "name": "stderr",
          "text": [
            ""
          ]
        },
        {
          "output_type": "stream",
          "name": "stdout",
          "text": [
            "Epoch [64/100] Step [120000/187500]  d_loss : 0.6816 g_loss :0.3249279260635376\n"
          ]
        },
        {
          "output_type": "stream",
          "name": "stderr",
          "text": [
            "train:  28%|██▊       | 519/1875 [00:04<00:12, 106.64it/s]"
          ]
        },
        {
          "output_type": "stream",
          "name": "stdout",
          "text": [
            "Epoch [65/100] Step [120500/187500]  d_loss : 0.7513 g_loss :0.4112017750740051\n"
          ]
        },
        {
          "output_type": "stream",
          "name": "stderr",
          "text": [
            "train:  54%|█████▍    | 1012/1875 [00:09<00:08, 104.93it/s]"
          ]
        },
        {
          "output_type": "stream",
          "name": "stdout",
          "text": [
            "Epoch [65/100] Step [121000/187500]  d_loss : 0.6642 g_loss :0.1154731884598732\n"
          ]
        },
        {
          "output_type": "stream",
          "name": "stderr",
          "text": [
            "train:  81%|████████  | 1516/1875 [00:13<00:03, 112.43it/s]"
          ]
        },
        {
          "output_type": "stream",
          "name": "stdout",
          "text": [
            "Epoch [65/100] Step [121500/187500]  d_loss : 0.5756 g_loss :0.27167800068855286\n"
          ]
        },
        {
          "output_type": "stream",
          "name": "stderr",
          "text": [
            "train:   8%|▊         | 147/1875 [00:01<00:15, 113.59it/s]"
          ]
        },
        {
          "output_type": "stream",
          "name": "stdout",
          "text": [
            "Epoch [66/100] Step [122000/187500]  d_loss : 0.6540 g_loss :0.20318740606307983\n"
          ]
        },
        {
          "output_type": "stream",
          "name": "stderr",
          "text": [
            "train:  34%|███▍      | 639/1875 [00:05<00:11, 111.98it/s]"
          ]
        },
        {
          "output_type": "stream",
          "name": "stdout",
          "text": [
            "Epoch [66/100] Step [122500/187500]  d_loss : 0.5968 g_loss :0.23768959939479828\n"
          ]
        },
        {
          "output_type": "stream",
          "name": "stderr",
          "text": [
            "train:  61%|██████    | 1144/1875 [00:10<00:06, 108.60it/s]"
          ]
        },
        {
          "output_type": "stream",
          "name": "stdout",
          "text": [
            "Epoch [66/100] Step [123000/187500]  d_loss : 0.6773 g_loss :0.3701089918613434\n"
          ]
        },
        {
          "output_type": "stream",
          "name": "stderr",
          "text": [
            "train:  87%|████████▋ | 1638/1875 [00:14<00:02, 109.71it/s]"
          ]
        },
        {
          "output_type": "stream",
          "name": "stdout",
          "text": [
            "Epoch [66/100] Step [123500/187500]  d_loss : 0.7597 g_loss :0.3542027473449707\n"
          ]
        },
        {
          "output_type": "stream",
          "name": "stderr",
          "text": [
            "train:  14%|█▍        | 268/1875 [00:02<00:14, 107.68it/s]"
          ]
        },
        {
          "output_type": "stream",
          "name": "stdout",
          "text": [
            "Epoch [67/100] Step [124000/187500]  d_loss : 0.6454 g_loss :0.3649132251739502\n"
          ]
        },
        {
          "output_type": "stream",
          "name": "stderr",
          "text": [
            "train:  41%|████      | 771/1875 [00:07<00:09, 112.07it/s]"
          ]
        },
        {
          "output_type": "stream",
          "name": "stdout",
          "text": [
            "Epoch [67/100] Step [124500/187500]  d_loss : 0.7680 g_loss :0.41148048639297485\n"
          ]
        },
        {
          "output_type": "stream",
          "name": "stderr",
          "text": [
            "train:  68%|██████▊   | 1270/1875 [00:11<00:05, 109.21it/s]"
          ]
        },
        {
          "output_type": "stream",
          "name": "stdout",
          "text": [
            "Epoch [67/100] Step [125000/187500]  d_loss : 0.5613 g_loss :0.2600853145122528\n"
          ]
        },
        {
          "output_type": "stream",
          "name": "stderr",
          "text": [
            "train:  94%|█████████▍| 1762/1875 [00:15<00:00, 114.42it/s]"
          ]
        },
        {
          "output_type": "stream",
          "name": "stdout",
          "text": [
            "Epoch [67/100] Step [125500/187500]  d_loss : 0.6412 g_loss :0.3988071084022522\n"
          ]
        },
        {
          "output_type": "stream",
          "name": "stderr",
          "text": [
            "train:  21%|██        | 397/1875 [00:03<00:12, 113.81it/s]"
          ]
        },
        {
          "output_type": "stream",
          "name": "stdout",
          "text": [
            "Epoch [68/100] Step [126000/187500]  d_loss : 0.8081 g_loss :0.37193676829338074\n"
          ]
        },
        {
          "output_type": "stream",
          "name": "stderr",
          "text": [
            "train:  47%|████▋     | 890/1875 [00:08<00:08, 113.08it/s]"
          ]
        },
        {
          "output_type": "stream",
          "name": "stdout",
          "text": [
            "Epoch [68/100] Step [126500/187500]  d_loss : 0.7260 g_loss :0.318589448928833\n"
          ]
        },
        {
          "output_type": "stream",
          "name": "stderr",
          "text": [
            "train:  74%|███████▍  | 1388/1875 [00:12<00:04, 110.10it/s]"
          ]
        },
        {
          "output_type": "stream",
          "name": "stdout",
          "text": [
            "Epoch [68/100] Step [127000/187500]  d_loss : 0.7982 g_loss :0.3410099446773529\n"
          ]
        },
        {
          "output_type": "stream",
          "name": "stderr",
          "text": [
            ""
          ]
        },
        {
          "output_type": "stream",
          "name": "stdout",
          "text": [
            "Epoch [68/100] Step [127500/187500]  d_loss : 0.5520 g_loss :0.13985209167003632\n"
          ]
        },
        {
          "output_type": "stream",
          "name": "stderr",
          "text": [
            "train:  28%|██▊       | 517/1875 [00:04<00:12, 108.01it/s]"
          ]
        },
        {
          "output_type": "stream",
          "name": "stdout",
          "text": [
            "Epoch [69/100] Step [128000/187500]  d_loss : 0.6084 g_loss :0.2939413785934448\n"
          ]
        },
        {
          "output_type": "stream",
          "name": "stderr",
          "text": [
            "train:  54%|█████▍    | 1013/1875 [00:09<00:07, 111.36it/s]"
          ]
        },
        {
          "output_type": "stream",
          "name": "stdout",
          "text": [
            "Epoch [69/100] Step [128500/187500]  d_loss : 0.5975 g_loss :0.20391874015331268\n"
          ]
        },
        {
          "output_type": "stream",
          "name": "stderr",
          "text": [
            "train:  81%|████████  | 1516/1875 [00:13<00:03, 112.92it/s]"
          ]
        },
        {
          "output_type": "stream",
          "name": "stdout",
          "text": [
            "Epoch [69/100] Step [129000/187500]  d_loss : 0.7335 g_loss :0.21746942400932312\n"
          ]
        },
        {
          "output_type": "stream",
          "name": "stderr",
          "text": [
            "train:   8%|▊         | 145/1875 [00:01<00:15, 112.19it/s]"
          ]
        },
        {
          "output_type": "stream",
          "name": "stdout",
          "text": [
            "Epoch [70/100] Step [129500/187500]  d_loss : 0.7294 g_loss :0.4027656316757202\n"
          ]
        },
        {
          "output_type": "stream",
          "name": "stderr",
          "text": [
            "train:  34%|███▍      | 645/1875 [00:05<00:11, 107.63it/s]"
          ]
        },
        {
          "output_type": "stream",
          "name": "stdout",
          "text": [
            "Epoch [70/100] Step [130000/187500]  d_loss : 0.7380 g_loss :0.31315383315086365\n"
          ]
        },
        {
          "output_type": "stream",
          "name": "stderr",
          "text": [
            "train:  61%|██████    | 1147/1875 [00:10<00:06, 110.97it/s]"
          ]
        },
        {
          "output_type": "stream",
          "name": "stdout",
          "text": [
            "Epoch [70/100] Step [130500/187500]  d_loss : 0.7067 g_loss :0.1954483687877655\n"
          ]
        },
        {
          "output_type": "stream",
          "name": "stderr",
          "text": [
            "train:  87%|████████▋ | 1640/1875 [00:14<00:02, 115.21it/s]"
          ]
        },
        {
          "output_type": "stream",
          "name": "stdout",
          "text": [
            "Epoch [70/100] Step [131000/187500]  d_loss : 0.5272 g_loss :0.16597583889961243\n"
          ]
        },
        {
          "output_type": "stream",
          "name": "stderr",
          "text": [
            "train:  14%|█▍        | 266/1875 [00:02<00:14, 113.19it/s]"
          ]
        },
        {
          "output_type": "stream",
          "name": "stdout",
          "text": [
            "Epoch [71/100] Step [131500/187500]  d_loss : 0.7829 g_loss :0.4041217863559723\n"
          ]
        },
        {
          "output_type": "stream",
          "name": "stderr",
          "text": [
            "train:  41%|████      | 772/1875 [00:06<00:09, 111.15it/s]"
          ]
        },
        {
          "output_type": "stream",
          "name": "stdout",
          "text": [
            "Epoch [71/100] Step [132000/187500]  d_loss : 0.6329 g_loss :0.35596734285354614\n"
          ]
        },
        {
          "output_type": "stream",
          "name": "stderr",
          "text": [
            "train:  67%|██████▋   | 1262/1875 [00:11<00:05, 113.20it/s]"
          ]
        },
        {
          "output_type": "stream",
          "name": "stdout",
          "text": [
            "Epoch [71/100] Step [132500/187500]  d_loss : 0.7606 g_loss :0.4229084551334381\n"
          ]
        },
        {
          "output_type": "stream",
          "name": "stderr",
          "text": [
            "train:  94%|█████████▍| 1764/1875 [00:15<00:00, 113.45it/s]"
          ]
        },
        {
          "output_type": "stream",
          "name": "stdout",
          "text": [
            "Epoch [71/100] Step [133000/187500]  d_loss : 0.6442 g_loss :0.2953983247280121\n"
          ]
        },
        {
          "output_type": "stream",
          "name": "stderr",
          "text": [
            "train:  21%|██        | 397/1875 [00:03<00:12, 113.92it/s]"
          ]
        },
        {
          "output_type": "stream",
          "name": "stdout",
          "text": [
            "Epoch [72/100] Step [133500/187500]  d_loss : 0.6638 g_loss :0.27049097418785095\n"
          ]
        },
        {
          "output_type": "stream",
          "name": "stderr",
          "text": [
            "train:  48%|████▊     | 894/1875 [00:08<00:08, 114.09it/s]"
          ]
        },
        {
          "output_type": "stream",
          "name": "stdout",
          "text": [
            "Epoch [72/100] Step [134000/187500]  d_loss : 0.7598 g_loss :0.5122411847114563\n"
          ]
        },
        {
          "output_type": "stream",
          "name": "stderr",
          "text": [
            "train:  74%|███████▍  | 1387/1875 [00:12<00:04, 114.00it/s]"
          ]
        },
        {
          "output_type": "stream",
          "name": "stdout",
          "text": [
            "Epoch [72/100] Step [134500/187500]  d_loss : 0.6536 g_loss :0.34669071435928345\n"
          ]
        },
        {
          "output_type": "stream",
          "name": "stderr",
          "text": [
            ""
          ]
        },
        {
          "output_type": "stream",
          "name": "stdout",
          "text": [
            "Epoch [72/100] Step [135000/187500]  d_loss : 0.6477 g_loss :0.31916844844818115\n"
          ]
        },
        {
          "output_type": "stream",
          "name": "stderr",
          "text": [
            "train:  27%|██▋       | 514/1875 [00:04<00:12, 111.25it/s]"
          ]
        },
        {
          "output_type": "stream",
          "name": "stdout",
          "text": [
            "Epoch [73/100] Step [135500/187500]  d_loss : 0.6395 g_loss :0.3403457701206207\n"
          ]
        },
        {
          "output_type": "stream",
          "name": "stderr",
          "text": [
            "train:  54%|█████▍    | 1017/1875 [00:09<00:07, 112.10it/s]"
          ]
        },
        {
          "output_type": "stream",
          "name": "stdout",
          "text": [
            "Epoch [73/100] Step [136000/187500]  d_loss : 0.6727 g_loss :0.2742350995540619\n"
          ]
        },
        {
          "output_type": "stream",
          "name": "stderr",
          "text": [
            "train:  81%|████████  | 1516/1875 [00:13<00:03, 110.81it/s]"
          ]
        },
        {
          "output_type": "stream",
          "name": "stdout",
          "text": [
            "Epoch [73/100] Step [136500/187500]  d_loss : 0.6351 g_loss :0.2445378303527832\n"
          ]
        },
        {
          "output_type": "stream",
          "name": "stderr",
          "text": [
            "train:   8%|▊         | 144/1875 [00:01<00:15, 110.79it/s]"
          ]
        },
        {
          "output_type": "stream",
          "name": "stdout",
          "text": [
            "Epoch [74/100] Step [137000/187500]  d_loss : 0.6615 g_loss :0.2854442000389099\n"
          ]
        },
        {
          "output_type": "stream",
          "name": "stderr",
          "text": [
            "train:  34%|███▍      | 640/1875 [00:05<00:11, 110.27it/s]"
          ]
        },
        {
          "output_type": "stream",
          "name": "stdout",
          "text": [
            "Epoch [74/100] Step [137500/187500]  d_loss : 0.7278 g_loss :0.30195116996765137\n"
          ]
        },
        {
          "output_type": "stream",
          "name": "stderr",
          "text": [
            "train:  61%|██████    | 1139/1875 [00:10<00:06, 114.01it/s]"
          ]
        },
        {
          "output_type": "stream",
          "name": "stdout",
          "text": [
            "Epoch [74/100] Step [138000/187500]  d_loss : 0.6635 g_loss :0.34255993366241455\n"
          ]
        },
        {
          "output_type": "stream",
          "name": "stderr",
          "text": [
            "train:  88%|████████▊ | 1643/1875 [00:14<00:02, 109.99it/s]"
          ]
        },
        {
          "output_type": "stream",
          "name": "stdout",
          "text": [
            "Epoch [74/100] Step [138500/187500]  d_loss : 0.6858 g_loss :0.3597543239593506\n"
          ]
        },
        {
          "output_type": "stream",
          "name": "stderr",
          "text": [
            "train:  14%|█▍        | 262/1875 [00:02<00:14, 111.07it/s]"
          ]
        },
        {
          "output_type": "stream",
          "name": "stdout",
          "text": [
            "Epoch [75/100] Step [139000/187500]  d_loss : 0.6406 g_loss :0.3104296028614044\n"
          ]
        },
        {
          "output_type": "stream",
          "name": "stderr",
          "text": [
            "train:  41%|████      | 767/1875 [00:06<00:09, 112.35it/s]"
          ]
        },
        {
          "output_type": "stream",
          "name": "stdout",
          "text": [
            "Epoch [75/100] Step [139500/187500]  d_loss : 0.6780 g_loss :0.3420305550098419\n"
          ]
        },
        {
          "output_type": "stream",
          "name": "stderr",
          "text": [
            "train:  68%|██████▊   | 1271/1875 [00:11<00:05, 112.18it/s]"
          ]
        },
        {
          "output_type": "stream",
          "name": "stdout",
          "text": [
            "Epoch [75/100] Step [140000/187500]  d_loss : 0.7096 g_loss :0.3131463825702667\n"
          ]
        },
        {
          "output_type": "stream",
          "name": "stderr",
          "text": [
            "train:  94%|█████████▍| 1768/1875 [00:15<00:00, 111.93it/s]"
          ]
        },
        {
          "output_type": "stream",
          "name": "stdout",
          "text": [
            "Epoch [75/100] Step [140500/187500]  d_loss : 0.7250 g_loss :0.3591561019420624\n"
          ]
        },
        {
          "output_type": "stream",
          "name": "stderr",
          "text": [
            "train:  21%|██        | 385/1875 [00:03<00:14, 102.71it/s]"
          ]
        },
        {
          "output_type": "stream",
          "name": "stdout",
          "text": [
            "Epoch [76/100] Step [141000/187500]  d_loss : 0.7323 g_loss :0.38731786608695984\n"
          ]
        },
        {
          "output_type": "stream",
          "name": "stderr",
          "text": [
            "train:  48%|████▊     | 892/1875 [00:08<00:08, 112.54it/s]"
          ]
        },
        {
          "output_type": "stream",
          "name": "stdout",
          "text": [
            "Epoch [76/100] Step [141500/187500]  d_loss : 0.6612 g_loss :0.39572978019714355\n"
          ]
        },
        {
          "output_type": "stream",
          "name": "stderr",
          "text": [
            "train:  75%|███████▍  | 1397/1875 [00:12<00:04, 115.26it/s]"
          ]
        },
        {
          "output_type": "stream",
          "name": "stdout",
          "text": [
            "Epoch [76/100] Step [142000/187500]  d_loss : 0.6716 g_loss :0.3898090720176697\n"
          ]
        },
        {
          "output_type": "stream",
          "name": "stderr",
          "text": [
            ""
          ]
        },
        {
          "output_type": "stream",
          "name": "stdout",
          "text": [
            "Epoch [76/100] Step [142500/187500]  d_loss : 0.6204 g_loss :0.2986937165260315\n"
          ]
        },
        {
          "output_type": "stream",
          "name": "stderr",
          "text": [
            "train:  28%|██▊       | 516/1875 [00:04<00:11, 115.82it/s]"
          ]
        },
        {
          "output_type": "stream",
          "name": "stdout",
          "text": [
            "Epoch [77/100] Step [143000/187500]  d_loss : 0.6391 g_loss :0.36780762672424316\n"
          ]
        },
        {
          "output_type": "stream",
          "name": "stderr",
          "text": [
            "train:  54%|█████▍    | 1021/1875 [00:08<00:07, 114.40it/s]"
          ]
        },
        {
          "output_type": "stream",
          "name": "stdout",
          "text": [
            "Epoch [77/100] Step [143500/187500]  d_loss : 0.7593 g_loss :0.3867383599281311\n"
          ]
        },
        {
          "output_type": "stream",
          "name": "stderr",
          "text": [
            "train:  81%|████████  | 1514/1875 [00:13<00:03, 111.52it/s]"
          ]
        },
        {
          "output_type": "stream",
          "name": "stdout",
          "text": [
            "Epoch [77/100] Step [144000/187500]  d_loss : 0.6319 g_loss :0.3562256097793579\n"
          ]
        },
        {
          "output_type": "stream",
          "name": "stderr",
          "text": [
            "train:   8%|▊         | 144/1875 [00:01<00:15, 112.75it/s]"
          ]
        },
        {
          "output_type": "stream",
          "name": "stdout",
          "text": [
            "Epoch [78/100] Step [144500/187500]  d_loss : 0.6850 g_loss :0.3266177773475647\n"
          ]
        },
        {
          "output_type": "stream",
          "name": "stderr",
          "text": [
            "train:  34%|███▍      | 646/1875 [00:05<00:10, 114.90it/s]"
          ]
        },
        {
          "output_type": "stream",
          "name": "stdout",
          "text": [
            "Epoch [78/100] Step [145000/187500]  d_loss : 0.6301 g_loss :0.2643917202949524\n"
          ]
        },
        {
          "output_type": "stream",
          "name": "stderr",
          "text": [
            "train:  61%|██████    | 1138/1875 [00:10<00:06, 110.86it/s]"
          ]
        },
        {
          "output_type": "stream",
          "name": "stdout",
          "text": [
            "Epoch [78/100] Step [145500/187500]  d_loss : 0.6177 g_loss :0.2903138995170593\n"
          ]
        },
        {
          "output_type": "stream",
          "name": "stderr",
          "text": [
            "train:  88%|████████▊ | 1642/1875 [00:14<00:02, 116.06it/s]"
          ]
        },
        {
          "output_type": "stream",
          "name": "stdout",
          "text": [
            "Epoch [78/100] Step [146000/187500]  d_loss : 0.5999 g_loss :0.3108298182487488\n"
          ]
        },
        {
          "output_type": "stream",
          "name": "stderr",
          "text": [
            "train:  14%|█▍        | 264/1875 [00:02<00:13, 115.31it/s]"
          ]
        },
        {
          "output_type": "stream",
          "name": "stdout",
          "text": [
            "Epoch [79/100] Step [146500/187500]  d_loss : 0.7998 g_loss :0.4190024137496948\n"
          ]
        },
        {
          "output_type": "stream",
          "name": "stderr",
          "text": [
            "train:  41%|████      | 767/1875 [00:06<00:09, 111.32it/s]"
          ]
        },
        {
          "output_type": "stream",
          "name": "stdout",
          "text": [
            "Epoch [79/100] Step [147000/187500]  d_loss : 0.6268 g_loss :0.3050343692302704\n"
          ]
        },
        {
          "output_type": "stream",
          "name": "stderr",
          "text": [
            "train:  68%|██████▊   | 1271/1875 [00:11<00:05, 111.16it/s]"
          ]
        },
        {
          "output_type": "stream",
          "name": "stdout",
          "text": [
            "Epoch [79/100] Step [147500/187500]  d_loss : 0.6789 g_loss :0.32773149013519287\n"
          ]
        },
        {
          "output_type": "stream",
          "name": "stderr",
          "text": [
            "train:  94%|█████████▍| 1762/1875 [00:15<00:01, 112.91it/s]"
          ]
        },
        {
          "output_type": "stream",
          "name": "stdout",
          "text": [
            "Epoch [79/100] Step [148000/187500]  d_loss : 0.6798 g_loss :0.3622048795223236\n"
          ]
        },
        {
          "output_type": "stream",
          "name": "stderr",
          "text": [
            "train:  21%|██        | 394/1875 [00:03<00:13, 108.22it/s]"
          ]
        },
        {
          "output_type": "stream",
          "name": "stdout",
          "text": [
            "Epoch [80/100] Step [148500/187500]  d_loss : 0.7327 g_loss :0.3870192766189575\n"
          ]
        },
        {
          "output_type": "stream",
          "name": "stderr",
          "text": [
            "train:  48%|████▊     | 894/1875 [00:07<00:08, 115.22it/s]"
          ]
        },
        {
          "output_type": "stream",
          "name": "stdout",
          "text": [
            "Epoch [80/100] Step [149000/187500]  d_loss : 0.6198 g_loss :0.27236390113830566\n"
          ]
        },
        {
          "output_type": "stream",
          "name": "stderr",
          "text": [
            "train:  74%|███████▍  | 1386/1875 [00:12<00:04, 112.80it/s]"
          ]
        },
        {
          "output_type": "stream",
          "name": "stdout",
          "text": [
            "Epoch [80/100] Step [149500/187500]  d_loss : 0.6256 g_loss :0.3015706539154053\n"
          ]
        },
        {
          "output_type": "stream",
          "name": "stderr",
          "text": [
            ""
          ]
        },
        {
          "output_type": "stream",
          "name": "stdout",
          "text": [
            "Epoch [80/100] Step [150000/187500]  d_loss : 0.6063 g_loss :0.2168777883052826\n"
          ]
        },
        {
          "output_type": "stream",
          "name": "stderr",
          "text": [
            "train:  28%|██▊       | 519/1875 [00:04<00:11, 116.40it/s]"
          ]
        },
        {
          "output_type": "stream",
          "name": "stdout",
          "text": [
            "Epoch [81/100] Step [150500/187500]  d_loss : 0.6533 g_loss :0.33677443861961365\n"
          ]
        },
        {
          "output_type": "stream",
          "name": "stderr",
          "text": [
            "train:  54%|█████▍    | 1011/1875 [00:08<00:07, 112.41it/s]"
          ]
        },
        {
          "output_type": "stream",
          "name": "stdout",
          "text": [
            "Epoch [81/100] Step [151000/187500]  d_loss : 0.5694 g_loss :0.30750787258148193\n"
          ]
        },
        {
          "output_type": "stream",
          "name": "stderr",
          "text": [
            "train:  81%|████████  | 1514/1875 [00:13<00:03, 110.97it/s]"
          ]
        },
        {
          "output_type": "stream",
          "name": "stdout",
          "text": [
            "Epoch [81/100] Step [151500/187500]  d_loss : 0.6687 g_loss :0.30153587460517883\n"
          ]
        },
        {
          "output_type": "stream",
          "name": "stderr",
          "text": [
            "train:   8%|▊         | 143/1875 [00:01<00:15, 112.61it/s]"
          ]
        },
        {
          "output_type": "stream",
          "name": "stdout",
          "text": [
            "Epoch [82/100] Step [152000/187500]  d_loss : 0.5769 g_loss :0.24852018058300018\n"
          ]
        },
        {
          "output_type": "stream",
          "name": "stderr",
          "text": [
            "train:  35%|███▍      | 648/1875 [00:05<00:10, 111.94it/s]"
          ]
        },
        {
          "output_type": "stream",
          "name": "stdout",
          "text": [
            "Epoch [82/100] Step [152500/187500]  d_loss : 0.6133 g_loss :0.26808881759643555\n"
          ]
        },
        {
          "output_type": "stream",
          "name": "stderr",
          "text": [
            "train:  61%|██████    | 1147/1875 [00:10<00:06, 118.50it/s]"
          ]
        },
        {
          "output_type": "stream",
          "name": "stdout",
          "text": [
            "Epoch [82/100] Step [153000/187500]  d_loss : 0.6714 g_loss :0.23230776190757751\n"
          ]
        },
        {
          "output_type": "stream",
          "name": "stderr",
          "text": [
            "train:  88%|████████▊ | 1643/1875 [00:14<00:02, 115.45it/s]"
          ]
        },
        {
          "output_type": "stream",
          "name": "stdout",
          "text": [
            "Epoch [82/100] Step [153500/187500]  d_loss : 0.6136 g_loss :0.3526473343372345\n"
          ]
        },
        {
          "output_type": "stream",
          "name": "stderr",
          "text": [
            "train:  14%|█▍        | 264/1875 [00:02<00:14, 111.42it/s]"
          ]
        },
        {
          "output_type": "stream",
          "name": "stdout",
          "text": [
            "Epoch [83/100] Step [154000/187500]  d_loss : 0.7597 g_loss :0.3525073528289795\n"
          ]
        },
        {
          "output_type": "stream",
          "name": "stderr",
          "text": [
            "train:  41%|████      | 768/1875 [00:06<00:09, 114.05it/s]"
          ]
        },
        {
          "output_type": "stream",
          "name": "stdout",
          "text": [
            "Epoch [83/100] Step [154500/187500]  d_loss : 0.7308 g_loss :0.4182167649269104\n"
          ]
        },
        {
          "output_type": "stream",
          "name": "stderr",
          "text": [
            "train:  68%|██████▊   | 1273/1875 [00:11<00:05, 114.98it/s]"
          ]
        },
        {
          "output_type": "stream",
          "name": "stdout",
          "text": [
            "Epoch [83/100] Step [155000/187500]  d_loss : 0.6661 g_loss :0.40828073024749756\n"
          ]
        },
        {
          "output_type": "stream",
          "name": "stderr",
          "text": [
            "train:  94%|█████████▍| 1765/1875 [00:15<00:00, 114.30it/s]"
          ]
        },
        {
          "output_type": "stream",
          "name": "stdout",
          "text": [
            "Epoch [83/100] Step [155500/187500]  d_loss : 0.7023 g_loss :0.18949085474014282\n"
          ]
        },
        {
          "output_type": "stream",
          "name": "stderr",
          "text": [
            "train:  21%|██        | 391/1875 [00:03<00:13, 107.82it/s]"
          ]
        },
        {
          "output_type": "stream",
          "name": "stdout",
          "text": [
            "Epoch [84/100] Step [156000/187500]  d_loss : 0.6338 g_loss :0.3598051965236664\n"
          ]
        },
        {
          "output_type": "stream",
          "name": "stderr",
          "text": [
            "train:  48%|████▊     | 894/1875 [00:07<00:08, 116.94it/s]"
          ]
        },
        {
          "output_type": "stream",
          "name": "stdout",
          "text": [
            "Epoch [84/100] Step [156500/187500]  d_loss : 0.6499 g_loss :0.3258454203605652\n"
          ]
        },
        {
          "output_type": "stream",
          "name": "stderr",
          "text": [
            "train:  74%|███████▍  | 1388/1875 [00:12<00:04, 111.71it/s]"
          ]
        },
        {
          "output_type": "stream",
          "name": "stdout",
          "text": [
            "Epoch [84/100] Step [157000/187500]  d_loss : 0.7335 g_loss :0.267419695854187\n"
          ]
        },
        {
          "output_type": "stream",
          "name": "stderr",
          "text": [
            ""
          ]
        },
        {
          "output_type": "stream",
          "name": "stdout",
          "text": [
            "Epoch [84/100] Step [157500/187500]  d_loss : 0.5521 g_loss :0.22204303741455078\n"
          ]
        },
        {
          "output_type": "stream",
          "name": "stderr",
          "text": [
            "train:  28%|██▊       | 518/1875 [00:04<00:11, 113.85it/s]"
          ]
        },
        {
          "output_type": "stream",
          "name": "stdout",
          "text": [
            "Epoch [85/100] Step [158000/187500]  d_loss : 0.7098 g_loss :0.30337512493133545\n"
          ]
        },
        {
          "output_type": "stream",
          "name": "stderr",
          "text": [
            "train:  54%|█████▍    | 1012/1875 [00:08<00:07, 112.14it/s]"
          ]
        },
        {
          "output_type": "stream",
          "name": "stdout",
          "text": [
            "Epoch [85/100] Step [158500/187500]  d_loss : 0.6831 g_loss :0.425250768661499\n"
          ]
        },
        {
          "output_type": "stream",
          "name": "stderr",
          "text": [
            "train:  81%|████████  | 1518/1875 [00:13<00:03, 113.86it/s]"
          ]
        },
        {
          "output_type": "stream",
          "name": "stdout",
          "text": [
            "Epoch [85/100] Step [159000/187500]  d_loss : 0.6748 g_loss :0.453284353017807\n"
          ]
        },
        {
          "output_type": "stream",
          "name": "stderr",
          "text": [
            "train:   8%|▊         | 144/1875 [00:01<00:15, 115.08it/s]"
          ]
        },
        {
          "output_type": "stream",
          "name": "stdout",
          "text": [
            "Epoch [86/100] Step [159500/187500]  d_loss : 0.6632 g_loss :0.2555723488330841\n"
          ]
        },
        {
          "output_type": "stream",
          "name": "stderr",
          "text": [
            "train:  35%|███▍      | 647/1875 [00:05<00:10, 112.73it/s]"
          ]
        },
        {
          "output_type": "stream",
          "name": "stdout",
          "text": [
            "Epoch [86/100] Step [160000/187500]  d_loss : 0.6765 g_loss :0.35812318325042725\n"
          ]
        },
        {
          "output_type": "stream",
          "name": "stderr",
          "text": [
            "train:  61%|██████    | 1139/1875 [00:10<00:06, 114.21it/s]"
          ]
        },
        {
          "output_type": "stream",
          "name": "stdout",
          "text": [
            "Epoch [86/100] Step [160500/187500]  d_loss : 0.7241 g_loss :0.36474156379699707\n"
          ]
        },
        {
          "output_type": "stream",
          "name": "stderr",
          "text": [
            "train:  88%|████████▊ | 1644/1875 [00:14<00:02, 111.57it/s]"
          ]
        },
        {
          "output_type": "stream",
          "name": "stdout",
          "text": [
            "Epoch [86/100] Step [161000/187500]  d_loss : 0.7219 g_loss :0.2728850841522217\n"
          ]
        },
        {
          "output_type": "stream",
          "name": "stderr",
          "text": [
            "train:  14%|█▍        | 263/1875 [00:02<00:14, 110.83it/s]"
          ]
        },
        {
          "output_type": "stream",
          "name": "stdout",
          "text": [
            "Epoch [87/100] Step [161500/187500]  d_loss : 0.6548 g_loss :0.27693453431129456\n"
          ]
        },
        {
          "output_type": "stream",
          "name": "stderr",
          "text": [
            "train:  41%|████      | 769/1875 [00:06<00:09, 113.45it/s]"
          ]
        },
        {
          "output_type": "stream",
          "name": "stdout",
          "text": [
            "Epoch [87/100] Step [162000/187500]  d_loss : 0.7995 g_loss :0.44247952103614807\n"
          ]
        },
        {
          "output_type": "stream",
          "name": "stderr",
          "text": [
            "train:  68%|██████▊   | 1273/1875 [00:11<00:05, 115.60it/s]"
          ]
        },
        {
          "output_type": "stream",
          "name": "stdout",
          "text": [
            "Epoch [87/100] Step [162500/187500]  d_loss : 0.7074 g_loss :0.3435524106025696\n"
          ]
        },
        {
          "output_type": "stream",
          "name": "stderr",
          "text": [
            "train:  94%|█████████▍| 1765/1875 [00:15<00:00, 112.07it/s]"
          ]
        },
        {
          "output_type": "stream",
          "name": "stdout",
          "text": [
            "Epoch [87/100] Step [163000/187500]  d_loss : 0.6459 g_loss :0.2661474049091339\n"
          ]
        },
        {
          "output_type": "stream",
          "name": "stderr",
          "text": [
            "train:  21%|██        | 395/1875 [00:03<00:13, 112.00it/s]"
          ]
        },
        {
          "output_type": "stream",
          "name": "stdout",
          "text": [
            "Epoch [88/100] Step [163500/187500]  d_loss : 0.7639 g_loss :0.45207536220550537\n"
          ]
        },
        {
          "output_type": "stream",
          "name": "stderr",
          "text": [
            "train:  48%|████▊     | 898/1875 [00:07<00:08, 114.17it/s]"
          ]
        },
        {
          "output_type": "stream",
          "name": "stdout",
          "text": [
            "Epoch [88/100] Step [164000/187500]  d_loss : 0.6585 g_loss :0.34132900834083557\n"
          ]
        },
        {
          "output_type": "stream",
          "name": "stderr",
          "text": [
            "train:  74%|███████▍  | 1390/1875 [00:12<00:04, 112.67it/s]"
          ]
        },
        {
          "output_type": "stream",
          "name": "stdout",
          "text": [
            "Epoch [88/100] Step [164500/187500]  d_loss : 0.7125 g_loss :0.41065239906311035\n"
          ]
        },
        {
          "output_type": "stream",
          "name": "stderr",
          "text": [
            ""
          ]
        },
        {
          "output_type": "stream",
          "name": "stdout",
          "text": [
            "Epoch [88/100] Step [165000/187500]  d_loss : 0.6315 g_loss :0.4011272192001343\n"
          ]
        },
        {
          "output_type": "stream",
          "name": "stderr",
          "text": [
            "train:  28%|██▊       | 516/1875 [00:04<00:11, 113.33it/s]"
          ]
        },
        {
          "output_type": "stream",
          "name": "stdout",
          "text": [
            "Epoch [89/100] Step [165500/187500]  d_loss : 0.7477 g_loss :0.3463591933250427\n"
          ]
        },
        {
          "output_type": "stream",
          "name": "stderr",
          "text": [
            "train:  54%|█████▍    | 1020/1875 [00:09<00:07, 113.03it/s]"
          ]
        },
        {
          "output_type": "stream",
          "name": "stdout",
          "text": [
            "Epoch [89/100] Step [166000/187500]  d_loss : 0.7168 g_loss :0.30925482511520386\n"
          ]
        },
        {
          "output_type": "stream",
          "name": "stderr",
          "text": [
            "train:  81%|████████  | 1512/1875 [00:13<00:03, 114.78it/s]"
          ]
        },
        {
          "output_type": "stream",
          "name": "stdout",
          "text": [
            "Epoch [89/100] Step [166500/187500]  d_loss : 0.6848 g_loss :0.2772349715232849\n"
          ]
        },
        {
          "output_type": "stream",
          "name": "stderr",
          "text": [
            "train:   8%|▊         | 141/1875 [00:01<00:15, 114.65it/s]"
          ]
        },
        {
          "output_type": "stream",
          "name": "stdout",
          "text": [
            "Epoch [90/100] Step [167000/187500]  d_loss : 0.7773 g_loss :0.4462911784648895\n"
          ]
        },
        {
          "output_type": "stream",
          "name": "stderr",
          "text": [
            "train:  34%|███▍      | 642/1875 [00:05<00:10, 113.47it/s]"
          ]
        },
        {
          "output_type": "stream",
          "name": "stdout",
          "text": [
            "Epoch [90/100] Step [167500/187500]  d_loss : 0.6956 g_loss :0.41799622774124146\n"
          ]
        },
        {
          "output_type": "stream",
          "name": "stderr",
          "text": [
            "train:  61%|██████    | 1144/1875 [00:10<00:06, 113.62it/s]"
          ]
        },
        {
          "output_type": "stream",
          "name": "stdout",
          "text": [
            "Epoch [90/100] Step [168000/187500]  d_loss : 0.6346 g_loss :0.35192739963531494\n"
          ]
        },
        {
          "output_type": "stream",
          "name": "stderr",
          "text": [
            "train:  87%|████████▋ | 1637/1875 [00:14<00:02, 111.59it/s]"
          ]
        },
        {
          "output_type": "stream",
          "name": "stdout",
          "text": [
            "Epoch [90/100] Step [168500/187500]  d_loss : 0.7055 g_loss :0.31981921195983887\n"
          ]
        },
        {
          "output_type": "stream",
          "name": "stderr",
          "text": [
            "train:  14%|█▍        | 263/1875 [00:02<00:14, 114.33it/s]"
          ]
        },
        {
          "output_type": "stream",
          "name": "stdout",
          "text": [
            "Epoch [91/100] Step [169000/187500]  d_loss : 0.7327 g_loss :0.2936825156211853\n"
          ]
        },
        {
          "output_type": "stream",
          "name": "stderr",
          "text": [
            "train:  41%|████      | 767/1875 [00:06<00:09, 115.28it/s]"
          ]
        },
        {
          "output_type": "stream",
          "name": "stdout",
          "text": [
            "Epoch [91/100] Step [169500/187500]  d_loss : 0.7429 g_loss :0.35552066564559937\n"
          ]
        },
        {
          "output_type": "stream",
          "name": "stderr",
          "text": [
            "train:  68%|██████▊   | 1271/1875 [00:11<00:05, 113.75it/s]"
          ]
        },
        {
          "output_type": "stream",
          "name": "stdout",
          "text": [
            "Epoch [91/100] Step [170000/187500]  d_loss : 0.7131 g_loss :0.2799184322357178\n"
          ]
        },
        {
          "output_type": "stream",
          "name": "stderr",
          "text": [
            "train:  94%|█████████▍| 1764/1875 [00:15<00:00, 113.51it/s]"
          ]
        },
        {
          "output_type": "stream",
          "name": "stdout",
          "text": [
            "Epoch [91/100] Step [170500/187500]  d_loss : 0.6876 g_loss :0.3508167266845703\n"
          ]
        },
        {
          "output_type": "stream",
          "name": "stderr",
          "text": [
            "train:  21%|██        | 395/1875 [00:03<00:13, 111.91it/s]"
          ]
        },
        {
          "output_type": "stream",
          "name": "stdout",
          "text": [
            "Epoch [92/100] Step [171000/187500]  d_loss : 0.5563 g_loss :0.3766654431819916\n"
          ]
        },
        {
          "output_type": "stream",
          "name": "stderr",
          "text": [
            "train:  48%|████▊     | 896/1875 [00:08<00:08, 110.57it/s]"
          ]
        },
        {
          "output_type": "stream",
          "name": "stdout",
          "text": [
            "Epoch [92/100] Step [171500/187500]  d_loss : 0.6483 g_loss :0.28046053647994995\n"
          ]
        },
        {
          "output_type": "stream",
          "name": "stderr",
          "text": [
            "train:  74%|███████▍  | 1396/1875 [00:12<00:04, 109.85it/s]"
          ]
        },
        {
          "output_type": "stream",
          "name": "stdout",
          "text": [
            "Epoch [92/100] Step [172000/187500]  d_loss : 0.6986 g_loss :0.3525441884994507\n"
          ]
        },
        {
          "output_type": "stream",
          "name": "stderr",
          "text": [
            ""
          ]
        },
        {
          "output_type": "stream",
          "name": "stdout",
          "text": [
            "Epoch [92/100] Step [172500/187500]  d_loss : 0.7445 g_loss :0.3683367371559143\n"
          ]
        },
        {
          "output_type": "stream",
          "name": "stderr",
          "text": [
            "train:  27%|██▋       | 514/1875 [00:04<00:12, 110.97it/s]"
          ]
        },
        {
          "output_type": "stream",
          "name": "stdout",
          "text": [
            "Epoch [93/100] Step [173000/187500]  d_loss : 0.6265 g_loss :0.3544287383556366\n"
          ]
        },
        {
          "output_type": "stream",
          "name": "stderr",
          "text": [
            "train:  54%|█████▍    | 1015/1875 [00:09<00:07, 111.85it/s]"
          ]
        },
        {
          "output_type": "stream",
          "name": "stdout",
          "text": [
            "Epoch [93/100] Step [173500/187500]  d_loss : 0.5521 g_loss :0.37935250997543335\n"
          ]
        },
        {
          "output_type": "stream",
          "name": "stderr",
          "text": [
            "train:  81%|████████  | 1520/1875 [00:13<00:03, 113.34it/s]"
          ]
        },
        {
          "output_type": "stream",
          "name": "stdout",
          "text": [
            "Epoch [93/100] Step [174000/187500]  d_loss : 0.5693 g_loss :0.3268511891365051\n"
          ]
        },
        {
          "output_type": "stream",
          "name": "stderr",
          "text": [
            "train:   8%|▊         | 144/1875 [00:01<00:15, 112.80it/s]"
          ]
        },
        {
          "output_type": "stream",
          "name": "stdout",
          "text": [
            "Epoch [94/100] Step [174500/187500]  d_loss : 0.7636 g_loss :0.37655213475227356\n"
          ]
        },
        {
          "output_type": "stream",
          "name": "stderr",
          "text": [
            "train:  34%|███▍      | 642/1875 [00:05<00:11, 111.53it/s]"
          ]
        },
        {
          "output_type": "stream",
          "name": "stdout",
          "text": [
            "Epoch [94/100] Step [175000/187500]  d_loss : 0.6423 g_loss :0.2218490093946457\n"
          ]
        },
        {
          "output_type": "stream",
          "name": "stderr",
          "text": [
            "train:  61%|██████    | 1146/1875 [00:10<00:06, 113.24it/s]"
          ]
        },
        {
          "output_type": "stream",
          "name": "stdout",
          "text": [
            "Epoch [94/100] Step [175500/187500]  d_loss : 0.5879 g_loss :0.31980815529823303\n"
          ]
        },
        {
          "output_type": "stream",
          "name": "stderr",
          "text": [
            "train:  87%|████████▋ | 1639/1875 [00:14<00:02, 113.18it/s]"
          ]
        },
        {
          "output_type": "stream",
          "name": "stdout",
          "text": [
            "Epoch [94/100] Step [176000/187500]  d_loss : 0.6888 g_loss :0.37681692838668823\n"
          ]
        },
        {
          "output_type": "stream",
          "name": "stderr",
          "text": [
            "train:  14%|█▍        | 264/1875 [00:02<00:14, 112.66it/s]"
          ]
        },
        {
          "output_type": "stream",
          "name": "stdout",
          "text": [
            "Epoch [95/100] Step [176500/187500]  d_loss : 0.7196 g_loss :0.3677901327610016\n"
          ]
        },
        {
          "output_type": "stream",
          "name": "stderr",
          "text": [
            "train:  41%|████      | 769/1875 [00:06<00:09, 114.25it/s]"
          ]
        },
        {
          "output_type": "stream",
          "name": "stdout",
          "text": [
            "Epoch [95/100] Step [177000/187500]  d_loss : 0.7405 g_loss :0.34052035212516785\n"
          ]
        },
        {
          "output_type": "stream",
          "name": "stderr",
          "text": [
            "train:  67%|██████▋   | 1265/1875 [00:11<00:05, 111.64it/s]"
          ]
        },
        {
          "output_type": "stream",
          "name": "stdout",
          "text": [
            "Epoch [95/100] Step [177500/187500]  d_loss : 0.6798 g_loss :0.3469131290912628\n"
          ]
        },
        {
          "output_type": "stream",
          "name": "stderr",
          "text": [
            "train:  94%|█████████▍| 1768/1875 [00:15<00:00, 111.33it/s]"
          ]
        },
        {
          "output_type": "stream",
          "name": "stdout",
          "text": [
            "Epoch [95/100] Step [178000/187500]  d_loss : 0.7508 g_loss :0.27724140882492065\n"
          ]
        },
        {
          "output_type": "stream",
          "name": "stderr",
          "text": [
            "train:  21%|██        | 388/1875 [00:03<00:13, 111.90it/s]"
          ]
        },
        {
          "output_type": "stream",
          "name": "stdout",
          "text": [
            "Epoch [96/100] Step [178500/187500]  d_loss : 0.6134 g_loss :0.27192988991737366\n"
          ]
        },
        {
          "output_type": "stream",
          "name": "stderr",
          "text": [
            "train:  48%|████▊     | 893/1875 [00:07<00:08, 116.13it/s]"
          ]
        },
        {
          "output_type": "stream",
          "name": "stdout",
          "text": [
            "Epoch [96/100] Step [179000/187500]  d_loss : 0.6826 g_loss :0.3423122763633728\n"
          ]
        },
        {
          "output_type": "stream",
          "name": "stderr",
          "text": [
            "train:  75%|███████▍  | 1397/1875 [00:12<00:04, 113.21it/s]"
          ]
        },
        {
          "output_type": "stream",
          "name": "stdout",
          "text": [
            "Epoch [96/100] Step [179500/187500]  d_loss : 0.6259 g_loss :0.36203569173812866\n"
          ]
        },
        {
          "output_type": "stream",
          "name": "stderr",
          "text": [
            ""
          ]
        },
        {
          "output_type": "stream",
          "name": "stdout",
          "text": [
            "Epoch [96/100] Step [180000/187500]  d_loss : 0.6291 g_loss :0.37351322174072266\n"
          ]
        },
        {
          "output_type": "stream",
          "name": "stderr",
          "text": [
            "train:  27%|██▋       | 515/1875 [00:04<00:12, 112.84it/s]"
          ]
        },
        {
          "output_type": "stream",
          "name": "stdout",
          "text": [
            "Epoch [97/100] Step [180500/187500]  d_loss : 0.7620 g_loss :0.3975884020328522\n"
          ]
        },
        {
          "output_type": "stream",
          "name": "stderr",
          "text": [
            "train:  54%|█████▍    | 1019/1875 [00:08<00:07, 110.33it/s]"
          ]
        },
        {
          "output_type": "stream",
          "name": "stdout",
          "text": [
            "Epoch [97/100] Step [181000/187500]  d_loss : 0.6219 g_loss :0.27726614475250244\n"
          ]
        },
        {
          "output_type": "stream",
          "name": "stderr",
          "text": [
            "train:  81%|████████  | 1523/1875 [00:13<00:03, 113.30it/s]"
          ]
        },
        {
          "output_type": "stream",
          "name": "stdout",
          "text": [
            "Epoch [97/100] Step [181500/187500]  d_loss : 0.6672 g_loss :0.3976743817329407\n"
          ]
        },
        {
          "output_type": "stream",
          "name": "stderr",
          "text": [
            "train:   8%|▊         | 144/1875 [00:01<00:15, 108.24it/s]"
          ]
        },
        {
          "output_type": "stream",
          "name": "stdout",
          "text": [
            "Epoch [98/100] Step [182000/187500]  d_loss : 0.6688 g_loss :0.2471235990524292\n"
          ]
        },
        {
          "output_type": "stream",
          "name": "stderr",
          "text": [
            "train:  34%|███▍      | 645/1875 [00:05<00:10, 113.96it/s]"
          ]
        },
        {
          "output_type": "stream",
          "name": "stdout",
          "text": [
            "Epoch [98/100] Step [182500/187500]  d_loss : 0.7336 g_loss :0.4492032825946808\n"
          ]
        },
        {
          "output_type": "stream",
          "name": "stderr",
          "text": [
            "train:  61%|██████    | 1138/1875 [00:10<00:06, 112.61it/s]"
          ]
        },
        {
          "output_type": "stream",
          "name": "stdout",
          "text": [
            "Epoch [98/100] Step [183000/187500]  d_loss : 0.7349 g_loss :0.26999402046203613\n"
          ]
        },
        {
          "output_type": "stream",
          "name": "stderr",
          "text": [
            "train:  88%|████████▊ | 1643/1875 [00:14<00:01, 116.65it/s]"
          ]
        },
        {
          "output_type": "stream",
          "name": "stdout",
          "text": [
            "Epoch [98/100] Step [183500/187500]  d_loss : 0.6329 g_loss :0.3621751070022583\n"
          ]
        },
        {
          "output_type": "stream",
          "name": "stderr",
          "text": [
            "train:  14%|█▍        | 265/1875 [00:02<00:14, 110.95it/s]"
          ]
        },
        {
          "output_type": "stream",
          "name": "stdout",
          "text": [
            "Epoch [99/100] Step [184000/187500]  d_loss : 0.7053 g_loss :0.371121883392334\n"
          ]
        },
        {
          "output_type": "stream",
          "name": "stderr",
          "text": [
            "train:  41%|████      | 769/1875 [00:06<00:09, 112.08it/s]"
          ]
        },
        {
          "output_type": "stream",
          "name": "stdout",
          "text": [
            "Epoch [99/100] Step [184500/187500]  d_loss : 0.6698 g_loss :0.4743524193763733\n"
          ]
        },
        {
          "output_type": "stream",
          "name": "stderr",
          "text": [
            "train:  68%|██████▊   | 1270/1875 [00:11<00:05, 109.02it/s]"
          ]
        },
        {
          "output_type": "stream",
          "name": "stdout",
          "text": [
            "Epoch [99/100] Step [185000/187500]  d_loss : 0.7411 g_loss :0.23776653409004211\n"
          ]
        },
        {
          "output_type": "stream",
          "name": "stderr",
          "text": [
            "train:  94%|█████████▍| 1771/1875 [00:15<00:00, 112.80it/s]"
          ]
        },
        {
          "output_type": "stream",
          "name": "stdout",
          "text": [
            "Epoch [99/100] Step [185500/187500]  d_loss : 0.5832 g_loss :0.223016157746315\n"
          ]
        },
        {
          "output_type": "stream",
          "name": "stderr",
          "text": [
            "train:  21%|██        | 397/1875 [00:03<00:12, 113.91it/s]"
          ]
        },
        {
          "output_type": "stream",
          "name": "stdout",
          "text": [
            "Epoch [100/100] Step [186000/187500]  d_loss : 0.7293 g_loss :0.3702705502510071\n"
          ]
        },
        {
          "output_type": "stream",
          "name": "stderr",
          "text": [
            "train:  47%|████▋     | 890/1875 [00:07<00:08, 112.95it/s]"
          ]
        },
        {
          "output_type": "stream",
          "name": "stdout",
          "text": [
            "Epoch [100/100] Step [186500/187500]  d_loss : 0.7546 g_loss :0.39503416419029236\n"
          ]
        },
        {
          "output_type": "stream",
          "name": "stderr",
          "text": [
            "train:  74%|███████▍  | 1395/1875 [00:12<00:04, 116.43it/s]"
          ]
        },
        {
          "output_type": "stream",
          "name": "stdout",
          "text": [
            "Epoch [100/100] Step [187000/187500]  d_loss : 0.6474 g_loss :0.2873915731906891\n"
          ]
        },
        {
          "output_type": "stream",
          "name": "stderr",
          "text": [
            "                                                           "
          ]
        },
        {
          "output_type": "stream",
          "name": "stdout",
          "text": [
            "Epoch [100/100] Step [187500/187500]  d_loss : 0.6725 g_loss :0.3466090261936188\n"
          ]
        },
        {
          "output_type": "stream",
          "name": "stderr",
          "text": [
            "\r"
          ]
        }
      ]
    },
    {
      "cell_type": "code",
      "source": [
        "from PIL import Image\n",
        "from IPython.display import Image as Img"
      ],
      "metadata": {
        "id": "8Mj5QPeBSHJa"
      },
      "execution_count": null,
      "outputs": []
    },
    {
      "cell_type": "code",
      "source": [
        "# Save Images to gif file\n",
        "path = 'samples'\n",
        "img_list = os.listdir(path)\n",
        "img_list = [path + '/' + x for x in img_list]\n",
        "img_list = sorted(img_list)\n",
        "imgs = [Image.open(x) for x in img_list[1:-1]]\n",
        "\n",
        "im = imgs[0]\n",
        "im.save('out.gif', save_all=True, append_images=imgs[1:],loop=0xff, duration= 200)"
      ],
      "metadata": {
        "id": "R08rHcNsSqpe"
      },
      "execution_count": null,
      "outputs": []
    },
    {
      "cell_type": "markdown",
      "source": [
        "# Real Image vs Fake images\n",
        "\n",
        "#### Real -> fake_1 -> fake_10 -> fake_25 -> fake_50 -> fake_100"
      ],
      "metadata": {
        "id": "J400x-TQQfsx"
      }
    },
    {
      "cell_type": "markdown",
      "source": [
        "![image.png](data:image/png;base64,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)"
      ],
      "metadata": {
        "id": "8NpEPCebQw7i"
      }
    },
    {
      "cell_type": "markdown",
      "source": [
        "![image.png](data:image/png;base64,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)"
      ],
      "metadata": {
        "id": "GinqQdZ9Qcil"
      }
    },
    {
      "cell_type": "markdown",
      "source": [
        "![image.png](data:image/png;base64,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)"
      ],
      "metadata": {
        "id": "OdKPeqAyQe8h"
      }
    },
    {
      "cell_type": "markdown",
      "source": [
        "![image.png](data:image/png;base64,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)"
      ],
      "metadata": {
        "id": "NVXbkiNbQ0f4"
      }
    },
    {
      "cell_type": "markdown",
      "source": [
        "![image.png](data:image/png;base64,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)"
      ],
      "metadata": {
        "id": "T2s_2qCbQ7qd"
      }
    },
    {
      "cell_type": "markdown",
      "source": [
        "![image.png](data:image/png;base64,iVBORw0KGgoAAAANSUhEUgAAAPIAAAB6CAYAAACFiw4RAAAgAElEQVR4nOx9d3hU1db3OudMn/QeEhIIJKF3QQSpAoKIgCjyiqgIKChiL3i5XlSUooiKgFxERRFRmlxUikgXpRMkoSUhIb1PMr39vj/07HcmmZnMTCbIfT/W86wn5Zyzy9pr77322qtwRAS6CTfhJvxXA/93N+Am3ISb0HRotonM866L5jiOOI5rrmqdQBCE61JPoCDQdHFXXlPr4TiOZDJZg/9LJJImlett3b6AyAMcx1FCQoLb8uqX64pPXfG0Oz6/3uCxFU1ppN1ud/l/oHFJPlAMbbPZAlJOc4M4AbyhjStwR6/GyvN1oov8AIDMZnOD51ar1WN9jZXvDfhCI47jGA8AoOLiYqdnjpNYnPA8z7Pf4+PjSaVSUWhoKHEc16Du2NjYG2Yic+THGTk1NZUuX75MHMeRSqUiAKTX69lzQRAaTCKe591O7ptALhkl0GXW/1sqlZLFYmlSHUqlkoxGIwmC4PVEDiR4w1eO/Cj+7opH64NEIvGqT96+15zg10RmH7tYWQEw0ctkMrn9rilMy/M8Q4lEQgDIYDAErPzmBk8DL7ZdKpWS1WolAMTzPAHwuU+OTB4eHk7V1dVNbrtjG/9uaKwdjv2XSqVs4iqVStLpdE2ut/7PvxO8lgvESSsIAslkMkpKSqIpU6ZQUVER5eXlUXZ2Nl26dInatWtHX3/9NW3atIkEQXA72f0BUQRKSUmhb7/9lgoLC6mwsJAyMjJo1apVFBMTQzExMRQeHk5KpdKvOpobeJ5vMIldncVkMhlNnTqV6urqSKvVkl6vp507d9KcOXNIKpV6VZfjTuXtJG5M7OV5nkJDQ0mhUHhVni/gqm5RBBY3h9TUVOrUqRNJpVI2idyBWq1mv4eEhJDdbicATZrERNRgEns7Hs0NqI8SiaTB/4gIarUa6enpuHjxIiwWC6xWK+x2u9PvJpMJ2dnZiIyMBMdxEATBZVmuUC6Xe3zOcRwUCgVGjBgBvV4Pu90OEUwmEwoLC7F//37MnTsXcXFx4DgOHMd5XX8gMDw83Os+12+bXC5HcHAwevbsienTp6Ompga1tbWwWCwwGo0wGo0oKSnBtGnT3I5RIJHjODbmYrt69uyJ5ORkREZGgud5r/rlK0qlUrz11luwWCyoDzabjfGcVCr1mrZKpRIcxzl94/iOqzZzHOexj2JZMpnMY398GSue56FUKhESEuITzZiaUVxh3Il9EomEPvzwQ3r44YdJEAS2GtntdjKbzcTzPNlsNpJIJJSXl0cymYxUKpVPq587UVyEoKAgGjFiBH355ZckkUjIbrczZYMgCBQeHk4REREUExNDWq2Wta8pIK74jkeGu+++m2QyGf3000+k1WrJarUSx3F0yy23UF1dHfE8T5WVlW7LEyWS+ufX+Ph4KigooMuXL1Pr1q1p7969dOLECXr00UdJLpeT0Wgknudp/PjxVFFRQbt373bSTdQv310/vOmzSqWiqVOnUrdu3Wjz5s3UqlUrGj9+PPXt25csFgt9+eWX9NFHH3nsn6/AcRylpqbS0aNHKSwszEmRBMBpvAsLC2nu3Lm0cOHCRvmG4zimCxB5WyKRMB1BUFAQKZVKSk9PJ7PZTCUlJVRaWsokAa1W69Qn8agjltkYj3l7fhYEgS5fvkzJycmk1+spLCzMa4Utm8hiQ8VKHQdEEATatWsXDRo0iKxWK9ntdjIajWSxWOiTTz6ha9euUV1dHT355JMEgMrKyojjuAZM1lQAQN27d6c//viDsrOzqa6ujux2Ow0dOpSUSiWp1Wpq1aoV2Ww2nxeR+sBxHAUFBVFMTAxJpVLieZ4WL15MvXv3ptDQULp27Ro9+eSTNGjQIOJ5nlQqFcnlcoqOjqbLly977IM7uHr1KgmCQGazmXbu3EknT56ksLAwKioqooiICAoJCaFz587RCy+8QN27dyeJREJbt251Gmx35Xs7ucRrmjZt2lBmZibt2rWLKisrKTg4mFJTU6lFixYUFBREKSkpLs+HTZnEK1eupAkTJjAGLisro+TkZLJYLGyTGTduHE2ePJnOnj1LCxYs8DhJxLYBcPkeAIqKiqI1a9ZQr169SKlUksViIZPJRFlZWVRSUkIvvPACGQwGp+/FBUXsvzdt8PSc4zhq3749nT17lmnM5XI5ffTRRzRr1iyvy21ULBg9ejSsViu0Wi3efvttpKamIioqyknsUKlUSE9Px4EDBzBgwACPYo8/yHEcoqKisHnzZhQXF+PJJ59EbGwsoqOjoVQqMWPGDFy5cgUGgwHV1dXo3r273yKeWq3GtGnT8PDDD2PlypWYN28erly5Ar1eD41GA4PBALvdjuPHj6NVq1aQy+V4+eWXUVtbi+XLl/vU9/rinSAIUCgUEASBiVlxcXGQy+WQSqWIjo7GpEmTUF5ejsLCQsTFxflVlzsUBAGtW7fG6NGj0bFjR8jlciiVSsTExGDNmjUwmUwwm8346quvIJfLncqUyWQuxUhvRMuJEyeipqYGNpsNZrMZvXv3dvmeUqnEzJkzcffdd0MQBI99kslkbp+LtF20aBEyMzNRXV2NkydPYunSpTh16hSKi4uxfft2zJgxA3K5HDzPs6Max3GQy+WNHgW9mVurVq1qcEwEALvdjoqKCl942PMLcrkckydPRmVlJXr16uX2zBAeHo49e/YgPz8f/fr1C+jZVDyP3H///aitrUVZWRlyc3MRFRXFzjEJCQnQaDSw2+0wGAzo378/+96X84ZSqURubi6sViv0ej1MJhOsVivMZjPWrl2L48ePo3v37rjrrrvw/vvvg+d5hIaGori4GHa7HSdPnmy07+6eixPZkcaOzCO2r7y8HGazGdXV1YiPj3c7Ib2hqyPyPI+goCCMGDECCxcuRFJSEoKCgpCQkIDXXnsNNTU1MJvNKCkpQWJiIptIjsztjj88oUKhwOLFi2EwGGCz2TB8+PAG7ec4DuHh4UhPT8f69evRp08fVr+rhUKlUjU6iYKDgzFq1Cg8+uijbGMSBAFSqRRJSUkYP348HnroIfTt2xdBQUGsbxKJhI2Hv3weHByMDRs2wGq1wmq1NtAFAIDZbPblfO35BXEl8rT6RURE4Ny5c7Db7TCbzVCr1QGbxDzPQ6VSIT4+Ht26dcMXX3yBw4cPY9q0aVAoFIyYt9xyC8xmM+x2O/Ly8jB58mS/iPz555/DbrfDbrfDZrPBZDKhrq4Ox44dQ69evdiiwvM8I3JaWhrMZjNsNhuMRmOjk8hTuzw9k0qlGDp0KBv8/fv3u1XeeEtbiUSCsLAwBAcHQ6lUIjExEXPmzMGSJUsQHR2N8PBwnDlzBhaLBTabDRUVFRg1apTT5Bcnkz+TWPx28eLFqK2txblz5xoojwRBwMSJE5GdnY3Zs2ejc+fOCAkJYfW5U1S5q4/neaSkpODee+/Fm2++iZ49ezq1XS6XIzExEY8//jg2bNiAJUuWIC4uDlKp1KMCzNv+jho1CuXl5SgvL0dubi4qKytRVlbWYCLrdLrA7cjeNGzdunVMa71q1aomT976zDZr1iy89tpr6NatG3ieR/v27RsM9tKlS2Gz2QAABoMBY8eO9UnEFQQBEokERUVFTAu+detW/PLLLxg9ejRbrV31/8KFC4z4Wq0WoaGhAaWBSIf7778fOp0ONpsNWq0WHTp08HtHEHcYpVKJ0NBQRERE4JlnnsHKlSvx6quvQiqVIiQkBImJiSgvL4fNZoPBYMC8efOcdmJHpk5NTfWrLWq1GsXFxbBYLGjXrl0DOqtUKuTn56O8vBw//vgjhg4divDw8Eb5UqSbWIdcLkd4eDhatmyJ6dOnY9OmTSguLkZhYSE6dOiApKQktG/fHtOnT8eDDz6IadOmYd26dRg6dChatGjB2uVIc19vD+bOnQur1croqVQqsWTJElRUVDSYyO+//74vtz7/y8j+DEJYWBjWr1+PqqoqZGZmenVmcySEp91boVCgR48euHLlCj7//HMoFAqXjCuTydg5w26349SpU36dXw4dOsSIOHLkSHZl4e59QRDYxBehvLy8SSu2K+R5HkuWLEFWVhY7OmzYsMFlPe6uVDyNr1qtRqdOnXDixAlkZ2djxIgRCA4ORlBQEFauXAmdTgej0Yj58+c7iaw8zzstqBzHQalUOpXtzWIql8uh1WphNptRXFzcQMqYN28eTCYTMjIyEB4e7vXiJYr6ouQhis2tWrXCkiVLcPr0aRiNRlgsFtTU1KC0tBQ1NTU4cOAAvv76a3z88cf49NNPMXToUJcSqauJ7QmVSiXMZjPjFYPBgKeeegr/+c9/XIrW58+fZ/T0og7/GUyhUCA9PR0vvvgi1q1bh549ewb0bNy6dWtcvXoVGo0GK1ascFm2UqnE+++/D5PJBJPJhOLiYtx1110N3m1sciUlJbGzis1ma3QhkEql+OOPP5yUFHa7Hc8++6wTM7/22mtNogHHcXj33XdhtVqZeHv+/Hm3Z2NP5bh7xvM81Go11q5di127duGJJ57AuHHjsGzZMuh0Ouh0Oly6dAlBQUEud+KmolwuR35+PqxWK3Q6HdNpCIKAzz77DBUVFcjPz0dKSorP/Q0PD0e3bt0QGhoKmUwGuVyO5ORkPPDAAzhw4AAuXryInJwcpgvRaDR4+umnMWfOHPz444/48ssv0apVK7f0a9eundftOXjwoBO/GAwG1NXVuZzEdrsdVVVVTTsjNzYZpVIp+vXrhyNHjqCurg46nQ4TJ05kZwhP3/qy8z/00EOorq5GeXk57rjjDnYOE1fYoKAgDBo0CMXFxdBoNCgvL8eaNWsQFRXlc59mzJjhZOASEhLi9uwllUob7MR2ux2zZ88Gz/Ps7O4PbevjggULWLusViuOHj2KN998s1GNbVJSks8TSiaT4amnnsK2bduQl5fHdslr164hJiamgeLNFTamZHKHbdu2xW+//YaioiKsXbsWb731Fs6fP4+vvvoK3333HTp16uRzmeJYiRNR1PUEBQXhrrvuQufOnaFSqaBQKNCqVSv06dMHarUaSqUSY8eORVlZGTIyMpCQkOCy/ODgYK8lP47j8Oyzz7KJLOpg3IFWq0XHjh39PyM39qFcLsfEiRNRWloKi8UCu92O2tpaREREQCKRNLqCuJvsrnbQX375BRaLBeXl5Zg3bx7atWuH/v37o0WLFkhISEBYWBj+8Y9/oK6uDhaLBadPn8a4ceMatbRxh3PnzmWEFM8xNpsNRUVF0Gq1KCkpYVck9eH48eMQBMHrhcqbHS0iIoLVZbPZUFBQgF27dmHmzJno06ePk/bUF+b29FyhUGDOnDnQaDTsLD5o0KCAHxdctatLly7QarWszzk5OYiPjw+YlCeWo1AoEBIS4lbs53ker776KgwGA/R6PTp06OATDT2NeV1dHex2O/R6PSorKxtsBuJYjx8/3qeyGziQwsPldatWrejJJ5+kMWPGkFKpJLPZTBqNhlatWkU6nY7i4+OpqqqKbDab23IsFgvFxsZSaWmp23qIiDp06ED9+/dntr3PPPMMTZgwgdavX09//PEH1dXVkVKppNDQUHbhv2TJEtq2bZtfRgkcxzEHDM7BrY3oT3c2ImfbXUeorKyk3r17+2R00ZjXTkhICF25coVZzG3fvp1+/PFHiouLo6SkJCooKPDL4wgujDgcwWKxkFQqJZVKRXa7nQ4cOEBHjx69Lp5ro0aNIqVSyay3oqOjSaPR+DWejvR1NAzhOI5MJhOZTCaPxjOiLblWq6XevXtTVlaWS4u8iIgIqqqq8qpNdrudoqKiqFu3bnT77bfTww8/TOHh4U7ulABo3759tHXrVp/77PWsX716NYqLi1FWVoZPP/0Uly5dwsaNG7Fjxw7MmjUL2dnZyMrKQvv27dGnTx+0bt0aoaGhSExMZHe+3tyxqlQqzJgxg515MzIycOHCBTzzzDPMllkQBAwdOhRarRYmkwlarbaB4sWXvnEch8GDB+Pnn39ucDnvuGLW343tdnsDBY8vdTr+LYrlvXr1Ql5eHqxWKwwGA6ZOnQqZTIagoCAMGTIEU6dOxaJFi9yK8P4qLon+1DmId+I1NTWIjY31a+f3FZOTk5GRkcH0AKJUNHDgQL/Kk8lkDe7kveUNjuPwyCOPoKqqCidOnMDo0aMDbhehUChwzz33sFsIUT9jNpt91n/8hd69mJSUhLNnz8JqtaKkpAQvvfQSCgsL2STSarXsHtlgMDALoMrKSpjNZkyZMoWdbRvTBKtUKmzevBm1tbXIycnB+PHj0bVrVyQnJ0MqlUIQBLz++uswGo1MU71ly5Ymi3+JiYlo164dHn74YVRWViI7OxuVlZU4ffo0unfvjt69eyMjI4MZ7ttsNowbN86vuupPtvDwcIwePRpnzpyBXq+H0WjEvn370LVrV8aQwcHBGDx4MHbt2oXnnnvO5QLijZ7CE65du5aJdy+++CKCgoIQFRXVwJLPE5P6wtCiQc2SJUtQXV2NPXv24MUXX2R35b/88otf/XF3nne3mTj+XxAETJs2DcXFxZg7d26j52B/j3I8z+Orr75iOhDgz7tjbxVo9dD1A0eG4HkeI0eORE5ODqqrq1FVVcW0jOKuJGqN9Xo9ampqWOMMBgN++uknr7VvPM9j3rx5+OOPP7B8+XJ07doVEokEcrkcrVq1Qnx8PDp16uTkGWM2m9G5c2e/mdeXARHvzG02G/744w9ERET4PHiumCgxMREbN26EVquFTqfD+vXrkZyczBR8KpUKKSkpeOWVV/DOO+9gwYIFbpV6vhhIOKIgCIyuGo0GoaGhzDji0UcfRXBwsNtyfZUCBEHA4MGD0bdvX6SkpOCRRx7BqlWroFAowPM8Lly4AKPRiOrqar8kDEeDncbo4GjwxHEcgoODsWXLFuTk5DR6neqqPG/bK5VKcf78eScpT6/X+3X74zLIEsdx1KNHD8rOziatVksdO3akW265hUJDQ0mn05HZbGbn4PLycjp79izNmzePIiMjKT09ne655x665ZZb6PXXX6etW7eSWq1mjgyNOVKkpqZSmzZtqGXLljR58mQqLy+nli1b0okTJ2js2LE0cOBAGjNmDDtX2O12OnXqFF26dMljud6Aq/A1jiCVSqm0tJSd4SwWC9XV1flUh6uzJgCqrq4muVzO2rBo0SKqrKwkQRDoscceo9jYWJo2bRoZDAayWCy0ZcsWslgsDSJdiJ5p9b1mGjsbExE99NBDJAgC2e12WrBgARvndu3aUVJSkku/W7Fc8SzvLaSmptLmzZspPz+fioqKaO7cubRhwwYymUwkCAItW7aMPvjgA7LZbMwrzB246hf3l9OL2Wx24jlX/YeDZxUAioyMpC5dulB5eblLLzbHyCquyrPZbF55gcnlckY7Eaqrq0mlUnn8zh00WMl4nseYMWNQVFQEnU6HrKws1NbWwmg0QqfTobKyElOmTIFarXa7w/h6j0t/rWTdu3fHzp07ndT0onbcEcUz1OXLl5GQkNDsWlWxfaIZqN1uR2ZmZsDKlkgkWLZsGSorK1FcXIzDhw/j1VdfxZw5c3D58mV2/VRbW4tvvvkG3bt3dzLc98X219U7PM/j3XffZWamw4cPh1QqRVpaGh5//HH069cParXaaWy90Xm4Qp7nsXbtWibZHDt2DBMmTIBSqYRcLkdaWhpKS0uh0WiQmZmJpKQkr+pxFEn9MYPl/rIXv++++1BVVYWDBw822NVjYmLYFZt4veXvmLdp08bJostms2HgwIH+Ho0a/lOtVuP8+fO4cuUKrFYrc2gvKirC22+/7bPTsy8M1rZtWxw4cABardatwsloNOL06dN49913IZVK3Z67A62gadu2LfR6PQDAYrHgnXfe8ascV6IXz/OIiopCWVkZzGYzTCYTqqurYTKZmDLEaDTis88+w/jx4xtYxIm6A0/97t69u0faP/LIIygqKkJhYSFWrFiB1157Dbt378Zvv/2GtLQ05k3krnxvF1OVSoVZs2YxvYrRaMSmTZvwxhtvoK6uDlarFRUVFSgqKkKfPn0gk8nYBuNrvb6e2UNDQ3Hq1CmUlpbiqaeecvqe53mkp6cHjL8kEgkMBoPTEbEJASNcP1i8eDGuXbuG2tpanDlzBoMHDw5IVApvyoiNjcXSpUtRU1PDdj+dTodTp05h+vTpLo0hGiNqIHZsQRBw8OBBaLVaWK1Wv51D3J2hOI7DsGHD8MYbb+DXX3/F1atXsX//fpw4cQLz589HdHR0A9fBQPWf53mEhYVh0qRJeO+995g+xGg0YufOnQgNDWUOEq764OuEiY+Px/Lly3H58mWcO3eO3a+KE/vll192cozwB/25uXjggQewa9cuFBQUYMKECUxXpFarmYmnIx2IPOtWPCnKOI5DaWmp0/nYnfGJF+i+ATzP++Tv6g8DeepkZGQkVCpVkzWxgUKe59G1a1ds2rQJ7733XpPEquawx3ZFQ3e/i3+LFnKOkk1oaCjeeecdZGVl4YcffkBSUhKbuOKtAse5dh/0BQVBQFpaGoYMGYLPP/8cy5Ytw/LlyxEcHBwQ+jgeAbxZeHiex8KFC1FRUYGKigr89ttviIqKglQqZQsoz/Po1atXwMZt6NChbCLrdLrA7cjuBvwm/kmPX3/9Fbt378b06dP/9va4a6Mv7yqVSpe7gMi0rsqTSqVsZ3LFM383DRxRnICOd+4ymQxqtRphYWGMx6VSKSZPnoy8vDyUlpbCbDbj0UcfhUwmc1qwBUFAZGSk09/e3Eu7eyYIAlatWoXp06c3aWNoUjhcX0EmkzXQDIsWON5o+fyF5izbVwhkWxorq/7z+vHYFAoF0xJ7ssarD2q1ukEYJX8014EAdxZy3F8hdDxZpIk3HwBIEASaM2cOjRw5kkJCQmj37t309ttvk9FoZHRpLj7ieZ4UCkWTQ2Ndl13C150iEPU6rsI32k7RHOhuB/U0Hp6iRDZW1qOPPsp+dxfmxxU2xfLMFxSlCvFvccdrrJ2iYs2x/+LRo/67QUFBfjuKBLSvf/1yE27CTfgvhhsjcc1NuAk3oUnwt09k8Zzy3wg3ajaLGwk4jqOWLVt69R6RcxI1nued+EP8XSqVuuQbRwup5uKrG5VfPU7k69FoV8qDrl27BqRsx4ENBNSnh2O+qRsFAjlmnIN7nbdQP5UtALp27Rp7JgaDF8utb6JI9L9ZNMUULxzHUUhIiFMcace2OZrrOtZL5LwY+EubmJgYp3Lr97GxlDHR0dF+1esL3BBnZF+z2XnSHnqTZc+bcnwFd/a+N4q2vLnBnfZY9FsXn9XXADvSSExc507bXN/H2DFRYH1Nuifau2pr/bIFQSCJRELp6ekkk8no0qVLpNfryWazkd1ud3kD83fD365xCxS6sjf2V1vt7Xf137vvvvv+djo0hX6+GiR4Y29cv0xHT6OmtlkMqudJ++74e3BwcAM+cfUzMjIS33//PUpKSrBp0yZMnz4dCQkJSEtL88uPoLnxbz8jNxV4nqc2bdpQixYt2P8cV2J/d0T8lc60MfFcLF9MVv7dd98FVLwVBIH69u1Ljz/+eLMn1YaL1Co8z5NUKiWJRMLS2C5cuJAsFgvp9Xr6xz/+wbyw3IFjmdxfycdRL02sKCL7SjvRc8ndDl6/jrq6ugaRPlz9DAoKIrvdTjU1NRQXF0c7duygiooKlhfcEW6UvN8+r8DDhw/Hgw8+iKSkJMTGxjJzzuthSulYviAILNi3TqfDrl273Nq2+rpqjh07lsXsGjZsmNsyeZ7HgAEDMH36dDz55JM+W+c0Rq/U1FRcuHABVqsVO3fuDHgqHk/tkslkeOONN6DRaGA2m6HVavH++++jqqqK0ebMmTMeaevqblv0OXasS/QflsvlkEgkiIqKQkxMDAYMGOA2Sonjru5NsEFvAwC0bt0aV65cQW1tLfLz87F371506tQJwcHBzcLjSqUS/fr1w9dff43t27ezaDq+lOHSH9kdxMTE0IwZM2jMmDFUVFREn332Gen1epozZw5VVlZSfHw8jR49mrZt20YXL16kyspKunjxoi9VeASpVEodO3YkpVJJWVlZZLfbKSQkhKqqqkitVtMnn3ziNjNf/VUzLS3NrQ/zgAED6LvvvmM7YLt27WjPnj0uy5RIJGy3WrNmDfNT9RYakxjq6uqobdu2JAgCDRgwgNq2bUtZWVk+1eErhIaGEhHRxIkT6emnn6agoCDiOI4qKipIqVTSqVOnaODAgcRxHJWUlFD37t3p3LlzLs+M4hg57oQmk4kpoRyVUlFRURQcHEyDBg2iUaNGUXBwMLVu3ZquXLlCBw8epC+++IKKi4uZEsyRdvn5+R77JJFIvDrTchxHvXv3JqlUSrW1tfTSSy/RwYMHqbKykpRKZcAt17p06UKnT59m0oPVaqVjx47R9u3bae3atXT16lXS6XSsv0ql0q0FmNerxhNPPIELFy7AZDLBYDCwmFI5OTlYtmwZSkpKnPLYXLx4ERs2bAjYChYeHo4pU6Zg6NChiI6ORlJSElq2bImTJ09iwYIFaNOmTcB2IzFSRnV1daPvDhgwAMuWLUN0dHRAV2qR7mLwfYPBgFtvvdUvX1tvUaFQYNy4cUhPT8fSpUtx5swZ5OTk4MEHH0RCQgKzz77tttuwfft2TJ061Wt7Y0/vqFQqjB07Fps3b0ZlZSXzfc/MzMQ333yD7777Dh9//LHH3d/RBtpf7NatGzIzM/HVV19h1qxZ7Hwvtj9QZ3tBEJh3n+ieq9Pp0LJlS7Rv3x4dO3bEkSNHUFBQgKNHj2LIkCGNZTBx/cBRJOI4DrNnz0ZtbS2uXbuG/Px8VFRUQKPR4Oeff8bq1auxcuVKfP/9904T2WQyIT8/P2C5oAYPHozs7GxMnDgREokEMpkMSUlJeOaZZ1BQUOB3ELz6GBMTw4jbrVs3j++GhITg008/xQ8//IBu3br57Q7ALzAAACAASURBVNjvDuPi4qDRaFBVVYVdu3ZhwoQJfvfLU7xtEVu0aIFRo0bhgQceQI8ePRAREeEysZxSqcSwYcMaTd3iTX85jkPLli1ZqCPR/7qurg6lpaXYtWsX8vPzsWbNGrfKOI7jXHrq+ULrpKQkXL58GWVlZTh16pRfIq43uHDhQhb3TQyTdddddzmZrorBDcQEgk899ZTbQB5/4Z+/1Ld/jYuLY6tPYmIiiouLUVBQgEOHDuHIkSM4d+4cnn76aXz88cdITEyEXC6HWq1GXFwcxowZg8rKSthsNly7dg1paWlN7nzHjh1RVFSEa9euoUWLFmyhCQ4ORl1dHQwGQ8B2xOTkZEbkQYMGuX1PEARMmjQJJpMJx44dc+sr3BTcuHEjjEYjbDYbPv74Y78DvXmDgiDgpZdewtWrV3H69GmEhYW5nDhyuRxJSUlIS0trwFju+l/fi6h+vfPnz0dhYSGMRiMqKyuh1+tRW1uL2tpa5Obm4j//+Q/mz5/vUaveFJdblUqFH3/8kUVhWbx4cbPk8OrWrRvb6LRarcuYb6NHj0Z1dTWLK/7DDz8gMjLSSfJxQWfXFYpq/cTERLzwwgu4fPkydu/ejRdffBGHDx/GunXr8Nxzz7G8vfW/79SpE6qqqmA2mxEZGelXVBFH5lixYgVyc3Px4YcfOjGPIAgsmma/fv0CQuzU1FQW8sZTREOe5/Hiiy/CYrFg2bJlTv8PRBAGImIJ1Gw2G/bt2xeQhUI08q8vikqlUpSXl7NoqOPHj29QnyAI6Ny5MwYPHhwwxQ/HcWjXrh2mTJmCw4cPY9u2bdixYwdKS0uRlZWFbdu24aWXXkJiYqLHsfC3fqlUiiNHjkCr1aKsrAxXr15Fq1atWP8cxWnOhW+zL3j58mUW1scVj8hkMqekBCNGjPC2bPfEFeMs33nnnfjmm28wbtw4vP/++8jIyEB8fLzHFSsyMhJ5eXmw2+1YunSpz9Em6w9SXV0d9Hp9A620mMDNZrP57IXibvBHjBiBVatW4fjx41izZo1HZt27dy/sdnuzJG8jIuTn5zMxf926dQEJayORSBAaGoqgoKAGDG0ymQD8GQ+toKCASQAiM0dFReG2225Du3btvNage3uuVKlUiIiIwIABAzBo0CB88MEHOH36NDZs2IC+fft6XBzrezp5Gl/Hb1q0aIGsrCwYDAZYLBZs27YNX3/9NVavXo2xY8ciMTERCoUCcrm8QT5of/hYTOJmMpkaPO/SpQtOnTrFduxJkyZ5XY/Hi0lBECg8PJwkEglt2rSJ9Ho9rV69msaOHUs1NTWk0WjcfltTU0O33norGY1GKi8vp9dee4098/WuUKlUkkQiobq6ugba53vuuYcUCgVZrVaXJpOe6nLnxxoXF0cZGRmkVqvp5ZdfdqtZ5jiOBgwYQBzHkVKp9OnO2lsaFBYWkslkIo7jKDo62uN9rbdgtVpJo9GQVqt1+r/FYqGLFy8y//ATJ05Qeno6cRxHUqmUunXrRtOnT6crV67Q5cuXvdLQi+aJwcHBjb6r1+tJo9HQyZMnKSwsjKxWK1mtVjp79ixVVVU1uEfnOI5CQ0PZfX99+jfmi9ypUyf65ZdfqG3btqRQKMhut1Pr1q1p+PDh9Nhjj9G3335LZ86coeHDh9PQoUMpISGB1Gq13/f5o0ePZjwqRu0U2/LKK69Q+/btKT09nXQ6HS1atIg2bNjgNU95vH5SKBTE8zxNnTqVdu3aRQAoNzfXY7oNEWw2GyUkJBDHcTRz5kx66KGHnFJ3+AIzZ84knudp0aJFDYwLPvnkE+I4ji5evOg21Kmv0KNHD5o4caLLsLIi8DxPISEhzBCkrq6O1Gp1g8nhDrxt18CBA1mZXbp08fidL0EG3EH37t0pJSWFli9fThKJhO655x6Sy+X0+uuvU35+Pn3zzTdUXl7udfsrKirYIuwN2Gw2stlsFB0dTYMGDSKDwUAVFRWUm5vbwFgFAOn1ep/5iud5SkhIoA0bNlCbNm1YCODMzEzav38/Pfroo8wGHAC99NJLdOLECVKpVLR9+3a/A2Hs3LmT+vTpQ8eOHaOioiI6f/48HTx4kPr27UvJyclktVrJZrNRUlIS1dTU+FQ2kQexIz4+Hm+88Qa++OILjB8/3qV5mqfvH3vsMdhsNuzfvx9t27Zt9H13/zcYDKitrUVkZKTTe7GxsSzq4m233eZX+Y6oVqshlUqxYcMGlJeXw2q1omPHjg3ETzFF59KlS5kYVFVV5bO45a1oqtFomHLkejnlq9VqXLx4EQaDgWUM+e2333xWAAUHB7M8094ePZRKJQ4dOgSdTofjx48jKSmp0Qwl3tJSrVZj6tSpeO6551BdXQ2LxQKj0YicnByWFzotLQ0DBgzAs88+iw8//BBXr17F77//ji+++KKBeO+PiM1xHFJSUnD+/HmWUUM8E3ubddJrZRfHcQgJCUHbtm1x8OBBVFZW+hRzVy6XIycnBzabDadPn/b7jq9z586w2Wwwm81ISUmBSqWCIAhQKpWYPXs2qqqq8MYbbzBroaaeUyUSCY4ePcqIW1tbi5iYGMTExGDChAmoqqrCiBEjEB0djerqanZ+vXLlSrNcVXAcx0IDm83mZrmrdoWCIKCqqopdj1RXV+PDDz/0S4nnK11atGgBo9EIs9mMn3/+ucEC7g2KV56O/MDzPJKTk7F161ZcvnwZZ86cweHDh/Gvf/0L/fv3b7BYcByH0aNH48qVK7BYLMjJyQnIXbVY9uzZs52yTNhsNrz33nv+8pH7ipRKJbKyspjiw1WKksYYwWKxYPHixX5PsLS0NJhMJpSVleHEiRP44IMP0Lt3byxatIitZgMGDEDLli3Rv39/JCYmMmbzt86IiAgcP37c6T7TYrHAYrFg7969CA4ORlhYGIxGI4A/w5j6mXirUZTJZNDpdAD+jKXdlHtkXzApKQlGoxEWiwXV1dX48ccfERsb63M5kZGRPl2ZcRyH1NRU6HQ6GI1GbN682ascxO525NDQUAiCwBR8b775Ji5cuICffvoJL730Etq2bYuoqCiEhYU1MGzhOA6DBg2CXq+HxWLBlStXAjqR582bx9LXiokYCgoK0LZtW58ns9tTO8dx9Pvvv1NaWhppNBpas2aNy/QZ7kAikbADPddIEDRPkJ+fT3q9nqRSKRkMBiooKKBbb72VHn/8cRIEgQV8S0pKoqCgIKquriar1cqUF/5AdXU1vfDCC6TX68lsNpNcLmemmFarleLi4mjgwIEkk8mIiOjgwYNUUVHhV12NAcdxdPLkSTIajSQIAj366KMe3xfP7E2tc/PmzaTRaKioqIiI/tSXeJs+1BEqKytdKsU8KfvuvvtuppuorKxs1CxSdMRwVaZGoyG73U4qlYreeecdmjFjBrVu3ZqIiLZu3UrFxcVUXV1NtbW1JJPJSCaTseAGUVFRNHv2bOJ5nkwmEz322GN+0cAVxMXF0b59+2jSpEn0/fff00cffURbtmyh4OBgOnDggF8+zK5nOM8jKysLAFBaWopZs2b5tELcfffd7BqjKZZd8fHx6N+/Pzp06MDiC99zzz1MJLl06RLat2+P8PBwl0b1/tTJ/eWaN3LkSMyePRuFhYXMRLKmpgb3338/PvvsM7ZjB8LgxR2GhITgX//6F8tIUFVV5XdZ3mZT3LNnD06dOoWBAwciOzsbNpsNdXV1zWqMIqJcLseePXtgtVpRWlqKMWPGeG2S6k7sVygUuP322/HVV19Br9fDarXi3Llz6N27N1JSUhAeHo7w8HAkJyfj5Zdfxi233ILbbrsN69evR2ZmJsrKyrBixQr06tUrIMenESNGICcnBzNnzmSB/3meh0wmw/Hjx2G1Wv3Z+V0/aN26Na5evQqbzQaDwYDevXt7XWhSUhJLrWKz2ZrUeUEQEBUVxc4vHMdhyJAhLH+v46V9czAWx/2ZZUA0VWzdujXatGmDPXv2wG63o6yszCvRz19UKpUYPnw4u981m81etdmbsiUSSQORtEOHDti3bx8GDhyIyMhIdk7W6/V+K9pEZVdjbeM4Dl27dkVtbS0sFgv+9a9/Nbjrdle+u7JFJVt4eDhmzpzJrAALCgrw66+/4ssvv8SqVavw+eefY+XKlbh27Rp27NiB48ePo7a2FpWVlfj+++8REhISEEWjRCLBDz/8gF9++aWBvkMikTC7em/Maeuh+4etWrVCQUEBampqkJWV5VXCZ0EQ8O2337IdUzS0b0rn659bLl++DJ1Oh1atWvldZt++ff3+Nj4+Hrm5uTCbzXjllVcCZsXlCnmex5QpU5jCqyk7cn0MCQlBZGQkkpOTERwcjPvvvx+DBg3CI488gg4dOmDv3r0wGAyw2+04ffo0S+Lmqa3uxs9RKvNkxnn27Fm2SKempnq1AIhMX79+x4nHcX8GTVi9ejVKS0tRXV0Ns9mMuro6VFRU4OTJk0ypV1VVhQsXLuDo0aMYPHiwV04h3mJCQgIqKyuxZMmSBmUePnyYSbF+1OeZiQYNGoRff/0VRqMRhw4dwpgxY5ySeQUFBSE+Ph7JycmIjIzEm2++iT179sBms0Gj0QR0p+Q4Dv3792dKruacQJ7acMcdd6CsrAx6vR4rV65s1ggRHMehd+/eLN/02bNnA2YWGRkZid27d+Po0aPQaDQsQX1tbS3Ky8thMBhgs9mwfv16pKSkICwsjFk5+VpXY+/wPI9///vfLNulVqt1khbEndVVWaKi0dMVpvhMIpGgV69e2LZtG1atWoXMzExcunQJJ0+eZNlHz5w5gzlz5gQ8XrUgCMxD8MCBA07tPXLkCNNe63Q6f8p3/1AmkyE1NRWbNm1CXV0diouLceDAAdx55524++67sXXrVqxYsQJVVVXYuXMnDh06hCFDhuD222/HiRMnfFrJvHlPKpUyTfGlS5eaTZxuDLdu3cocGepn7As0CoKAw4cPo7q6GlarFYMHDw5Y2cnJyfj000+Rm5vL7lQtFgvTotpsNnz//fcYPHgwZDIZc4zxdeHq3bt3o2Ipz/PspsBms2HhwoVOC3V9e2d/ecixPjGQgRgUIykpCcHBwX710RuMiIhwMtHs1q0b1Go1MjMz2SS22+2NJnJz00/PH0RGRiIlJQV33XUX8vLyUFdXB7PZjGvXrrEcOWVlZaiursbGjRsRFhbWbO5fU6ZMYUyWlZUV8PK9xdOnTzNGP3r0KMLCwpqtLvGaoq6uDkePHkVwcHCTynNk0KioKAwbNgzTpk3DmjVr8Prrr2Pv3r2orq7GuXPn8Pjjj0OpVDJGd5WBwRsm8zY39rZt26DT6VBcXIy5c+c66UVc1ROodKrXC2UyGYYMGcKkDlGMFifwoUOH/F5APN5VAKDKykrSaDRksViof//+REQ0ZMgQ6tOnD3Xr1o3OnTtHR48epYKCAvr999/JZDL5FBHTW+A4jh555BEWZfHOO+9sUnlNiYL4888/0+nTp0mv19O6desaDYfaFABA5eXlNGLECMrKyvLaBNQdOF7JVVRU0M8//0wcx9Fnn33m9I5oBywIAqlUKhalwpv2eqrTnWmjTCajwsJC4nmeVCoVtW/fnsLCwqiqqsrlNaJjGWKZjhFUHZ+7i/DZVPDVTFPkt8mTJ9OGDRtYtM7ly5fT008/3aSIq16FwxUJIZFIWOA0V2Fn63fMH3tUdyCRSCgjI4Peffdd0uv1tHHjxv+aULOBpMN/G4h2BDabjWJjY53stKVSKVksFma33qdPH8rNzaW6ujpKSkqi3377zW2Zom214yQNCgpq8kLnC/gzrjKZjKxWK9ntdhIEgQUPbHJbyIuJfD2gOZm9uVbkGxH+rr66Gz/RM8nVTultGZ42iN69e9Px48cbxMj+/w1umHC4zTkA15OxPVksefNNUy2z/q4Fy934wSHErthPzk3YW1Gcj42NZf+Ty+U0cuRIp+8df6+urvbYhvvuu8+nfrgCV231ZpxVKlWT6/YWbpgd+SbchJvgP9wwO/JNuAk3wX9o0kRu7swH9bXBnsQZ8Vl8fDz7n1qtZv+XSCTUqVOnZmjlfwf4I/L/XwC5XB7Q94ian+/9Ab9Fa1eKBZFZ3Ck9vD2/BQUFeXXd4U654WtSuJtwE7yBG1lp6vfS4moCiVcCrsBbAoSGhpJWq3U7QYmIhWGJjIx0WYa7SSy6r90o0JSV/f/XHfbvhBt1EhP9Fym7RMYVBIG+/vprio2NpYKCApo/fz7l5OS4nbziKioIAikUCqfUm4GAmJgYqqmpCViKTW+uUG5KHDfBFfhs4ieVSrFixQqcPn260VhZIjbVZC42NhZTp05FRUUF6oNer0d0dLRLt7zmxB9++AFnz57F6NGjm9VMk4jwzTffsKD5zen/7A67du0Kk8mEP/74o0kxyj3xB8/zCA0NxbBhw7B582bMmzcPSUlJN6S55Q2Ivn8UFxeH8vJymM1mlJaWNps/rkwmg0qlQr9+/TBjxgwcOnTIyTZVtHc2m824ePEivvjii+uaq3b79u2w2+2oqqpCenq6X2V46xkkxgcD4HWAtkDi/v37mbF/Y0b9vvRdJpMhPT0dhw4dYuMpjq0YL2z37t0Bq8/xb0EQIJfLER8fj9jYWCQkJDDnEF8Wj0AGXJBIJF5llmzAI+QA3sZM1mq1VFpaykzr2rZt2+iZTQyLUx/EOl1937NnT5LL5aTRaMhkMpFWq6Wvv/6a9uzZQ8OHDyelUklRUVE0a9YsOnXqFOXn51/Xc8ykSZOI4zgKCgryO+ukN4YwPM9TUFAQ+9vx96aAt+dsjuPotttuY20pKSlpct0SiYRCQkJo+vTpdO7cOerfvz/TfTgajEilUho4cGCTbeuJnGnN8zylpaXR4sWLaf/+/XT06FHKy8sjo9HI4ms/++yzlJKSQlKp1CkGdX1o6rFq/vz5VFNTQ5s3b6a3336bAPhlGOTXyibmybFYLCgpKWk0gZq/4X4kEgnCw8MhCAIiIyNZKg/Hdzp16oS77767Qeja5saFCxcCAEpKSpq1no4dOzq5uc2ePfu69nPSpEksUESg6ua4P/N2rV+/nqXFESORXLlyBdnZ2TCZTLBYLLDb7ViwYEFARexWrVph3759yM/Ph16vZwEUxCB42dnZKCoqwvLly7F161bmchhIia979+44d+4cq9dgMGD37t3QaDSYNm2arxFJ/vcPXxp55MgRJ/Fny5YtXn3nKyFatmzZIG2J43NBEPDOO+/AaDQ2el73x1FcIpG4DWAgxtGKiYlpEkM3xqA9e/Z0msj+iF5NwezsbFZ3U/paH5VKJVQqFYuCKpVKoVAoEBERgQ4dOiA/P5/xmF6v9/ls7o6ugiDggw8+YIEETpw4gZUrV+LZZ59Fnz59kJSUhOHDh2PFihXQaDTIy8vDRx99FNBAFnK5HK1bt2YpZIcMGQKlUomuXbvip59+gtlsxrp163wp07+GlJaWOuV2/fzzzwPKPCKDp6SkeHzv4MGDsNvtqKio8Oir60+8JY7j8NNPP2Hr1q0un4vQ3MqYoUOHOk3kQCWr85bhxPhrgY744jjOjn8LgoB3330XRUVFbKfOy8vD1KlTA1JfbGwsMjIyUFFRgcLCQiQmJjbol0wmw++//w6LxQKdToeFCxcGrO/BwcFYvXo1HnzwQbz55psNePOZZ56B0WiEXq93Kcl6HVjAmwaLMaRE5lq+fHlAB1hURHhaBTdu3AiLxQKr1YoZM2YEnInffvtt6HQ6vPDCCy6fixDoeuvjd99950TrKVOmNHudIg4dOpQpofbu3dvs9QmCgIiICCQlJSE3Nxd//PEHiouLkZOTg2HDhjW5fI7jcO+997JQRq6Sp3McB7lczjarkpIStG7dOiD943keR48exdSpUxEaGupyroWGhkKr1cJoNHqtRHVpkeCNAubUqVPMAMRms1FWVlaj3/gCNpvNY5ACqVRKd955J9ntdtq6dauTY3wggPsrsZZSqSS1Wt3geUJCAgGgFStWBLReVzB69GindrkzhAk0KBQK5gBvs9lo8uTJzV6nmPepqqqKOnXqRPfffz+tWbOG5HI56XS6JhnCcBxHCoWCWrZsyeJgx8fHk0KhcHqH4ziKiYlh/9PpdFRTUxMQI5zg4GDq0aMHPfvss2Q0Gl3ONa1Wy3yufTFi8mtlWbRoEculW1ZWhh49enhcBf2tx11569atw/bt23Hp0iW0aNHCbR2e8ht7wpqaGgDA9u3bXZ7rRR3BqFGj/O6HoxTjTnfA8zwTbUW4Xnfl6enp7Ix67dq163KfKwgCYmNjMWzYMMjlctx6660oKSlhfOZLKtf6/5NIJAgODsYzzzyD4uJiGI1GaLVavPjiiyy+nCAIEAQBt912G6t3+/btLsPy+kOPBx54ADabDd99951HGojx03xIR+wfwSdOnMjudDUaTZOC0PuCISEh+P7773Hp0iXs3bsX69at83pwvXlPEARUVlYC+DMmt7v3dDod7HY73nrrrQYD6+u9onhuc9ceURchitbXg86CIKCwsBAAYDAYMGfOnGatj/srXO3DDz+M48eP48MPP0R4eDh+/fVXJ11Mp06d/NYccxwHlUqFuLg4TJ48maVrMZlM+Oc//4nWrVujffv26NWrF06ePAmz2Qyz2Yw5c+a4jTPta8C/zMxMFBUVudTncByHDh06oFOnTjCZTCxuu5fl+9eoBx54gDFXRUVFQNTyjdX/xBNPQKfTwWAw4MKFC9izZ0+jmkyxzM6dO3vVBjHPEgDk5OS4fGfw4MGMuWpra7Fo0SJkZmaitrYWISEhaNOmjV/9d2VY069fP6fd+OTJk02mszcYERHB9CAnT570J2C61ygIAmbNmoWrV6/CarVCo9Ggffv2kEgk+Oc//+nU/7y8PL94rX7gQI7jsGDBAqZM02q1KCoqQklJCWpra9l1lE6nwyuvvBIQ/uZ5Hlu3bsXo0aMbPMvMzITNZkNJSQny8/OZNt2HOelfo3bs2MGIW1paGtAg9K4wLCwMtbW1sNvtsFqt0Gq1WLhwYaPaaF/aFR4e7rT71dTUIDQ0FGFhYXjrrbewadMmp+x5ABjjiTtGXV1dQGlw4MABp9343LlzTWYob3DdunWwWq2w2WwYNGhQs4rV48aNQ21tLZPwqqqq2J2to6LPZrNh0aJFfk0qd9E9x40bhw8++ACXL19GaWkp9Ho9tFotzGYzbDYbtFothg8fHpCrJ7lcjqqqKnz66acsw2RcXJwTz1VVVUGv18Nms2HixIm+9NU/pt+4cSOrfPXq1c3KVHK5HBkZGSzmck1NDbZv3474+Hh2feGuw44D0NikT0hIaDBRHc0FHQkO/Gmu2LFjR6bdtFgsfpsTuksdevbsWac6z58/36y0JnKOv3z48OFmz/k0evRoaDQaRuNRo0aB53mo1WoW0F0ci5deeingOaI5jkNSUhLGjh2LL774ApmZmdBoNLBYLLh27Rp69uwZkLREMpkMBw8eZDHRHXnNbrcjOjoaSqUSBoMBRqMRffr08aV8/xq1ZcsW1oj33nsv4IQVf0qlUowaNQoZGRmorq7GunXrMGrUKKhUKiYqyWSyBknYRUOOlJQUr1a1iRMnIjIyEqWlpcjOzsbzzz+P7OxsZvCSlZWF0tJSJm5arVb06dOH1dlcNt71c+gG+prPFS5dupRZ7fma2NyfsY6Li8OXX36J/Px8rFy5kuXzev3115noK+7IYWFhzZLri+d53HLLLZgyZQo2btwIg8EArVaLn376CeHh4QGrJywsjKXFcYxtLfZHrVbDarXCbDb7xFN+R3rr3r07+719+/b+FuMSAJBUKiUANGrUKIqKiqIpU6ZQRkYG+7+IEomEnnjiCaqurmaxkI8dO0YPP/wwFRQU0G233UYPPvhgo3Vu3LiRiP686hEEgXr16kX//Oc/iYho06ZNLGxramoqHTlyhDIyMujChQvs+qC5bLx79OjhdO1x5cqVZqlHhPbt29PkyZOJ53k6ceJEwN0+60NkZCR16dKFcnNzqby8nObPn092u52GDBlC8+bNYzbOAEin01FtbS0R/a+7p0KhIKPRGJC2xMXF0fjx4yk1NZUMBgPxPE9Go7HRsfUlemdNTQ317NmTJBIJxcXFUXh4OJ0+fZo9DwoKIp7nWTpYb8HviXz16lVKTk4mjuOoV69eXkVPcBUL2xWMGjWK9u7dS8nJyfTCCy9QbGwsdezYkQCQ2WwmnuepQ4cOVFNTQy+88AKlpKSQSqWiLl26kEQiocrKSjp48CC1bNmSpkyZ4lO/jh8/TkTkMqay3W6nK1eu0IwZMyg1NZUxVXPCkSNH6JFHHmF/N2cwfDFYemRkJAGgESNGNLvfc21tLRUUFFCbNm0oOzubWrZsSSEhIbR9+3YnJ56ioiJKS0tjPIa/YqsHCgRBIKVSSX379iWz2Uw2m41sNhulpqZS27Zt6eTJk26/9XYSi2C1WslqtdLVq1fp6tWrTs9Emo8YMcLnPvglItxzzz1M3DMajQE5R4nihVwux8SJE1FZWQmz2Qyr1YqZM2eidevW6NixI9auXYuDBw/CZDIxhUxpaSlMJhNMJhNOnTqFVq1aQaFQQCKRBPxMdebMGfzP//xPs4qcIr766qtOZ2Rv/b/9waeffprlD547d+51uTeWyWQ4cuQInn32WTzxxBN44oknYDQa2bnYZrMhMzPTJX/xPN+o/by3fRAEATt37oRer2eJ3M6cOYNPPvkkoPblnpDneRw+fBgnTpwIbFpVEV1p7Pr06cOIbTAY0K9fv4BMGI7jEBoays4pYjLx6upq5OfnIyMjA9euXYPRaGSJx/Py8jBy5EhMmzYNgwcPRmxsLFMeBZoZ7733XuTl5eHLL7+8Low+e/ZsJ61tcnJys9QjlUqZAURNTU3AMxG6G+vY2Fhs374dRqPRKYEc8Gcu6B07drjlK1GHEoi2CIKAMPRBMgAAFtdJREFU3r17w2g0orCwEN999x1GjBiB1NRUj/UHkh4ffPABjEYjHnvsMZ+/dRKt3Ym+rsSrxMREZkYmppIh8i9jRP166+rq6Ndff6WdO3fSypUryWq1kkKhoODgYIqLi6Py8nKaMGECXb16lYqKiojjOKqqqiIiYhkHlEolKRQKMhgMPrWlMbj33nspKSmJDhw4cF2yGqSnp7Pf9Xo95efnN0s9nTp1YmaJ+/btCzjd3MGtt95KQ4YMaRDF0mKx0I4dO2jChAluj2wAyGKxuC3bl2B54nn76tWrJJVKadOmTZSXl0dFRUUe6w8kzJw5k2w2G/3yyy9+fe/X6hEUFASdTger1Ypdu3YhIiIiYJpbsRxxd5bJZGjTpg0efPBBtGjR4rpGAamPGzZswD//+c9G/a8DhYIgMAuk1atXB/yYIGJSUhKTgN55553rRk+1Wo2PPvoIFovFSfJ4/vnnr2uIH47jkJCQgPPnz2Pt2rXYsmULlixZgsTERKSmpjKptLnalJiYCIPBgLNnz/obccf/yvv374/k5GQoFIomM9jNuEx/P4pmkte7TtEPOTg4GA888ECzxD+rz1+u/NrHjx+PAwcO4MqVK6ioqMAbb7yBoUOHYsGCBWjTpk2z8ui+fftQVlaG++67zz+X279+8SgS+yMuN+W7m3ATmhO4v9KZ4i/PPdEL6vHHH6d+/fqRzWajW265hXbu3Envvfce6XQ6unTpUrOGkVq1ahVdunSJHnvsMerSpQvZ7Xaf5s5/TTjcm3ATmhvEjccxbev1ALVaTXq9ngRBILvd7teC4TFCuuM9XXBwcIPn/w1B0gN513gTbixwDNLX2Hue/hbB0bjnekqSYlYVMW+yN9CgT3RzR74JN+G/Hm68bFQ34SbcBJ/B64nsSwzkGxFu1HbdhOsH/5d5oMFEdjxTOiYZ8+bM4CmQtyci+kNgx2+8OQcLgvB/eiD9gf+f6CEqsOrDjUQDMTi/u2QO9cHR7r7BRHa0sBIP3t521mKxsO9FCysR6v/tCP4oFhy/cWWNVj9jgdVqbVDPsGHDfK73/xL8/3Q1eL2ss4iIQkJCiIg8ZqdwtGTr27cv9enTh0aMGEHh4eFeZ66ob9Xm8oLcW2wum9ymWm9dLwOT5rK0uolNH+vm9qX2hL7w76effoqTJ08iPT0dkZGR/tbpnhiurGEcnf7nzJkDs9mM3NxcbNq0CZMmTfJqAv1fsuJKS0uDRqOByWRC//79WeK55qjLkfaOnmI5OTl/C02joqIQFhbGvIOaY1EbPXo0tmzZ4jY2238zL/E8j4sXLzIPvjvuuMPj2DfSV/8b8tVXX0Gr1WLLli0YO3YsevXqdV2C8Ln7RnRZdGSo+ouPP+2Jiory6GVTXFwMq9Xqc0ytxtoj2ppzHIdly5Yxe2Qxbpljyp6SkpImTSRHGomRV3ieh0QiQcuWLdGjRw8MGTIErVq1wpo1a7Blyxbo9Xrs2LEDmzdvRlRUVECZXEQxBJBjtNJAoUQiwZgxY/Djjz9i9uzZ+PLLLzF58mSo1WqveaUpC8mwYcNY9BebzdZU+33/PhQEAaWlpbBYLDh58iQSEhKuu5G7yGyxsbF49dVX8c033+DDDz/EiBEjEBYWBrlcjtDQUAQFBTWpbY19W1hYyLIxuMtK4Q8+8MADWLRoUYM4YmazuUH8MLvdjg4dOjR5Mjtiq1at8N577+HUqVOoq6tDRUUFrl69iuzsbOh0OphMJlRVVaGsrAxjxozx2k7b28VeKpWyJG4ZGRk+9cVV9oj677z55pvMFdeRjjqdDu+//77fLpLe8tru3buZ2+aePXuayi/+fRgdHY3c3FyWRa4Jsr3PKJFIcOutt2Ly5Ml47LHHcPbsWej1elgsFtTW1mL9+vV4/fXXWZLspjoChISEePRJFSdVUVFRQPu5ePFilJSUMAYzmUyIiopCp06dkJCQwJLIiTB27Ngm18nzPEswlpOTA7PZDIvFgqKiIvz+++94+eWXkZmZCYPBgK1bt+L8+fN4+OGHm2WcP/roI8bot956a0DLlslkKC8vd6Kf1WplsbpycnJw7Ngxj/nEmoIcx8FoNLLIqwGQZJ0H0dtIHwkJCcjJyYHFYkFpaanXya+bumur1Wq8/PLLuHDhAnJycpCdnY2TJ0/CaDSyxFfZ2dn4+uuv0blzZxbP2N+dKiIiAu3bt3c7oNu2bWOM8NxzzwVsoKVSKWbMmIGqqirY7XZcuHABKpXK6fzdrVs3J0b86quvGi3XE8PwPA+pVIrExETk5ubCarWirq4OO3bswPLlyxEWFoakpCR069YNn3zyCebPn48777zTY6aPpqAY6NBms2HChAlNKqt++7p37w6TyQS73Y7Kyko8//zz6N69O+Lj4zF//nwWKaSwsLBZ3GYnT57MFql//OMfPrffBf7vH2LaDG8a0rlzZ1y4cAE2mw3ffvutywWgfllNiebAcRwiIyOxd+9enD9/HgaDAceOHcOyZcvw+eefY+nSpcjKysK1a9dQVFSEV199FfHx8U5ByX1FiUSCLVu24IcffnAZeoXjOCeRLJBB3MW6rVYr9u/fj//5n/9p0I+RI0cyaaCystJvxuZ5HnfccQfi4+PRpUsXnDp1ClarFTU1Ndi8eTNUKhWLSiou9nK5HD169MCwYcOaJYUNx3FMJ6DT6QKeyWTatGnQ6/UoKSlxOhMLgoBu3bqxdEh1dXW+hqVtFBUKBYvGYrVaG5UYeZ6HUqn0qIVnEUJUKhXp9Xoi+jObfGNB14YPH04JCQlktVrp22+/dfl+fTdGT9EcGgOlUkmvvPIKde3alXQ6HS1atIh27NhBFouFbr/9durRowcZDAY6d+4c6fV6+ve//001NTVNuic8cuQIJScnU15eHplMpgbPP/30U/Z7enp6wKI5Ev157/3kk0/S6NGjKTExkTZs2NCgLxs3biS73U4Gg4EOHDjgdUQM0TiC4zgKCQmh6Oho6tOnDw0cOJDy8vIoOjqaDAYD5eXl0YMPPkg2m82pXHGsc3JyqLKykmQyWZPG1hUkJyeTRCIhAHTt2jWvgjZ6C2L/jxw5QiNHjnTiXbvdTs8//zxFRESwpG8tWrQIWN0cx9E333xDERERZLVaadWqVW7nmkQiIUEQKD09nc6dO9do1Ba/VpXjx4/DarWitLQUXbt2bVZFF8/zaN26NfLz81FaWooff/wR0dHRiIqKwnvvvYfi4mIWv2v79u3o06cP24k9qe09tblt27bQ6XSw2Wwu07RwHIePP/6YrarN0X9BEBAUFIRx48Y12JH69+/PpIGLFy/6Xb9UKsXcuXOxfv36/9fe1cc0eXXx8zx9+kFbClgsOL42gcFmBFl0wRDHms1/ZMuIBsSxiMZsmswZ9xGcyfbHlpkNs2FiYFP0j7FpJGPJIGFuOEUJhaAIUwwfAgpqWbWUAkJLW2l/7x+u96UICuXB9333epKblpY+995z77nn3HPPPT9UVlaira0No6OjKCsrQ319PQIDAxEcHIyAgACmlSUSCQRBgFQqxbJlyxAeHi6q+clxHHp6ephjb/PmzaLyVyKRIC4u7gFNyPM8kpOTfZyLzc3Nc96WPaytSqUSTqcTbrcbVqt1xmPfVatW4ddff0VjYyNKS0sf6dH2Ox1uZGQk2Ww2UqvV5PF4SKlUip4D2RsRI5FIaN26dRQQEECCIFBxcTGFh4dTeno67dy5k4Wqud1uMhqNdPHiRZ+otJm08kyfq1QqunDhAsnlcvrll1+ooqLigefk5OSQ2Wyme/fu0UsvvbQgEUJut5vsdjtVV1f7fB4VFUV1dXXs78TERL/rDwwMpMTERJLJZBQREUFNTU3U29tLsbGxVFFRQSUlJWQwGMhoNNKpU6dIIpH4wN12dHT4wJKKQTKZjJYuXUpERCMjI/TTTz+Jyl+ZTEZms9lHy3McR6dPnya9Xs8+c7vd9O67785oDcw0t2Zqq0Qiofr6epJKpTQ+Pk579uxhc1yr1ZLL5SJBEGjNmjVUWlpKGo2G7t27RwaDgTQaDbP4pnu+34Lc3d1NaWlp5HQ66a233qKCggKy2+2iMlwikZBUKqUVK1bQli1bCABZrVbKz8+n2NhY0mq1TIhtNhuNjo5SbW3tA6GhRLNPxCaVSqmkpITUajW5XC7au3cvS3jH8zxJpVKKjIykkpIS9tn69euppaWFJBKJqOY1EZFOp6Ndu3ZRQUEBcRxHhw4donfeeYd9bzKZiOf5BybbbPvrdrvJYrHQ3bt3aWhoiAwGA8lkMpJKpZSamkoKhYKSkpIoOzuboqOjqbm5mZqamnwu4D/s/q4/WWLy8/PZGDqdzmm3NXOhyW3geZ4SEhLIaDSyLSTHcfTJJ5/4CDHRfTP7Ybjfc+2XRqOh6OhoIrqfYLKlpYXUajWFhYXR+vXrKTIykhQKBb322muk0WiI4zgSBIEyMzNp3759jCeiCnJ4eDhxHEcDAwNUV1fn9350psZxHEc8z1NwcDDl5OSQTqcjpVLJOj5ZgMfHx+nIkSN05coVqqiomFdS9aioKMrOziaPx0MFBQVkNBpJJpPR1q1bSafTUXt7O3377bekVCpZLPf27dupp6eHampq6Nq1a37XPZkEQaCdO3fSN998QzzPU15eHul0OhKEfw8ZAAa4PpVmI8Qcx5HH46HDhw9TUFAQ9ff3k8fjoeeff55SU1Pp9OnTZDKZKCUlhRobGykuLo7u3r3LgMgVCgXJ5XKyWCxztnpmIp7nKT8/n/22sLBw3sph8u9VKhUtXryY0tPTKS8vj8LDw4no/oLp8Xh8LldwHPfIhXm2CybHcRQdHU0DAwPU2dlJGzduJKvVSmlpabR3714KCQkhnufp9u3bFBISwtoNgOx2O1uMHsYLv/YYXV1dcLlcOHfu3IJhIwuCAI1Gg/j4eOzatQsnTpzA8PAwnE4nXC4Xbt26hfr6emRlZSEmJmbeIYI8z6Ouro7tj/r7+3HlyhWYTCaWX3tqcAYA1NbWYvPmzaKEKOp0OjQ1NbEAk5nI4/HMG5NIIpFALpdj5cqViIiIYMd0Xs/05KAbQRCgUCiwevVqREVF4eeff8bSpUshk8lE9dYnJiayIA2TybQgyQAzMjJ8zuBdLhdu3ryJxMRExMTEMBB7t9stisea+zvB4O7duzE+Po6ioiLI5XKWufP7779HdXU1+vr68OeffzLfjBcjuaGhAYsWLRI/RJPjOHR0dGBkZAS1tbULdvzgffUGKURGRsJoNDI09xs3buDo0aNQKpWiOEMkEgkLfZyOpgqW2+3GkSNHcPz4ceh0unkBcHv7abFYZqzP4XCgqqpq3pFq3sLzPDIyMpCXlzfrzJVKpRKlpaW4dOkSMjMzERoaKqqj69KlSwDuB2dkZGSIPq+I7i8WXrRJj8eD3t5enzmcl5fHwl/1ev2861MoFDh69CiDarVarYiPj4dSqURGRgb++OMP3LlzB0NDQ7h+/TpMJhNGR0cxODiIH3/8Ee+//77PeM8w9nNvmCAI2Lp1K27evIm8vDzRcjxPd0lj8nu1Wo2uri6GFNjR0YHU1FRRNKHXI+v1KHpfvYPtdDpx7NgxmM1mJmSff/45BEFgWL7+1u31sOfm5uLAgQPTQrgCEA3e1FtfWloarFYrtm3bNmvNp9VqYTQacfv2bbz44ouiwqmsWLGC8Xwh0S4CAgKwbds2GAwGNDU1Qa1W+3y/fft2FqyxY8eOeS+aERER6OnpYc/0WndtbW2orKzEyZMnUVpaCpPJhIGBAZjNZgwODqK8vBxPPfXUbBXl3Bum0+lQU1OD/v5+vPfee9BqtXMygeYy6Sdrq/T0dFitVthsNlgsFuzYscPfZN7TFoVCgZMnT+Kvv/5Cb28viouL0dzcjPj4eKxcuRIhISGw2+1MkLds2SJKvW63G9HR0bh8+bIPZMpkGh8fF/UIRiaTwWg0YmJiAl1dXbPWyJGRkXA4HDCbzUhNTRXV9G1vb2f9NZlMC3qkqVAo8OqrryInJwcBAQE+8LjZ2dnMMvvhhx9mXEBne7mC53m8+eabGBsbY4u02+2GxWJBdXU1vvrqK5SVlcFutzP8MoPBgLS0NP+Azr3lYY3jOA7Jyckwm82ora1Feno64uLisHz58kcO6lwH3SvEcrkcWVlZ6O3thdFoxNmzZ/HKK68wHN2FGuzpJr9XY9y7d2/eGlImk0Gr1bJ92tjYGAoLC31QFwBgaGjoAa0x36JUKmG1WgEAIyMjs4op5jgOX375JRwOBzo7O6HX60Xjf1hYGFvARkZGRIndf5QQBAQEQCaTYcmSJT6C/Prrr7NxHhoaEsUHxPM8FAoFMjMzce7cOTQ0NODUqVP44osvcOLECQwODjIhLi4uRlxc3EM18TR8n3ujUlJS0NLSgu7ubqxduxa7d+9GVlYWnnvuOb8HdqoZ7b2O6F05e3p6YLPZcOjQIXz88cfMGSPm5H5UUalU6O/vBwAMDAyIUr/NZvMR2rGxMZ8rigcOHJhxQs4lpHZqUSqV+O2335h1sX///kc+S61Wo7u7GzabDe3t7aJtqVQqFXp7e9neeMOGDY91XKfOw6KiIjYGV69eXTDki6ioKFRVVcFisaCtrQ02mw3Hjx/H8uXL/dkuzr0RMTExMJlMsFgsMBqNaG1tRV9fH7777jtRJvdkT2lSUhKam5sxMTEBu92O/fv349lnnxXVpJ5Lu7xa4/fff593XzmOY1pxMnmjxaZbLARBQFBQENatWweHw4Hw8HC/6uZ5Hi+//DK7JuhwOBAWFga5XM720N7IsiVLliAiIgJ6vR537tzB9evX8cEHH4h29/zMmTOs72fPnn3s4zq5yOVybNq0iUG7tra2QhCEBVEaYWFhOHjwIMrLy9HQ0IDPPvsM0dHR/vp8/GN+S0sLMwW8AfZ79uwRrcMymQyCIOCjjz5iR059fX3Izc3F4sWL56WN/C0qlYodjXR3d4viZFu2bNkDQqzX6x849uA4DqGhoVCpVFi0aBEqKyvhcrn8rpfjOOh0Onz66afo7u5mR2t2ux2dnZ04f/48bty4gatXr6Knpwfl5eUwGAxobW3F119/Ldr1vtWrVzPtNzExgbCwsMc2nlPDeL2L1759+9gCV1NTA6lUyhat1NRUUb30gYGBLMVPQkLCrCxN0bzWRIRnnnkGTU1NMJvNaGxsRElJiajniRzHQaPRoLCwEOfPn8fly5exYcMGSKVSFuf7uAWZiOBwOOByudDV1SVaf4OCgjA6Ogq3243Dhw9P+z8KhQKhoaFISEiAWq3Gxo0bZ5P+5ZE8lkgkCAwMRGZmJqxWK5vA3jPMa9euoaioCMeOHYNWq0VKSgri4+NF4yfP8+jo6GDHMo8baXMyDzmOg0wmQ25uLnM63rp1C8nJyWzPvlAgd/MdSxKrEWIPgCAI2LRpE8rKynDhwgV8+OGH0zp8Hrcwy+Vy6PV6UWFVs7KysGrVKhw8eBBRUVEP5fNCWyIcxyEwMBBvvPEG1q5di9jYWISEhDDeizDhpi3/CQtrar+983jNmjXs+PHMmTMoKipCUlISiGjBUhrNu/1/v1kwmmusLcdxpFar6YUXXiCn00nBwcF08eJFGh4eJrfb/Y9M4fr0009TX1+fKM/yJ7b5n0r+8ML7G0EQyGQyUVVVFb399tvzCvt9HOQjyFKpVPR7pXMlLyO9yHRarZaGh4f/6xn5hP47SYyF7X9hcXyoRvZeCvB4PCSRSOZ8udsfBswX0nJqnbMNav9/JJlMNutk6E9oZvpPCfrkep+gMT6hJ/QPoCdojE/oCf0D6F/JpdjuWKYqPwAAAABJRU5ErkJggg==)"
      ],
      "metadata": {
        "id": "MGZNKXkzRADV"
      }
    }
  ]
}