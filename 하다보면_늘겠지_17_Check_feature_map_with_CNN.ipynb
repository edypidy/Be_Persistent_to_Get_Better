{
  "nbformat": 4,
  "nbformat_minor": 0,
  "metadata": {
    "colab": {
      "name": "하다보면 늘겠지 : 17. Check feature map with CNN.ipynb",
      "provenance": [],
      "collapsed_sections": []
    },
    "kernelspec": {
      "name": "python3",
      "display_name": "Python 3"
    },
    "language_info": {
      "name": "python"
    },
    "accelerator": "GPU"
  },
  "cells": [
    {
      "cell_type": "code",
      "source": [
        "import torch\n",
        "import torchvision\n",
        "import torch.nn as nn\n",
        "import torch.optim as optim\n",
        "import torchvision.transforms as transforms\n",
        "\n",
        "import numpy as np\n",
        "import matplotlib.pyplot as plt\n",
        "\n",
        "from tqdm import tqdm"
      ],
      "metadata": {
        "id": "EdeK2DCWJSeT"
      },
      "execution_count": 35,
      "outputs": []
    },
    {
      "cell_type": "code",
      "source": [
        "device = torch.device('cuda' if torch.cuda.is_available() else 'cpu')"
      ],
      "metadata": {
        "id": "IoL3GNOpJSaF"
      },
      "execution_count": 4,
      "outputs": []
    },
    {
      "cell_type": "code",
      "source": [
        "train_dataset = torchvision.datasets.MNIST(root = '../../data',\n",
        "                                           transform = transforms.ToTensor(),\n",
        "                                           download = True,\n",
        "                                           train = True,\n",
        "                                           )\n",
        "test_dataset = torchvision.datasets.MNIST(root = '../../data',\n",
        "                                         transform = transforms.ToTensor(),\n",
        "                                         train = False,\n",
        "                                         )"
      ],
      "metadata": {
        "id": "27aPWfhhJSXe"
      },
      "execution_count": 7,
      "outputs": []
    },
    {
      "cell_type": "code",
      "source": [
        "img_size = 28*28\n",
        "num_classes = 10\n",
        "num_epochs = 10\n",
        "batch_size = 32\n",
        "workers = 2\n",
        "lr = 5e-3"
      ],
      "metadata": {
        "id": "KcYRXrqHJSFA"
      },
      "execution_count": 16,
      "outputs": []
    },
    {
      "cell_type": "code",
      "source": [
        "train_dataloader = torch.utils.data.DataLoader(train_dataset,\n",
        "                                               batch_size = batch_size,\n",
        "                                               shuffle = True,\n",
        "                                               num_workers = workers,\n",
        "                                               )\n",
        "test_dataloader = torch.utils.data.DataLoader(test_dataset,\n",
        "                                              batch_size = batch_size,\n",
        "                                              shuffle = False,\n",
        "                                              num_workers = workers,\n",
        "                                              )"
      ],
      "metadata": {
        "id": "7DDCJA64JSCu"
      },
      "execution_count": 53,
      "outputs": []
    },
    {
      "cell_type": "code",
      "source": [
        "class CNN(nn.Module):\n",
        "    def __init__(self):\n",
        "        super(CNN, self).__init__()\n",
        "        self.conv_layer1 = nn.Sequential(\n",
        "            # 1x28x28\n",
        "\n",
        "            nn.Conv2d(1, 8, kernel_size=3, stride=1, padding=1),\n",
        "            nn.BatchNorm2d(8),\n",
        "            nn.ReLU(),\n",
        "            # 8x28x28\n",
        "\n",
        "            nn.MaxPool2d(2, 2)\n",
        "            # 8x14x14\n",
        "        )\n",
        "        self.conv_layer2 = nn.Sequential(\n",
        "            nn.Conv2d(8, 16, 3, 1, 1),\n",
        "            nn.BatchNorm2d(16),\n",
        "            nn.ReLU(),\n",
        "            # 16x14x14\n",
        "\n",
        "            nn.MaxPool2d(2, 2),\n",
        "            # 16x7x7\n",
        "        )\n",
        "        self.fc = nn.Linear(16*7*7, num_classes)\n",
        "\n",
        "    def forward(self, x):\n",
        "        out = self.conv_layer1(x)\n",
        "        out = self.conv_layer2(out)\n",
        "        out = out.view(out.shape[0], -1) # out.reshape(out.size(0), -1)\n",
        "        out = self.fc(out)\n",
        "        return out"
      ],
      "metadata": {
        "id": "uHQ96xFXJSA8"
      },
      "execution_count": 17,
      "outputs": []
    },
    {
      "cell_type": "code",
      "source": [
        "model = CNN().to(device)"
      ],
      "metadata": {
        "id": "QqcrpN-eJR9c"
      },
      "execution_count": 18,
      "outputs": []
    },
    {
      "cell_type": "code",
      "source": [
        "# Loss and Optimizer\n",
        "criterion = nn.CrossEntropyLoss()\n",
        "optimizer = optim.Adam(model.parameters(), lr=lr)"
      ],
      "metadata": {
        "id": "vq3SEkZPPb4W"
      },
      "execution_count": 19,
      "outputs": []
    },
    {
      "cell_type": "code",
      "source": [
        "total_step = len(train_dataloader)\n",
        "train_step = 1\n",
        "\n",
        "for epoch in range(1, num_epochs+1):\n",
        "    for batch_idx, (images, labels) in enumerate(\n",
        "        tqdm(train_dataloader, position=0, leave=False, desc='train')\n",
        "    ):\n",
        "        images = images.to(device)\n",
        "        labels = labels.to(device)\n",
        "\n",
        "        # Forward\n",
        "        outputs = model(images)\n",
        "        loss = criterion(outputs, labels)\n",
        "\n",
        "        # Backward\n",
        "        optimizer.zero_grad()\n",
        "        loss.backward()\n",
        "        optimizer.step()\n",
        "\n",
        "        if train_step%500 == 0:\n",
        "            print(f'Epoch [{epoch}/{num_epochs}], Step [{train_step}/{total_step*num_epochs}], Loss : {loss.item():.4f}')\n",
        "        train_step += 1"
      ],
      "metadata": {
        "colab": {
          "base_uri": "https://localhost:8080/"
        },
        "id": "tlPaUK4xPtUr",
        "outputId": "c2ab8f1d-2b52-45aa-b5bb-a4ccd56cea5c"
      },
      "execution_count": 55,
      "outputs": [
        {
          "output_type": "stream",
          "name": "stderr",
          "text": [
            "train:  28%|██▊       | 529/1875 [00:03<00:08, 149.61it/s]"
          ]
        },
        {
          "output_type": "stream",
          "name": "stdout",
          "text": [
            "Epoch [1/10], Step [500/18750], Loss : 0.1095\n"
          ]
        },
        {
          "output_type": "stream",
          "name": "stderr",
          "text": [
            "train:  54%|█████▍    | 1017/1875 [00:07<00:05, 156.20it/s]"
          ]
        },
        {
          "output_type": "stream",
          "name": "stdout",
          "text": [
            "Epoch [1/10], Step [1000/18750], Loss : 0.0804\n"
          ]
        },
        {
          "output_type": "stream",
          "name": "stderr",
          "text": [
            "train:  81%|████████▏ | 1525/1875 [00:10<00:02, 143.32it/s]"
          ]
        },
        {
          "output_type": "stream",
          "name": "stdout",
          "text": [
            "Epoch [1/10], Step [1500/18750], Loss : 0.0038\n"
          ]
        },
        {
          "output_type": "stream",
          "name": "stderr",
          "text": [
            "train:   8%|▊         | 146/1875 [00:01<00:13, 132.79it/s]"
          ]
        },
        {
          "output_type": "stream",
          "name": "stdout",
          "text": [
            "Epoch [2/10], Step [2000/18750], Loss : 0.0126\n"
          ]
        },
        {
          "output_type": "stream",
          "name": "stderr",
          "text": [
            "train:  35%|███▍      | 655/1875 [00:04<00:07, 153.36it/s]"
          ]
        },
        {
          "output_type": "stream",
          "name": "stdout",
          "text": [
            "Epoch [2/10], Step [2500/18750], Loss : 0.0239\n"
          ]
        },
        {
          "output_type": "stream",
          "name": "stderr",
          "text": [
            "train:  61%|██████    | 1147/1875 [00:08<00:04, 161.75it/s]"
          ]
        },
        {
          "output_type": "stream",
          "name": "stdout",
          "text": [
            "Epoch [2/10], Step [3000/18750], Loss : 0.0234\n"
          ]
        },
        {
          "output_type": "stream",
          "name": "stderr",
          "text": [
            "train:  88%|████████▊ | 1653/1875 [00:11<00:01, 166.18it/s]"
          ]
        },
        {
          "output_type": "stream",
          "name": "stdout",
          "text": [
            "Epoch [2/10], Step [3500/18750], Loss : 0.1403\n"
          ]
        },
        {
          "output_type": "stream",
          "name": "stderr",
          "text": [
            "train:  14%|█▍        | 271/1875 [00:01<00:10, 158.30it/s]"
          ]
        },
        {
          "output_type": "stream",
          "name": "stdout",
          "text": [
            "Epoch [3/10], Step [4000/18750], Loss : 0.0012\n"
          ]
        },
        {
          "output_type": "stream",
          "name": "stderr",
          "text": [
            "train:  41%|████      | 772/1875 [00:05<00:07, 153.01it/s]"
          ]
        },
        {
          "output_type": "stream",
          "name": "stdout",
          "text": [
            "Epoch [3/10], Step [4500/18750], Loss : 0.0051\n"
          ]
        },
        {
          "output_type": "stream",
          "name": "stderr",
          "text": [
            "train:  68%|██████▊   | 1280/1875 [00:09<00:04, 125.18it/s]"
          ]
        },
        {
          "output_type": "stream",
          "name": "stdout",
          "text": [
            "Epoch [3/10], Step [5000/18750], Loss : 0.0400\n"
          ]
        },
        {
          "output_type": "stream",
          "name": "stderr",
          "text": [
            "train:  94%|█████████▍| 1765/1875 [00:12<00:00, 145.58it/s]"
          ]
        },
        {
          "output_type": "stream",
          "name": "stdout",
          "text": [
            "Epoch [3/10], Step [5500/18750], Loss : 0.0241\n"
          ]
        },
        {
          "output_type": "stream",
          "name": "stderr",
          "text": [
            "train:  21%|██        | 396/1875 [00:02<00:09, 149.11it/s]"
          ]
        },
        {
          "output_type": "stream",
          "name": "stdout",
          "text": [
            "Epoch [4/10], Step [6000/18750], Loss : 0.0018\n"
          ]
        },
        {
          "output_type": "stream",
          "name": "stderr",
          "text": [
            "train:  47%|████▋     | 890/1875 [00:06<00:07, 123.19it/s]"
          ]
        },
        {
          "output_type": "stream",
          "name": "stdout",
          "text": [
            "Epoch [4/10], Step [6500/18750], Loss : 0.0028\n"
          ]
        },
        {
          "output_type": "stream",
          "name": "stderr",
          "text": [
            "train:  74%|███████▍  | 1385/1875 [00:10<00:05, 92.44it/s]"
          ]
        },
        {
          "output_type": "stream",
          "name": "stdout",
          "text": [
            "Epoch [4/10], Step [7000/18750], Loss : 0.0118\n"
          ]
        },
        {
          "output_type": "stream",
          "name": "stderr",
          "text": [
            ""
          ]
        },
        {
          "output_type": "stream",
          "name": "stdout",
          "text": [
            "Epoch [4/10], Step [7500/18750], Loss : 0.0021\n"
          ]
        },
        {
          "output_type": "stream",
          "name": "stderr",
          "text": [
            "train:  28%|██▊       | 520/1875 [00:03<00:08, 162.56it/s]"
          ]
        },
        {
          "output_type": "stream",
          "name": "stdout",
          "text": [
            "Epoch [5/10], Step [8000/18750], Loss : 0.0005\n"
          ]
        },
        {
          "output_type": "stream",
          "name": "stderr",
          "text": [
            "train:  55%|█████▍    | 1022/1875 [00:07<00:05, 154.02it/s]"
          ]
        },
        {
          "output_type": "stream",
          "name": "stdout",
          "text": [
            "Epoch [5/10], Step [8500/18750], Loss : 0.0075\n"
          ]
        },
        {
          "output_type": "stream",
          "name": "stderr",
          "text": [
            "train:  81%|████████  | 1523/1875 [00:10<00:02, 153.47it/s]"
          ]
        },
        {
          "output_type": "stream",
          "name": "stdout",
          "text": [
            "Epoch [5/10], Step [9000/18750], Loss : 0.0266\n"
          ]
        },
        {
          "output_type": "stream",
          "name": "stderr",
          "text": [
            "train:   8%|▊         | 150/1875 [00:01<00:11, 153.68it/s]"
          ]
        },
        {
          "output_type": "stream",
          "name": "stdout",
          "text": [
            "Epoch [6/10], Step [9500/18750], Loss : 0.0192\n"
          ]
        },
        {
          "output_type": "stream",
          "name": "stderr",
          "text": [
            "train:  35%|███▍      | 650/1875 [00:04<00:07, 155.45it/s]"
          ]
        },
        {
          "output_type": "stream",
          "name": "stdout",
          "text": [
            "Epoch [6/10], Step [10000/18750], Loss : 0.0001\n"
          ]
        },
        {
          "output_type": "stream",
          "name": "stderr",
          "text": [
            "train:  61%|██████    | 1141/1875 [00:07<00:04, 158.75it/s]"
          ]
        },
        {
          "output_type": "stream",
          "name": "stdout",
          "text": [
            "Epoch [6/10], Step [10500/18750], Loss : 0.0543\n"
          ]
        },
        {
          "output_type": "stream",
          "name": "stderr",
          "text": [
            "train:  88%|████████▊ | 1641/1875 [00:10<00:01, 145.11it/s]"
          ]
        },
        {
          "output_type": "stream",
          "name": "stdout",
          "text": [
            "Epoch [6/10], Step [11000/18750], Loss : 0.0067\n"
          ]
        },
        {
          "output_type": "stream",
          "name": "stderr",
          "text": [
            "train:  13%|█▎        | 253/1875 [00:01<00:11, 135.88it/s]"
          ]
        },
        {
          "output_type": "stream",
          "name": "stdout",
          "text": [
            "Epoch [7/10], Step [11500/18750], Loss : 0.0001\n"
          ]
        },
        {
          "output_type": "stream",
          "name": "stderr",
          "text": [
            "train:  41%|████▏     | 778/1875 [00:06<00:07, 145.25it/s]"
          ]
        },
        {
          "output_type": "stream",
          "name": "stdout",
          "text": [
            "Epoch [7/10], Step [12000/18750], Loss : 0.0131\n"
          ]
        },
        {
          "output_type": "stream",
          "name": "stderr",
          "text": [
            "train:  68%|██████▊   | 1274/1875 [00:09<00:03, 151.43it/s]"
          ]
        },
        {
          "output_type": "stream",
          "name": "stdout",
          "text": [
            "Epoch [7/10], Step [12500/18750], Loss : 0.0001\n"
          ]
        },
        {
          "output_type": "stream",
          "name": "stderr",
          "text": [
            "train:  95%|█████████▍| 1780/1875 [00:12<00:00, 150.30it/s]"
          ]
        },
        {
          "output_type": "stream",
          "name": "stdout",
          "text": [
            "Epoch [7/10], Step [13000/18750], Loss : 0.0217\n"
          ]
        },
        {
          "output_type": "stream",
          "name": "stderr",
          "text": [
            "train:  21%|██▏       | 403/1875 [00:03<00:11, 123.19it/s]"
          ]
        },
        {
          "output_type": "stream",
          "name": "stdout",
          "text": [
            "Epoch [8/10], Step [13500/18750], Loss : 0.0008\n"
          ]
        },
        {
          "output_type": "stream",
          "name": "stderr",
          "text": [
            "train:  48%|████▊     | 894/1875 [00:06<00:07, 139.43it/s]"
          ]
        },
        {
          "output_type": "stream",
          "name": "stdout",
          "text": [
            "Epoch [8/10], Step [14000/18750], Loss : 0.0037\n"
          ]
        },
        {
          "output_type": "stream",
          "name": "stderr",
          "text": [
            "train:  74%|███████▍  | 1395/1875 [00:10<00:03, 148.18it/s]"
          ]
        },
        {
          "output_type": "stream",
          "name": "stdout",
          "text": [
            "Epoch [8/10], Step [14500/18750], Loss : 0.0001\n"
          ]
        },
        {
          "output_type": "stream",
          "name": "stderr",
          "text": [
            ""
          ]
        },
        {
          "output_type": "stream",
          "name": "stdout",
          "text": [
            "Epoch [8/10], Step [15000/18750], Loss : 0.0252\n"
          ]
        },
        {
          "output_type": "stream",
          "name": "stderr",
          "text": [
            "train:  28%|██▊       | 520/1875 [00:04<00:10, 133.95it/s]"
          ]
        },
        {
          "output_type": "stream",
          "name": "stdout",
          "text": [
            "Epoch [9/10], Step [15500/18750], Loss : 0.0127\n"
          ]
        },
        {
          "output_type": "stream",
          "name": "stderr",
          "text": [
            "train:  55%|█████▍    | 1029/1875 [00:08<00:05, 152.95it/s]"
          ]
        },
        {
          "output_type": "stream",
          "name": "stdout",
          "text": [
            "Epoch [9/10], Step [16000/18750], Loss : 0.0001\n"
          ]
        },
        {
          "output_type": "stream",
          "name": "stderr",
          "text": [
            "train:  81%|████████  | 1517/1875 [00:12<00:03, 114.35it/s]"
          ]
        },
        {
          "output_type": "stream",
          "name": "stdout",
          "text": [
            "Epoch [9/10], Step [16500/18750], Loss : 0.0005\n"
          ]
        },
        {
          "output_type": "stream",
          "name": "stderr",
          "text": [
            "train:   8%|▊         | 154/1875 [00:01<00:11, 148.95it/s]"
          ]
        },
        {
          "output_type": "stream",
          "name": "stdout",
          "text": [
            "Epoch [10/10], Step [17000/18750], Loss : 0.0002\n"
          ]
        },
        {
          "output_type": "stream",
          "name": "stderr",
          "text": [
            "train:  35%|███▍      | 652/1875 [00:04<00:08, 146.17it/s]"
          ]
        },
        {
          "output_type": "stream",
          "name": "stdout",
          "text": [
            "Epoch [10/10], Step [17500/18750], Loss : 0.0009\n"
          ]
        },
        {
          "output_type": "stream",
          "name": "stderr",
          "text": [
            "train:  61%|██████    | 1142/1875 [00:08<00:04, 146.92it/s]"
          ]
        },
        {
          "output_type": "stream",
          "name": "stdout",
          "text": [
            "Epoch [10/10], Step [18000/18750], Loss : 0.0064\n"
          ]
        },
        {
          "output_type": "stream",
          "name": "stderr",
          "text": [
            "train:  88%|████████▊ | 1646/1875 [00:12<00:01, 119.22it/s]"
          ]
        },
        {
          "output_type": "stream",
          "name": "stdout",
          "text": [
            "Epoch [10/10], Step [18500/18750], Loss : 0.0001\n"
          ]
        },
        {
          "output_type": "stream",
          "name": "stderr",
          "text": [
            ""
          ]
        }
      ]
    },
    {
      "cell_type": "code",
      "source": [
        "with torch.no_grad():\n",
        "    for samples, labels in test_dataloader:\n",
        "        samples = samples.to(device)\n",
        "\n",
        "        feature_map1 = model.conv_layer1(samples)\n",
        "        feature_map2 = model.conv_layer2(feature_map1)\n",
        "        \n",
        "        feature_map1 = feature_map1.to('cpu')\n",
        "        feature_map2 = feature_map2.to('cpu')\n",
        "        break"
      ],
      "metadata": {
        "id": "ZuVaopxPPtZa"
      },
      "execution_count": 65,
      "outputs": []
    },
    {
      "cell_type": "code",
      "source": [
        "def matplotlib_imshow(imgs, num_maps=8, title='feature_map', figsize=(12,6)):\n",
        "    nrows = num_maps // 4\n",
        "\n",
        "    fig, axes = plt.subplots(nrows, 4, figsize=figsize)\n",
        "    for i in range(num_maps):\n",
        "        row = i//4\n",
        "        col = i%4\n",
        "        img = imgs[i]\n",
        "        npimg = img.numpy()\n",
        "        axes[row][col].imshow(npimg)\n",
        "        axes[row][col].axis('off')\n",
        "    plt.suptitle(title)"
      ],
      "metadata": {
        "id": "x0gErewMWhlE"
      },
      "execution_count": 98,
      "outputs": []
    },
    {
      "cell_type": "code",
      "source": [
        "matplotlib_imshow(feature_map1[16], num_maps=8, title='feature_map1')"
      ],
      "metadata": {
        "colab": {
          "base_uri": "https://localhost:8080/",
          "height": 398
        },
        "id": "2oK7jYL4V9Nz",
        "outputId": "e499164e-30bd-4794-fb8f-f74f31dc89ae"
      },
      "execution_count": 106,
      "outputs": [
        {
          "output_type": "display_data",
          "data": {
            "image/png": "[encoded data removed]",
            "text/plain": [
              "<Figure size 864x432 with 8 Axes>"
            ]
          },
          "metadata": {
            "needs_background": "light"
          }
        }
      ]
    },
    {
      "cell_type": "code",
      "source": [
        "matplotlib_imshow(feature_map2[16], num_maps=16, figsize=(12,10))"
      ],
      "metadata": {
        "colab": {
          "base_uri": "https://localhost:8080/",
          "height": 646
        },
        "id": "iY53uZyeWC26",
        "outputId": "5d499890-355b-45cc-d820-6ce6866c4609"
      },
      "execution_count": 107,
      "outputs": [
        {
          "output_type": "display_data",
          "data": {
            "image/png": "[encoded data removed]",
            "text/plain": [
              "<Figure size 864x720 with 16 Axes>"
            ]
          },
          "metadata": {
            "needs_background": "light"
          }
        }
      ]
    },
    {
      "cell_type": "code",
      "source": [
        "labels[16]"
      ],
      "metadata": {
        "colab": {
          "base_uri": "https://localhost:8080/"
        },
        "id": "xJ_jY_6fWONv",
        "outputId": "029a5e3d-d2f1-4661-87ad-90156c123a42"
      },
      "execution_count": 108,
      "outputs": [
        {
          "output_type": "execute_result",
          "data": {
            "text/plain": [
              "tensor(9)"
            ]
          },
          "metadata": {},
          "execution_count": 108
        }
      ]
    }
  ]
}