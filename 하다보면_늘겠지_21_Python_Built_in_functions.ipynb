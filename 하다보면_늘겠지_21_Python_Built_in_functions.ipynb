{
  "nbformat": 4,
  "nbformat_minor": 0,
  "metadata": {
    "colab": {
      "name": "하다보면 늘겠지 21. Python Built in functions.ipynb",
      "provenance": [],
      "collapsed_sections": []
    },
    "kernelspec": {
      "name": "python3",
      "display_name": "Python 3"
    },
    "language_info": {
      "name": "python"
    }
  },
  "cells": [
    {
      "cell_type": "markdown",
      "source": [
        "# abs() function"
      ],
      "metadata": {
        "id": "l1MIR0AnSPwn"
      }
    },
    {
      "cell_type": "code",
      "execution_count": null,
      "metadata": {
        "colab": {
          "base_uri": "https://localhost:8080/",
          "height": 145
        },
        "id": "SU0uoyytSGos",
        "outputId": "0e107703-e22a-4f14-fd1b-3ed5d30500ab"
      },
      "outputs": [
        {
          "output_type": "stream",
          "name": "stdout",
          "text": [
            "abs(-15) is : 15\n",
            "abs(-1.23) is : 1.23\n"
          ]
        },
        {
          "output_type": "execute_result",
          "data": {
            "application/vnd.google.colaboratory.intrinsic+json": {
              "type": "string"
            },
            "text/plain": [
              "\"\\nUsing abs() function in python is used for returning abs value of a given number\\n(e.g. integer or floating number). \\nThis takes only one argument and return its abs value.\\n\\nabs()'s argument can be any type, such as an integer, floating number, complex number.\\nIf the argument is a complex number, abs() returns the magnitude of the complex number.\\n\""
            ]
          },
          "metadata": {},
          "execution_count": 3
        }
      ],
      "source": [
        "\"\"\"\n",
        "Using abs() function in python is used for returning abs value of a given number\n",
        "(e.g. integer or floating number). \n",
        "This takes only one argument and return its abs value.\n",
        "\n",
        "abs()'s argument can be any type, such as an integer, floating number, complex number.\n",
        "If the argument is a complex number, abs() returns the magnitude of the complex number.\n",
        "\"\"\"\n",
        "\n",
        "# integer num\n",
        "integer_num = -15\n",
        "print(f'abs({integer_num}) is : {abs(integer_num)}')\n",
        "\n",
        "# floating num\n",
        "floating_num = -1.23\n",
        "print(f'abs({floating_num}) is : {abs(floating_num)}')"
      ]
    },
    {
      "cell_type": "markdown",
      "source": [
        "# all() function"
      ],
      "metadata": {
        "id": "QxdRw8YJVXoB"
      }
    },
    {
      "cell_type": "code",
      "source": [
        "\"\"\"\n",
        "all() function accepts an iterable obj(e.g. list, dictionary, tuple, etc.).\n",
        "It returns true if all items in passed iterable are True.\n",
        "Otherwise, it returns False. If the iterable obj is empty, True. (Actually, you already got it, at first, default value is True!) \n",
        "\"\"\"\n",
        "# all values True\n",
        "k = [1,3,5,7]\n",
        "print(f'all(k) is : {all(k)}')\n",
        "\n",
        "\n",
        "# all values False\n",
        "k = [0, False]\n",
        "print(f'all(k) is : {all(k)}')\n",
        "\n",
        "# one false value\n",
        "k = [1,3,7,0]\n",
        "print(f'all(k) is : {all(k)}')\n",
        "\n",
        "# one true value\n",
        "k = [0, False, 5]\n",
        "print(f'all(k) is : {all(k)}')\n",
        "\n",
        "# empty iterable obj\n",
        "k = []\n",
        "print(f'all(k) is : {all(k)}')"
      ],
      "metadata": {
        "colab": {
          "base_uri": "https://localhost:8080/",
          "height": 182
        },
        "id": "c7crmFelSgvT",
        "outputId": "930ae239-dadd-4de8-d4b6-2ea222294df9"
      },
      "execution_count": null,
      "outputs": [
        {
          "output_type": "stream",
          "name": "stdout",
          "text": [
            "all(k) is : True\n",
            "all(k) is : False\n",
            "all(k) is : False\n",
            "all(k) is : False\n",
            "all(k) is : True\n"
          ]
        },
        {
          "output_type": "execute_result",
          "data": {
            "application/vnd.google.colaboratory.intrinsic+json": {
              "type": "string"
            },
            "text/plain": [
              "'\\nall() function accepts an iterable obj(e.g. list, dictionary, tuple, etc.).\\nIt returns true if all items in passed iterable are True.\\nOtherwise, it returns False. If the iterable obj is empty, True. (Actually, you already got it, at first, default value is True!) \\n'"
            ]
          },
          "metadata": {},
          "execution_count": 10
        }
      ]
    },
    {
      "cell_type": "markdown",
      "source": [
        "# bin() function"
      ],
      "metadata": {
        "id": "xgUsKV4SXqFR"
      }
    },
    {
      "cell_type": "code",
      "source": [
        "\"\"\"\n",
        "python bin() function is used to return the binary representation of specified integer.\n",
        "So, its argument is an integer not floating number.\n",
        "The result always starts with the prefix 0b\n",
        "\"\"\"\n",
        "# positive integer\n",
        "x = 14\n",
        "print(f'x\\'s binary representation in python is {bin(x)}')\n",
        "\n",
        "# negative integer\n",
        "y = -14\n",
        "print(f'y\\'s binary representation in python is {bin(y)}')\n",
        "\n",
        "# Don't do this\n",
        "z = 1.0\n",
        "print(f'y\\'s binary representation in python is {bin(z)}')"
      ],
      "metadata": {
        "colab": {
          "base_uri": "https://localhost:8080/",
          "height": 245
        },
        "id": "vq5nYVoHSgzc",
        "outputId": "6d67db2f-1702-4f11-d45c-dfcd0bb6ce57"
      },
      "execution_count": null,
      "outputs": [
        {
          "output_type": "stream",
          "name": "stdout",
          "text": [
            "x's binary representation in python is 0b1110\n",
            "y's binary representation in python is -0b1110\n"
          ]
        },
        {
          "output_type": "error",
          "ename": "TypeError",
          "evalue": "ignored",
          "traceback": [
            "\u001b[0;31m---------------------------------------------------------------------------\u001b[0m",
            "\u001b[0;31mTypeError\u001b[0m                                 Traceback (most recent call last)",
            "\u001b[0;32m<ipython-input-14-da2f806297f5>\u001b[0m in \u001b[0;36m<module>\u001b[0;34m()\u001b[0m\n\u001b[1;32m     12\u001b[0m \u001b[0;34m\u001b[0m\u001b[0m\n\u001b[1;32m     13\u001b[0m \u001b[0mz\u001b[0m \u001b[0;34m=\u001b[0m \u001b[0;36m1.0\u001b[0m\u001b[0;34m\u001b[0m\u001b[0;34m\u001b[0m\u001b[0m\n\u001b[0;32m---> 14\u001b[0;31m \u001b[0mprint\u001b[0m\u001b[0;34m(\u001b[0m\u001b[0;34mf'y\\'s binary representation in python is {bin(z)}'\u001b[0m\u001b[0;34m)\u001b[0m\u001b[0;34m\u001b[0m\u001b[0;34m\u001b[0m\u001b[0m\n\u001b[0m",
            "\u001b[0;31mTypeError\u001b[0m: 'float' object cannot be interpreted as an integer"
          ]
        }
      ]
    },
    {
      "cell_type": "markdown",
      "source": [
        "# bool() function"
      ],
      "metadata": {
        "id": "StC63djVZE3U"
      }
    },
    {
      "cell_type": "code",
      "source": [
        "\"\"\"\n",
        "python bool() converts a value to boolean \n",
        "using the standard truth testing procedure\n",
        "(i.e. Truth Value Testing, check this document https://docs.python.org/2/library/stdtypes.html#truth-value-testing)\n",
        "\n",
        "Caution!\n",
        "The two, == and bool() are not equivalent.\n",
        "== is for equality testing, whereas bool() returns the result of truth value\n",
        "testing for the obj passed to it as parameter.\n",
        "\"\"\"\n",
        "\n",
        "print(bool(False))\n",
        "print('omitted : ', bool())\n",
        "\n",
        "# None\n",
        "print('None : ', bool(None))\n",
        "\n",
        "# zeros\n",
        "print('0 : ', bool(0)) # cf) integer in python is actually long integer\n",
        "print('0j : ', bool(0j)) # this input is complex number\n",
        "\n",
        "# empty sequence\n",
        "print('\\'\\' : ', bool(''))\n",
        "print('() : ', bool(()))\n",
        "print('[] : ', bool([]))\n",
        "\n",
        "# empty dict\n",
        "print('{} : ', bool({}))\n",
        "\n",
        "# instances of custom classes that defines __len__() method or __nonzero__()\n",
        "class custom_num():\n",
        "    def __init__(self, input_num:int):\n",
        "        self.len = input_num + 1\n",
        "    def __len__(self):\n",
        "        return self.len\n",
        "\n",
        "print('custom_num class\\'s instance 0 :', bool(custom_num(0)))\n",
        "print('custom_num class\\'s instance -1 :', bool(custom_num(-1)))\n"
      ],
      "metadata": {
        "colab": {
          "base_uri": "https://localhost:8080/"
        },
        "id": "EruDv7B9Sg3W",
        "outputId": "57b35f6e-b3d0-49d1-c117-079a200a87c5"
      },
      "execution_count": null,
      "outputs": [
        {
          "output_type": "stream",
          "name": "stdout",
          "text": [
            "False\n",
            "omitted :  False\n",
            "None :  False\n",
            "0 :  False\n",
            "0j :  False\n",
            "'' :  False\n",
            "() :  False\n",
            "[] :  False\n",
            "{} :  False\n",
            "custom_num class's instance 0 : True\n",
            "custom_num class's instance -1 : False\n"
          ]
        }
      ]
    },
    {
      "cell_type": "markdown",
      "source": [
        "# Source\n",
        "\n",
        "https://docs.python.org/3/library/functions.html\n",
        "\n",
        "https://www.javatpoint.com/python-built-in-functions\n",
        "\n"
      ],
      "metadata": {
        "id": "CtrbGcIyesiL"
      }
    },
    {
      "cell_type": "markdown",
      "source": [
        "# To-Do\n",
        "        bytes()\n",
        "        callable()\n",
        "        compile()\n",
        "        exec()\n",
        "        sum()\n",
        "        any()\n",
        "        ascii()\n",
        "        bytearray()\n",
        "        eval()\n",
        "        float()\n",
        "        format()\n",
        "        globals()\n",
        "        iter()\n",
        "        locals()\n",
        "        chr()\n",
        "        complex()\n",
        "        delattr()\n",
        "        dir()\n",
        "        divmod()\n",
        "        dict()\n",
        "        \n",
        "\n"
      ],
      "metadata": {
        "id": "hR1rqnHdevll"
      }
    }
  ]
}