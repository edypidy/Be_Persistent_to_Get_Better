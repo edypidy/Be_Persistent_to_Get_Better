{
  "nbformat": 4,
  "nbformat_minor": 0,
  "metadata": {
    "colab": {
      "name": "하다보면 늘겠지 28. Python Built in functions6.ipynb",
      "provenance": [],
      "collapsed_sections": []
    },
    "kernelspec": {
      "name": "python3",
      "display_name": "Python 3"
    },
    "language_info": {
      "name": "python"
    }
  },
  "cells": [
    {
      "cell_type": "markdown",
      "source": [
        "# map() function"
      ],
      "metadata": {
        "id": "6jd49f656AZw"
      }
    },
    {
      "cell_type": "code",
      "source": [
        "\"\"\"\n",
        "Python map() function is used to return a list of results after applying a given function\n",
        "to each item of an iterable(list, tuple, (set, dict) etc.)\n",
        "\"\"\"\n",
        "\n",
        "def calcAdd(n):\n",
        "    return n * 10\n",
        "\n",
        "numbers = [1,2,3,4]\n",
        "results = map(calcAdd, numbers)\n",
        "print('Return of map is an object : ', results)\n",
        "print('It works in list, tuple, set etc. : ', set(results))\n",
        "# print('It works in list, tuple, set, dict, etc. : ', enumerate(results).__next__())\n",
        "\n",
        "numbers = [1,2,3,4]\n",
        "results = map(calcAdd, numbers)\n",
        "print('map object yield only once : ',\n",
        "      list(results), list(results), tuple(results), set(results))"
      ],
      "metadata": {
        "colab": {
          "base_uri": "https://localhost:8080/"
        },
        "id": "RV3KuakbuIEp",
        "outputId": "2c05596e-d490-4c0e-b287-5d7f5ddd8d92"
      },
      "execution_count": 74,
      "outputs": [
        {
          "output_type": "stream",
          "name": "stdout",
          "text": [
            "Return of map is an object :  <map object at 0x7f1f7adba790>\n",
            "It works in list, tuple, set etc. :  {40, 10, 20, 30}\n",
            "map object yield only once :  [10, 20, 30, 40] [] () set()\n"
          ]
        }
      ]
    },
    {
      "cell_type": "markdown",
      "source": [
        "# object() function"
      ],
      "metadata": {
        "id": "b1h5G7kv6Jzf"
      }
    },
    {
      "cell_type": "code",
      "source": [
        "\"\"\"\n",
        "Python object() function returns an empty object. It is a base for all the classes and\n",
        "holds the built-in properties and methods which are default for all the classes.\n",
        "\"\"\"\n",
        "\n",
        "python_obj = object()\n",
        "\n",
        "print(type(python_obj))\n",
        "print(python_obj.__doc__)\n",
        "print(python_obj.__dir__())"
      ],
      "metadata": {
        "colab": {
          "base_uri": "https://localhost:8080/"
        },
        "id": "KoNm6_846Rme",
        "outputId": "bcd666c5-7ea5-48e6-ca05-0d40e71d5fa4"
      },
      "execution_count": 79,
      "outputs": [
        {
          "output_type": "stream",
          "name": "stdout",
          "text": [
            "<class 'object'>\n",
            "The most base type\n",
            "['__repr__', '__hash__', '__str__', '__getattribute__', '__setattr__', '__delattr__', '__lt__', '__le__', '__eq__', '__ne__', '__gt__', '__ge__', '__init__', '__new__', '__reduce_ex__', '__reduce__', '__subclasshook__', '__init_subclass__', '__format__', '__sizeof__', '__dir__', '__class__', '__doc__']\n"
          ]
        }
      ]
    },
    {
      "cell_type": "markdown",
      "source": [
        "# open() function"
      ],
      "metadata": {
        "id": "PqrxUXVM6-Op"
      }
    },
    {
      "cell_type": "code",
      "source": [
        "\"\"\"\n",
        "Python open() function opens the file and returns a corresponding file object.\n",
        "\"\"\"\n",
        "# opens python.txt file of the current directory.\n",
        "f = open('python.txt')\n",
        "\n",
        "# # specifying full path\n",
        "# f = open('absolute path')"
      ],
      "metadata": {
        "colab": {
          "base_uri": "https://localhost:8080/",
          "height": 245
        },
        "id": "X59clcSE6-nG",
        "outputId": "ee930bf4-a661-4aec-e7cd-9ee6e32a088a"
      },
      "execution_count": 82,
      "outputs": [
        {
          "output_type": "error",
          "ename": "FileNotFoundError",
          "evalue": "ignored",
          "traceback": [
            "\u001b[0;31m---------------------------------------------------------------------------\u001b[0m",
            "\u001b[0;31mFileNotFoundError\u001b[0m                         Traceback (most recent call last)",
            "\u001b[0;32m<ipython-input-82-54dfa78b4d1c>\u001b[0m in \u001b[0;36m<module>\u001b[0;34m()\u001b[0m\n\u001b[1;32m      3\u001b[0m \"\"\"\n\u001b[1;32m      4\u001b[0m \u001b[0;31m# opens python.txt file of the current directory.\u001b[0m\u001b[0;34m\u001b[0m\u001b[0;34m\u001b[0m\u001b[0;34m\u001b[0m\u001b[0m\n\u001b[0;32m----> 5\u001b[0;31m \u001b[0mf\u001b[0m \u001b[0;34m=\u001b[0m \u001b[0mopen\u001b[0m\u001b[0;34m(\u001b[0m\u001b[0;34m'python.txt'\u001b[0m\u001b[0;34m)\u001b[0m\u001b[0;34m\u001b[0m\u001b[0;34m\u001b[0m\u001b[0m\n\u001b[0m\u001b[1;32m      6\u001b[0m \u001b[0;34m\u001b[0m\u001b[0m\n\u001b[1;32m      7\u001b[0m \u001b[0;31m# # specifying full path\u001b[0m\u001b[0;34m\u001b[0m\u001b[0;34m\u001b[0m\u001b[0;34m\u001b[0m\u001b[0m\n",
            "\u001b[0;31mFileNotFoundError\u001b[0m: [Errno 2] No such file or directory: 'python.txt'"
          ]
        }
      ]
    },
    {
      "cell_type": "markdown",
      "source": [
        "# chr() function"
      ],
      "metadata": {
        "id": "vO6VDLd67ytK"
      }
    },
    {
      "cell_type": "code",
      "source": [
        "\"\"\"\n",
        "Python chr() function is used to get a string representing a character which points to a\n",
        "Unicode code integer. The standard range of the argument is from 0 to 1,114,111.\n",
        "\"\"\"\n",
        "\n",
        "# Calling function\n",
        "result1 = chr(102) # It returns string representation of an char\n",
        "result2 = chr(112)\n",
        "\n",
        "# Displaying result\n",
        "print(result1)\n",
        "print(result2)\n",
        "\n",
        "# Verify, is it string type?\n",
        "print(f'Is it string type? : {type(result1) is str}')"
      ],
      "metadata": {
        "colab": {
          "base_uri": "https://localhost:8080/"
        },
        "id": "Tc4TdB8m7zN9",
        "outputId": "cd53053e-f48d-4edb-fe53-7206f4cef296"
      },
      "execution_count": 87,
      "outputs": [
        {
          "output_type": "stream",
          "name": "stdout",
          "text": [
            "f\n",
            "p\n",
            "Is it string type? : True\n"
          ]
        }
      ]
    }
  ]
}