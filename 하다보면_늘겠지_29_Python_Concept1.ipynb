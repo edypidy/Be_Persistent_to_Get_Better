{
  "nbformat": 4,
  "nbformat_minor": 0,
  "metadata": {
    "colab": {
      "name": "하다보면 늘겠지 29. Python Concept1.ipynb",
      "provenance": [],
      "collapsed_sections": []
    },
    "kernelspec": {
      "name": "python3",
      "display_name": "Python 3"
    },
    "language_info": {
      "name": "python"
    }
  },
  "cells": [
    {
      "cell_type": "markdown",
      "source": [
        "# Source\n",
        "\n",
        "https://www.daleseo.com/python-yield/\n",
        "\n",
        "https://rebro.kr/134"
      ],
      "metadata": {
        "id": "0p5aCZVe53x0"
      }
    },
    {
      "cell_type": "markdown",
      "source": [
        "# 클래스\n",
        "\n",
        "> 클래스(Class)의 가장 흔한 예는 붕어빵 틀이다. 붕어빵 틀에 반죽, 팥 앙금을 넣어서 붕어빵을 찍어내듯 클래스에 변수를 넣어주어 인스턴스를 만들어준다는 원리이다.\n",
        "\n",
        "> 하지만 위의 예는 클래스의 기능적인 부분에 더 초점을 둔 예이다. 추상적으로 말하자면, 클래스는 '생성하려는 인스턴스들'이 공통적으로 마땅히 가져야할 속성이나 알고리즘의 집합이다.\n",
        "즉, 동일한 속성과 기능(method)를 갖는 무언가를 계속해서 만들어낼 수 있는 형태이며 만들어낸 객체(instance)들은 모두 고유한 성격을 가져야한다. \n",
        "\n",
        "> 같은 틀로 만든 여러 붕어빵은 서로 같은 속성과 기능을 갖지만 붕어빵 하나 집어서 베어문다고 다른 붕어빵들이 달라져선 안된다."
      ],
      "metadata": {
        "id": "uvyK2UiQubuc"
      }
    },
    {
      "cell_type": "code",
      "source": [
        "class 붕어빵:\n",
        "\n",
        "\n",
        "    붕어빵_크기 = 10\n",
        "\n",
        "\n",
        "    def __init__(self, 반죽=10, 팥앙금=5, 온도=120, 분=3):\n",
        "        self.반죽 = 반죽\n",
        "        self.팥앙금 = 팥앙금\n",
        "        self.온도 = 온도\n",
        "        self.분 = 분\n",
        "\n",
        "        print(f'붕어빵을 {온도}도에서 {분}분 굽습니다.')\n",
        "        print('붕어빵이 완성되었습니다.')\n",
        "\n",
        "\n",
        "    def 레스팅(self, 레스팅_시간):\n",
        "        self.바삭함 = self.온도 + 레스팅_시간\n",
        "\n",
        "\n",
        "    def 먹히기(self):\n",
        "        맛 = self.팥앙금 + self.바삭함\n",
        "        배부름 = self.반죽 * self.붕어빵_크기\n",
        "\n",
        "        print(f'{맛} 만큼 맛있습니다.')\n",
        "        return 배부름\n",
        "\n",
        "진열대에_놓인_붕어빵 = 붕어빵()\n",
        "진열대에_놓인_붕어빵.레스팅(레스팅_시간=10)\n",
        "print(진열대에_놓인_붕어빵.먹히기(), '만큼 배부릅니다.')"
      ],
      "metadata": {
        "colab": {
          "base_uri": "https://localhost:8080/"
        },
        "id": "sFNZ1O9jurK9",
        "outputId": "32e6d67d-cf07-4b64-acbb-59ec51ce3097"
      },
      "execution_count": null,
      "outputs": [
        {
          "output_type": "stream",
          "name": "stdout",
          "text": [
            "붕어빵을 120도에서 3분 굽습니다.\n",
            "붕어빵이 완성되었습니다.\n",
            "135 만큼 맛있습니다.\n",
            "100 만큼 배부릅니다.\n"
          ]
        }
      ]
    },
    {
      "cell_type": "markdown",
      "source": [
        "# 객체와 인스턴스\n",
        "\n",
        "> 위의 설명에 보태자면, 객체(instance)는 클래스에서 선언된 틀 그대로 만들어진 실체이며, 자신의 고유 상태와 이름, 행동을 갖는다. 이때, 객체의 속성을 나타내는 것은 멤버변수(예 : 반죽=10, 팥앙금=5 etc.)라고 하며, 객체의 속성에 영향을 주는 기능 또는 행동을 멤버 함수 또는 메서드라고 한다.(예 : 레스팅())\n",
        "\n",
        "> 보통 객체와 인스턴스를 크게 구분짓지 않고 사용하기도 하지만 약간의 어감 차이가 있다.\n",
        "인스턴스는 '클래스로 만든 객체'를 말한다. 진열대에_놓인_붕어빵 = 붕어빵()을 통해 진열대에_놓인_붕어빵을 만든 것을 예로 들면, 진열대에_놓인_붕어빵은 객체이다. 그리고 진열대에_놓인_붕어빵 객체는 붕어빵의 인스턴스이다.\n",
        "\n",
        "> 인스턴스는 객체와 클래스의 관계를 위주로 설명할 때 \"ㅁㅁ는 ㅇㅇ의 인스턴스이다\"와 같이 표현하며, 단순히 가리키기만 할 때에는 객체라고 표현하는 것이 적절하다."
      ],
      "metadata": {
        "id": "6ZkvIrDxurhv"
      }
    },
    {
      "cell_type": "markdown",
      "source": [
        "# 클래스와 메서드\n",
        "\n",
        "> 클래스를 생성하는 방법은 위에서 보았듯이 단순하다.\n",
        "\n",
        "    class 클래스명:\n",
        "        [코드]\n",
        "\n",
        "> 다른 함수 생성 방법과 비슷하다. \n",
        "\n",
        "> 메서드는 일반적인 함수와 동일하게 생성한다. 단, **인스턴스를 통해 실행될 메서드는 첫 번째 매개변수가 반드시 self여야 한다.** 여기서 self는 인스턴스 자신을 참조하는 매개변수이다.(진짜 자기 자신을 의미하는 셈.) 인스턴스 내부의 속성을 다루기 위해서 \"내 속성 다룰거니까 잘 구분해라!!\"를 알려주는 용도로 self를 사용한다.\n",
        "\n",
        "    class 클래스명:\n",
        "        def 메서드명(self, ...):\n",
        "            [메서드 코드]"
      ],
      "metadata": {
        "id": "jmiSupt7us2Y"
      }
    },
    {
      "cell_type": "code",
      "source": [
        "# 빈 클래스 만들기\n",
        "\n",
        "class Empty:\n",
        "    pass\n",
        "empty = Empty()"
      ],
      "metadata": {
        "id": "odNn-tgTQeJc"
      },
      "execution_count": null,
      "outputs": []
    },
    {
      "cell_type": "code",
      "source": [
        "# 특정 인스턴스에만 속성 추가하기\n",
        "\n",
        "class Empty:\n",
        "    pass\n",
        "empty1 = Empty()\n",
        "empty2 = Empty()\n",
        "\n",
        "empty1.name = 'new_name'\n",
        "\n",
        "print('empty1.name is : ', empty1.name)\n",
        "print('empty2.name is : ', empty2.name)"
      ],
      "metadata": {
        "colab": {
          "base_uri": "https://localhost:8080/",
          "height": 226
        },
        "id": "acszLpbmZLj1",
        "outputId": "89d75701-ec8d-436d-abe5-ad673edde6eb"
      },
      "execution_count": null,
      "outputs": [
        {
          "output_type": "stream",
          "name": "stdout",
          "text": [
            "empty1.name is :  new_name\n"
          ]
        },
        {
          "output_type": "error",
          "ename": "AttributeError",
          "evalue": "ignored",
          "traceback": [
            "\u001b[0;31m---------------------------------------------------------------------------\u001b[0m",
            "\u001b[0;31mAttributeError\u001b[0m                            Traceback (most recent call last)",
            "\u001b[0;32m<ipython-input-28-63f213efc65a>\u001b[0m in \u001b[0;36m<module>\u001b[0;34m()\u001b[0m\n\u001b[1;32m      8\u001b[0m \u001b[0mempty1\u001b[0m\u001b[0;34m.\u001b[0m\u001b[0mname\u001b[0m \u001b[0;34m=\u001b[0m \u001b[0;34m'new_name'\u001b[0m\u001b[0;34m\u001b[0m\u001b[0;34m\u001b[0m\u001b[0m\n\u001b[1;32m      9\u001b[0m \u001b[0mprint\u001b[0m\u001b[0;34m(\u001b[0m\u001b[0;34m'empty1.name is : '\u001b[0m\u001b[0;34m,\u001b[0m \u001b[0mempty1\u001b[0m\u001b[0;34m.\u001b[0m\u001b[0mname\u001b[0m\u001b[0;34m)\u001b[0m\u001b[0;34m\u001b[0m\u001b[0;34m\u001b[0m\u001b[0m\n\u001b[0;32m---> 10\u001b[0;31m \u001b[0mprint\u001b[0m\u001b[0;34m(\u001b[0m\u001b[0;34m'empty2.name is : '\u001b[0m\u001b[0;34m,\u001b[0m \u001b[0mempty2\u001b[0m\u001b[0;34m.\u001b[0m\u001b[0mname\u001b[0m\u001b[0;34m)\u001b[0m\u001b[0;34m\u001b[0m\u001b[0;34m\u001b[0m\u001b[0m\n\u001b[0m",
            "\u001b[0;31mAttributeError\u001b[0m: 'Empty' object has no attribute 'name'"
          ]
        }
      ]
    },
    {
      "cell_type": "code",
      "source": [
        "# 비공개 속성, 메서드 추가하기(특정 인스턴스의 속성, 메서드만 달라선 안되거나 비공개 처리하는 경우)\n",
        "\n",
        "class Invisibles:\n",
        "    def __init__(self, name, phone_number):\n",
        "        self.name = name\n",
        "        self.__phone_number = phone_number\n",
        "\n",
        "    def __hi(self):\n",
        "        print('Say Hi!')\n",
        "    \n",
        "    def hello(self):\n",
        "        self.__hi()\n",
        "\n",
        "invisible_person = Invisibles('Daniel', 12345678)\n",
        "\n",
        "# 참고 : __은 Private이 아니다. 그저 이름 맹글링을 할뿐이다. \"_<class-name>__<attribute-name>\"으로 저장할 뿐이다.\n",
        "# invisible_person.__phone_number += 1 # AttributeError: 'Invisibles' object has no attribute '__phone_number'\n",
        "invisible_person._Invisibles__phone_number += 1\n",
        "print(invisible_person._Invisibles__phone_number)\n",
        "\n",
        "# invisible_person.__hi() # AttributeError: 'Invisibles' object has no attribute '__hi'\n",
        "invisible_person._Invisibles__hi()\n",
        "invisible_person.hello() # Say Hi!"
      ],
      "metadata": {
        "id": "gQjHvsWEZ4Jf",
        "colab": {
          "base_uri": "https://localhost:8080/"
        },
        "outputId": "8f4b3bed-d564-4db5-bb68-6f290f9ddb5c"
      },
      "execution_count": 6,
      "outputs": [
        {
          "output_type": "stream",
          "name": "stdout",
          "text": [
            "12345679\n",
            "Say Hi!\n",
            "Say Hi!\n"
          ]
        }
      ]
    },
    {
      "cell_type": "markdown",
      "source": [
        "> \\_\\_init\\_\\_ 생성자는 클래스가 인스턴스화 될 때마다 자동적으로 실행되는 함수이다.\n",
        "인스턴스 객체 각각을 구분해주는 self와 나머지 매개변수를 받아 처리한다."
      ],
      "metadata": {
        "id": "QvA6CZS0RkVI"
      }
    },
    {
      "cell_type": "code",
      "source": [
        "# __init__ 생성자의 유무에 따른 클래스\n",
        "\n",
        "class Initiated:\n",
        "    def __init__(self, name):\n",
        "        self.name = name\n",
        "\n",
        "class NoInitiated:\n",
        "    name = 'Fixed Name'\n",
        "\n",
        "person = Initiated('Daniel')\n",
        "fixed = NoInitiated()\n",
        "print('dynamic name : ', person.name)\n",
        "print('fixed name : ', fixed.name)"
      ],
      "metadata": {
        "colab": {
          "base_uri": "https://localhost:8080/"
        },
        "id": "3BG_eDQLQta_",
        "outputId": "68858af4-e33a-45b3-f5f4-088486f33101"
      },
      "execution_count": null,
      "outputs": [
        {
          "output_type": "stream",
          "name": "stdout",
          "text": [
            "dynamic name :  Daniel\n",
            "fixed name :  Fixed Name\n"
          ]
        }
      ]
    },
    {
      "cell_type": "markdown",
      "source": [
        "> \\_\\_init\\_\\_ 생성자가 클래스 내에 존재하면 클래스 인스턴스화 시 파이썬이 자동적으로 self를 생성자에 전달한다. 이때, \\_\\_init\\_\\_ 생성자가 아무런 매개변수를 받지 않는다면 아래와 같은 에러 메세지를 보게 될 것이다."
      ],
      "metadata": {
        "id": "jF5j3lEzUgU1"
      }
    },
    {
      "cell_type": "code",
      "source": [
        "class Foo:\n",
        "    def __init__():\n",
        "        pass\n",
        "foo = Foo()"
      ],
      "metadata": {
        "colab": {
          "base_uri": "https://localhost:8080/",
          "height": 208
        },
        "id": "fzFi3pkLVFuq",
        "outputId": "d9d0a221-0a2a-49cb-cf52-905e8d865ab1"
      },
      "execution_count": null,
      "outputs": [
        {
          "output_type": "error",
          "ename": "TypeError",
          "evalue": "ignored",
          "traceback": [
            "\u001b[0;31m---------------------------------------------------------------------------\u001b[0m",
            "\u001b[0;31mTypeError\u001b[0m                                 Traceback (most recent call last)",
            "\u001b[0;32m<ipython-input-11-c4ab35a2a804>\u001b[0m in \u001b[0;36m<module>\u001b[0;34m()\u001b[0m\n\u001b[1;32m      2\u001b[0m     \u001b[0;32mdef\u001b[0m \u001b[0m__init__\u001b[0m\u001b[0;34m(\u001b[0m\u001b[0;34m)\u001b[0m\u001b[0;34m:\u001b[0m\u001b[0;34m\u001b[0m\u001b[0;34m\u001b[0m\u001b[0m\n\u001b[1;32m      3\u001b[0m         \u001b[0;32mpass\u001b[0m\u001b[0;34m\u001b[0m\u001b[0;34m\u001b[0m\u001b[0m\n\u001b[0;32m----> 4\u001b[0;31m \u001b[0mfoo\u001b[0m \u001b[0;34m=\u001b[0m \u001b[0mFoo\u001b[0m\u001b[0;34m(\u001b[0m\u001b[0;34m)\u001b[0m\u001b[0;34m\u001b[0m\u001b[0;34m\u001b[0m\u001b[0m\n\u001b[0m",
            "\u001b[0;31mTypeError\u001b[0m: __init__() takes 0 positional arguments but 1 was given"
          ]
        }
      ]
    },
    {
      "cell_type": "markdown",
      "source": [
        "> 비슷한 에러메세지를 볼 수 있는 다른 경우가 있다. 바로 클래스 안의 메서드 매개변수에 self가 없으나 인스턴스화된 객체의 메서드로써 실행하려 할 때이다."
      ],
      "metadata": {
        "id": "aGbGoljqVSnD"
      }
    },
    {
      "cell_type": "code",
      "source": [
        "class NotConvention:\n",
        "    def new_init(self, name): # 이렇게 이상한 생성자를 만들 수도 있다.\n",
        "        self.name = name\n",
        "\n",
        "    def no_self():\n",
        "        print(\"I'm no_self func!\")"
      ],
      "metadata": {
        "id": "2TLlW7ciRf36"
      },
      "execution_count": null,
      "outputs": []
    },
    {
      "cell_type": "code",
      "source": [
        "new_person = NotConvention()\n",
        "new_person.new_init('John')\n",
        "print(new_person.name)\n",
        "new_person.no_self() # 거의 비슷한 에러를 띄운다."
      ],
      "metadata": {
        "colab": {
          "base_uri": "https://localhost:8080/",
          "height": 226
        },
        "id": "z0Egy2DGUqo1",
        "outputId": "94e0f366-380d-4402-d862-e87a6200971f"
      },
      "execution_count": null,
      "outputs": [
        {
          "output_type": "stream",
          "name": "stdout",
          "text": [
            "John\n"
          ]
        },
        {
          "output_type": "error",
          "ename": "TypeError",
          "evalue": "ignored",
          "traceback": [
            "\u001b[0;31m---------------------------------------------------------------------------\u001b[0m",
            "\u001b[0;31mTypeError\u001b[0m                                 Traceback (most recent call last)",
            "\u001b[0;32m<ipython-input-16-b91a721a9039>\u001b[0m in \u001b[0;36m<module>\u001b[0;34m()\u001b[0m\n\u001b[1;32m      2\u001b[0m \u001b[0mnew_person\u001b[0m\u001b[0;34m.\u001b[0m\u001b[0mnew_init\u001b[0m\u001b[0;34m(\u001b[0m\u001b[0;34m'John'\u001b[0m\u001b[0;34m)\u001b[0m\u001b[0;34m\u001b[0m\u001b[0;34m\u001b[0m\u001b[0m\n\u001b[1;32m      3\u001b[0m \u001b[0mprint\u001b[0m\u001b[0;34m(\u001b[0m\u001b[0mnew_person\u001b[0m\u001b[0;34m.\u001b[0m\u001b[0mname\u001b[0m\u001b[0;34m)\u001b[0m\u001b[0;34m\u001b[0m\u001b[0;34m\u001b[0m\u001b[0m\n\u001b[0;32m----> 4\u001b[0;31m \u001b[0mnew_person\u001b[0m\u001b[0;34m.\u001b[0m\u001b[0mno_self\u001b[0m\u001b[0;34m(\u001b[0m\u001b[0;34m)\u001b[0m \u001b[0;31m# this raise same error\u001b[0m\u001b[0;34m\u001b[0m\u001b[0;34m\u001b[0m\u001b[0m\n\u001b[0m",
            "\u001b[0;31mTypeError\u001b[0m: no_self() takes 0 positional arguments but 1 was given"
          ]
        }
      ]
    },
    {
      "cell_type": "code",
      "source": [
        "# self를 매개변수로 받든 안받든 클래스에 등록된 메서드를 모두 가져온다.\n",
        "new_person.__dir__()"
      ],
      "metadata": {
        "colab": {
          "base_uri": "https://localhost:8080/"
        },
        "id": "QUtOQZblV21R",
        "outputId": "7ea204bc-0d8d-4bd2-baeb-e0cfc0148786"
      },
      "execution_count": null,
      "outputs": [
        {
          "output_type": "execute_result",
          "data": {
            "text/plain": [
              "['name',\n",
              " '__module__',\n",
              " 'new_init',\n",
              " 'no_self',\n",
              " '__dict__',\n",
              " '__weakref__',\n",
              " '__doc__',\n",
              " '__repr__',\n",
              " '__hash__',\n",
              " '__str__',\n",
              " '__getattribute__',\n",
              " '__setattr__',\n",
              " '__delattr__',\n",
              " '__lt__',\n",
              " '__le__',\n",
              " '__eq__',\n",
              " '__ne__',\n",
              " '__gt__',\n",
              " '__ge__',\n",
              " '__init__',\n",
              " '__new__',\n",
              " '__reduce_ex__',\n",
              " '__reduce__',\n",
              " '__subclasshook__',\n",
              " '__init_subclass__',\n",
              " '__format__',\n",
              " '__sizeof__',\n",
              " '__dir__',\n",
              " '__class__']"
            ]
          },
          "metadata": {},
          "execution_count": 20
        }
      ]
    },
    {
      "cell_type": "markdown",
      "source": [
        "> 인스턴스화된 객체의 메서드를 실행할 때 파이썬이 자동적으로 self를 메서드에 넘겨주기 때문에 위에서 에러가 나왔다.\n",
        "\n",
        "> 파이썬에선 클래스 자체가 하나의 네임스페이스란 사실을 기억하자. 인스턴스와 상관없이 클래스를 통해 바로 호출할 수 있다."
      ],
      "metadata": {
        "id": "7NwNH-sXV5LH"
      }
    },
    {
      "cell_type": "code",
      "source": [
        "# 클래스 자체가 하나의 네임스페이스이다.\n",
        "NotConvention.__dict__"
      ],
      "metadata": {
        "colab": {
          "base_uri": "https://localhost:8080/"
        },
        "id": "2rLGbAk-Xsig",
        "outputId": "8dc88bb1-710b-45ce-9db5-94cb02667bef"
      },
      "execution_count": null,
      "outputs": [
        {
          "output_type": "execute_result",
          "data": {
            "text/plain": [
              "mappingproxy({'__dict__': <attribute '__dict__' of 'NotConvention' objects>,\n",
              "              '__doc__': None,\n",
              "              '__module__': '__main__',\n",
              "              '__weakref__': <attribute '__weakref__' of 'NotConvention' objects>,\n",
              "              'new_init': <function __main__.NotConvention.new_init>,\n",
              "              'no_self': <function __main__.NotConvention.no_self>})"
            ]
          },
          "metadata": {},
          "execution_count": 24
        }
      ]
    },
    {
      "cell_type": "code",
      "source": [
        "NotConvention.no_self()"
      ],
      "metadata": {
        "colab": {
          "base_uri": "https://localhost:8080/"
        },
        "id": "BEkmLFBqYq-S",
        "outputId": "1b4fd578-672d-4480-c0db-d7053cf9cb62"
      },
      "execution_count": null,
      "outputs": [
        {
          "output_type": "stream",
          "name": "stdout",
          "text": [
            "I'm no_self func!\n"
          ]
        }
      ]
    },
    {
      "cell_type": "markdown",
      "source": [
        "# To-Do\n",
        "\n",
        "    클래스 상속\n",
        "    메서드 오버라이딩\n",
        "    추상 클래스\n",
        "    클래스메서드(class method)\n",
        "    yield 키워드\n",
        "    제너레이터"
      ],
      "metadata": {
        "id": "Rn4ZJveoY3sf"
      }
    }
  ]
}