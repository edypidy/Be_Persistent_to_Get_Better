{
  "nbformat": 4,
  "nbformat_minor": 0,
  "metadata": {
    "colab": {
      "name": "하다보면 늘겠지 24. Python Built in functions3.ipynb",
      "provenance": [],
      "collapsed_sections": []
    },
    "kernelspec": {
      "name": "python3",
      "display_name": "Python 3"
    },
    "language_info": {
      "name": "python"
    }
  },
  "cells": [
    {
      "cell_type": "markdown",
      "source": [
        "# sum() function"
      ],
      "metadata": {
        "id": "W3_0_FUeqnjL"
      }
    },
    {
      "cell_type": "code",
      "source": [
        "\"\"\"\n",
        "python sum() function is used to get the sum of numbers of an iterable, i.e., list.\n",
        "\"\"\"\n",
        "iterable = [1,2,4]\n",
        "s = sum(iterable)\n",
        "print(f'sum({iterable}) = ', s)\n",
        "\n",
        "num = 10\n",
        "s = sum(iterable, num)\n",
        "print(f'sum({iterable}, {num}) = ', s)\n",
        "\n",
        "# s = sum(iterable, iterable) # don't do this. sum() function can't concatenate list with list\n",
        "# print(f'sum({iterable}, {iterable}) = ', s)"
      ],
      "metadata": {
        "colab": {
          "base_uri": "https://localhost:8080/"
        },
        "id": "2HBOWURHqn74",
        "outputId": "37989dc3-0046-46ca-86ad-ac47b082bca0"
      },
      "execution_count": 5,
      "outputs": [
        {
          "output_type": "stream",
          "name": "stdout",
          "text": [
            "sum([1, 2, 4]) =  7\n",
            "sum([1, 2, 4], 10) =  17\n"
          ]
        }
      ]
    },
    {
      "cell_type": "markdown",
      "source": [
        "# any() function"
      ],
      "metadata": {
        "id": "r-764hGBrhsQ"
      }
    },
    {
      "cell_type": "code",
      "source": [
        "\"\"\"\n",
        "python any() function returns true if 'any item in an iterable' is true.\n",
        "\n",
        "Otherwise, it returns False.\n",
        "\"\"\"\n",
        "\n",
        "l = [4,3,2,0]\n",
        "print(f'any({l}) = ', any(l))\n",
        "\n",
        "l = [0, False]\n",
        "print(f'any({l}) = ', any(l))\n",
        "\n",
        "l = [0, False, 5]\n",
        "print(f'any({l}) = ', any(l))\n",
        "\n",
        "l = []\n",
        "print(f'any({l}) = ', any(l))"
      ],
      "metadata": {
        "colab": {
          "base_uri": "https://localhost:8080/"
        },
        "id": "NA0qpYQArdyX",
        "outputId": "9f3314c5-af74-42b6-c45d-12b84bca70c3"
      },
      "execution_count": 8,
      "outputs": [
        {
          "output_type": "stream",
          "name": "stdout",
          "text": [
            "any([4, 3, 2, 0]) =  True\n",
            "any([0, False]) =  False\n",
            "any([0, False, 5]) =  True\n",
            "any([]) =  False\n"
          ]
        }
      ]
    },
    {
      "cell_type": "markdown",
      "source": [
        "# ascii() function"
      ],
      "metadata": {
        "id": "ZrGmt-HCtmx9"
      }
    },
    {
      "cell_type": "code",
      "source": [
        "\"\"\"\n",
        "python ascii() function returns 'a string containing a printable representation of an obj'\n",
        "and 'escapes the non-ASCII characters' in the string using \\\\x, \\\\u or \\\\U escapes.\n",
        "\"\"\"\n",
        "\n",
        "normalText = 'Python is interesting'\n",
        "print(ascii(normalText))\n",
        "\n",
        "nonAsciiText = 'Pythön is interesting'\n",
        "print(ascii(nonAsciiText))\n",
        "\n",
        "print('Pyth\\xf6n is interesting')"
      ],
      "metadata": {
        "colab": {
          "base_uri": "https://localhost:8080/"
        },
        "id": "2PGuWcTTrd3f",
        "outputId": "aeaecd86-d387-433f-9d3b-5ae6f29c29f9"
      },
      "execution_count": 16,
      "outputs": [
        {
          "output_type": "stream",
          "name": "stdout",
          "text": [
            "'Python is interesting'\n",
            "'Pyth\\xf6n is interesting'\n",
            "Pythön is interesting\n"
          ]
        }
      ]
    },
    {
      "cell_type": "markdown",
      "source": [
        "# bytearray() function"
      ],
      "metadata": {
        "id": "2gVgEIIIvDDL"
      }
    },
    {
      "cell_type": "code",
      "source": [
        "\"\"\"\n",
        "bytearray() function returns \n",
        "1. 'a bytearray obj' and \n",
        "2. 'can convert objs into bytearray objs',\n",
        "3. 'or create an empty bytearray obj' \n",
        "of the specified size.\n",
        "\"\"\"\n",
        "\n",
        "string = 'Python is a programming language.'\n",
        "\n",
        "# string with encoding 'utf-8'\n",
        "arr = bytearray(string, 'utf-8')\n",
        "print(arr)"
      ],
      "metadata": {
        "colab": {
          "base_uri": "https://localhost:8080/"
        },
        "id": "jQx2rOO5rd8H",
        "outputId": "bc3cf0c9-851a-476a-eb12-b4d85e46c675"
      },
      "execution_count": 17,
      "outputs": [
        {
          "output_type": "stream",
          "name": "stdout",
          "text": [
            "bytearray(b'Python is a programming language.')\n"
          ]
        }
      ]
    },
    {
      "cell_type": "markdown",
      "source": [
        "# To-Do\n",
        "        eval()\n",
        "        float()\n",
        "        format()\n",
        "        globals()\n",
        "        iter()\n",
        "        locals()\n",
        "        chr()\n",
        "        complex()\n",
        "        delattr()\n",
        "        dir()\n",
        "        divmod()\n",
        "        dict()"
      ],
      "metadata": {
        "id": "bKM9A1wKC6DJ"
      }
    }
  ]
}