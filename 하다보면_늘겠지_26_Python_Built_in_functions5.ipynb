{
  "nbformat": 4,
  "nbformat_minor": 0,
  "metadata": {
    "colab": {
      "name": "하다보면 늘겠지 26. Python Built in functions5.ipynb",
      "provenance": [],
      "collapsed_sections": []
    },
    "kernelspec": {
      "name": "python3",
      "display_name": "Python 3"
    },
    "language_info": {
      "name": "python"
    }
  },
  "cells": [
    {
      "cell_type": "markdown",
      "source": [
        "# hasattr() function"
      ],
      "metadata": {
        "id": "-viuAaGJY0C6"
      }
    },
    {
      "cell_type": "code",
      "execution_count": 6,
      "metadata": {
        "colab": {
          "base_uri": "https://localhost:8080/"
        },
        "id": "q7ukIGkTYm4i",
        "outputId": "d18ec4ff-6980-4bb1-887a-00d0c9859475"
      },
      "outputs": [
        {
          "output_type": "stream",
          "name": "stdout",
          "text": [
            "Daniel has score? : True, A+\n",
            "Daniel has clock? : False\n"
          ]
        }
      ],
      "source": [
        "\"\"\"\n",
        "Python hasattr() function returns True if the string is the name of one of the obj's attributes,\n",
        "False if not. \n",
        "i.e. hasattr() is implemented by calling getattr(obj, name) and seeing whether it raises an AttributeError or not.\n",
        "\"\"\"\n",
        "class Student:\n",
        "    grade = 3\n",
        "    score = 'A+'\n",
        "    attendances = 10\n",
        "\n",
        "    def __init__(self, name):\n",
        "        self.name = name\n",
        "    \n",
        "    def submission(self):\n",
        "        print('Homework Submission is done')\n",
        "\n",
        "Daniel = Student('Daniel')\n",
        "print(f\"Daniel has score? : {hasattr(Daniel, 'score')}, {getattr(Daniel, 'score')}\")\n",
        "print(f\"Daniel has clock? : {hasattr(Daniel, 'clock')}\")"
      ]
    },
    {
      "cell_type": "markdown",
      "source": [
        "# hash() function"
      ],
      "metadata": {
        "id": "bfnzZ0V0efxZ"
      }
    },
    {
      "cell_type": "code",
      "source": [
        "\"\"\"\n",
        "hash() function returns the hash value of the obj(if it has one).\n",
        "Hash values are integers. \n",
        "They are used to quickly compare dictionary keys during a dictionary lookup.\n",
        "Numeric values that compare equal have the same hash value\n",
        "\"\"\"\n",
        "alphabet = 'abcdefg'\n",
        "\n",
        "hash(alphabet)"
      ],
      "metadata": {
        "colab": {
          "base_uri": "https://localhost:8080/"
        },
        "id": "OPS0xheEegFG",
        "outputId": "4162b8bd-dd2e-4cf4-bc21-1dfea359bd9d"
      },
      "execution_count": 24,
      "outputs": [
        {
          "output_type": "execute_result",
          "data": {
            "text/plain": [
              "-5252138191320906107"
            ]
          },
          "metadata": {},
          "execution_count": 24
        }
      ]
    },
    {
      "cell_type": "markdown",
      "source": [
        "# id() function"
      ],
      "metadata": {
        "id": "4zv7aoCbfx23"
      }
    },
    {
      "cell_type": "code",
      "source": [
        "\"\"\"\n",
        "id() function returns the 'identity' of an object.\n",
        "This is an integer which is guaranteed to be unique and constant for this object during its lifetime.\n",
        "\"\"\"\n",
        "\n",
        "a = 1\n",
        "print(id(a))\n",
        "b = a\n",
        "print(id(b))"
      ],
      "metadata": {
        "colab": {
          "base_uri": "https://localhost:8080/"
        },
        "id": "nq2jLVTifyLI",
        "outputId": "66a805b5-b258-4f93-d67d-8698c59a7ca3"
      },
      "execution_count": 31,
      "outputs": [
        {
          "output_type": "stream",
          "name": "stdout",
          "text": [
            "93904107612672\n",
            "93904107612672\n"
          ]
        }
      ]
    },
    {
      "cell_type": "markdown",
      "source": [
        "# iter() function"
      ],
      "metadata": {
        "id": "05xydH40b0Bj"
      }
    },
    {
      "cell_type": "code",
      "source": [
        "\"\"\"\n",
        "Python iter() function is used to return an iterator obj.\n",
        "It creates an obj which can be iterated one element at a time.\n",
        "\"\"\"\n",
        "# list of numbers\n",
        "number_list = [1,2,3,4,5]\n",
        "\n",
        "listiter = iter(number_list)\n",
        "\n",
        "for _ in range(5):\n",
        "    print(next(listiter))\n",
        "next(listiter)\n",
        "\n",
        "# # The mechanism is similar to this one, but in reverse.\n",
        "# for _ in range(5):\n",
        "#     number_list.pop()\n",
        "# number_list.pop()"
      ],
      "metadata": {
        "colab": {
          "base_uri": "https://localhost:8080/",
          "height": 336
        },
        "id": "eyX0Z0WYYrmO",
        "outputId": "d6ab1059-2ea6-438e-c7d4-53189db34305"
      },
      "execution_count": 12,
      "outputs": [
        {
          "output_type": "stream",
          "name": "stdout",
          "text": [
            "1\n",
            "2\n",
            "3\n",
            "4\n",
            "5\n"
          ]
        },
        {
          "output_type": "error",
          "ename": "StopIteration",
          "evalue": "ignored",
          "traceback": [
            "\u001b[0;31m---------------------------------------------------------------------------\u001b[0m",
            "\u001b[0;31mStopIteration\u001b[0m                             Traceback (most recent call last)",
            "\u001b[0;32m<ipython-input-12-53f8acc67e01>\u001b[0m in \u001b[0;36m<module>\u001b[0;34m()\u001b[0m\n\u001b[1;32m     10\u001b[0m \u001b[0;32mfor\u001b[0m \u001b[0m_\u001b[0m \u001b[0;32min\u001b[0m \u001b[0mrange\u001b[0m\u001b[0;34m(\u001b[0m\u001b[0;36m5\u001b[0m\u001b[0;34m)\u001b[0m\u001b[0;34m:\u001b[0m\u001b[0;34m\u001b[0m\u001b[0;34m\u001b[0m\u001b[0m\n\u001b[1;32m     11\u001b[0m     \u001b[0mprint\u001b[0m\u001b[0;34m(\u001b[0m\u001b[0mnext\u001b[0m\u001b[0;34m(\u001b[0m\u001b[0mlistiter\u001b[0m\u001b[0;34m)\u001b[0m\u001b[0;34m)\u001b[0m\u001b[0;34m\u001b[0m\u001b[0;34m\u001b[0m\u001b[0m\n\u001b[0;32m---> 12\u001b[0;31m \u001b[0mnext\u001b[0m\u001b[0;34m(\u001b[0m\u001b[0mlistiter\u001b[0m\u001b[0;34m)\u001b[0m\u001b[0;34m\u001b[0m\u001b[0;34m\u001b[0m\u001b[0m\n\u001b[0m\u001b[1;32m     13\u001b[0m \u001b[0;34m\u001b[0m\u001b[0m\n\u001b[1;32m     14\u001b[0m \u001b[0;31m# # The mechanism is similar to this one, but in reverse.\u001b[0m\u001b[0;34m\u001b[0m\u001b[0;34m\u001b[0m\u001b[0;34m\u001b[0m\u001b[0m\n",
            "\u001b[0;31mStopIteration\u001b[0m: "
          ]
        }
      ]
    },
    {
      "cell_type": "markdown",
      "source": [
        "# len() function"
      ],
      "metadata": {
        "id": "41mj26xqdkZF"
      }
    },
    {
      "cell_type": "code",
      "source": [
        "\"\"\"\n",
        "Python len function is used to return the length(the number of items) of an obj.\n",
        "\"\"\"\n",
        "\n",
        "a = [1,2,3]\n",
        "print(f'{len(a)} == {a.__len__()}')\n",
        "\n",
        "strA = 'Python'\n",
        "print(f'{len(strA)} == {strA.__len__()}')"
      ],
      "metadata": {
        "colab": {
          "base_uri": "https://localhost:8080/"
        },
        "id": "bN-5niwsYsVv",
        "outputId": "b71e8013-fc50-410c-e86e-c3279b37af89"
      },
      "execution_count": 17,
      "outputs": [
        {
          "output_type": "stream",
          "name": "stdout",
          "text": [
            "3 == 3\n",
            "6 == 6\n"
          ]
        }
      ]
    },
    {
      "cell_type": "markdown",
      "source": [
        "# Source\n",
        "\n",
        "https://docs.python.org/3/library/functions.html#hasattr\n",
        "\n",
        "https://www.javatpoint.com/python-built-in-functions"
      ],
      "metadata": {
        "id": "HhEKMTZjhLz6"
      }
    },
    {
      "cell_type": "markdown",
      "source": [
        "# To-Do\n",
        "    map()\n",
        "    object()\n",
        "    open()\n",
        "    chr()\n",
        "    complex()\n",
        "    delattr()\n",
        "    dir()\n",
        "    divmod()\n",
        "    dict()\n",
        "    enumerate()\n",
        "    filter()\n",
        "    min()\n",
        "    set()\n",
        "    setattr()\n",
        "    slice()\n",
        "    sorted()\n",
        "    next()\n",
        "    input()\n",
        "    pow()\n",
        "    range()\n",
        "    reversed()\n",
        "    round()\n",
        "    str()\n",
        "    type()\n",
        "    vars()\n",
        "    zip()\n",
        "    __inport__()\n"
      ],
      "metadata": {
        "id": "joe-s6NnhDrN"
      }
    }
  ]
}