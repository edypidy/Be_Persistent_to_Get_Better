{
  "nbformat": 4,
  "nbformat_minor": 0,
  "metadata": {
    "colab": {
      "name": "하다보면 늘겠지 : 18. CNN_baseline.ipynb",
      "provenance": [],
      "collapsed_sections": []
    },
    "kernelspec": {
      "name": "python3",
      "display_name": "Python 3"
    },
    "language_info": {
      "name": "python"
    },
    "accelerator": "GPU"
  },
  "cells": [
    {
      "cell_type": "code",
      "source": [
        "import os\n",
        "import random\n",
        "\n",
        "import torch\n",
        "import torchvision\n",
        "import torch.nn as nn\n",
        "import torch.optim as optim\n",
        "import torchvision.transforms as transforms\n",
        "\n",
        "import numpy as np\n",
        "import matplotlib.pyplot as plt\n",
        "\n",
        "from tqdm import tqdm"
      ],
      "metadata": {
        "id": "iFy8dqJlPQw3"
      },
      "execution_count": 1,
      "outputs": []
    },
    {
      "cell_type": "code",
      "source": [
        "!pip install omegaconf"
      ],
      "metadata": {
        "colab": {
          "base_uri": "https://localhost:8080/"
        },
        "id": "ZYS1awCVeTsN",
        "outputId": "70ae9564-5025-4f44-9c7a-bd6178d75db7"
      },
      "execution_count": 2,
      "outputs": [
        {
          "output_type": "stream",
          "name": "stdout",
          "text": [
            "Requirement already satisfied: omegaconf in /usr/local/lib/python3.7/dist-packages (2.1.1)\n",
            "Requirement already satisfied: PyYAML>=5.1.0 in /usr/local/lib/python3.7/dist-packages (from omegaconf) (6.0)\n",
            "Requirement already satisfied: antlr4-python3-runtime==4.8 in /usr/local/lib/python3.7/dist-packages (from omegaconf) (4.8)\n"
          ]
        }
      ]
    },
    {
      "cell_type": "code",
      "source": [
        "device = torch.device('cuda' if torch.cuda.is_available() else 'cpu')\n",
        "print('device : ', device)"
      ],
      "metadata": {
        "colab": {
          "base_uri": "https://localhost:8080/"
        },
        "id": "AyOjoCb6P0rf",
        "outputId": "2f6c2a8b-c2bd-4fa0-baf5-055932f5d914"
      },
      "execution_count": 9,
      "outputs": [
        {
          "output_type": "stream",
          "name": "stdout",
          "text": [
            "device :  cuda\n"
          ]
        }
      ]
    },
    {
      "cell_type": "code",
      "source": [
        "data_root = os.path.join(os.getcwd(), 'data')\n",
        "print('data_root : ', data_root)"
      ],
      "metadata": {
        "colab": {
          "base_uri": "https://localhost:8080/"
        },
        "id": "_f18SFmxQeiy",
        "outputId": "6bb94cf8-d144-41ae-ed00-936d930c9e3d"
      },
      "execution_count": 4,
      "outputs": [
        {
          "output_type": "stream",
          "name": "stdout",
          "text": [
            "data_root :  /content/data\n"
          ]
        }
      ]
    },
    {
      "cell_type": "code",
      "source": [
        "transform = transforms.Compose([\n",
        "                                transforms.ToTensor(),\n",
        "                                transforms.Normalize([0.5], [0.5]),\n",
        "])"
      ],
      "metadata": {
        "id": "kQFAS6WSQef-"
      },
      "execution_count": 5,
      "outputs": []
    },
    {
      "cell_type": "code",
      "source": [
        "img_size = 28*28\n",
        "num_classes = 10\n",
        "\n",
        "num_epochs = 10\n",
        "batch_size = 32\n",
        "lr = 5e-3\n",
        "workers = 2"
      ],
      "metadata": {
        "id": "rRhzaoh5T5hH"
      },
      "execution_count": 6,
      "outputs": []
    },
    {
      "cell_type": "code",
      "source": [
        "mnist_dataset = torchvision.datasets.MNIST(root = data_root,\n",
        "                                           train = True,\n",
        "                                           download = True,\n",
        "                                           transform = transform,\n",
        "                                           )\n",
        "test_dataset = torchvision.datasets.MNIST(root = data_root,\n",
        "                                          train = False,\n",
        "                                          transform = transform)"
      ],
      "metadata": {
        "id": "pfQFQihrQeQY"
      },
      "execution_count": 7,
      "outputs": []
    },
    {
      "cell_type": "code",
      "source": [
        "# Split function\n",
        "\n",
        "def dataset_split(dataset, split = [0.9, 0.1], random_train_val_split = False):\n",
        "\n",
        "    indices = list(range(len(dataset)))\n",
        "    modes = ['train', 'valid', 'test'][: len(split)]\n",
        "    sizes = np.array(np.cumsum([0] + list(split)) * len(dataset), dtype=int)\n",
        "\n",
        "    if random_train_val_split:\n",
        "        train_and_val_idx = indices[: sizes[2]]\n",
        "        random.shuffle(train_and_val_idx)\n",
        "        indices = train_and_val_idx + indices[sizes[2] :]\n",
        "\n",
        "    datasets = {\n",
        "        mode: torch.utils.data.Subset(\n",
        "            dataset, indices[sizes[i] : sizes[i + 1]]\n",
        "        )\n",
        "        for i, mode in enumerate(modes)\n",
        "    }\n",
        "\n",
        "    return datasets"
      ],
      "metadata": {
        "id": "fNoW1-JeSkrd"
      },
      "execution_count": 8,
      "outputs": []
    },
    {
      "cell_type": "code",
      "source": [
        "datasets = dataset_split(mnist_dataset,\n",
        "                         split = [0.9, 0.1],\n",
        "                         random_train_val_split = False,\n",
        "                         )\n",
        "print('datasets : ', datasets)\n",
        "train_dataset = datasets['train']\n",
        "valid_dataset = datasets['valid']\n",
        "print('length of dataset : ', len(train_dataset), len(valid_dataset))"
      ],
      "metadata": {
        "colab": {
          "base_uri": "https://localhost:8080/"
        },
        "id": "BDTp7TqIUsCN",
        "outputId": "807a085c-0f4d-4323-d4e7-302f48340bdc"
      },
      "execution_count": 10,
      "outputs": [
        {
          "output_type": "stream",
          "name": "stdout",
          "text": [
            "datasets :  {'train': <torch.utils.data.dataset.Subset object at 0x7faff70fb2d0>, 'valid': <torch.utils.data.dataset.Subset object at 0x7faff70fbdd0>}\n",
            "length of dataset :  54000 6000\n"
          ]
        }
      ]
    },
    {
      "cell_type": "code",
      "source": [
        "def init_dataloader():\n",
        "    train_dataloader = torch.utils.data.DataLoader(train_dataset,\n",
        "                                                   batch_size = batch_size,\n",
        "                                                   shuffle = True,\n",
        "                                                   num_workers = workers,\n",
        "                                                   )\n",
        "    valid_dataloader = torch.utils.data.DataLoader(valid_dataset,\n",
        "                                                   batch_size = batch_size,\n",
        "                                                   shuffle = True,\n",
        "                                                   num_workers = workers,\n",
        "                                                   )\n",
        "    return train_dataloader, valid_dataloader\n",
        "train_dataloader, valid_dataloader = init_dataloader()"
      ],
      "metadata": {
        "id": "xYNkjODQUHUj"
      },
      "execution_count": 11,
      "outputs": []
    },
    {
      "cell_type": "code",
      "source": [
        "# Check Data Loader\n",
        "sample_batch = iter(train_dataloader).next()\n",
        "print(f'Shape of sample batch : image {sample_batch[0].shape}\\t label {sample_batch[1].shape}')\n",
        "print(f'first sample label of sample batch : {sample_batch[1][0]}')\n",
        "npimg = sample_batch[0][0][0].numpy()\n",
        "plt.imshow(npimg)\n",
        "\n",
        "train_dataloader, valid_dataloader = init_dataloader()"
      ],
      "metadata": {
        "colab": {
          "base_uri": "https://localhost:8080/",
          "height": 300
        },
        "id": "-zII47ArQeNR",
        "outputId": "370eb075-fc21-41cd-a8a5-848b7bd243c0"
      },
      "execution_count": 12,
      "outputs": [
        {
          "output_type": "stream",
          "name": "stdout",
          "text": [
            "Shape of sample batch : image torch.Size([32, 1, 28, 28])\t label torch.Size([32])\n",
            "first sample label of sample batch : 3\n"
          ]
        },
        {
          "output_type": "display_data",
          "data": {
            "image/png": "[encoded data removed]",
            "text/plain": [
              "<Figure size 432x288 with 1 Axes>"
            ]
          },
          "metadata": {
            "needs_background": "light"
          }
        }
      ]
    },
    {
      "cell_type": "code",
      "source": [
        "from omegaconf import OmegaConf\n",
        "from omegaconf import DictConfig\n",
        "\n",
        "# model_configuration\n",
        "_model_config_dict = {\n",
        "    'layer_1':{\n",
        "        'conv2d_in_channels': 1,\n",
        "        'conv2d_out_channels': 8,\n",
        "        'conv2d_kernel_size': 3,\n",
        "        'conv2d_stride': 1,\n",
        "        'conv2d_padding': 1,\n",
        "        # batch x 8 x 28 x 28\n",
        "        'maxpool2d_kernel_size': 2,\n",
        "        'maxpool2d_stride': 2,\n",
        "        # batch x 8 x 14 x 14\n",
        "    },\n",
        "    'layer_2':{\n",
        "        'conv2d_in_channels': 8,\n",
        "        'conv2d_out_channels': 16,\n",
        "        'conv2d_kernel_size': 3,\n",
        "        'conv2d_stride': 1,\n",
        "        'conv2d_padding': 1,\n",
        "        # batch x 16 x 14 x 14\n",
        "        'maxpool2d_kernel_size': 2,\n",
        "        'maxpool2d_stride':2,\n",
        "        # batch x 16 x 7 x 7\n",
        "    },\n",
        "    'fc_1':{\n",
        "        'in_features': 16*7*7,\n",
        "        'out_features': 256,\n",
        "    },\n",
        "    'fc_2':{\n",
        "        'in_features': 256,\n",
        "        'out_features': 64,\n",
        "    },\n",
        "    'fc_3':{\n",
        "        'in_features': 64,\n",
        "        'out_features': 10,\n",
        "    },\n",
        "    'dropout_prob':0.25,\n",
        "}\n",
        "\n",
        "_model_config = OmegaConf.create(_model_config_dict)"
      ],
      "metadata": {
        "id": "vt89HZ4WXPOO"
      },
      "execution_count": 38,
      "outputs": []
    },
    {
      "cell_type": "code",
      "source": [
        "class CNN(nn.Module):\n",
        "    def __init__(self, cfg = _model_config):\n",
        "        super().__init__()\n",
        "        self.conv_layer1 = nn.Sequential(\n",
        "            nn.Conv2d(\n",
        "                in_channels=cfg.layer_1.conv2d_in_channels,\n",
        "                out_channels=cfg.layer_1.conv2d_out_channels,\n",
        "                kernel_size=cfg.layer_1.conv2d_kernel_size,\n",
        "                stride=cfg.layer_1.conv2d_stride,\n",
        "                padding=cfg.layer_1.conv2d_padding,\n",
        "            ),\n",
        "            nn.BatchNorm2d(\n",
        "                num_features=cfg.layer_1.conv2d_out_channels\n",
        "            ),\n",
        "            nn.ReLU(),\n",
        "            nn.MaxPool2d(\n",
        "                kernel_size=cfg.layer_1.maxpool2d_kernel_size,\n",
        "                stride=cfg.layer_1.maxpool2d_stride,\n",
        "            ),\n",
        "        )\n",
        "        self.conv_layer2 = nn.Sequential(\n",
        "            nn.Conv2d(\n",
        "                in_channels=cfg.layer_2.conv2d_in_channels,\n",
        "                out_channels=cfg.layer_2.conv2d_out_channels,\n",
        "                kernel_size=cfg.layer_2.conv2d_kernel_size,\n",
        "                stride=cfg.layer_2.conv2d_stride,\n",
        "                padding=cfg.layer_2.conv2d_padding,\n",
        "            ),\n",
        "            nn.BatchNorm2d(\n",
        "                num_features=cfg.layer_2.conv2d_out_channels\n",
        "            ),\n",
        "            nn.ReLU(),\n",
        "            nn.MaxPool2d(\n",
        "                kernel_size=cfg.layer_2.maxpool2d_kernel_size,\n",
        "                stride=cfg.layer_2.maxpool2d_stride,\n",
        "            ),\n",
        "        )\n",
        "        self.fc1 = nn.Linear(\n",
        "            in_features=cfg.fc_1.in_features,\n",
        "            out_features=cfg.fc_1.out_features,\n",
        "        )\n",
        "        self.fc2 = nn.Linear(\n",
        "            in_features=cfg.fc_2.in_features,\n",
        "            out_features=cfg.fc_2.out_features,\n",
        "        )\n",
        "        self.fc3 = nn.Linear(\n",
        "            in_features=cfg.fc_3.in_features,\n",
        "            out_features=cfg.fc_3.out_features,\n",
        "        )\n",
        "\n",
        "    def forward(self, x):\n",
        "        out = self.conv_layer1(x)\n",
        "        out = self.conv_layer2(out)\n",
        "        out = out.view(out.size(0), -1)\n",
        "\n",
        "        out = self.fc1(out)\n",
        "        out = self.fc2(out)\n",
        "        out = self.fc3(out)\n",
        "\n",
        "        return out"
      ],
      "metadata": {
        "id": "VM6jYK7bbfeU"
      },
      "execution_count": 39,
      "outputs": []
    },
    {
      "cell_type": "code",
      "source": [
        "model = CNN().to(device)\n",
        "print(model)"
      ],
      "metadata": {
        "colab": {
          "base_uri": "https://localhost:8080/"
        },
        "id": "nN_OvRVkddFu",
        "outputId": "27dc84f8-5b6f-4602-bdc7-bcc2b44b3014"
      },
      "execution_count": 50,
      "outputs": [
        {
          "output_type": "stream",
          "name": "stdout",
          "text": [
            "CNN(\n",
            "  (conv_layer1): Sequential(\n",
            "    (0): Conv2d(1, 8, kernel_size=(3, 3), stride=(1, 1), padding=(1, 1))\n",
            "    (1): BatchNorm2d(8, eps=1e-05, momentum=0.1, affine=True, track_running_stats=True)\n",
            "    (2): ReLU()\n",
            "    (3): MaxPool2d(kernel_size=2, stride=2, padding=0, dilation=1, ceil_mode=False)\n",
            "  )\n",
            "  (conv_layer2): Sequential(\n",
            "    (0): Conv2d(8, 16, kernel_size=(3, 3), stride=(1, 1), padding=(1, 1))\n",
            "    (1): BatchNorm2d(16, eps=1e-05, momentum=0.1, affine=True, track_running_stats=True)\n",
            "    (2): ReLU()\n",
            "    (3): MaxPool2d(kernel_size=2, stride=2, padding=0, dilation=1, ceil_mode=False)\n",
            "  )\n",
            "  (fc1): Linear(in_features=784, out_features=256, bias=True)\n",
            "  (fc2): Linear(in_features=256, out_features=64, bias=True)\n",
            "  (fc3): Linear(in_features=64, out_features=10, bias=True)\n",
            ")\n"
          ]
        }
      ]
    },
    {
      "cell_type": "code",
      "source": [
        "criterion = nn.CrossEntropyLoss()\n",
        "optimizer = optim.Adam(model.parameters(), lr=lr)"
      ],
      "metadata": {
        "id": "hjfqm0dbfJCs"
      },
      "execution_count": 51,
      "outputs": []
    },
    {
      "cell_type": "code",
      "source": [
        "# Early Stopping Callback Object\n",
        "# With some modifications, source is from https://github.com/Bjarten/early-stopping-pytorch\n",
        "\n",
        "class EarlyStopping:\n",
        "    \"\"\"Early stops the training if validation loss doesn't improve after a given patience.\"\"\"\n",
        "    def __init__(self, patience=7, verbose=False, delta=0, path='checkpoint.pt', trace_func=print):\n",
        "        \"\"\"\n",
        "        Args:\n",
        "            patience (int): How long to wait after last time validation loss improved.\n",
        "                            Default: 7\n",
        "            verbose (bool): If True, prints a message for each validation loss improvement. \n",
        "                            Default: False\n",
        "            delta (float): Minimum change in the monitored quantity to qualify as an improvement.\n",
        "                            Default: 0\n",
        "            path (str): Path for the checkpoint to be saved to.\n",
        "                            Default: 'checkpoint.pt'\n",
        "            trace_func (function): trace print function.\n",
        "                            Default: print            \n",
        "        \"\"\"\n",
        "        self.patience = patience\n",
        "        self.verbose = verbose\n",
        "        self.counter = 0\n",
        "        self.best_score = None\n",
        "        self.early_stop = False\n",
        "        self.val_loss_min = np.Inf\n",
        "        self.delta = delta\n",
        "        self.path = path\n",
        "        self.trace_func = trace_func\n",
        "    def __call__(self, val_loss, model):\n",
        "\n",
        "        score = -val_loss\n",
        "\n",
        "        if self.best_score is None:\n",
        "            self.best_score = score\n",
        "            self.save_checkpoint(val_loss, model)\n",
        "        elif score < self.best_score + self.delta:\n",
        "            self.counter += 1\n",
        "            self.trace_func(f'EarlyStopping counter: {self.counter} out of {self.patience}')\n",
        "            if self.counter >= self.patience:\n",
        "                self.early_stop = True\n",
        "        else:\n",
        "            self.best_score = score\n",
        "            self.save_checkpoint(val_loss, model)\n",
        "            self.counter = 0\n",
        "\n",
        "    def save_checkpoint(self, val_loss, model):\n",
        "        '''Saves model when validation loss decrease.'''\n",
        "        if self.verbose:\n",
        "            self.trace_func(f'Validation loss decreased ({self.val_loss_min:.6f} --> {val_loss:.6f}).  Saving model ...')\n",
        "        \n",
        "        file_name = self.path.split('/')[-1]\n",
        "        save_dir = os.path.dirname(self.path)\n",
        "        torch.save(model, os.path.join(save_dir, f'val_loss-{val_loss}-{file_name}'))\n",
        "        self.val_loss_min = val_loss"
      ],
      "metadata": {
        "id": "B6OAIQQzfdYs"
      },
      "execution_count": 52,
      "outputs": []
    },
    {
      "cell_type": "code",
      "source": [
        "early_stopper = EarlyStopping(\n",
        "    patience=5, verbose=True, path=os.path.join(os.getcwd(), 'model.ckpt')\n",
        ")"
      ],
      "metadata": {
        "id": "_Ol7e0JLfn4Z"
      },
      "execution_count": 53,
      "outputs": []
    },
    {
      "cell_type": "code",
      "source": [
        "# Train the model\n",
        "\n",
        "train_step = 0\n",
        "log_interval = 500\n",
        "for epoch in range(1, num_epochs+1):\n",
        "    # valid step\n",
        "    with torch.no_grad():\n",
        "        val_loss = 0.\n",
        "        model.eval()\n",
        "\n",
        "        for batch_idx, (val_images, val_labels) in enumerate(\n",
        "            tqdm(valid_dataloader, position=0, leave=True, desc='valid')\n",
        "        ):\n",
        "            val_images = val_images.to(device)\n",
        "            val_labels = val_labels.to(device)\n",
        "\n",
        "            # Forward\n",
        "            val_outputs = model(val_images)\n",
        "            val_loss += criterion(val_outputs, val_labels) / val_outputs.shape[0]\n",
        "\n",
        "    # valid step logging\n",
        "    val_epoch_loss = val_loss / len(valid_dataloader)\n",
        "\n",
        "    print(\n",
        "        f'{epoch} epoch, {train_step} step: val_epoch_loss: {val_epoch_loss}'\n",
        "    )\n",
        "\n",
        "    # early stopping\n",
        "    early_stopper(val_epoch_loss, model)\n",
        "    if early_stopper.early_stop:\n",
        "        break\n",
        "    \n",
        "    # train step\n",
        "    running_loss = 0.\n",
        "    \n",
        "    model.train()\n",
        "    for batch_idx, (images, labels) in enumerate(\n",
        "        tqdm(train_dataloader, position=0, leave=True, desc='train')\n",
        "    ):\n",
        "        images = images.to(device)\n",
        "        labels = labels.to(device)\n",
        "\n",
        "        # Forward\n",
        "        outputs = model(images)\n",
        "        loss = criterion(outputs, labels)\n",
        "\n",
        "        # Backward\n",
        "        optimizer.zero_grad()\n",
        "        loss.backward()\n",
        "        optimizer.step()\n",
        "\n",
        "        running_loss += loss.item()\n",
        "\n",
        "        # Train logging\n",
        "        if train_step%log_interval == 0:\n",
        "            train_loss = running_loss / log_interval\n",
        "\n",
        "            print(\n",
        "                f'{train_step}: train_loss: {train_loss}'\n",
        "            )\n",
        "            running_loss = 0.\n",
        "        train_step += 1"
      ],
      "metadata": {
        "colab": {
          "base_uri": "https://localhost:8080/"
        },
        "id": "SzQeMA_tf53u",
        "outputId": "61d279c1-d0f5-4e89-fb96-f3220191c8a0"
      },
      "execution_count": 54,
      "outputs": [
        {
          "output_type": "stream",
          "name": "stderr",
          "text": [
            "valid: 100%|██████████| 188/188 [00:01<00:00, 143.68it/s]\n"
          ]
        },
        {
          "output_type": "stream",
          "name": "stdout",
          "text": [
            "1 epoch, 0 step: val_epoch_loss: 0.07276657968759537\n",
            "Validation loss decreased (inf --> 0.072767).  Saving model ...\n"
          ]
        },
        {
          "output_type": "stream",
          "name": "stderr",
          "text": [
            "train:   0%|          | 2/1688 [00:00<01:25, 19.74it/s]"
          ]
        },
        {
          "output_type": "stream",
          "name": "stdout",
          "text": [
            "0: train_loss: 0.004599612712860107\n"
          ]
        },
        {
          "output_type": "stream",
          "name": "stderr",
          "text": [
            "train:  31%|███       | 516/1688 [00:04<00:09, 121.61it/s]"
          ]
        },
        {
          "output_type": "stream",
          "name": "stdout",
          "text": [
            "500: train_loss: 0.33366497401101514\n"
          ]
        },
        {
          "output_type": "stream",
          "name": "stderr",
          "text": [
            "train:  61%|██████    | 1022/1688 [00:08<00:05, 116.66it/s]"
          ]
        },
        {
          "output_type": "stream",
          "name": "stdout",
          "text": [
            "1000: train_loss: 0.14323826987529173\n"
          ]
        },
        {
          "output_type": "stream",
          "name": "stderr",
          "text": [
            "train:  90%|█████████ | 1521/1688 [00:13<00:01, 115.00it/s]"
          ]
        },
        {
          "output_type": "stream",
          "name": "stdout",
          "text": [
            "1500: train_loss: 0.10516914731194266\n"
          ]
        },
        {
          "output_type": "stream",
          "name": "stderr",
          "text": [
            "train: 100%|██████████| 1688/1688 [00:14<00:00, 113.04it/s]\n",
            "valid: 100%|██████████| 188/188 [00:01<00:00, 147.16it/s]\n"
          ]
        },
        {
          "output_type": "stream",
          "name": "stdout",
          "text": [
            "2 epoch, 1688 step: val_epoch_loss: 0.00243945000693202\n",
            "Validation loss decreased (0.072767 --> 0.002439).  Saving model ...\n"
          ]
        },
        {
          "output_type": "stream",
          "name": "stderr",
          "text": [
            "train:  19%|█▉        | 328/1688 [00:02<00:11, 118.43it/s]"
          ]
        },
        {
          "output_type": "stream",
          "name": "stdout",
          "text": [
            "2000: train_loss: 0.06340720391750801\n"
          ]
        },
        {
          "output_type": "stream",
          "name": "stderr",
          "text": [
            "train:  50%|████▉     | 836/1688 [00:07<00:07, 116.82it/s]"
          ]
        },
        {
          "output_type": "stream",
          "name": "stdout",
          "text": [
            "2500: train_loss: 0.09769911954598501\n"
          ]
        },
        {
          "output_type": "stream",
          "name": "stderr",
          "text": [
            "train:  78%|███████▊  | 1325/1688 [00:11<00:03, 114.35it/s]"
          ]
        },
        {
          "output_type": "stream",
          "name": "stdout",
          "text": [
            "3000: train_loss: 0.0950919428259367\n"
          ]
        },
        {
          "output_type": "stream",
          "name": "stderr",
          "text": [
            "train: 100%|██████████| 1688/1688 [00:14<00:00, 112.74it/s]\n",
            "valid: 100%|██████████| 188/188 [00:01<00:00, 145.95it/s]\n"
          ]
        },
        {
          "output_type": "stream",
          "name": "stdout",
          "text": [
            "3 epoch, 3376 step: val_epoch_loss: 0.0020708220545202494\n",
            "Validation loss decreased (0.002439 --> 0.002071).  Saving model ...\n"
          ]
        },
        {
          "output_type": "stream",
          "name": "stderr",
          "text": [
            "train:   8%|▊         | 137/1688 [00:01<00:13, 117.99it/s]"
          ]
        },
        {
          "output_type": "stream",
          "name": "stdout",
          "text": [
            "3500: train_loss: 0.023161933121271433\n"
          ]
        },
        {
          "output_type": "stream",
          "name": "stderr",
          "text": [
            "train:  38%|███▊      | 642/1688 [00:05<00:08, 116.55it/s]"
          ]
        },
        {
          "output_type": "stream",
          "name": "stdout",
          "text": [
            "4000: train_loss: 0.08535110959020677\n"
          ]
        },
        {
          "output_type": "stream",
          "name": "stderr",
          "text": [
            "train:  68%|██████▊   | 1145/1688 [00:09<00:04, 112.12it/s]"
          ]
        },
        {
          "output_type": "stream",
          "name": "stdout",
          "text": [
            "4500: train_loss: 0.08173058680212125\n"
          ]
        },
        {
          "output_type": "stream",
          "name": "stderr",
          "text": [
            "train:  97%|█████████▋| 1645/1688 [00:14<00:00, 114.79it/s]"
          ]
        },
        {
          "output_type": "stream",
          "name": "stdout",
          "text": [
            "5000: train_loss: 0.09057084723099251\n"
          ]
        },
        {
          "output_type": "stream",
          "name": "stderr",
          "text": [
            "train: 100%|██████████| 1688/1688 [00:14<00:00, 114.85it/s]\n",
            "valid: 100%|██████████| 188/188 [00:01<00:00, 145.05it/s]\n"
          ]
        },
        {
          "output_type": "stream",
          "name": "stdout",
          "text": [
            "4 epoch, 5064 step: val_epoch_loss: 0.0024754235055297613\n",
            "EarlyStopping counter: 1 out of 5\n"
          ]
        },
        {
          "output_type": "stream",
          "name": "stderr",
          "text": [
            "train:  27%|██▋       | 451/1688 [00:04<00:11, 110.83it/s]"
          ]
        },
        {
          "output_type": "stream",
          "name": "stdout",
          "text": [
            "5500: train_loss: 0.06017350077342416\n"
          ]
        },
        {
          "output_type": "stream",
          "name": "stderr",
          "text": [
            "train:  57%|█████▋    | 955/1688 [00:08<00:06, 113.25it/s]"
          ]
        },
        {
          "output_type": "stream",
          "name": "stdout",
          "text": [
            "6000: train_loss: 0.07286632070563792\n"
          ]
        },
        {
          "output_type": "stream",
          "name": "stderr",
          "text": [
            "train:  86%|████████▌ | 1449/1688 [00:13<00:02, 112.04it/s]"
          ]
        },
        {
          "output_type": "stream",
          "name": "stdout",
          "text": [
            "6500: train_loss: 0.07944485436569085\n"
          ]
        },
        {
          "output_type": "stream",
          "name": "stderr",
          "text": [
            "train: 100%|██████████| 1688/1688 [00:15<00:00, 111.26it/s]\n",
            "valid: 100%|██████████| 188/188 [00:01<00:00, 144.80it/s]\n"
          ]
        },
        {
          "output_type": "stream",
          "name": "stdout",
          "text": [
            "5 epoch, 6752 step: val_epoch_loss: 0.001948117627762258\n",
            "Validation loss decreased (0.002071 --> 0.001948).  Saving model ...\n"
          ]
        },
        {
          "output_type": "stream",
          "name": "stderr",
          "text": [
            "train:  16%|█▌        | 263/1688 [00:02<00:12, 114.82it/s]"
          ]
        },
        {
          "output_type": "stream",
          "name": "stdout",
          "text": [
            "7000: train_loss: 0.0324419590786274\n"
          ]
        },
        {
          "output_type": "stream",
          "name": "stderr",
          "text": [
            "train:  46%|████▌     | 771/1688 [00:06<00:07, 117.32it/s]"
          ]
        },
        {
          "output_type": "stream",
          "name": "stdout",
          "text": [
            "7500: train_loss: 0.07232391732613905\n"
          ]
        },
        {
          "output_type": "stream",
          "name": "stderr",
          "text": [
            "train:  75%|███████▌  | 1272/1688 [00:11<00:03, 115.42it/s]"
          ]
        },
        {
          "output_type": "stream",
          "name": "stdout",
          "text": [
            "8000: train_loss: 0.07949406320397975\n"
          ]
        },
        {
          "output_type": "stream",
          "name": "stderr",
          "text": [
            "train: 100%|██████████| 1688/1688 [00:15<00:00, 110.74it/s]\n",
            "valid: 100%|██████████| 188/188 [00:01<00:00, 150.14it/s]\n"
          ]
        },
        {
          "output_type": "stream",
          "name": "stdout",
          "text": [
            "6 epoch, 8440 step: val_epoch_loss: 0.0030828644521534443\n",
            "EarlyStopping counter: 1 out of 5\n"
          ]
        },
        {
          "output_type": "stream",
          "name": "stderr",
          "text": [
            "train:   5%|▍         | 81/1688 [00:00<00:15, 103.21it/s]"
          ]
        },
        {
          "output_type": "stream",
          "name": "stdout",
          "text": [
            "8500: train_loss: 0.00932189338922035\n"
          ]
        },
        {
          "output_type": "stream",
          "name": "stderr",
          "text": [
            "train:  34%|███▍      | 577/1688 [00:05<00:09, 113.28it/s]"
          ]
        },
        {
          "output_type": "stream",
          "name": "stdout",
          "text": [
            "9000: train_loss: 0.057320678391362886\n"
          ]
        },
        {
          "output_type": "stream",
          "name": "stderr",
          "text": [
            "train:  64%|██████▎   | 1073/1688 [00:09<00:05, 111.61it/s]"
          ]
        },
        {
          "output_type": "stream",
          "name": "stdout",
          "text": [
            "9500: train_loss: 0.0703322743489116\n"
          ]
        },
        {
          "output_type": "stream",
          "name": "stderr",
          "text": [
            "train:  94%|█████████▎| 1579/1688 [00:14<00:00, 110.21it/s]"
          ]
        },
        {
          "output_type": "stream",
          "name": "stdout",
          "text": [
            "10000: train_loss: 0.062245931135279535\n"
          ]
        },
        {
          "output_type": "stream",
          "name": "stderr",
          "text": [
            "train: 100%|██████████| 1688/1688 [00:15<00:00, 111.05it/s]\n",
            "valid: 100%|██████████| 188/188 [00:01<00:00, 146.06it/s]\n"
          ]
        },
        {
          "output_type": "stream",
          "name": "stdout",
          "text": [
            "7 epoch, 10128 step: val_epoch_loss: 0.002524508163332939\n",
            "EarlyStopping counter: 2 out of 5\n"
          ]
        },
        {
          "output_type": "stream",
          "name": "stderr",
          "text": [
            "train:  23%|██▎       | 393/1688 [00:03<00:11, 112.68it/s]"
          ]
        },
        {
          "output_type": "stream",
          "name": "stdout",
          "text": [
            "10500: train_loss: 0.040402529045954\n"
          ]
        },
        {
          "output_type": "stream",
          "name": "stderr",
          "text": [
            "train:  52%|█████▏    | 884/1688 [00:07<00:07, 107.94it/s]"
          ]
        },
        {
          "output_type": "stream",
          "name": "stdout",
          "text": [
            "11000: train_loss: 0.06677298940447508\n"
          ]
        },
        {
          "output_type": "stream",
          "name": "stderr",
          "text": [
            "train:  82%|████████▏ | 1392/1688 [00:12<00:02, 111.98it/s]"
          ]
        },
        {
          "output_type": "stream",
          "name": "stdout",
          "text": [
            "11500: train_loss: 0.06519794312561135\n"
          ]
        },
        {
          "output_type": "stream",
          "name": "stderr",
          "text": [
            "train: 100%|██████████| 1688/1688 [00:15<00:00, 112.40it/s]\n",
            "valid: 100%|██████████| 188/188 [00:01<00:00, 139.74it/s]\n"
          ]
        },
        {
          "output_type": "stream",
          "name": "stdout",
          "text": [
            "8 epoch, 11816 step: val_epoch_loss: 0.0023927500005811453\n",
            "EarlyStopping counter: 3 out of 5\n"
          ]
        },
        {
          "output_type": "stream",
          "name": "stderr",
          "text": [
            "train:  12%|█▏        | 200/1688 [00:01<00:12, 117.82it/s]"
          ]
        },
        {
          "output_type": "stream",
          "name": "stdout",
          "text": [
            "12000: train_loss: 0.014579539312406268\n"
          ]
        },
        {
          "output_type": "stream",
          "name": "stderr",
          "text": [
            "train:  41%|████      | 695/1688 [00:07<00:15, 63.93it/s]"
          ]
        },
        {
          "output_type": "stream",
          "name": "stdout",
          "text": [
            "12500: train_loss: 0.061648678954153185\n"
          ]
        },
        {
          "output_type": "stream",
          "name": "stderr",
          "text": [
            "train:  71%|███████   | 1200/1688 [00:11<00:04, 109.01it/s]"
          ]
        },
        {
          "output_type": "stream",
          "name": "stdout",
          "text": [
            "13000: train_loss: 0.07426751214327124\n"
          ]
        },
        {
          "output_type": "stream",
          "name": "stderr",
          "text": [
            "train: 100%|██████████| 1688/1688 [00:16<00:00, 103.44it/s]\n"
          ]
        },
        {
          "output_type": "stream",
          "name": "stdout",
          "text": [
            "13500: train_loss: 0.06540008562353614\n"
          ]
        },
        {
          "output_type": "stream",
          "name": "stderr",
          "text": [
            "valid: 100%|██████████| 188/188 [00:01<00:00, 141.13it/s]\n"
          ]
        },
        {
          "output_type": "stream",
          "name": "stdout",
          "text": [
            "9 epoch, 13504 step: val_epoch_loss: 0.0019181352108716965\n",
            "Validation loss decreased (0.001948 --> 0.001918).  Saving model ...\n"
          ]
        },
        {
          "output_type": "stream",
          "name": "stderr",
          "text": [
            "train:  30%|███       | 509/1688 [00:05<00:10, 113.21it/s]"
          ]
        },
        {
          "output_type": "stream",
          "name": "stdout",
          "text": [
            "14000: train_loss: 0.0523136249344825\n"
          ]
        },
        {
          "output_type": "stream",
          "name": "stderr",
          "text": [
            "train:  60%|██████    | 1014/1688 [00:10<00:05, 112.73it/s]"
          ]
        },
        {
          "output_type": "stream",
          "name": "stdout",
          "text": [
            "14500: train_loss: 0.05657430402586397\n"
          ]
        },
        {
          "output_type": "stream",
          "name": "stderr",
          "text": [
            "train:  90%|████████▉ | 1511/1688 [00:14<00:01, 113.70it/s]"
          ]
        },
        {
          "output_type": "stream",
          "name": "stdout",
          "text": [
            "15000: train_loss: 0.05321485453598507\n"
          ]
        },
        {
          "output_type": "stream",
          "name": "stderr",
          "text": [
            "train: 100%|██████████| 1688/1688 [00:16<00:00, 104.59it/s]\n",
            "valid: 100%|██████████| 188/188 [00:01<00:00, 139.50it/s]\n"
          ]
        },
        {
          "output_type": "stream",
          "name": "stdout",
          "text": [
            "10 epoch, 15192 step: val_epoch_loss: 0.0026084582787007093\n",
            "EarlyStopping counter: 1 out of 5\n"
          ]
        },
        {
          "output_type": "stream",
          "name": "stderr",
          "text": [
            "train:  19%|█▉        | 326/1688 [00:02<00:12, 110.92it/s]"
          ]
        },
        {
          "output_type": "stream",
          "name": "stdout",
          "text": [
            "15500: train_loss: 0.032485355412531135\n"
          ]
        },
        {
          "output_type": "stream",
          "name": "stderr",
          "text": [
            "train:  49%|████▉     | 823/1688 [00:07<00:07, 112.56it/s]"
          ]
        },
        {
          "output_type": "stream",
          "name": "stdout",
          "text": [
            "16000: train_loss: 0.06233316977335835\n"
          ]
        },
        {
          "output_type": "stream",
          "name": "stderr",
          "text": [
            "train:  78%|███████▊  | 1323/1688 [00:11<00:03, 113.76it/s]"
          ]
        },
        {
          "output_type": "stream",
          "name": "stdout",
          "text": [
            "16500: train_loss: 0.05703933487543691\n"
          ]
        },
        {
          "output_type": "stream",
          "name": "stderr",
          "text": [
            "train: 100%|██████████| 1688/1688 [00:14<00:00, 112.63it/s]\n"
          ]
        }
      ]
    },
    {
      "cell_type": "code",
      "source": [
        "def softmax(x, axis=0):\n",
        "    'numpy softmax'\n",
        "    max = np.max(x, axis=axis, keepdims=True)\n",
        "    e_x = np.exp(x-max)\n",
        "    sum = np.sum(e_x, axis=axis, keepdims=True)\n",
        "    f_x = e_x/sum\n",
        "    return f_x"
      ],
      "metadata": {
        "id": "WPRWjtKmmUZz"
      },
      "execution_count": 55,
      "outputs": []
    },
    {
      "cell_type": "code",
      "source": [
        "test_dataloader = torch.utils.data.DataLoader(test_dataset,\n",
        "                                              batch_size=batch_size,\n",
        "                                              shuffle=False,\n",
        "                                              num_workers=workers,\n",
        "                                              )\n",
        "\n",
        "test_labels_list = []\n",
        "test_preds_list = []\n",
        "test_outputs_list = []\n",
        "\n",
        "model.eval()\n",
        "model.cpu()\n",
        "for i, (test_images, test_labels) in enumerate(\n",
        "    tqdm(test_dataloader, position=0, leave=True, desc='test')\n",
        "):\n",
        "    test_outputs = model(test_images)\n",
        "    _, test_preds = torch.max(test_outputs, 1)\n",
        "\n",
        "    final_outs = softmax(test_outputs.detach().numpy(), axis=1)\n",
        "    test_outputs_list.extend(final_outs)\n",
        "    test_preds_list.extend(test_preds.detach().numpy())\n",
        "    test_labels_list.extend(test_labels.detach().numpy())\n",
        "\n",
        "test_preds_list = np.array(test_preds_list)\n",
        "test_labels_list = np.array(test_labels_list)\n",
        "\n",
        "print(f'acc:{np.mean(test_preds_list == test_labels_list)*100}%')"
      ],
      "metadata": {
        "colab": {
          "base_uri": "https://localhost:8080/"
        },
        "id": "VzlIgXfXmZSD",
        "outputId": "595e499c-7980-40ce-9f25-8253c5eca35a"
      },
      "execution_count": 56,
      "outputs": [
        {
          "output_type": "stream",
          "name": "stderr",
          "text": [
            "test: 100%|██████████| 313/313 [00:02<00:00, 111.80it/s]"
          ]
        },
        {
          "output_type": "stream",
          "name": "stdout",
          "text": [
            "acc:97.83%\n"
          ]
        },
        {
          "output_type": "stream",
          "name": "stderr",
          "text": [
            "\n"
          ]
        }
      ]
    },
    {
      "cell_type": "code",
      "source": [
        "# ROC Curve\n",
        "from sklearn.metrics import roc_curve\n",
        "from sklearn.metrics import roc_auc_score\n",
        "\n",
        "fpr = {}\n",
        "tpr = {}\n",
        "thresh = {}\n",
        "n_class = 10\n",
        "\n",
        "for i in range(n_class):\n",
        "    fpr[i], tpr[i], thresh[i] = roc_curve(test_labels_list, np.array(test_outputs_list)[:, i], pos_label=i)"
      ],
      "metadata": {
        "id": "FFwJ4tLQnMls"
      },
      "execution_count": 57,
      "outputs": []
    },
    {
      "cell_type": "code",
      "source": [
        "# plot\n",
        "import seaborn as sns; sns.set_style('darkgrid')\n",
        "plt.figure(figsize=(15,8))\n",
        "for i in range(n_class):\n",
        "    plt.plot(fpr[i], tpr[i], linestyle='--', label=f'class {i} vs Rest')\n",
        "plt.title('Multi-class Roc curve')\n",
        "plt.xlabel('False Positive Rate')\n",
        "plt.ylabel('True Positive Rate')\n",
        "plt.legend()\n",
        "\n",
        "roc_auc_score(test_labels_list, test_outputs_list, multi_class='ovo', average='macro')"
      ],
      "metadata": {
        "colab": {
          "base_uri": "https://localhost:8080/",
          "height": 530
        },
        "id": "FSvI8f5snOQc",
        "outputId": "49b95193-60c8-4a53-aae4-99d131df7a44"
      },
      "execution_count": 58,
      "outputs": [
        {
          "output_type": "execute_result",
          "data": {
            "text/plain": [
              "0.999698872498326"
            ]
          },
          "metadata": {},
          "execution_count": 58
        },
        {
          "output_type": "display_data",
          "data": {
            "image/png": "[encoded data removed]",
            "text/plain": [
              "<Figure size 1080x576 with 1 Axes>"
            ]
          },
          "metadata": {}
        }
      ]
    }
  ]
}