{
  "nbformat": 4,
  "nbformat_minor": 0,
  "metadata": {
    "colab": {
      "name": "하다보면 늘겠지 25. Python Built in functions4.ipynb",
      "provenance": [],
      "collapsed_sections": []
    },
    "kernelspec": {
      "name": "python3",
      "display_name": "Python 3"
    },
    "language_info": {
      "name": "python"
    }
  },
  "cells": [
    {
      "cell_type": "markdown",
      "source": [
        "# eval() function"
      ],
      "metadata": {
        "id": "70GC7FQ4ZjGu"
      }
    },
    {
      "cell_type": "code",
      "execution_count": 9,
      "metadata": {
        "colab": {
          "base_uri": "https://localhost:8080/"
        },
        "id": "PpmUcD2LYpNQ",
        "outputId": "530b648a-d5f3-4a84-a9ab-e7326efb7779"
      },
      "outputs": [
        {
          "output_type": "stream",
          "name": "stdout",
          "text": [
            "9\n",
            "10\n"
          ]
        }
      ],
      "source": [
        "\"\"\"\n",
        "Python eval() function parses the expression that is passed to it and runs python \n",
        "expression(code) within the program. Unlike exec() function, it can runs only one-line\n",
        "expression.\n",
        "\"\"\"\n",
        "\n",
        "multiline_string = \"\"\"\n",
        "x = 8\n",
        "print(x + 1)\n",
        "\"\"\"\n",
        "exec(multiline_string)\n",
        "# eval(multiline_string) # don't do this\n",
        "\n",
        "singleline_string = \"x + 2\"\n",
        "print(eval(singleline_string))"
      ]
    },
    {
      "cell_type": "markdown",
      "source": [
        "# float() function"
      ],
      "metadata": {
        "id": "IlwvJ3x3bes9"
      }
    },
    {
      "cell_type": "code",
      "source": [
        "\"\"\"\n",
        "float() function in python returns a floating-point number from a number or string.\n",
        "\"\"\"\n",
        "\n",
        "test_dict = {\n",
        "    'int' : 1,\n",
        "    'float' : 1.23,\n",
        "    'string floats' : \"12.34\",\n",
        "    'string floats with whitespaces' : \"   -12.34\\t\\n\",\n",
        "    'just string raise error' : \"x\",\n",
        "}\n",
        "\n",
        "for k,v in test_dict.items():\n",
        "    print(f'{k:30s} : {float(v)}')"
      ],
      "metadata": {
        "colab": {
          "base_uri": "https://localhost:8080/",
          "height": 281
        },
        "id": "mp6NWXvHbdB8",
        "outputId": "a1b90380-28ab-44cc-8cad-1378fab3a672"
      },
      "execution_count": 12,
      "outputs": [
        {
          "output_type": "stream",
          "name": "stdout",
          "text": [
            "int                            : 1.0\n",
            "float                          : 1.23\n",
            "string floats                  : 12.34\n",
            "string floats with whitespaces : -12.34\n"
          ]
        },
        {
          "output_type": "error",
          "ename": "ValueError",
          "evalue": "ignored",
          "traceback": [
            "\u001b[0;31m---------------------------------------------------------------------------\u001b[0m",
            "\u001b[0;31mValueError\u001b[0m                                Traceback (most recent call last)",
            "\u001b[0;32m<ipython-input-12-c7521a3a2413>\u001b[0m in \u001b[0;36m<module>\u001b[0;34m()\u001b[0m\n\u001b[1;32m     12\u001b[0m \u001b[0;34m\u001b[0m\u001b[0m\n\u001b[1;32m     13\u001b[0m \u001b[0;32mfor\u001b[0m \u001b[0mk\u001b[0m\u001b[0;34m,\u001b[0m\u001b[0mv\u001b[0m \u001b[0;32min\u001b[0m \u001b[0mtest_dict\u001b[0m\u001b[0;34m.\u001b[0m\u001b[0mitems\u001b[0m\u001b[0;34m(\u001b[0m\u001b[0;34m)\u001b[0m\u001b[0;34m:\u001b[0m\u001b[0;34m\u001b[0m\u001b[0;34m\u001b[0m\u001b[0m\n\u001b[0;32m---> 14\u001b[0;31m     \u001b[0mprint\u001b[0m\u001b[0;34m(\u001b[0m\u001b[0;34mf'{k:30s} : {float(v)}'\u001b[0m\u001b[0;34m)\u001b[0m\u001b[0;34m\u001b[0m\u001b[0;34m\u001b[0m\u001b[0m\n\u001b[0m",
            "\u001b[0;31mValueError\u001b[0m: could not convert string to float: 'x'"
          ]
        }
      ]
    },
    {
      "cell_type": "markdown",
      "source": [
        "# format() function"
      ],
      "metadata": {
        "id": "uwqX08Zec9cB"
      }
    },
    {
      "cell_type": "code",
      "source": [
        "\"\"\"\n",
        "format() function in python returns a formated representation of the given value.\n",
        "\"\"\"\n",
        "\n",
        "# d, f and b are a type\n",
        "\n",
        "integer = 123\n",
        "x = format(integer, 'd')\n",
        "print(f'{integer} is formated to {x} | {type(x)}')\n",
        "\n",
        "floating_number = -1.23\n",
        "x = format(floating_number, 'f')\n",
        "print(f'{floating_number} is formated to {x} | {type(x)} | it represents python\\'s significant figures i.e. 6 decimal')\n",
        "\n",
        "binary = 123\n",
        "x = format(binary, 'b')\n",
        "print(f'{binary} is formated to {x} | {type(x)}')"
      ],
      "metadata": {
        "colab": {
          "base_uri": "https://localhost:8080/"
        },
        "id": "-g2jSOfYc85g",
        "outputId": "e00b173e-e541-4fcb-aa36-7972ad6ae291"
      },
      "execution_count": 25,
      "outputs": [
        {
          "output_type": "stream",
          "name": "stdout",
          "text": [
            "123 is formated to 123 | <class 'str'>\n",
            "-1.23 is formated to -1.230000 | <class 'str'> | it represents python's significant figures i.e. 6 decimal\n",
            "123 is formated to 1111011 | <class 'str'>\n"
          ]
        }
      ]
    },
    {
      "cell_type": "markdown",
      "source": [
        "# frozenset() function"
      ],
      "metadata": {
        "id": "ictZTUS-fw8P"
      }
    },
    {
      "cell_type": "code",
      "source": [
        "\"\"\"\n",
        "python frozenset() function returns an immutable frozenset obj\n",
        "initialized with elements from the given iterable. \n",
        "i.e. input = iterable obj, output = immutable frozenset obj\n",
        "\"\"\"\n",
        "\n",
        "letters = 'frozen'\n",
        "letter_tuple = ('f', 'r', 'o', 'z', 'e', 'n')\n",
        "letter_list = ['f', 'r', 'o', 'z', 'e', 'n']\n",
        "letter_dict = {'f', 'r', 'o', 'z', 'e', 'n'}\n",
        "\n",
        "print(f'frozenset({letters}) = {frozenset(letters)}')\n",
        "print(f'frozenset({letter_tuple}) = {frozenset(letter_tuple)}')\n",
        "print(f'frozenset({letter_list}) = {frozenset(letter_list)}')\n",
        "print(f'frozenset({letter_dict}) = {frozenset(letter_dict)}')\n",
        "\n",
        "print(f'empty frozenset() = {frozenset()}')"
      ],
      "metadata": {
        "colab": {
          "base_uri": "https://localhost:8080/"
        },
        "id": "bKRrVzs9f7vF",
        "outputId": "da18c944-fe2e-433b-c9d6-0929467b253b"
      },
      "execution_count": 28,
      "outputs": [
        {
          "output_type": "stream",
          "name": "stdout",
          "text": [
            "frozenset(frozen) = frozenset({'r', 'z', 'o', 'n', 'f', 'e'})\n",
            "frozenset(('f', 'r', 'o', 'z', 'e', 'n')) = frozenset({'r', 'z', 'o', 'n', 'f', 'e'})\n",
            "frozenset(['f', 'r', 'o', 'z', 'e', 'n']) = frozenset({'r', 'z', 'o', 'n', 'f', 'e'})\n",
            "frozenset({'r', 'z', 'o', 'n', 'f', 'e'}) = frozenset({'n', 'f', 'z', 'e', 'o', 'r'})\n",
            "empty frozenset() = frozenset()\n"
          ]
        }
      ]
    },
    {
      "cell_type": "markdown",
      "source": [
        "# getattr() function"
      ],
      "metadata": {
        "id": "c5Gb-7DMh3Nu"
      }
    },
    {
      "cell_type": "code",
      "source": [
        "\"\"\"\n",
        "getattr function in python returns the value of a named attribute of an obj.\n",
        "If it doesn't exist, it returns the default value.\n",
        "\"\"\"\n",
        "\n",
        "class Person:\n",
        "    age = 20\n",
        "    \n",
        "    def __init__(self, name):\n",
        "        self.name = name\n",
        "        self.age = 21\n",
        "    \n",
        "    def study(self):\n",
        "        print(\"I'm studying python\")\n",
        "\n",
        "person = Person('Daniel') # initializing\n",
        "\n",
        "print('The age is :', getattr(person, 'age'))\n",
        "print('The name is :', getattr(person, 'name'))\n",
        "print('study function is :', getattr(person, 'study'))\n",
        "getattr(person, 'study').__call__() # getattr(person, 'study')()\n",
        "\n",
        "# print('The age is :', person.age)\n",
        "# print('The name is :', person.name)\n",
        "# print('study function is :', person.study)\n",
        "# person.study()"
      ],
      "metadata": {
        "colab": {
          "base_uri": "https://localhost:8080/"
        },
        "id": "MR_eNUGXf7z5",
        "outputId": "8f2369ee-e931-475b-cae9-726fb60d9b80"
      },
      "execution_count": 49,
      "outputs": [
        {
          "output_type": "stream",
          "name": "stdout",
          "text": [
            "The age is : 21\n",
            "The name is : Daniel\n",
            "study function is : <bound method Person.study of <__main__.Person object at 0x7f51dadfca90>>\n",
            "I'm studying python\n"
          ]
        }
      ]
    },
    {
      "cell_type": "markdown",
      "source": [
        "# globals() function"
      ],
      "metadata": {
        "id": "KEWul8owlDIS"
      }
    },
    {
      "cell_type": "code",
      "source": [
        "\"\"\"\n",
        "The python globals() function returns the dictionary of the current global symbol table!\n",
        "A symbol table is defined as a data structure which contains all the necessary information\n",
        "about the program. It includes variable names, methods, classes, etc..\n",
        "\"\"\"\n",
        "\n",
        "globals()"
      ],
      "metadata": {
        "colab": {
          "base_uri": "https://localhost:8080/"
        },
        "id": "fjD7Hj7Ff74z",
        "outputId": "b0118859-2f6d-4913-c588-4243c7a36251"
      },
      "execution_count": 1,
      "outputs": [
        {
          "output_type": "execute_result",
          "data": {
            "text/plain": [
              "{'In': ['',\n",
              "  '\"\"\"\\nThe python globals() function returns the dictionary of the current global symbol table!\\nA symbol table is defined as a data structure which contains all the necessary information\\nabout the program. It includes variable names, methods, classes, etc..\\n\"\"\"\\n\\nglobals()'],\n",
              " 'Out': {},\n",
              " '_': '',\n",
              " '__': '',\n",
              " '___': '',\n",
              " '__builtin__': <module 'builtins' (built-in)>,\n",
              " '__builtins__': <module 'builtins' (built-in)>,\n",
              " '__doc__': '\\nThe python globals() function returns the dictionary of the current global symbol table!\\nA symbol table is defined as a data structure which contains all the necessary information\\nabout the program. It includes variable names, methods, classes, etc..\\n',\n",
              " '__loader__': None,\n",
              " '__name__': '__main__',\n",
              " '__package__': None,\n",
              " '__spec__': None,\n",
              " '_dh': ['/content'],\n",
              " '_i': '',\n",
              " '_i1': '\"\"\"\\nThe python globals() function returns the dictionary of the current global symbol table!\\nA symbol table is defined as a data structure which contains all the necessary information\\nabout the program. It includes variable names, methods, classes, etc..\\n\"\"\"\\n\\nglobals()',\n",
              " '_ih': ['',\n",
              "  '\"\"\"\\nThe python globals() function returns the dictionary of the current global symbol table!\\nA symbol table is defined as a data structure which contains all the necessary information\\nabout the program. It includes variable names, methods, classes, etc..\\n\"\"\"\\n\\nglobals()'],\n",
              " '_ii': '',\n",
              " '_iii': '',\n",
              " '_oh': {},\n",
              " '_sh': <module 'IPython.core.shadowns' from '/usr/local/lib/python3.7/dist-packages/IPython/core/shadowns.py'>,\n",
              " 'exit': <IPython.core.autocall.ZMQExitAutocall at 0x7f86fd767350>,\n",
              " 'get_ipython': <bound method InteractiveShell.get_ipython of <google.colab._shell.Shell object at 0x7f87009d6f90>>,\n",
              " 'quit': <IPython.core.autocall.ZMQExitAutocall at 0x7f86fd767350>}"
            ]
          },
          "metadata": {},
          "execution_count": 1
        }
      ]
    },
    {
      "cell_type": "code",
      "source": [
        "print('type of globals() is :', type(globals()))\n",
        "\n",
        "print(\"Is 'a' in globals()? :\", 'a' in globals())\n",
        "a = 1\n",
        "print(\"Is 'a' in globals()? :\", 'a' in globals())\n",
        "print(\"globals()['a'] = \", globals()['a'])\n",
        "globals()"
      ],
      "metadata": {
        "colab": {
          "base_uri": "https://localhost:8080/"
        },
        "id": "7vCRnK0Wf79c",
        "outputId": "5d914e21-b4d4-4611-ce7b-206e9118a52c"
      },
      "execution_count": 2,
      "outputs": [
        {
          "output_type": "stream",
          "name": "stdout",
          "text": [
            "type of globals() is : <class 'dict'>\n",
            "Is 'a' in globals()? : False\n",
            "Is 'a' in globals()? : True\n",
            "globals()['a'] =  1\n"
          ]
        },
        {
          "output_type": "execute_result",
          "data": {
            "text/plain": [
              "{'In': ['',\n",
              "  '\"\"\"\\nThe python globals() function returns the dictionary of the current global symbol table!\\nA symbol table is defined as a data structure which contains all the necessary information\\nabout the program. It includes variable names, methods, classes, etc..\\n\"\"\"\\n\\nglobals()',\n",
              "  'print(\\'type of globals() is :\\', type(globals()))\\n\\nprint(\"Is \\'a\\' in globals()? :\", \\'a\\' in globals())\\na = 1\\nprint(\"Is \\'a\\' in globals()? :\", \\'a\\' in globals())\\nprint(\"globals()[\\'a\\'] = \", globals()[\\'a\\'])\\nglobals()'],\n",
              " 'Out': {1: {...}},\n",
              " '_': {...},\n",
              " '_1': {...},\n",
              " '__': '',\n",
              " '___': '',\n",
              " '__builtin__': <module 'builtins' (built-in)>,\n",
              " '__builtins__': <module 'builtins' (built-in)>,\n",
              " '__doc__': '\\nThe python globals() function returns the dictionary of the current global symbol table!\\nA symbol table is defined as a data structure which contains all the necessary information\\nabout the program. It includes variable names, methods, classes, etc..\\n',\n",
              " '__loader__': None,\n",
              " '__name__': '__main__',\n",
              " '__package__': None,\n",
              " '__spec__': None,\n",
              " '_dh': ['/content'],\n",
              " '_i': '\"\"\"\\nThe python globals() function returns the dictionary of the current global symbol table!\\nA symbol table is defined as a data structure which contains all the necessary information\\nabout the program. It includes variable names, methods, classes, etc..\\n\"\"\"\\n\\nglobals()',\n",
              " '_i1': '\"\"\"\\nThe python globals() function returns the dictionary of the current global symbol table!\\nA symbol table is defined as a data structure which contains all the necessary information\\nabout the program. It includes variable names, methods, classes, etc..\\n\"\"\"\\n\\nglobals()',\n",
              " '_i2': 'print(\\'type of globals() is :\\', type(globals()))\\n\\nprint(\"Is \\'a\\' in globals()? :\", \\'a\\' in globals())\\na = 1\\nprint(\"Is \\'a\\' in globals()? :\", \\'a\\' in globals())\\nprint(\"globals()[\\'a\\'] = \", globals()[\\'a\\'])\\nglobals()',\n",
              " '_ih': ['',\n",
              "  '\"\"\"\\nThe python globals() function returns the dictionary of the current global symbol table!\\nA symbol table is defined as a data structure which contains all the necessary information\\nabout the program. It includes variable names, methods, classes, etc..\\n\"\"\"\\n\\nglobals()',\n",
              "  'print(\\'type of globals() is :\\', type(globals()))\\n\\nprint(\"Is \\'a\\' in globals()? :\", \\'a\\' in globals())\\na = 1\\nprint(\"Is \\'a\\' in globals()? :\", \\'a\\' in globals())\\nprint(\"globals()[\\'a\\'] = \", globals()[\\'a\\'])\\nglobals()'],\n",
              " '_ii': '',\n",
              " '_iii': '',\n",
              " '_oh': {1: {...}},\n",
              " '_sh': <module 'IPython.core.shadowns' from '/usr/local/lib/python3.7/dist-packages/IPython/core/shadowns.py'>,\n",
              " 'a': 1,\n",
              " 'exit': <IPython.core.autocall.ZMQExitAutocall at 0x7f86fd767350>,\n",
              " 'get_ipython': <bound method InteractiveShell.get_ipython of <google.colab._shell.Shell object at 0x7f87009d6f90>>,\n",
              " 'quit': <IPython.core.autocall.ZMQExitAutocall at 0x7f86fd767350>}"
            ]
          },
          "metadata": {},
          "execution_count": 2
        }
      ]
    },
    {
      "cell_type": "markdown",
      "source": [
        "# Source\n",
        "\n",
        "https://docs.python.org/3/library/functions.html#hasattr\n",
        "\n",
        "https://www.javatpoint.com/python-built-in-functions"
      ],
      "metadata": {
        "id": "VfWK0KEsoMMX"
      }
    },
    {
      "cell_type": "markdown",
      "source": [
        "# To-Do\n",
        "    hasattr()\n",
        "    hash()\n",
        "    id()\n",
        "    input()\n",
        "    iter()\n",
        "    len()\n",
        "    locals()\n",
        "    map()\n",
        "    object()\n",
        "    open()\n",
        "    chr()\n",
        "    complex()\n",
        "    delattr()\n",
        "    dir()\n",
        "    divmod()\n",
        "    dict()\n",
        "    enumerate()\n",
        "    filter()\n",
        "    min()\n",
        "    set()\n",
        "    setattr()\n",
        "    slice()\n",
        "    sorted()\n",
        "    next()\n",
        "    input()\n",
        "    pow()\n",
        "    range()\n",
        "    reversed()\n",
        "    round()\n",
        "    str()\n",
        "    type()\n",
        "    vars()\n",
        "    zip()\n",
        "    __inport__()\n"
      ],
      "metadata": {
        "id": "f6gtmaAqoIcs"
      }
    }
  ]
}