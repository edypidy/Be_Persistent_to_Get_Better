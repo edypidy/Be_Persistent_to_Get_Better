{
  "nbformat": 4,
  "nbformat_minor": 0,
  "metadata": {
    "colab": {
      "name": "하다보면 늘겠지 30. Python Concept2.ipynb",
      "provenance": [],
      "collapsed_sections": []
    },
    "kernelspec": {
      "name": "python3",
      "display_name": "Python 3"
    },
    "language_info": {
      "name": "python"
    }
  },
  "cells": [
    {
      "cell_type": "markdown",
      "source": [
        "# Source\n",
        "파이썬 클린코드 2장"
      ],
      "metadata": {
        "id": "Qi1UrgLbaJQQ"
      }
    },
    {
      "cell_type": "markdown",
      "source": [
        "# 1. 슬라이스"
      ],
      "metadata": {
        "id": "XxmL9XTLaI3b"
      }
    },
    {
      "cell_type": "code",
      "source": [
        "a = [1,2,3,4,5]\n",
        "interval = slice(0, 5, 1)\n",
        "reverse_interval = slice(5, 0, -1)\n",
        "\n",
        "print(a[0], a[-1]) # 인덱싱\n",
        "\n",
        "# 슬라이싱\n",
        "print(a[1:3])\n",
        "print(a[::2])\n",
        "\n",
        "# slice 객체를 이용한 슬라이싱\n",
        "print(a[interval])\n",
        "print(a[reverse_interval])"
      ],
      "metadata": {
        "colab": {
          "base_uri": "https://localhost:8080/"
        },
        "id": "3zOI5s9oaIlX",
        "outputId": "5e50306f-b87f-4fff-847a-09e9e415f4f2"
      },
      "execution_count": 16,
      "outputs": [
        {
          "output_type": "stream",
          "name": "stdout",
          "text": [
            "1 5\n",
            "[2, 3]\n",
            "[1, 3, 5]\n",
            "[5, 3]\n"
          ]
        }
      ]
    },
    {
      "cell_type": "code",
      "execution_count": 35,
      "metadata": {
        "colab": {
          "base_uri": "https://localhost:8080/"
        },
        "id": "VGHBbJv6Z84S",
        "outputId": "a971d6e3-eb12-4c30-9442-cf21aa9063a2"
      },
      "outputs": [
        {
          "output_type": "execute_result",
          "data": {
            "text/plain": [
              "True"
            ]
          },
          "metadata": {},
          "execution_count": 35
        }
      ],
      "source": [
        "# 슬라이싱할 때에 시작, 중지, 간격을 입력하지 않으면 slice 객체에서 None을 입력하는 것과 같다.\n",
        "None_interval = slice(None,None,-1)\n",
        "a[None_interval] == a[::-1]"
      ]
    },
    {
      "cell_type": "markdown",
      "source": [
        "# 2. 자체 시퀀스 생성"
      ],
      "metadata": {
        "id": "39ssMQqqd8F6"
      }
    },
    {
      "cell_type": "markdown",
      "source": [
        "> 위의 슬라이싱, 인덱싱, slice 객체를 통한 시퀀스 반환은 \\_\\_getitem\\_\\_이라는 메서드 덕분에 작동한다. \\_\\_getitem\\_\\_은 myobject[key]와 같은 형태를 사용할 때 호출되는 메서드로 key에 해당하는 값을 파라미터로 전달한다.\n",
        "\n",
        "> 시퀀스의 경우 \\_\\_getitem\\_\\_ 뿐만 아니라 \\_\\_len\\_\\_ 메서드도 구현해야하는 객체이므로 반복이 가능하다. 리스트, 튜플, 문자열은 대표적인 표준라이브러리의 시퀀스 객체이다."
      ],
      "metadata": {
        "id": "pVha0jKleIVS"
      }
    },
    {
      "cell_type": "code",
      "source": [
        "# 아래는 캡슐화 방식으로 구현한 래핑 클래스의 예이다.\n",
        "class Items:\n",
        "    def __init__(self, *values):\n",
        "        self._values = list(values)\n",
        "\n",
        "    # list 객체에 있는 동일한 메서드에 위임하여 호환성을 유지할 수 있다.\n",
        "    def __len__(self):\n",
        "        return len(self._values)\n",
        "    \n",
        "    def __getitem__(self, item):\n",
        "        return self._values.__getitem__(item)\n",
        "\n",
        "items = Items(1,2,3,4,5)\n",
        "items[::-1]"
      ],
      "metadata": {
        "colab": {
          "base_uri": "https://localhost:8080/"
        },
        "id": "E3u5vwGtc05H",
        "outputId": "ce201b15-fcb1-4439-dd65-8c98b2c472cf"
      },
      "execution_count": 43,
      "outputs": [
        {
          "output_type": "execute_result",
          "data": {
            "text/plain": [
              "[5, 4, 3, 2, 1]"
            ]
          },
          "metadata": {},
          "execution_count": 43
        }
      ]
    },
    {
      "cell_type": "markdown",
      "source": [
        "> collections.UserList 부모클래스를 상속받는 방법을 사용할 수도 있다. 리스트, 문자열, 딕셔너리와 같은 built-in 타입을 확장하는 올바른 방법이기도 하다.\n",
        "\n",
        "> dict를 직접 확장하는 클래스를 만들면 예상하지 못한 결과를 얻을 수 있다._(CPython에선 클래스의 메서드를 서로 호출하지 않기 때문에 메서드 중에 하나를 오버라이드한다고 해서 나머지에 반영되지 않아 예상치 못한 결과가 발생한다.)_\n",
        "\n",
        "> 아래의 \\_\\_getitem\\_\\_ 을 오버라이드하고 for 루프를 사용해 객체를 반복하려한 예를 보자."
      ],
      "metadata": {
        "id": "xtGKgnC2g_mB"
      }
    },
    {
      "cell_type": "code",
      "source": [
        "class BadList(list):\n",
        "    def __getitem__(self, index):\n",
        "        value = super().__getitem__(index)\n",
        "        if index % 2 == 0:\n",
        "            prefix = \"짝수\"\n",
        "        else:\n",
        "            prefix = \"홀수\"\n",
        "        return f'[{prefix}] {value}'\n",
        "\n",
        "bl = BadList((0,1,2,3,4,5))\n",
        "print(bl[0], bl[1])\n",
        "\";\".join(bl) # 문자열 리스트를 반복하는 함수이다. \"-\".join(['1','2','3']) >>> '1-2-3'"
      ],
      "metadata": {
        "colab": {
          "base_uri": "https://localhost:8080/",
          "height": 226
        },
        "id": "UQq6cjaqc1FB",
        "outputId": "68bb76e0-b312-4f60-f25e-0f2691492961"
      },
      "execution_count": 56,
      "outputs": [
        {
          "output_type": "stream",
          "name": "stdout",
          "text": [
            "[짝수] 0 [홀수] 1\n"
          ]
        },
        {
          "output_type": "error",
          "ename": "TypeError",
          "evalue": "ignored",
          "traceback": [
            "\u001b[0;31m---------------------------------------------------------------------------\u001b[0m",
            "\u001b[0;31mTypeError\u001b[0m                                 Traceback (most recent call last)",
            "\u001b[0;32m<ipython-input-56-f4315bc9de66>\u001b[0m in \u001b[0;36m<module>\u001b[0;34m()\u001b[0m\n\u001b[1;32m     10\u001b[0m \u001b[0mbl\u001b[0m \u001b[0;34m=\u001b[0m \u001b[0mBadList\u001b[0m\u001b[0;34m(\u001b[0m\u001b[0;34m(\u001b[0m\u001b[0;36m0\u001b[0m\u001b[0;34m,\u001b[0m\u001b[0;36m1\u001b[0m\u001b[0;34m,\u001b[0m\u001b[0;36m2\u001b[0m\u001b[0;34m,\u001b[0m\u001b[0;36m3\u001b[0m\u001b[0;34m,\u001b[0m\u001b[0;36m4\u001b[0m\u001b[0;34m,\u001b[0m\u001b[0;36m5\u001b[0m\u001b[0;34m)\u001b[0m\u001b[0;34m)\u001b[0m\u001b[0;34m\u001b[0m\u001b[0;34m\u001b[0m\u001b[0m\n\u001b[1;32m     11\u001b[0m \u001b[0mprint\u001b[0m\u001b[0;34m(\u001b[0m\u001b[0mbl\u001b[0m\u001b[0;34m[\u001b[0m\u001b[0;36m0\u001b[0m\u001b[0;34m]\u001b[0m\u001b[0;34m,\u001b[0m \u001b[0mbl\u001b[0m\u001b[0;34m[\u001b[0m\u001b[0;36m1\u001b[0m\u001b[0;34m]\u001b[0m\u001b[0;34m)\u001b[0m\u001b[0;34m\u001b[0m\u001b[0;34m\u001b[0m\u001b[0m\n\u001b[0;32m---> 12\u001b[0;31m \u001b[0;34m\"\"\u001b[0m\u001b[0;34m.\u001b[0m\u001b[0mjoin\u001b[0m\u001b[0;34m(\u001b[0m\u001b[0mbl\u001b[0m\u001b[0;34m)\u001b[0m \u001b[0;31m# 문자열 리스트를 반복하는 함수이다. \"-\".join(['1','2','3']) >>> '1-2-3'\u001b[0m\u001b[0;34m\u001b[0m\u001b[0;34m\u001b[0m\u001b[0m\n\u001b[0m",
            "\u001b[0;31mTypeError\u001b[0m: sequence item 0: expected str instance, int found"
          ]
        }
      ]
    },
    {
      "cell_type": "markdown",
      "source": [
        "> BadList의 \\_\\_getitem\\_\\_에서 문자열을 반환했기 때문에 잘 만들어진 문자열의 리스트라고 생각했으나 반복을 해보면 기껏 정의해놓은 \\_\\_getitem\\_\\_이 호출되지 않는다."
      ],
      "metadata": {
        "id": "f4xkmkM-kLGd"
      }
    },
    {
      "cell_type": "code",
      "source": [
        "# CPython의 세부 구현사항이므로 PyPy와 같은 다른 플랫폼에서 재현되지 않는다.\n",
        "from collections import UserList\n",
        "\n",
        "class GoodList(UserList):\n",
        "    def __getitem__(self, index):\n",
        "        value = super().__getitem__(index)\n",
        "        if index % 2 == 0:\n",
        "            prefix = \"짝수\"\n",
        "        else:\n",
        "            prefix = \"홀수\"\n",
        "        return f'[{prefix}] {value}'\n",
        "\n",
        "gl = GoodList((0,1,2,3,4,5))\n",
        "gl[0], gl[1]\n",
        "\";\".join(gl)"
      ],
      "metadata": {
        "colab": {
          "base_uri": "https://localhost:8080/",
          "height": 35
        },
        "id": "I89MWOJFkKkx",
        "outputId": "73223013-408f-494d-e5d1-32bab50f04a5"
      },
      "execution_count": 59,
      "outputs": [
        {
          "output_type": "execute_result",
          "data": {
            "application/vnd.google.colaboratory.intrinsic+json": {
              "type": "string"
            },
            "text/plain": [
              "'[짝수] 0;[홀수] 1;[짝수] 2;[홀수] 3;[짝수] 4;[홀수] 5'"
            ]
          },
          "metadata": {},
          "execution_count": 59
        }
      ]
    },
    {
      "cell_type": "code",
      "source": [
        "\"\"\"\n",
        "Tip\n",
        "dict나 list, str 등에서 직접 확장하지 말고 대신 \n",
        "collections.UserDict, collections.UserList, collections.UserString을 사용하자.\n",
        "\"\"\""
      ],
      "metadata": {
        "id": "irvWbE64l2Xh"
      },
      "execution_count": null,
      "outputs": []
    },
    {
      "cell_type": "markdown",
      "source": [
        "# To-Do\n",
        "\n",
        "    클래스 상속\n",
        "    메서드 오버라이딩\n",
        "    추상 클래스\n",
        "    클래스메서드(class method)\n",
        "    yield 키워드\n",
        "    제너레이터"
      ],
      "metadata": {
        "id": "LGRvfGnTp4iP"
      }
    }
  ]
}