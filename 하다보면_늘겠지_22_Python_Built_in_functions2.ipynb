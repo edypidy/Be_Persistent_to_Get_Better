{
  "nbformat": 4,
  "nbformat_minor": 0,
  "metadata": {
    "colab": {
      "name": "하다보면 늘겠지 22. Python Built in functions2.ipynb",
      "provenance": [],
      "collapsed_sections": []
    },
    "kernelspec": {
      "name": "python3",
      "display_name": "Python 3"
    },
    "language_info": {
      "name": "python"
    }
  },
  "cells": [
    {
      "cell_type": "markdown",
      "source": [
        "# bytes() function"
      ],
      "metadata": {
        "id": "m73YTKOnzdLV"
      }
    },
    {
      "cell_type": "code",
      "execution_count": 8,
      "metadata": {
        "colab": {
          "base_uri": "https://localhost:8080/"
        },
        "id": "WDhbkoPPzNP8",
        "outputId": "ff3e32f0-fc0e-4ce8-f711-3416b6369d13"
      },
      "outputs": [
        {
          "output_type": "stream",
          "name": "stdout",
          "text": [
            "array :  b'Hi world!'\n",
            "another_array :  b'Hello world!'\n",
            "string's type is <class 'str'>\n",
            "array's type is <class 'bytes'>\n",
            "another_array's type is <class 'bytes'>\n"
          ]
        }
      ],
      "source": [
        "\"\"\"\n",
        "bytes() function in python is used for returning a bytes obj immutable verision of bytesarray() function.\n",
        "\"\"\"\n",
        "\n",
        "string =  'Hi world!'\n",
        "array = bytes(string, 'utf-8')\n",
        "another_array = b'Hello world!' # you can create byte obj like this.\n",
        "print('array : ', array)\n",
        "print('another_array : ', another_array)\n",
        "print(f'string\\'s type is {type(string)}')\n",
        "print(f'array\\'s type is {type(array)}')\n",
        "print(f'another_array\\'s type is {type(another_array)}')"
      ]
    },
    {
      "cell_type": "code",
      "source": [
        "# cf)\n",
        "bytes(5) # create byte obj filled five zeros.\n",
        "bytes([10, 20, 30, 40]) # create byte obj with list\n",
        "'hello'.encode() # str to bytes\n",
        "'안녕'.encode('euc-kr') # str to bytes\n",
        "\n",
        "'안녕'.encode('euc-kr').decode('euc-kr')\n",
        "'안녕'.encode().decode('utf-8') # default utf-8\n",
        "\n",
        "# '안녕'.encode('utf-8').decode('euc-kr') # don't do this\n",
        "# 'euc-kr', 'utf-8', 'CP949'(kind of Korean encoding by MS)"
      ],
      "metadata": {
        "colab": {
          "base_uri": "https://localhost:8080/",
          "height": 35
        },
        "id": "1nLgY0AN0GSe",
        "outputId": "35bf080b-5448-47a9-ac47-9eedb64a4b76"
      },
      "execution_count": 20,
      "outputs": [
        {
          "output_type": "execute_result",
          "data": {
            "application/vnd.google.colaboratory.intrinsic+json": {
              "type": "string"
            },
            "text/plain": [
              "'안녕'"
            ]
          },
          "metadata": {},
          "execution_count": 20
        }
      ]
    },
    {
      "cell_type": "markdown",
      "source": [
        "# callable() function"
      ],
      "metadata": {
        "id": "OWOF8FbC3vlq"
      }
    },
    {
      "cell_type": "code",
      "source": [
        "\"\"\"\n",
        "python callable() function returns bool value.\n",
        "It checks and return true if the obj passed appears to be callable, otherwise false.\n",
        "\"\"\"\n",
        "\n",
        "x = 8\n",
        "print('Is x callable? : ', callable(x))\n",
        "\n",
        "y = lambda x : x**2\n",
        "print('Is y callable? : ', callable(y))"
      ],
      "metadata": {
        "colab": {
          "base_uri": "https://localhost:8080/"
        },
        "id": "M_8a7JIW0GWT",
        "outputId": "7f23590c-9476-40ca-f7ab-6d8f34c48744"
      },
      "execution_count": 23,
      "outputs": [
        {
          "output_type": "stream",
          "name": "stdout",
          "text": [
            "Is x callable? :  False\n",
            "Is y callable? :  True\n"
          ]
        }
      ]
    },
    {
      "cell_type": "code",
      "source": [
        "# cf)\n",
        "# A callable is something that can be called.\n",
        "# Callable is for checking that is argument function, class instance or method?\n",
        "\n",
        "# Callable class\n",
        "class CallableInstance:\n",
        "    def __init__(self, name):\n",
        "        self.name = name\n",
        "    \n",
        "    def __call__(self):\n",
        "        print('This is call method')\n",
        "        return self.name\n",
        "    \n",
        "# Uncallable class\n",
        "class UncallableInstance:\n",
        "    def __init__(self, name):\n",
        "        self.name = name\n",
        "\n",
        "\n",
        "callable_instance = CallableInstance('Jake')\n",
        "uncallable_instance = UncallableInstance('Jin')\n",
        "\n",
        "print('Is callable_instance callable? : ', callable(callable_instance))\n",
        "print('Is uncallable_instance callable? : ', callable(uncallable_instance))\n",
        "\n",
        "callable_instance()\n",
        "# uncallable_instance() # not working"
      ],
      "metadata": {
        "colab": {
          "base_uri": "https://localhost:8080/",
          "height": 90
        },
        "id": "FQr3uXW96UTk",
        "outputId": "6a08c5b7-aaf4-42e3-cc13-2ddb10323f23"
      },
      "execution_count": 29,
      "outputs": [
        {
          "output_type": "stream",
          "name": "stdout",
          "text": [
            "Is callable_instance callable? :  True\n",
            "Is uncallable_instance callable? :  False\n",
            "This is call method\n"
          ]
        },
        {
          "output_type": "execute_result",
          "data": {
            "application/vnd.google.colaboratory.intrinsic+json": {
              "type": "string"
            },
            "text/plain": [
              "'Jake'"
            ]
          },
          "metadata": {},
          "execution_count": 29
        }
      ]
    },
    {
      "cell_type": "code",
      "source": [
        "# function have __call__ method\n",
        "function1 = lambda x: x\n",
        "def function2():\n",
        "    pass\n",
        "\n",
        "'__call__' in function1.__dir__(), '__call__' in function2.__dir__()"
      ],
      "metadata": {
        "colab": {
          "base_uri": "https://localhost:8080/"
        },
        "id": "CBZ4WMY67_4T",
        "outputId": "09bfa116-e6d7-4399-a9ec-1ccfc349dfe5"
      },
      "execution_count": 35,
      "outputs": [
        {
          "output_type": "execute_result",
          "data": {
            "text/plain": [
              "(True, True)"
            ]
          },
          "metadata": {},
          "execution_count": 35
        }
      ]
    },
    {
      "cell_type": "markdown",
      "source": [
        "# compile() function"
      ],
      "metadata": {
        "id": "rKSn_kKg8o70"
      }
    },
    {
      "cell_type": "code",
      "source": [
        "\"\"\"\n",
        "python compile() function takes source code as input and returns a code obj \n",
        "which can later be execyted by exec() function\n",
        "\"\"\"\n",
        "\n",
        "# compile 'string source' to code\n",
        "code_str = 'x=5\\ny=10\\nprint(\"sum = \", x+y)'\n",
        "code = compile(code_str, 'sum.py', 'exec') \n",
        "print('type of code : ', type(code))\n",
        "\n",
        "x = 10\n",
        "exec(code) # exec() takes code in sum.py and just put it on main\n",
        "x\n",
        "\n",
        "# cf)\n",
        "# filename : code_str is a file (ex 'sum.py', 'new.py')\n",
        "# <string> : code_str is not a file \n",
        "\n",
        "# single : compile only one statement\n",
        "# exec : compile several lines\n",
        "# eval : compile only one expression"
      ],
      "metadata": {
        "colab": {
          "base_uri": "https://localhost:8080/"
        },
        "id": "eTrby3mQ0GfA",
        "outputId": "cbc77ca1-08ef-4be9-95f2-32dc34f34f34"
      },
      "execution_count": 45,
      "outputs": [
        {
          "output_type": "stream",
          "name": "stdout",
          "text": [
            "type of code :  <class 'code'>\n",
            "sum =  15\n"
          ]
        },
        {
          "output_type": "execute_result",
          "data": {
            "text/plain": [
              "5"
            ]
          },
          "metadata": {},
          "execution_count": 45
        }
      ]
    },
    {
      "cell_type": "code",
      "source": [
        "new_code_str = \"\"\"\n",
        "word = 'Hello World!'\n",
        "def new_function(word):\n",
        "    print(word)\n",
        "new_function(word)\n",
        "\"\"\"\n",
        "new_code = compile(new_code_str, 'new.py', 'exec')\n",
        "exec(new_code)\n",
        "word # word has never been defined in main code"
      ],
      "metadata": {
        "colab": {
          "base_uri": "https://localhost:8080/",
          "height": 54
        },
        "id": "DH0ssRnC95-9",
        "outputId": "e70686c7-1afb-4045-8168-463c5e99d1ca"
      },
      "execution_count": 46,
      "outputs": [
        {
          "output_type": "stream",
          "name": "stdout",
          "text": [
            "Hello World!\n"
          ]
        },
        {
          "output_type": "execute_result",
          "data": {
            "application/vnd.google.colaboratory.intrinsic+json": {
              "type": "string"
            },
            "text/plain": [
              "'Hello World!'"
            ]
          },
          "metadata": {},
          "execution_count": 46
        }
      ]
    },
    {
      "cell_type": "markdown",
      "source": [
        "# exec() function"
      ],
      "metadata": {
        "id": "fvyZIMk6_RRl"
      }
    },
    {
      "cell_type": "code",
      "source": [
        "\"\"\"\n",
        "exec() function is used for the 'dynamic execution of python program'\n",
        "which can 'either be a string or object code' and it accepts large blocks of code,\n",
        "unlike the eval() funciton which only accepts a single expression.\n",
        "\"\"\"\n",
        "\n",
        "code_str = 'x=5\\ny=10\\nprint(\"sum = \", x+y)'\n",
        "exec(code_str)\n",
        "\n",
        "exec('print(x==5)\\nprint(x+4)')\n",
        "eval('print(x==5)\\nprint(x+4)')"
      ],
      "metadata": {
        "colab": {
          "base_uri": "https://localhost:8080/",
          "height": 190
        },
        "id": "_BqFSxmRBWHt",
        "outputId": "349af105-6eb0-4da8-a151-776582402cd9"
      },
      "execution_count": 52,
      "outputs": [
        {
          "output_type": "stream",
          "name": "stdout",
          "text": [
            "sum =  15\n",
            "True\n",
            "9\n"
          ]
        },
        {
          "output_type": "error",
          "ename": "SyntaxError",
          "evalue": "ignored",
          "traceback": [
            "\u001b[0;36m  File \u001b[0;32m\"<string>\"\u001b[0;36m, line \u001b[0;32m2\u001b[0m\n\u001b[0;31m    print(x+4)\u001b[0m\n\u001b[0m        ^\u001b[0m\n\u001b[0;31mSyntaxError\u001b[0m\u001b[0;31m:\u001b[0m invalid syntax\n"
          ]
        }
      ]
    },
    {
      "cell_type": "markdown",
      "source": [
        "# To-Do\n",
        "        sum()\n",
        "        any()\n",
        "        ascii()\n",
        "        bytearray()\n",
        "        eval()\n",
        "        float()\n",
        "        format()\n",
        "        globals()\n",
        "        iter()\n",
        "        locals()\n",
        "        chr()\n",
        "        complex()\n",
        "        delattr()\n",
        "        dir()\n",
        "        divmod()\n",
        "        dict()"
      ],
      "metadata": {
        "id": "bKM9A1wKC6DJ"
      }
    }
  ]
}